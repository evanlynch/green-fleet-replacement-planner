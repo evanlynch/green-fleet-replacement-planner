{
 "cells": [
  {
   "cell_type": "code",
   "execution_count": 1,
   "id": "purple-council",
   "metadata": {},
   "outputs": [
    {
     "name": "stderr",
     "output_type": "stream",
     "text": [
      "2021-04-18 22:08:13.606 INFO    numexpr.utils: Note: NumExpr detected 12 cores but \"NUMEXPR_MAX_THREADS\" not set, so enforcing safe limit of 8.\n",
      "2021-04-18 22:08:13.611 INFO    numexpr.utils: NumExpr defaulting to 8 threads.\n"
     ]
    }
   ],
   "source": [
    "import numpy as np\n",
    "from sympy.utilities.iterables import multiset_permutations\n",
    "import time\n",
    "import pandas as pd\n",
    "import gurobipy as grb\n",
    "import datetime\n",
    "import random\n",
    "np.set_printoptions(edgeitems=15,linewidth=600)\n",
    "import warnings\n",
    "warnings.filterwarnings(\"ignore\")\n",
    "%load_ext autoreload\n",
    "%autoreload 2\n",
    "import sys\n",
    "import os\n",
    "import plotly.express as px\n",
    "sys.path.append(os.path.join(os.getcwd(), '..'))\n",
    "from src.optimization.MIP.mip_inputs import *\n",
    "from src.optimization.MIP.mip_model import *\n",
    "from src.optimization.MIP.mip_outputs import *"
   ]
  },
  {
   "cell_type": "code",
   "execution_count": 2,
   "id": "massive-quarterly",
   "metadata": {},
   "outputs": [],
   "source": [
    "roadmapSelected = 'A'"
   ]
  },
  {
   "cell_type": "code",
   "execution_count": 141,
   "id": "southwest-transaction",
   "metadata": {},
   "outputs": [],
   "source": [
    "UI_params = {\n",
    "    'initial_procurement_budget':350000,\n",
    "    'budget_rate':0.03,\n",
    "    'initial_operations_budget':300000,\n",
    "    'planning_interval':[2022,2037],\n",
    "    'emissions_baseline': data.emissions2020.sum(),#metric tons\n",
    "    'emissions_target_pct_of_base':0.40,\n",
    "    'min_miles_replacement_threshold':150000,#miles\n",
    "    'min_vehicle_age_replacement_threshold':60,#years\n",
    "    'objective_weights':{'cost':1,'emissions':0},\n",
    "}"
   ]
  },
  {
   "cell_type": "code",
   "execution_count": 142,
   "id": "indirect-africa",
   "metadata": {},
   "outputs": [],
   "source": [
    "data = pd.read_excel('../data/04APR_data_template.xlsx').head(100)\n",
    "data['current_age'] = datetime.datetime.now().year - pd.to_datetime(data.purchasedate).dt.year\n",
    "data = data.reset_index().rename({\"index\":\"vehicle_idx\"},axis=1)\n",
    "data['county'] = 'Baltimore County'\n",
    "data = data.drop_duplicates('equipmentid')\n",
    "data = data[data.vehicle_idx<1458]"
   ]
  },
  {
   "cell_type": "code",
   "execution_count": 143,
   "id": "numerical-cassette",
   "metadata": {},
   "outputs": [
    {
     "name": "stdout",
     "output_type": "stream",
     "text": [
      "Wall time: 1min 12s\n"
     ]
    }
   ],
   "source": [
    "%%time\n",
    "inputs = MIP_Inputs(data,UI_params)\n",
    "m,x,vehicles,penalty_budget,penalty_emissions,validSchedulesPerVehicle,validSchedules = carnet(inputs)\n",
    "outputs = MIP_Outputs(data,UI_params,m,x,vehicles,penalty_budget,penalty_emissions,validSchedulesPerVehicle,validSchedules)\n",
    "alt_solutions = outputs.get_alternative_solutions()\n",
    "options = select_alternative_solutions(alt_solutions,outputs)"
   ]
  },
  {
   "cell_type": "code",
   "execution_count": 144,
   "id": "decreased-channel",
   "metadata": {
    "scrolled": true
   },
   "outputs": [],
   "source": [
    "replacement_details = {}\n",
    "\n",
    "for v in inputs.vehicle_idx:\n",
    "    for s in validSchedulesPerVehicle[v]:\n",
    "        decision = x[v,s].x\n",
    "        if decision == 1:\n",
    "            sched = inputs.replacement_schedules[v,s,:]\n",
    "            \n",
    "            try:\n",
    "                year_replaced = np.where(sched==1)[0][0]\n",
    "                prior_year = year_replaced - 1\n",
    "            except:\n",
    "                year_replaced = 999\n",
    "                prior_year = 999\n",
    "            \n",
    "            #special case: prior year = -1, this means it was replaced right away\n",
    "            if prior_year == -1:\n",
    "                \n",
    "                age_replaced = inputs.current_vehicle_ages[v]\n",
    "                vmt_replaced = inputs.data.miles2020[v]\n",
    "                odometer_replaced = inputs.data.cumulative_miles[v]\n",
    "            \n",
    "            #special case 2: prior year = 998, this means it was never replaced (ignoring for now)\n",
    "            elif prior_year == 999:\n",
    "                age_replaced = 999\n",
    "                vmt_replaced = 999\n",
    "            \n",
    "            else:\n",
    "                age_replaced = inputs.age[v,s,prior_year]\n",
    "                vmt_replaced = inputs.annual_mileage[v,s,prior_year]\n",
    "                odometer_replaced = inputs.odometer[v,s,prior_year]\n",
    "                \n",
    "            replacement_details[v] = (year_replaced,age_replaced,vmt_replaced,odometer_replaced)\n",
    "            \n",
    "#             print(sched)\n",
    "#             print(prior_year)\n",
    "#             print()\n",
    "#             print(inputs.age[v,s,:])"
   ]
  },
  {
   "cell_type": "code",
   "execution_count": 147,
   "id": "russian-pixel",
   "metadata": {},
   "outputs": [],
   "source": [
    "results = pd.DataFrame(replacement_details).T\n",
    "results.reset_index(inplace=True)\n",
    "results.columns = ['vehicle_idx','year_replaced','age_replaced','vmt_replaced','odometer_replaced']"
   ]
  },
  {
   "cell_type": "code",
   "execution_count": 149,
   "id": "polyphonic-notion",
   "metadata": {},
   "outputs": [],
   "source": [
    "results = results.merge(data[['vehicle_idx','replacement_vehicle_purchaseprice']],on='vehicle_idx',how='left')"
   ]
  },
  {
   "cell_type": "code",
   "execution_count": 150,
   "id": "faced-portuguese",
   "metadata": {},
   "outputs": [],
   "source": [
    "resultsReplaced = results.copy()"
   ]
  },
  {
   "cell_type": "code",
   "execution_count": 151,
   "id": "universal-liverpool",
   "metadata": {},
   "outputs": [],
   "source": [
    "resultsReplaced = resultsReplaced[resultsReplaced.year_replaced!=999]"
   ]
  },
  {
   "cell_type": "code",
   "execution_count": 163,
   "id": "opponent-bulletin",
   "metadata": {},
   "outputs": [
    {
     "data": {
      "application/vnd.plotly.v1+json": {
       "config": {
        "plotlyServerURL": "https://plot.ly"
       },
       "data": [
        {
         "hovertemplate": "replacement_vehicle_purchaseprice=%{x}<br>odometer_replaced=%{y}<extra></extra>",
         "legendgroup": "",
         "marker": {
          "color": "#636efa",
          "symbol": "circle"
         },
         "mode": "markers",
         "name": "",
         "orientation": "v",
         "showlegend": false,
         "type": "scatter",
         "x": [
          39000,
          46000,
          46000,
          39000,
          39000,
          40000,
          39000,
          46000,
          71000,
          46000,
          56500,
          46000,
          39000,
          39000,
          39000,
          39000,
          39000,
          36000,
          36000,
          36000,
          29000,
          46000,
          46000,
          46000,
          56500,
          39000,
          39000,
          39000,
          39000,
          39000,
          39000,
          39000,
          39000,
          46000,
          46000,
          36000,
          31300,
          39000,
          29000,
          29000,
          29000,
          36000,
          36000,
          36000,
          36000,
          36000,
          36000,
          36000,
          36000,
          36000,
          36000,
          36000,
          36000,
          36000,
          36000,
          36000,
          36000
         ],
         "xaxis": "x",
         "y": [
          108422,
          72820,
          74184,
          105160,
          74888,
          73752,
          116812,
          103303,
          203490,
          136648,
          203340,
          124906,
          194718,
          265626,
          273834,
          76950,
          172500,
          91599,
          71459,
          99540,
          63665,
          116442,
          123607,
          125715,
          145170,
          185014,
          125953,
          188288,
          198780,
          136816,
          114395,
          187904,
          100496,
          160464,
          126276,
          98328,
          78261,
          243967,
          116401,
          80838,
          98982,
          85620,
          97905,
          98880,
          95760,
          84507,
          75939,
          64719,
          66963,
          90464,
          261297,
          74426,
          136606,
          133036,
          74749,
          175793,
          219276
         ],
         "yaxis": "y"
        }
       ],
       "layout": {
        "autosize": true,
        "legend": {
         "tracegroupgap": 0
        },
        "margin": {
         "t": 60
        },
        "template": {
         "data": {
          "bar": [
           {
            "error_x": {
             "color": "#2a3f5f"
            },
            "error_y": {
             "color": "#2a3f5f"
            },
            "marker": {
             "line": {
              "color": "#E5ECF6",
              "width": 0.5
             }
            },
            "type": "bar"
           }
          ],
          "barpolar": [
           {
            "marker": {
             "line": {
              "color": "#E5ECF6",
              "width": 0.5
             }
            },
            "type": "barpolar"
           }
          ],
          "carpet": [
           {
            "aaxis": {
             "endlinecolor": "#2a3f5f",
             "gridcolor": "white",
             "linecolor": "white",
             "minorgridcolor": "white",
             "startlinecolor": "#2a3f5f"
            },
            "baxis": {
             "endlinecolor": "#2a3f5f",
             "gridcolor": "white",
             "linecolor": "white",
             "minorgridcolor": "white",
             "startlinecolor": "#2a3f5f"
            },
            "type": "carpet"
           }
          ],
          "choropleth": [
           {
            "colorbar": {
             "outlinewidth": 0,
             "ticks": ""
            },
            "type": "choropleth"
           }
          ],
          "contour": [
           {
            "colorbar": {
             "outlinewidth": 0,
             "ticks": ""
            },
            "colorscale": [
             [
              0,
              "#0d0887"
             ],
             [
              0.1111111111111111,
              "#46039f"
             ],
             [
              0.2222222222222222,
              "#7201a8"
             ],
             [
              0.3333333333333333,
              "#9c179e"
             ],
             [
              0.4444444444444444,
              "#bd3786"
             ],
             [
              0.5555555555555556,
              "#d8576b"
             ],
             [
              0.6666666666666666,
              "#ed7953"
             ],
             [
              0.7777777777777778,
              "#fb9f3a"
             ],
             [
              0.8888888888888888,
              "#fdca26"
             ],
             [
              1,
              "#f0f921"
             ]
            ],
            "type": "contour"
           }
          ],
          "contourcarpet": [
           {
            "colorbar": {
             "outlinewidth": 0,
             "ticks": ""
            },
            "type": "contourcarpet"
           }
          ],
          "heatmap": [
           {
            "colorbar": {
             "outlinewidth": 0,
             "ticks": ""
            },
            "colorscale": [
             [
              0,
              "#0d0887"
             ],
             [
              0.1111111111111111,
              "#46039f"
             ],
             [
              0.2222222222222222,
              "#7201a8"
             ],
             [
              0.3333333333333333,
              "#9c179e"
             ],
             [
              0.4444444444444444,
              "#bd3786"
             ],
             [
              0.5555555555555556,
              "#d8576b"
             ],
             [
              0.6666666666666666,
              "#ed7953"
             ],
             [
              0.7777777777777778,
              "#fb9f3a"
             ],
             [
              0.8888888888888888,
              "#fdca26"
             ],
             [
              1,
              "#f0f921"
             ]
            ],
            "type": "heatmap"
           }
          ],
          "heatmapgl": [
           {
            "colorbar": {
             "outlinewidth": 0,
             "ticks": ""
            },
            "colorscale": [
             [
              0,
              "#0d0887"
             ],
             [
              0.1111111111111111,
              "#46039f"
             ],
             [
              0.2222222222222222,
              "#7201a8"
             ],
             [
              0.3333333333333333,
              "#9c179e"
             ],
             [
              0.4444444444444444,
              "#bd3786"
             ],
             [
              0.5555555555555556,
              "#d8576b"
             ],
             [
              0.6666666666666666,
              "#ed7953"
             ],
             [
              0.7777777777777778,
              "#fb9f3a"
             ],
             [
              0.8888888888888888,
              "#fdca26"
             ],
             [
              1,
              "#f0f921"
             ]
            ],
            "type": "heatmapgl"
           }
          ],
          "histogram": [
           {
            "marker": {
             "colorbar": {
              "outlinewidth": 0,
              "ticks": ""
             }
            },
            "type": "histogram"
           }
          ],
          "histogram2d": [
           {
            "colorbar": {
             "outlinewidth": 0,
             "ticks": ""
            },
            "colorscale": [
             [
              0,
              "#0d0887"
             ],
             [
              0.1111111111111111,
              "#46039f"
             ],
             [
              0.2222222222222222,
              "#7201a8"
             ],
             [
              0.3333333333333333,
              "#9c179e"
             ],
             [
              0.4444444444444444,
              "#bd3786"
             ],
             [
              0.5555555555555556,
              "#d8576b"
             ],
             [
              0.6666666666666666,
              "#ed7953"
             ],
             [
              0.7777777777777778,
              "#fb9f3a"
             ],
             [
              0.8888888888888888,
              "#fdca26"
             ],
             [
              1,
              "#f0f921"
             ]
            ],
            "type": "histogram2d"
           }
          ],
          "histogram2dcontour": [
           {
            "colorbar": {
             "outlinewidth": 0,
             "ticks": ""
            },
            "colorscale": [
             [
              0,
              "#0d0887"
             ],
             [
              0.1111111111111111,
              "#46039f"
             ],
             [
              0.2222222222222222,
              "#7201a8"
             ],
             [
              0.3333333333333333,
              "#9c179e"
             ],
             [
              0.4444444444444444,
              "#bd3786"
             ],
             [
              0.5555555555555556,
              "#d8576b"
             ],
             [
              0.6666666666666666,
              "#ed7953"
             ],
             [
              0.7777777777777778,
              "#fb9f3a"
             ],
             [
              0.8888888888888888,
              "#fdca26"
             ],
             [
              1,
              "#f0f921"
             ]
            ],
            "type": "histogram2dcontour"
           }
          ],
          "mesh3d": [
           {
            "colorbar": {
             "outlinewidth": 0,
             "ticks": ""
            },
            "type": "mesh3d"
           }
          ],
          "parcoords": [
           {
            "line": {
             "colorbar": {
              "outlinewidth": 0,
              "ticks": ""
             }
            },
            "type": "parcoords"
           }
          ],
          "pie": [
           {
            "automargin": true,
            "type": "pie"
           }
          ],
          "scatter": [
           {
            "marker": {
             "colorbar": {
              "outlinewidth": 0,
              "ticks": ""
             }
            },
            "type": "scatter"
           }
          ],
          "scatter3d": [
           {
            "line": {
             "colorbar": {
              "outlinewidth": 0,
              "ticks": ""
             }
            },
            "marker": {
             "colorbar": {
              "outlinewidth": 0,
              "ticks": ""
             }
            },
            "type": "scatter3d"
           }
          ],
          "scattercarpet": [
           {
            "marker": {
             "colorbar": {
              "outlinewidth": 0,
              "ticks": ""
             }
            },
            "type": "scattercarpet"
           }
          ],
          "scattergeo": [
           {
            "marker": {
             "colorbar": {
              "outlinewidth": 0,
              "ticks": ""
             }
            },
            "type": "scattergeo"
           }
          ],
          "scattergl": [
           {
            "marker": {
             "colorbar": {
              "outlinewidth": 0,
              "ticks": ""
             }
            },
            "type": "scattergl"
           }
          ],
          "scattermapbox": [
           {
            "marker": {
             "colorbar": {
              "outlinewidth": 0,
              "ticks": ""
             }
            },
            "type": "scattermapbox"
           }
          ],
          "scatterpolar": [
           {
            "marker": {
             "colorbar": {
              "outlinewidth": 0,
              "ticks": ""
             }
            },
            "type": "scatterpolar"
           }
          ],
          "scatterpolargl": [
           {
            "marker": {
             "colorbar": {
              "outlinewidth": 0,
              "ticks": ""
             }
            },
            "type": "scatterpolargl"
           }
          ],
          "scatterternary": [
           {
            "marker": {
             "colorbar": {
              "outlinewidth": 0,
              "ticks": ""
             }
            },
            "type": "scatterternary"
           }
          ],
          "surface": [
           {
            "colorbar": {
             "outlinewidth": 0,
             "ticks": ""
            },
            "colorscale": [
             [
              0,
              "#0d0887"
             ],
             [
              0.1111111111111111,
              "#46039f"
             ],
             [
              0.2222222222222222,
              "#7201a8"
             ],
             [
              0.3333333333333333,
              "#9c179e"
             ],
             [
              0.4444444444444444,
              "#bd3786"
             ],
             [
              0.5555555555555556,
              "#d8576b"
             ],
             [
              0.6666666666666666,
              "#ed7953"
             ],
             [
              0.7777777777777778,
              "#fb9f3a"
             ],
             [
              0.8888888888888888,
              "#fdca26"
             ],
             [
              1,
              "#f0f921"
             ]
            ],
            "type": "surface"
           }
          ],
          "table": [
           {
            "cells": {
             "fill": {
              "color": "#EBF0F8"
             },
             "line": {
              "color": "white"
             }
            },
            "header": {
             "fill": {
              "color": "#C8D4E3"
             },
             "line": {
              "color": "white"
             }
            },
            "type": "table"
           }
          ]
         },
         "layout": {
          "annotationdefaults": {
           "arrowcolor": "#2a3f5f",
           "arrowhead": 0,
           "arrowwidth": 1
          },
          "coloraxis": {
           "colorbar": {
            "outlinewidth": 0,
            "ticks": ""
           }
          },
          "colorscale": {
           "diverging": [
            [
             0,
             "#8e0152"
            ],
            [
             0.1,
             "#c51b7d"
            ],
            [
             0.2,
             "#de77ae"
            ],
            [
             0.3,
             "#f1b6da"
            ],
            [
             0.4,
             "#fde0ef"
            ],
            [
             0.5,
             "#f7f7f7"
            ],
            [
             0.6,
             "#e6f5d0"
            ],
            [
             0.7,
             "#b8e186"
            ],
            [
             0.8,
             "#7fbc41"
            ],
            [
             0.9,
             "#4d9221"
            ],
            [
             1,
             "#276419"
            ]
           ],
           "sequential": [
            [
             0,
             "#0d0887"
            ],
            [
             0.1111111111111111,
             "#46039f"
            ],
            [
             0.2222222222222222,
             "#7201a8"
            ],
            [
             0.3333333333333333,
             "#9c179e"
            ],
            [
             0.4444444444444444,
             "#bd3786"
            ],
            [
             0.5555555555555556,
             "#d8576b"
            ],
            [
             0.6666666666666666,
             "#ed7953"
            ],
            [
             0.7777777777777778,
             "#fb9f3a"
            ],
            [
             0.8888888888888888,
             "#fdca26"
            ],
            [
             1,
             "#f0f921"
            ]
           ],
           "sequentialminus": [
            [
             0,
             "#0d0887"
            ],
            [
             0.1111111111111111,
             "#46039f"
            ],
            [
             0.2222222222222222,
             "#7201a8"
            ],
            [
             0.3333333333333333,
             "#9c179e"
            ],
            [
             0.4444444444444444,
             "#bd3786"
            ],
            [
             0.5555555555555556,
             "#d8576b"
            ],
            [
             0.6666666666666666,
             "#ed7953"
            ],
            [
             0.7777777777777778,
             "#fb9f3a"
            ],
            [
             0.8888888888888888,
             "#fdca26"
            ],
            [
             1,
             "#f0f921"
            ]
           ]
          },
          "colorway": [
           "#636efa",
           "#EF553B",
           "#00cc96",
           "#ab63fa",
           "#FFA15A",
           "#19d3f3",
           "#FF6692",
           "#B6E880",
           "#FF97FF",
           "#FECB52"
          ],
          "font": {
           "color": "#2a3f5f"
          },
          "geo": {
           "bgcolor": "white",
           "lakecolor": "white",
           "landcolor": "#E5ECF6",
           "showlakes": true,
           "showland": true,
           "subunitcolor": "white"
          },
          "hoverlabel": {
           "align": "left"
          },
          "hovermode": "closest",
          "mapbox": {
           "style": "light"
          },
          "paper_bgcolor": "white",
          "plot_bgcolor": "#E5ECF6",
          "polar": {
           "angularaxis": {
            "gridcolor": "white",
            "linecolor": "white",
            "ticks": ""
           },
           "bgcolor": "#E5ECF6",
           "radialaxis": {
            "gridcolor": "white",
            "linecolor": "white",
            "ticks": ""
           }
          },
          "scene": {
           "xaxis": {
            "backgroundcolor": "#E5ECF6",
            "gridcolor": "white",
            "gridwidth": 2,
            "linecolor": "white",
            "showbackground": true,
            "ticks": "",
            "zerolinecolor": "white"
           },
           "yaxis": {
            "backgroundcolor": "#E5ECF6",
            "gridcolor": "white",
            "gridwidth": 2,
            "linecolor": "white",
            "showbackground": true,
            "ticks": "",
            "zerolinecolor": "white"
           },
           "zaxis": {
            "backgroundcolor": "#E5ECF6",
            "gridcolor": "white",
            "gridwidth": 2,
            "linecolor": "white",
            "showbackground": true,
            "ticks": "",
            "zerolinecolor": "white"
           }
          },
          "shapedefaults": {
           "line": {
            "color": "#2a3f5f"
           }
          },
          "ternary": {
           "aaxis": {
            "gridcolor": "white",
            "linecolor": "white",
            "ticks": ""
           },
           "baxis": {
            "gridcolor": "white",
            "linecolor": "white",
            "ticks": ""
           },
           "bgcolor": "#E5ECF6",
           "caxis": {
            "gridcolor": "white",
            "linecolor": "white",
            "ticks": ""
           }
          },
          "title": {
           "x": 0.05
          },
          "xaxis": {
           "automargin": true,
           "gridcolor": "white",
           "linecolor": "white",
           "ticks": "",
           "title": {
            "standoff": 15
           },
           "zerolinecolor": "white",
           "zerolinewidth": 2
          },
          "yaxis": {
           "automargin": true,
           "gridcolor": "white",
           "linecolor": "white",
           "ticks": "",
           "title": {
            "standoff": 15
           },
           "zerolinecolor": "white",
           "zerolinewidth": 2
          }
         }
        },
        "xaxis": {
         "anchor": "y",
         "autorange": true,
         "domain": [
          0,
          1
         ],
         "range": [
          26449.329359165426,
          73550.67064083458
         ],
         "title": {
          "text": "replacement_vehicle_purchaseprice"
         },
         "type": "linear"
        },
        "yaxis": {
         "anchor": "x",
         "autorange": true,
         "domain": [
          0,
          1
         ],
         "range": [
          48763.514732965006,
          288735.48526703496
         ],
         "title": {
          "text": "odometer_replaced"
         },
         "type": "linear"
        }
       }
      },
      "image/png": "[encoded data removed]",
      "text/html": [
       "<div>\n",
       "        \n",
       "        \n",
       "            <div id=\"426fa3ef-cf39-4092-95b5-8985e7e18c65\" class=\"plotly-graph-div\" style=\"height:525px; width:100%;\"></div>\n",
       "            <script type=\"text/javascript\">\n",
       "                require([\"plotly\"], function(Plotly) {\n",
       "                    window.PLOTLYENV=window.PLOTLYENV || {};\n",
       "                    \n",
       "                if (document.getElementById(\"426fa3ef-cf39-4092-95b5-8985e7e18c65\")) {\n",
       "                    Plotly.newPlot(\n",
       "                        '426fa3ef-cf39-4092-95b5-8985e7e18c65',\n",
       "                        [{\"hovertemplate\": \"replacement_vehicle_purchaseprice=%{x}<br>odometer_replaced=%{y}<extra></extra>\", \"legendgroup\": \"\", \"marker\": {\"color\": \"#636efa\", \"symbol\": \"circle\"}, \"mode\": \"markers\", \"name\": \"\", \"orientation\": \"v\", \"showlegend\": false, \"type\": \"scatter\", \"x\": [39000, 46000, 46000, 39000, 39000, 40000, 39000, 46000, 71000, 46000, 56500, 46000, 39000, 39000, 39000, 39000, 39000, 36000, 36000, 36000, 29000, 46000, 46000, 46000, 56500, 39000, 39000, 39000, 39000, 39000, 39000, 39000, 39000, 46000, 46000, 36000, 31300, 39000, 29000, 29000, 29000, 36000, 36000, 36000, 36000, 36000, 36000, 36000, 36000, 36000, 36000, 36000, 36000, 36000, 36000, 36000, 36000], \"xaxis\": \"x\", \"y\": [108422.0, 72820.0, 74184.0, 105160.0, 74888.0, 73752.0, 116812.0, 103303.0, 203490.0, 136648.0, 203340.0, 124906.0, 194718.0, 265626.0, 273834.0, 76950.0, 172500.0, 91599.0, 71459.0, 99540.0, 63665.0, 116442.0, 123607.0, 125715.0, 145170.0, 185014.0, 125953.0, 188288.0, 198780.0, 136816.0, 114395.0, 187904.0, 100496.0, 160464.0, 126276.0, 98328.0, 78261.0, 243967.0, 116401.0, 80838.0, 98982.0, 85620.0, 97905.0, 98880.0, 95760.0, 84507.0, 75939.0, 64719.0, 66963.0, 90464.0, 261297.0, 74426.0, 136606.0, 133036.0, 74749.0, 175793.0, 219276.0], \"yaxis\": \"y\"}],\n",
       "                        {\"legend\": {\"tracegroupgap\": 0}, \"margin\": {\"t\": 60}, \"template\": {\"data\": {\"bar\": [{\"error_x\": {\"color\": \"#2a3f5f\"}, \"error_y\": {\"color\": \"#2a3f5f\"}, \"marker\": {\"line\": {\"color\": \"#E5ECF6\", \"width\": 0.5}}, \"type\": \"bar\"}], \"barpolar\": [{\"marker\": {\"line\": {\"color\": \"#E5ECF6\", \"width\": 0.5}}, \"type\": \"barpolar\"}], \"carpet\": [{\"aaxis\": {\"endlinecolor\": \"#2a3f5f\", \"gridcolor\": \"white\", \"linecolor\": \"white\", \"minorgridcolor\": \"white\", \"startlinecolor\": \"#2a3f5f\"}, \"baxis\": {\"endlinecolor\": \"#2a3f5f\", \"gridcolor\": \"white\", \"linecolor\": \"white\", \"minorgridcolor\": \"white\", \"startlinecolor\": \"#2a3f5f\"}, \"type\": \"carpet\"}], \"choropleth\": [{\"colorbar\": {\"outlinewidth\": 0, \"ticks\": \"\"}, \"type\": \"choropleth\"}], \"contour\": [{\"colorbar\": {\"outlinewidth\": 0, \"ticks\": \"\"}, \"colorscale\": [[0.0, \"#0d0887\"], [0.1111111111111111, \"#46039f\"], [0.2222222222222222, \"#7201a8\"], [0.3333333333333333, \"#9c179e\"], [0.4444444444444444, \"#bd3786\"], [0.5555555555555556, \"#d8576b\"], [0.6666666666666666, \"#ed7953\"], [0.7777777777777778, \"#fb9f3a\"], [0.8888888888888888, \"#fdca26\"], [1.0, \"#f0f921\"]], \"type\": \"contour\"}], \"contourcarpet\": [{\"colorbar\": {\"outlinewidth\": 0, \"ticks\": \"\"}, \"type\": \"contourcarpet\"}], \"heatmap\": [{\"colorbar\": {\"outlinewidth\": 0, \"ticks\": \"\"}, \"colorscale\": [[0.0, \"#0d0887\"], [0.1111111111111111, \"#46039f\"], [0.2222222222222222, \"#7201a8\"], [0.3333333333333333, \"#9c179e\"], [0.4444444444444444, \"#bd3786\"], [0.5555555555555556, \"#d8576b\"], [0.6666666666666666, \"#ed7953\"], [0.7777777777777778, \"#fb9f3a\"], [0.8888888888888888, \"#fdca26\"], [1.0, \"#f0f921\"]], \"type\": \"heatmap\"}], \"heatmapgl\": [{\"colorbar\": {\"outlinewidth\": 0, \"ticks\": \"\"}, \"colorscale\": [[0.0, \"#0d0887\"], [0.1111111111111111, \"#46039f\"], [0.2222222222222222, \"#7201a8\"], [0.3333333333333333, \"#9c179e\"], [0.4444444444444444, \"#bd3786\"], [0.5555555555555556, \"#d8576b\"], [0.6666666666666666, \"#ed7953\"], [0.7777777777777778, \"#fb9f3a\"], [0.8888888888888888, \"#fdca26\"], [1.0, \"#f0f921\"]], \"type\": \"heatmapgl\"}], \"histogram\": [{\"marker\": {\"colorbar\": {\"outlinewidth\": 0, \"ticks\": \"\"}}, \"type\": \"histogram\"}], \"histogram2d\": [{\"colorbar\": {\"outlinewidth\": 0, \"ticks\": \"\"}, \"colorscale\": [[0.0, \"#0d0887\"], [0.1111111111111111, \"#46039f\"], [0.2222222222222222, \"#7201a8\"], [0.3333333333333333, \"#9c179e\"], [0.4444444444444444, \"#bd3786\"], [0.5555555555555556, \"#d8576b\"], [0.6666666666666666, \"#ed7953\"], [0.7777777777777778, \"#fb9f3a\"], [0.8888888888888888, \"#fdca26\"], [1.0, \"#f0f921\"]], \"type\": \"histogram2d\"}], \"histogram2dcontour\": [{\"colorbar\": {\"outlinewidth\": 0, \"ticks\": \"\"}, \"colorscale\": [[0.0, \"#0d0887\"], [0.1111111111111111, \"#46039f\"], [0.2222222222222222, \"#7201a8\"], [0.3333333333333333, \"#9c179e\"], [0.4444444444444444, \"#bd3786\"], [0.5555555555555556, \"#d8576b\"], [0.6666666666666666, \"#ed7953\"], [0.7777777777777778, \"#fb9f3a\"], [0.8888888888888888, \"#fdca26\"], [1.0, \"#f0f921\"]], \"type\": \"histogram2dcontour\"}], \"mesh3d\": [{\"colorbar\": {\"outlinewidth\": 0, \"ticks\": \"\"}, \"type\": \"mesh3d\"}], \"parcoords\": [{\"line\": {\"colorbar\": {\"outlinewidth\": 0, \"ticks\": \"\"}}, \"type\": \"parcoords\"}], \"pie\": [{\"automargin\": true, \"type\": \"pie\"}], \"scatter\": [{\"marker\": {\"colorbar\": {\"outlinewidth\": 0, \"ticks\": \"\"}}, \"type\": \"scatter\"}], \"scatter3d\": [{\"line\": {\"colorbar\": {\"outlinewidth\": 0, \"ticks\": \"\"}}, \"marker\": {\"colorbar\": {\"outlinewidth\": 0, \"ticks\": \"\"}}, \"type\": \"scatter3d\"}], \"scattercarpet\": [{\"marker\": {\"colorbar\": {\"outlinewidth\": 0, \"ticks\": \"\"}}, \"type\": \"scattercarpet\"}], \"scattergeo\": [{\"marker\": {\"colorbar\": {\"outlinewidth\": 0, \"ticks\": \"\"}}, \"type\": \"scattergeo\"}], \"scattergl\": [{\"marker\": {\"colorbar\": {\"outlinewidth\": 0, \"ticks\": \"\"}}, \"type\": \"scattergl\"}], \"scattermapbox\": [{\"marker\": {\"colorbar\": {\"outlinewidth\": 0, \"ticks\": \"\"}}, \"type\": \"scattermapbox\"}], \"scatterpolar\": [{\"marker\": {\"colorbar\": {\"outlinewidth\": 0, \"ticks\": \"\"}}, \"type\": \"scatterpolar\"}], \"scatterpolargl\": [{\"marker\": {\"colorbar\": {\"outlinewidth\": 0, \"ticks\": \"\"}}, \"type\": \"scatterpolargl\"}], \"scatterternary\": [{\"marker\": {\"colorbar\": {\"outlinewidth\": 0, \"ticks\": \"\"}}, \"type\": \"scatterternary\"}], \"surface\": [{\"colorbar\": {\"outlinewidth\": 0, \"ticks\": \"\"}, \"colorscale\": [[0.0, \"#0d0887\"], [0.1111111111111111, \"#46039f\"], [0.2222222222222222, \"#7201a8\"], [0.3333333333333333, \"#9c179e\"], [0.4444444444444444, \"#bd3786\"], [0.5555555555555556, \"#d8576b\"], [0.6666666666666666, \"#ed7953\"], [0.7777777777777778, \"#fb9f3a\"], [0.8888888888888888, \"#fdca26\"], [1.0, \"#f0f921\"]], \"type\": \"surface\"}], \"table\": [{\"cells\": {\"fill\": {\"color\": \"#EBF0F8\"}, \"line\": {\"color\": \"white\"}}, \"header\": {\"fill\": {\"color\": \"#C8D4E3\"}, \"line\": {\"color\": \"white\"}}, \"type\": \"table\"}]}, \"layout\": {\"annotationdefaults\": {\"arrowcolor\": \"#2a3f5f\", \"arrowhead\": 0, \"arrowwidth\": 1}, \"coloraxis\": {\"colorbar\": {\"outlinewidth\": 0, \"ticks\": \"\"}}, \"colorscale\": {\"diverging\": [[0, \"#8e0152\"], [0.1, \"#c51b7d\"], [0.2, \"#de77ae\"], [0.3, \"#f1b6da\"], [0.4, \"#fde0ef\"], [0.5, \"#f7f7f7\"], [0.6, \"#e6f5d0\"], [0.7, \"#b8e186\"], [0.8, \"#7fbc41\"], [0.9, \"#4d9221\"], [1, \"#276419\"]], \"sequential\": [[0.0, \"#0d0887\"], [0.1111111111111111, \"#46039f\"], [0.2222222222222222, \"#7201a8\"], [0.3333333333333333, \"#9c179e\"], [0.4444444444444444, \"#bd3786\"], [0.5555555555555556, \"#d8576b\"], [0.6666666666666666, \"#ed7953\"], [0.7777777777777778, \"#fb9f3a\"], [0.8888888888888888, \"#fdca26\"], [1.0, \"#f0f921\"]], \"sequentialminus\": [[0.0, \"#0d0887\"], [0.1111111111111111, \"#46039f\"], [0.2222222222222222, \"#7201a8\"], [0.3333333333333333, \"#9c179e\"], [0.4444444444444444, \"#bd3786\"], [0.5555555555555556, \"#d8576b\"], [0.6666666666666666, \"#ed7953\"], [0.7777777777777778, \"#fb9f3a\"], [0.8888888888888888, \"#fdca26\"], [1.0, \"#f0f921\"]]}, \"colorway\": [\"#636efa\", \"#EF553B\", \"#00cc96\", \"#ab63fa\", \"#FFA15A\", \"#19d3f3\", \"#FF6692\", \"#B6E880\", \"#FF97FF\", \"#FECB52\"], \"font\": {\"color\": \"#2a3f5f\"}, \"geo\": {\"bgcolor\": \"white\", \"lakecolor\": \"white\", \"landcolor\": \"#E5ECF6\", \"showlakes\": true, \"showland\": true, \"subunitcolor\": \"white\"}, \"hoverlabel\": {\"align\": \"left\"}, \"hovermode\": \"closest\", \"mapbox\": {\"style\": \"light\"}, \"paper_bgcolor\": \"white\", \"plot_bgcolor\": \"#E5ECF6\", \"polar\": {\"angularaxis\": {\"gridcolor\": \"white\", \"linecolor\": \"white\", \"ticks\": \"\"}, \"bgcolor\": \"#E5ECF6\", \"radialaxis\": {\"gridcolor\": \"white\", \"linecolor\": \"white\", \"ticks\": \"\"}}, \"scene\": {\"xaxis\": {\"backgroundcolor\": \"#E5ECF6\", \"gridcolor\": \"white\", \"gridwidth\": 2, \"linecolor\": \"white\", \"showbackground\": true, \"ticks\": \"\", \"zerolinecolor\": \"white\"}, \"yaxis\": {\"backgroundcolor\": \"#E5ECF6\", \"gridcolor\": \"white\", \"gridwidth\": 2, \"linecolor\": \"white\", \"showbackground\": true, \"ticks\": \"\", \"zerolinecolor\": \"white\"}, \"zaxis\": {\"backgroundcolor\": \"#E5ECF6\", \"gridcolor\": \"white\", \"gridwidth\": 2, \"linecolor\": \"white\", \"showbackground\": true, \"ticks\": \"\", \"zerolinecolor\": \"white\"}}, \"shapedefaults\": {\"line\": {\"color\": \"#2a3f5f\"}}, \"ternary\": {\"aaxis\": {\"gridcolor\": \"white\", \"linecolor\": \"white\", \"ticks\": \"\"}, \"baxis\": {\"gridcolor\": \"white\", \"linecolor\": \"white\", \"ticks\": \"\"}, \"bgcolor\": \"#E5ECF6\", \"caxis\": {\"gridcolor\": \"white\", \"linecolor\": \"white\", \"ticks\": \"\"}}, \"title\": {\"x\": 0.05}, \"xaxis\": {\"automargin\": true, \"gridcolor\": \"white\", \"linecolor\": \"white\", \"ticks\": \"\", \"title\": {\"standoff\": 15}, \"zerolinecolor\": \"white\", \"zerolinewidth\": 2}, \"yaxis\": {\"automargin\": true, \"gridcolor\": \"white\", \"linecolor\": \"white\", \"ticks\": \"\", \"title\": {\"standoff\": 15}, \"zerolinecolor\": \"white\", \"zerolinewidth\": 2}}}, \"xaxis\": {\"anchor\": \"y\", \"domain\": [0.0, 1.0], \"title\": {\"text\": \"replacement_vehicle_purchaseprice\"}}, \"yaxis\": {\"anchor\": \"x\", \"domain\": [0.0, 1.0], \"title\": {\"text\": \"odometer_replaced\"}}},\n",
       "                        {\"responsive\": true}\n",
       "                    ).then(function(){\n",
       "                            \n",
       "var gd = document.getElementById('426fa3ef-cf39-4092-95b5-8985e7e18c65');\n",
       "var x = new MutationObserver(function (mutations, observer) {{\n",
       "        var display = window.getComputedStyle(gd).display;\n",
       "        if (!display || display === 'none') {{\n",
       "            console.log([gd, 'removed!']);\n",
       "            Plotly.purge(gd);\n",
       "            observer.disconnect();\n",
       "        }}\n",
       "}});\n",
       "\n",
       "// Listen for the removal of the full notebook cells\n",
       "var notebookContainer = gd.closest('#notebook-container');\n",
       "if (notebookContainer) {{\n",
       "    x.observe(notebookContainer, {childList: true});\n",
       "}}\n",
       "\n",
       "// Listen for the clearing of the current output cell\n",
       "var outputEl = gd.closest('.output');\n",
       "if (outputEl) {{\n",
       "    x.observe(outputEl, {childList: true});\n",
       "}}\n",
       "\n",
       "                        })\n",
       "                };\n",
       "                });\n",
       "            </script>\n",
       "        </div>"
      ]
     },
     "metadata": {},
     "output_type": "display_data"
    }
   ],
   "source": [
    "fig = px.scatter(resultsReplaced, x=\"year_replaced\", y=\"odometer_replaced\",size=\"replacement_vehicle_purchaseprice\")\n",
    "fig.show()"
   ]
  },
  {
   "cell_type": "code",
   "execution_count": 99,
   "id": "sexual-manufacturer",
   "metadata": {},
   "outputs": [
    {
     "data": {
      "application/vnd.plotly.v1+json": {
       "config": {
        "plotlyServerURL": "https://plot.ly"
       },
       "data": [
        {
         "hovertemplate": "year_replaced=%{x}<br>odometer_replaced=%{marker.color}<br>vmt_replaced=%{marker.size}<extra></extra>",
         "legendgroup": "",
         "marker": {
          "color": [
           297616,
           411122,
           275166,
           259596,
           390660,
           384800,
           251392,
           236198,
           270351,
           302974,
           259437,
           370020,
           297780,
           219088,
           222512,
           333090,
           287505,
           261088,
           234432,
           217104,
           270765,
           223744,
           254320,
           325682,
           302568,
           259305,
           192934,
           301798,
           214815,
           319858,
           271275,
           388128,
           272970,
           192920,
           582876,
           660798,
           615546,
           392670,
           190610,
           235410,
           297178,
           238140,
           220275,
           174636,
           187082,
           175182,
           559710,
           155974,
           210015,
           259464,
           262379,
           205803,
           203112,
           297284,
           137844,
           139048,
           174395,
           227880,
           313092,
           183157,
           197665,
           159835,
           189267,
           209700,
           256113,
           247996,
           265776,
           230802,
           221052,
           278484,
           261638,
           216710,
           206167,
           173292,
           225280,
           129866,
           179328,
           159718,
           268136,
           177408,
           226213,
           210509,
           201175,
           263900,
           225706,
           435500,
           374832,
           551603,
           354952,
           171984,
           152334,
           301466,
           228960,
           181692,
           220164,
           198458,
           201360,
           266487,
           328950,
           251563,
           177850,
           223803,
           174810,
           172370,
           107244,
           145563,
           170460,
           163872,
           82950,
           259300,
           170530,
           203570,
           188343,
           217305,
           201627,
           214900,
           227151,
           170005,
           343206,
           185260,
           206568,
           164780,
           182215,
           652993,
           500595,
           616561,
           298276,
           629050,
           610903,
           606579,
           421179,
           618079,
           629234,
           490038,
           494569,
           373010,
           226188,
           115304,
           175590,
           113064,
           192160,
           243660,
           167535,
           106244,
           108075,
           159144,
           111802,
           179793,
           576136,
           193543,
           322130,
           97265,
           114849,
           123277,
           185500,
           173264,
           160656,
           172536,
           160744,
           153678,
           212058,
           126896,
           145712,
           158643,
           152621,
           209020,
           150466,
           110943,
           171451,
           168854,
           155432,
           147842,
           159936,
           184671,
           158216,
           400029,
           354648,
           304773,
           304521,
           358680,
           524538,
           401520,
           398727,
           427959,
           329658,
           337974,
           371196,
           186444,
           176103,
           108444,
           181426,
           177728,
           188144,
           208978,
           191151,
           110712,
           77472,
           157456,
           106729,
           125279,
           102612,
           134976,
           91098,
           119358,
           146478,
           122124,
           156264,
           101748,
           129276,
           118770,
           66300,
           55060,
           83958,
           92442,
           54685,
           78204,
           120050,
           117516,
           88302,
           68953,
           132306,
           127656,
           189763,
           223692,
           210007,
           116328,
           99558,
           167100,
           141342,
           113142,
           183534,
           96199,
           122660,
           154205,
           172788,
           104034,
           81540,
           93066,
           170256,
           131792,
           109776,
           132803,
           135136,
           184992,
           177580,
           135298,
           126383,
           105270,
           150619,
           108069,
           96606,
           152724,
           140512,
           112816,
           134401,
           155816,
           104088,
           124322,
           81152,
           157152,
           81081,
           80575,
           62209,
           107436,
           56482,
           176880,
           153433,
           182706,
           119754,
           177120,
           119777,
           192990,
           116220,
           72090,
           95940,
           153168,
           85900,
           85044,
           77808,
           101556,
           82488,
           81281,
           87774,
           72570,
           84684,
           120426,
           100032,
           68931,
           101784,
           103200,
           81756,
           106143,
           113562,
           80309,
           74020,
           90936,
           77943,
           115272,
           159408,
           64168,
           72930,
           100722,
           226400,
           182208,
           203656,
           144804,
           156940,
           109170,
           102570,
           98148,
           103986,
           121782,
           99498,
           116334,
           113730,
           97188,
           106008,
           102786,
           105246,
           91206,
           159185,
           147750,
           128460,
           131562,
           145614,
           169980,
           125994,
           165390,
           117318,
           155292,
           133794,
           127206,
           126949,
           80671,
           94068,
           90147,
           145330,
           70734,
           91787,
           78182,
           94664,
           76578,
           99004,
           69766,
           104978,
           101419,
           65745,
           65077,
           86004,
           66024,
           89288,
           81720,
           153395,
           113922,
           96276,
           81813,
           95922,
           155860,
           69258,
           79539,
           98013,
           61543,
           69036,
           118812,
           89604,
           151320,
           88830,
           125340,
           124290,
           345268,
           369037,
           297103,
           663347,
           411635,
           327199,
           317832,
           303012,
           395827,
           548568,
           571558,
           337592,
           766878,
           309928,
           131490,
           87264,
           77070,
           114918,
           95574,
           42880,
           46180,
           148554,
           55787,
           98631,
           88042,
           57677,
           64669,
           78780,
           109826,
           96082,
           105393,
           81193,
           102102,
           54012,
           51944,
           134424,
           39538,
           44695,
           66212,
           67651,
           42869,
           78763,
           89886,
           89619,
           59254,
           76705,
           73105,
           101244,
           60364,
           70383,
           38717,
           96150,
           74342,
           88270,
           46768,
           97578,
           56764,
           59662,
           90852,
           144240,
           86028,
           115956,
           172030,
           164380,
           164262,
           137412,
           106536,
           105468,
           238764,
           162464,
           203448,
           179025,
           177114,
           184885,
           155784,
           156588,
           250880,
           231320,
           175508,
           165495,
           179036,
           178160,
           180508,
           165744,
           114966,
           103998,
           263034,
           97356,
           159846,
           143970,
           142308,
           116094,
           134886,
           109092,
           147468,
           92154,
           51420,
           78516,
           16628,
           25726,
           139908,
           129336,
           98706,
           83148,
           99084,
           92802,
           84990,
           87696,
           83454,
           79578,
           91422,
           58794
          ],
          "coloraxis": "coloraxis",
          "size": [
           15664,
           21638,
           15287,
           14422,
           13022,
           24050,
           15712,
           13894,
           15903,
           17822,
           15261,
           24668,
           19852,
           13693,
           13907,
           22206,
           19167,
           16318,
           14652,
           13569,
           18051,
           13984,
           15895,
           23263,
           10806,
           17287,
           13781,
           21557,
           14321,
           22847,
           18085,
           29856,
           18198,
           13780,
           21588,
           24474,
           22798,
           26178,
           13615,
           15694,
           21227,
           15876,
           14685,
           12474,
           13363,
           12513,
           20730,
           11998,
           16155,
           21622,
           20183,
           15831,
           14508,
           22868,
           9846,
           9932,
           13415,
           18990,
           26091,
           14089,
           15205,
           12295,
           14559,
           17475,
           19701,
           17714,
           18984,
           17754,
           18421,
           23207,
           20126,
           16670,
           15859,
           14441,
           20480,
           11806,
           14944,
           28297,
           24376,
           14784,
           17401,
           16193,
           15475,
           20300,
           17362,
           33500,
           31236,
           42431,
           27304,
           14332,
           11718,
           27406,
           19080,
           15141,
           18347,
           15266,
           16780,
           20499,
           13158,
           19351,
           17785,
           24867,
           17481,
           15670,
           11916,
           16073,
           18940,
           18208,
           8295,
           25930,
           17053,
           20357,
           20927,
           19755,
           22403,
           21490,
           25239,
           15455,
           38134,
           18526,
           22952,
           16478,
           16565,
           28391,
           21765,
           26807,
           27116,
           27350,
           26561,
           26373,
           38289,
           26873,
           27358,
           21306,
           21503,
           16955,
           25132,
           14413,
           17559,
           14133,
           24020,
           24366,
           18615,
           16720,
           16261,
           19893,
           15966,
           19977,
           26188,
           27649,
           32213,
           13895,
           16407,
           17611,
           26500,
           24752,
           20082,
           24648,
           20093,
           21954,
           30294,
           18128,
           20816,
           48335,
           21803,
           29860,
           38968,
           15849,
           24493,
           24122,
           44570,
           46535,
           19992,
           20519,
           19777,
           19049,
           16888,
           14513,
           14501,
           17080,
           24978,
           19120,
           18987,
           20379,
           15698,
           16094,
           17676,
           20716,
           19567,
           15492,
           25918,
           22216,
           23518,
           29854,
           21239,
           15816,
           9684,
           19682,
           15247,
           17897,
           17102,
           22496,
           15183,
           19893,
           24413,
           20354,
           19533,
           16958,
           21546,
           19795,
           11050,
           23180,
           13993,
           15407,
           25405,
           13034,
           17150,
           19586,
           14717,
           18726,
           22051,
           21276,
           27109,
           31956,
           30001,
           19388,
           16593,
           27850,
           37224,
           18857,
           30589,
           22287,
           39432,
           57915,
           28798,
           34577,
           13590,
           15511,
           28376,
           38533,
           18296,
           36498,
           37797,
           30832,
           53708,
           40225,
           36189,
           33561,
           41368,
           24584,
           33761,
           25454,
           36138,
           32944,
           37902,
           56165,
           35581,
           35134,
           21981,
           26192,
           23373,
           23673,
           21405,
           17906,
           22567,
           50007,
           46679,
           30451,
           38583,
           29520,
           40919,
           32165,
           19370,
           12015,
           15990,
           25528,
           35500,
           14174,
           12968,
           16926,
           13748,
           24668,
           14629,
           12095,
           14114,
           20071,
           16672,
           21719,
           16964,
           17200,
           13626,
           46829,
           18927,
           24073,
           21692,
           15156,
           21497,
           19212,
           26568,
           21227,
           12155,
           16787,
           28300,
           22776,
           25457,
           24134,
           22420,
           18195,
           17095,
           16358,
           17331,
           20297,
           16583,
           19389,
           18955,
           16198,
           17668,
           17131,
           17541,
           15201,
           31837,
           24625,
           21410,
           21927,
           24269,
           28330,
           20999,
           27565,
           19553,
           25882,
           22299,
           21201,
           46491,
           24994,
           15678,
           28187,
           48719,
           11789,
           46655,
           33984,
           36441,
           12763,
           34971,
           27357,
           45079,
           41791,
           25775,
           21127,
           14334,
           11004,
           36693,
           13620,
           30679,
           18987,
           36735,
           28413,
           37930,
           31172,
           11543,
           33253,
           44025,
           21929,
           11506,
           19802,
           14934,
           25220,
           14805,
           20890,
           20715,
           18172,
           19423,
           15637,
           34913,
           21665,
           17221,
           16728,
           15948,
           20833,
           28872,
           30082,
           17768,
           40362,
           16312,
           21915,
           14544,
           12845,
           19153,
           15929,
           18047,
           20628,
           24759,
           32932,
           49657,
           44681,
           26094,
           36725,
           44734,
           53173,
           50396,
           50900,
           37558,
           17017,
           27423,
           33501,
           22404,
           23881,
           28283,
           36418,
           44308,
           25325,
           50396,
           14981,
           45189,
           42947,
           38163,
           33301,
           16874,
           33963,
           41593,
           24427,
           49849,
           44586,
           37453,
           25911,
           16263,
           38089,
           37182,
           15142,
           24040,
           14338,
           19326,
           34406,
           41095,
           27377,
           22902,
           17756,
           17578,
           59691,
           40616,
           50862,
           35805,
           29519,
           36977,
           38946,
           39147,
           62720,
           57830,
           43877,
           33099,
           44759,
           44540,
           45127,
           27624,
           19161,
           17333,
           14613,
           16226,
           26641,
           23995,
           23718,
           19349,
           22481,
           18182,
           24578,
           15359,
           8570,
           13086,
           16628,
           25726,
           23318,
           21556,
           16451,
           13858,
           16514,
           15467,
           14165,
           14616,
           13909,
           13263,
           15237,
           9799
          ],
          "sizemode": "area",
          "sizeref": 156.8,
          "symbol": "circle"
         },
         "mode": "markers",
         "name": "",
         "orientation": "v",
         "showlegend": false,
         "type": "scatter",
         "x": [
          3,
          3,
          3,
          3,
          15,
          2,
          2,
          3,
          3,
          3,
          3,
          2,
          2,
          3,
          3,
          2,
          2,
          3,
          3,
          3,
          2,
          3,
          3,
          2,
          15,
          3,
          2,
          2,
          3,
          2,
          3,
          1,
          3,
          2,
          15,
          15,
          15,
          3,
          2,
          3,
          2,
          3,
          3,
          2,
          2,
          2,
          15,
          2,
          2,
          1,
          2,
          2,
          3,
          2,
          3,
          3,
          2,
          1,
          1,
          2,
          2,
          2,
          2,
          1,
          2,
          3,
          3,
          3,
          2,
          2,
          3,
          3,
          3,
          2,
          1,
          1,
          2,
          0,
          1,
          2,
          3,
          3,
          3,
          3,
          3,
          3,
          2,
          3,
          3,
          2,
          3,
          1,
          2,
          2,
          2,
          3,
          2,
          3,
          15,
          3,
          2,
          1,
          2,
          3,
          1,
          0,
          1,
          1,
          2,
          2,
          2,
          2,
          2,
          3,
          2,
          2,
          1,
          3,
          1,
          2,
          1,
          2,
          3,
          15,
          15,
          15,
          3,
          15,
          15,
          15,
          3,
          15,
          15,
          15,
          15,
          15,
          2,
          1,
          3,
          1,
          1,
          3,
          2,
          0,
          0,
          1,
          0,
          2,
          15,
          1,
          4,
          1,
          1,
          1,
          1,
          1,
          2,
          1,
          2,
          1,
          1,
          1,
          1,
          0,
          1,
          1,
          0,
          1,
          1,
          1,
          0,
          0,
          2,
          3,
          2,
          15,
          15,
          15,
          15,
          15,
          15,
          15,
          15,
          15,
          15,
          15,
          15,
          3,
          3,
          1,
          1,
          2,
          2,
          1,
          3,
          1,
          2,
          2,
          1,
          1,
          1,
          1,
          1,
          1,
          1,
          1,
          3,
          1,
          1,
          1,
          1,
          0,
          1,
          1,
          0,
          1,
          2,
          1,
          1,
          0,
          1,
          1,
          2,
          2,
          2,
          1,
          1,
          1,
          0,
          1,
          1,
          0,
          0,
          0,
          1,
          0,
          1,
          1,
          1,
          0,
          1,
          0,
          0,
          1,
          0,
          0,
          0,
          0,
          0,
          0,
          0,
          1,
          0,
          0,
          0,
          0,
          0,
          0,
          0,
          1,
          0,
          0,
          0,
          1,
          0,
          0,
          0,
          1,
          0,
          1,
          0,
          1,
          1,
          1,
          1,
          1,
          0,
          1,
          1,
          1,
          1,
          0,
          1,
          1,
          1,
          1,
          1,
          0,
          1,
          1,
          1,
          0,
          1,
          0,
          0,
          1,
          0,
          1,
          1,
          0,
          1,
          1,
          3,
          3,
          3,
          2,
          3,
          1,
          2,
          2,
          2,
          2,
          2,
          2,
          2,
          2,
          2,
          2,
          2,
          2,
          1,
          2,
          2,
          2,
          2,
          2,
          2,
          2,
          2,
          2,
          2,
          2,
          0,
          0,
          2,
          0,
          0,
          2,
          0,
          0,
          0,
          2,
          0,
          0,
          0,
          0,
          0,
          0,
          2,
          2,
          0,
          2,
          1,
          2,
          0,
          0,
          0,
          1,
          2,
          0,
          0,
          0,
          2,
          2,
          2,
          2,
          2,
          2,
          2,
          15,
          15,
          15,
          15,
          15,
          15,
          15,
          15,
          15,
          15,
          15,
          15,
          15,
          15,
          2,
          2,
          2,
          3,
          3,
          0,
          0,
          3,
          0,
          0,
          0,
          0,
          0,
          0,
          0,
          0,
          0,
          0,
          3,
          0,
          0,
          3,
          0,
          0,
          0,
          0,
          0,
          0,
          3,
          0,
          0,
          0,
          0,
          3,
          0,
          0,
          0,
          0,
          0,
          0,
          0,
          3,
          0,
          0,
          3,
          3,
          3,
          3,
          2,
          1,
          3,
          3,
          3,
          3,
          1,
          1,
          1,
          2,
          3,
          2,
          1,
          1,
          1,
          1,
          1,
          2,
          1,
          1,
          1,
          3,
          3,
          3,
          15,
          3,
          3,
          4,
          4,
          4,
          4,
          4,
          4,
          4,
          4,
          4,
          0,
          0,
          4,
          4,
          4,
          4,
          4,
          4,
          4,
          4,
          4,
          4,
          4,
          5
         ],
         "xaxis": "x",
         "y": [
          297616,
          411122,
          275166,
          259596,
          390660,
          384800,
          251392,
          236198,
          270351,
          302974,
          259437,
          370020,
          297780,
          219088,
          222512,
          333090,
          287505,
          261088,
          234432,
          217104,
          270765,
          223744,
          254320,
          325682,
          302568,
          259305,
          192934,
          301798,
          214815,
          319858,
          271275,
          388128,
          272970,
          192920,
          582876,
          660798,
          615546,
          392670,
          190610,
          235410,
          297178,
          238140,
          220275,
          174636,
          187082,
          175182,
          559710,
          155974,
          210015,
          259464,
          262379,
          205803,
          203112,
          297284,
          137844,
          139048,
          174395,
          227880,
          313092,
          183157,
          197665,
          159835,
          189267,
          209700,
          256113,
          247996,
          265776,
          230802,
          221052,
          278484,
          261638,
          216710,
          206167,
          173292,
          225280,
          129866,
          179328,
          159718,
          268136,
          177408,
          226213,
          210509,
          201175,
          263900,
          225706,
          435500,
          374832,
          551603,
          354952,
          171984,
          152334,
          301466,
          228960,
          181692,
          220164,
          198458,
          201360,
          266487,
          328950,
          251563,
          177850,
          223803,
          174810,
          172370,
          107244,
          145563,
          170460,
          163872,
          82950,
          259300,
          170530,
          203570,
          188343,
          217305,
          201627,
          214900,
          227151,
          170005,
          343206,
          185260,
          206568,
          164780,
          182215,
          652993,
          500595,
          616561,
          298276,
          629050,
          610903,
          606579,
          421179,
          618079,
          629234,
          490038,
          494569,
          373010,
          226188,
          115304,
          175590,
          113064,
          192160,
          243660,
          167535,
          106244,
          108075,
          159144,
          111802,
          179793,
          576136,
          193543,
          322130,
          97265,
          114849,
          123277,
          185500,
          173264,
          160656,
          172536,
          160744,
          153678,
          212058,
          126896,
          145712,
          158643,
          152621,
          209020,
          150466,
          110943,
          171451,
          168854,
          155432,
          147842,
          159936,
          184671,
          158216,
          400029,
          354648,
          304773,
          304521,
          358680,
          524538,
          401520,
          398727,
          427959,
          329658,
          337974,
          371196,
          186444,
          176103,
          108444,
          181426,
          177728,
          188144,
          208978,
          191151,
          110712,
          77472,
          157456,
          106729,
          125279,
          102612,
          134976,
          91098,
          119358,
          146478,
          122124,
          156264,
          101748,
          129276,
          118770,
          66300,
          55060,
          83958,
          92442,
          54685,
          78204,
          120050,
          117516,
          88302,
          68953,
          132306,
          127656,
          189763,
          223692,
          210007,
          116328,
          99558,
          167100,
          141342,
          113142,
          183534,
          96199,
          122660,
          154205,
          172788,
          104034,
          81540,
          93066,
          170256,
          131792,
          109776,
          132803,
          135136,
          184992,
          177580,
          135298,
          126383,
          105270,
          150619,
          108069,
          96606,
          152724,
          140512,
          112816,
          134401,
          155816,
          104088,
          124322,
          81152,
          157152,
          81081,
          80575,
          62209,
          107436,
          56482,
          176880,
          153433,
          182706,
          119754,
          177120,
          119777,
          192990,
          116220,
          72090,
          95940,
          153168,
          85900,
          85044,
          77808,
          101556,
          82488,
          81281,
          87774,
          72570,
          84684,
          120426,
          100032,
          68931,
          101784,
          103200,
          81756,
          106143,
          113562,
          80309,
          74020,
          90936,
          77943,
          115272,
          159408,
          64168,
          72930,
          100722,
          226400,
          182208,
          203656,
          144804,
          156940,
          109170,
          102570,
          98148,
          103986,
          121782,
          99498,
          116334,
          113730,
          97188,
          106008,
          102786,
          105246,
          91206,
          159185,
          147750,
          128460,
          131562,
          145614,
          169980,
          125994,
          165390,
          117318,
          155292,
          133794,
          127206,
          126949,
          80671,
          94068,
          90147,
          145330,
          70734,
          91787,
          78182,
          94664,
          76578,
          99004,
          69766,
          104978,
          101419,
          65745,
          65077,
          86004,
          66024,
          89288,
          81720,
          153395,
          113922,
          96276,
          81813,
          95922,
          155860,
          69258,
          79539,
          98013,
          61543,
          69036,
          118812,
          89604,
          151320,
          88830,
          125340,
          124290,
          345268,
          369037,
          297103,
          663347,
          411635,
          327199,
          317832,
          303012,
          395827,
          548568,
          571558,
          337592,
          766878,
          309928,
          131490,
          87264,
          77070,
          114918,
          95574,
          42880,
          46180,
          148554,
          55787,
          98631,
          88042,
          57677,
          64669,
          78780,
          109826,
          96082,
          105393,
          81193,
          102102,
          54012,
          51944,
          134424,
          39538,
          44695,
          66212,
          67651,
          42869,
          78763,
          89886,
          89619,
          59254,
          76705,
          73105,
          101244,
          60364,
          70383,
          38717,
          96150,
          74342,
          88270,
          46768,
          97578,
          56764,
          59662,
          90852,
          144240,
          86028,
          115956,
          172030,
          164380,
          164262,
          137412,
          106536,
          105468,
          238764,
          162464,
          203448,
          179025,
          177114,
          184885,
          155784,
          156588,
          250880,
          231320,
          175508,
          165495,
          179036,
          178160,
          180508,
          165744,
          114966,
          103998,
          263034,
          97356,
          159846,
          143970,
          142308,
          116094,
          134886,
          109092,
          147468,
          92154,
          51420,
          78516,
          16628,
          25726,
          139908,
          129336,
          98706,
          83148,
          99084,
          92802,
          84990,
          87696,
          83454,
          79578,
          91422,
          58794
         ],
         "yaxis": "y"
        }
       ],
       "layout": {
        "autosize": true,
        "coloraxis": {
         "colorbar": {
          "title": {
           "text": "odometer_replaced"
          }
         },
         "colorscale": [
          [
           0,
           "#0d0887"
          ],
          [
           0.1111111111111111,
           "#46039f"
          ],
          [
           0.2222222222222222,
           "#7201a8"
          ],
          [
           0.3333333333333333,
           "#9c179e"
          ],
          [
           0.4444444444444444,
           "#bd3786"
          ],
          [
           0.5555555555555556,
           "#d8576b"
          ],
          [
           0.6666666666666666,
           "#ed7953"
          ],
          [
           0.7777777777777778,
           "#fb9f3a"
          ],
          [
           0.8888888888888888,
           "#fdca26"
          ],
          [
           1,
           "#f0f921"
          ]
         ]
        },
        "dragmode": "zoom",
        "legend": {
         "itemsizing": "constant",
         "tracegroupgap": 0
        },
        "margin": {
         "t": 60
        },
        "template": {
         "data": {
          "bar": [
           {
            "error_x": {
             "color": "#2a3f5f"
            },
            "error_y": {
             "color": "#2a3f5f"
            },
            "marker": {
             "line": {
              "color": "#E5ECF6",
              "width": 0.5
             }
            },
            "type": "bar"
           }
          ],
          "barpolar": [
           {
            "marker": {
             "line": {
              "color": "#E5ECF6",
              "width": 0.5
             }
            },
            "type": "barpolar"
           }
          ],
          "carpet": [
           {
            "aaxis": {
             "endlinecolor": "#2a3f5f",
             "gridcolor": "white",
             "linecolor": "white",
             "minorgridcolor": "white",
             "startlinecolor": "#2a3f5f"
            },
            "baxis": {
             "endlinecolor": "#2a3f5f",
             "gridcolor": "white",
             "linecolor": "white",
             "minorgridcolor": "white",
             "startlinecolor": "#2a3f5f"
            },
            "type": "carpet"
           }
          ],
          "choropleth": [
           {
            "colorbar": {
             "outlinewidth": 0,
             "ticks": ""
            },
            "type": "choropleth"
           }
          ],
          "contour": [
           {
            "colorbar": {
             "outlinewidth": 0,
             "ticks": ""
            },
            "colorscale": [
             [
              0,
              "#0d0887"
             ],
             [
              0.1111111111111111,
              "#46039f"
             ],
             [
              0.2222222222222222,
              "#7201a8"
             ],
             [
              0.3333333333333333,
              "#9c179e"
             ],
             [
              0.4444444444444444,
              "#bd3786"
             ],
             [
              0.5555555555555556,
              "#d8576b"
             ],
             [
              0.6666666666666666,
              "#ed7953"
             ],
             [
              0.7777777777777778,
              "#fb9f3a"
             ],
             [
              0.8888888888888888,
              "#fdca26"
             ],
             [
              1,
              "#f0f921"
             ]
            ],
            "type": "contour"
           }
          ],
          "contourcarpet": [
           {
            "colorbar": {
             "outlinewidth": 0,
             "ticks": ""
            },
            "type": "contourcarpet"
           }
          ],
          "heatmap": [
           {
            "colorbar": {
             "outlinewidth": 0,
             "ticks": ""
            },
            "colorscale": [
             [
              0,
              "#0d0887"
             ],
             [
              0.1111111111111111,
              "#46039f"
             ],
             [
              0.2222222222222222,
              "#7201a8"
             ],
             [
              0.3333333333333333,
              "#9c179e"
             ],
             [
              0.4444444444444444,
              "#bd3786"
             ],
             [
              0.5555555555555556,
              "#d8576b"
             ],
             [
              0.6666666666666666,
              "#ed7953"
             ],
             [
              0.7777777777777778,
              "#fb9f3a"
             ],
             [
              0.8888888888888888,
              "#fdca26"
             ],
             [
              1,
              "#f0f921"
             ]
            ],
            "type": "heatmap"
           }
          ],
          "heatmapgl": [
           {
            "colorbar": {
             "outlinewidth": 0,
             "ticks": ""
            },
            "colorscale": [
             [
              0,
              "#0d0887"
             ],
             [
              0.1111111111111111,
              "#46039f"
             ],
             [
              0.2222222222222222,
              "#7201a8"
             ],
             [
              0.3333333333333333,
              "#9c179e"
             ],
             [
              0.4444444444444444,
              "#bd3786"
             ],
             [
              0.5555555555555556,
              "#d8576b"
             ],
             [
              0.6666666666666666,
              "#ed7953"
             ],
             [
              0.7777777777777778,
              "#fb9f3a"
             ],
             [
              0.8888888888888888,
              "#fdca26"
             ],
             [
              1,
              "#f0f921"
             ]
            ],
            "type": "heatmapgl"
           }
          ],
          "histogram": [
           {
            "marker": {
             "colorbar": {
              "outlinewidth": 0,
              "ticks": ""
             }
            },
            "type": "histogram"
           }
          ],
          "histogram2d": [
           {
            "colorbar": {
             "outlinewidth": 0,
             "ticks": ""
            },
            "colorscale": [
             [
              0,
              "#0d0887"
             ],
             [
              0.1111111111111111,
              "#46039f"
             ],
             [
              0.2222222222222222,
              "#7201a8"
             ],
             [
              0.3333333333333333,
              "#9c179e"
             ],
             [
              0.4444444444444444,
              "#bd3786"
             ],
             [
              0.5555555555555556,
              "#d8576b"
             ],
             [
              0.6666666666666666,
              "#ed7953"
             ],
             [
              0.7777777777777778,
              "#fb9f3a"
             ],
             [
              0.8888888888888888,
              "#fdca26"
             ],
             [
              1,
              "#f0f921"
             ]
            ],
            "type": "histogram2d"
           }
          ],
          "histogram2dcontour": [
           {
            "colorbar": {
             "outlinewidth": 0,
             "ticks": ""
            },
            "colorscale": [
             [
              0,
              "#0d0887"
             ],
             [
              0.1111111111111111,
              "#46039f"
             ],
             [
              0.2222222222222222,
              "#7201a8"
             ],
             [
              0.3333333333333333,
              "#9c179e"
             ],
             [
              0.4444444444444444,
              "#bd3786"
             ],
             [
              0.5555555555555556,
              "#d8576b"
             ],
             [
              0.6666666666666666,
              "#ed7953"
             ],
             [
              0.7777777777777778,
              "#fb9f3a"
             ],
             [
              0.8888888888888888,
              "#fdca26"
             ],
             [
              1,
              "#f0f921"
             ]
            ],
            "type": "histogram2dcontour"
           }
          ],
          "mesh3d": [
           {
            "colorbar": {
             "outlinewidth": 0,
             "ticks": ""
            },
            "type": "mesh3d"
           }
          ],
          "parcoords": [
           {
            "line": {
             "colorbar": {
              "outlinewidth": 0,
              "ticks": ""
             }
            },
            "type": "parcoords"
           }
          ],
          "pie": [
           {
            "automargin": true,
            "type": "pie"
           }
          ],
          "scatter": [
           {
            "marker": {
             "colorbar": {
              "outlinewidth": 0,
              "ticks": ""
             }
            },
            "type": "scatter"
           }
          ],
          "scatter3d": [
           {
            "line": {
             "colorbar": {
              "outlinewidth": 0,
              "ticks": ""
             }
            },
            "marker": {
             "colorbar": {
              "outlinewidth": 0,
              "ticks": ""
             }
            },
            "type": "scatter3d"
           }
          ],
          "scattercarpet": [
           {
            "marker": {
             "colorbar": {
              "outlinewidth": 0,
              "ticks": ""
             }
            },
            "type": "scattercarpet"
           }
          ],
          "scattergeo": [
           {
            "marker": {
             "colorbar": {
              "outlinewidth": 0,
              "ticks": ""
             }
            },
            "type": "scattergeo"
           }
          ],
          "scattergl": [
           {
            "marker": {
             "colorbar": {
              "outlinewidth": 0,
              "ticks": ""
             }
            },
            "type": "scattergl"
           }
          ],
          "scattermapbox": [
           {
            "marker": {
             "colorbar": {
              "outlinewidth": 0,
              "ticks": ""
             }
            },
            "type": "scattermapbox"
           }
          ],
          "scatterpolar": [
           {
            "marker": {
             "colorbar": {
              "outlinewidth": 0,
              "ticks": ""
             }
            },
            "type": "scatterpolar"
           }
          ],
          "scatterpolargl": [
           {
            "marker": {
             "colorbar": {
              "outlinewidth": 0,
              "ticks": ""
             }
            },
            "type": "scatterpolargl"
           }
          ],
          "scatterternary": [
           {
            "marker": {
             "colorbar": {
              "outlinewidth": 0,
              "ticks": ""
             }
            },
            "type": "scatterternary"
           }
          ],
          "surface": [
           {
            "colorbar": {
             "outlinewidth": 0,
             "ticks": ""
            },
            "colorscale": [
             [
              0,
              "#0d0887"
             ],
             [
              0.1111111111111111,
              "#46039f"
             ],
             [
              0.2222222222222222,
              "#7201a8"
             ],
             [
              0.3333333333333333,
              "#9c179e"
             ],
             [
              0.4444444444444444,
              "#bd3786"
             ],
             [
              0.5555555555555556,
              "#d8576b"
             ],
             [
              0.6666666666666666,
              "#ed7953"
             ],
             [
              0.7777777777777778,
              "#fb9f3a"
             ],
             [
              0.8888888888888888,
              "#fdca26"
             ],
             [
              1,
              "#f0f921"
             ]
            ],
            "type": "surface"
           }
          ],
          "table": [
           {
            "cells": {
             "fill": {
              "color": "#EBF0F8"
             },
             "line": {
              "color": "white"
             }
            },
            "header": {
             "fill": {
              "color": "#C8D4E3"
             },
             "line": {
              "color": "white"
             }
            },
            "type": "table"
           }
          ]
         },
         "layout": {
          "annotationdefaults": {
           "arrowcolor": "#2a3f5f",
           "arrowhead": 0,
           "arrowwidth": 1
          },
          "coloraxis": {
           "colorbar": {
            "outlinewidth": 0,
            "ticks": ""
           }
          },
          "colorscale": {
           "diverging": [
            [
             0,
             "#8e0152"
            ],
            [
             0.1,
             "#c51b7d"
            ],
            [
             0.2,
             "#de77ae"
            ],
            [
             0.3,
             "#f1b6da"
            ],
            [
             0.4,
             "#fde0ef"
            ],
            [
             0.5,
             "#f7f7f7"
            ],
            [
             0.6,
             "#e6f5d0"
            ],
            [
             0.7,
             "#b8e186"
            ],
            [
             0.8,
             "#7fbc41"
            ],
            [
             0.9,
             "#4d9221"
            ],
            [
             1,
             "#276419"
            ]
           ],
           "sequential": [
            [
             0,
             "#0d0887"
            ],
            [
             0.1111111111111111,
             "#46039f"
            ],
            [
             0.2222222222222222,
             "#7201a8"
            ],
            [
             0.3333333333333333,
             "#9c179e"
            ],
            [
             0.4444444444444444,
             "#bd3786"
            ],
            [
             0.5555555555555556,
             "#d8576b"
            ],
            [
             0.6666666666666666,
             "#ed7953"
            ],
            [
             0.7777777777777778,
             "#fb9f3a"
            ],
            [
             0.8888888888888888,
             "#fdca26"
            ],
            [
             1,
             "#f0f921"
            ]
           ],
           "sequentialminus": [
            [
             0,
             "#0d0887"
            ],
            [
             0.1111111111111111,
             "#46039f"
            ],
            [
             0.2222222222222222,
             "#7201a8"
            ],
            [
             0.3333333333333333,
             "#9c179e"
            ],
            [
             0.4444444444444444,
             "#bd3786"
            ],
            [
             0.5555555555555556,
             "#d8576b"
            ],
            [
             0.6666666666666666,
             "#ed7953"
            ],
            [
             0.7777777777777778,
             "#fb9f3a"
            ],
            [
             0.8888888888888888,
             "#fdca26"
            ],
            [
             1,
             "#f0f921"
            ]
           ]
          },
          "colorway": [
           "#636efa",
           "#EF553B",
           "#00cc96",
           "#ab63fa",
           "#FFA15A",
           "#19d3f3",
           "#FF6692",
           "#B6E880",
           "#FF97FF",
           "#FECB52"
          ],
          "font": {
           "color": "#2a3f5f"
          },
          "geo": {
           "bgcolor": "white",
           "lakecolor": "white",
           "landcolor": "#E5ECF6",
           "showlakes": true,
           "showland": true,
           "subunitcolor": "white"
          },
          "hoverlabel": {
           "align": "left"
          },
          "hovermode": "closest",
          "mapbox": {
           "style": "light"
          },
          "paper_bgcolor": "white",
          "plot_bgcolor": "#E5ECF6",
          "polar": {
           "angularaxis": {
            "gridcolor": "white",
            "linecolor": "white",
            "ticks": ""
           },
           "bgcolor": "#E5ECF6",
           "radialaxis": {
            "gridcolor": "white",
            "linecolor": "white",
            "ticks": ""
           }
          },
          "scene": {
           "xaxis": {
            "backgroundcolor": "#E5ECF6",
            "gridcolor": "white",
            "gridwidth": 2,
            "linecolor": "white",
            "showbackground": true,
            "ticks": "",
            "zerolinecolor": "white"
           },
           "yaxis": {
            "backgroundcolor": "#E5ECF6",
            "gridcolor": "white",
            "gridwidth": 2,
            "linecolor": "white",
            "showbackground": true,
            "ticks": "",
            "zerolinecolor": "white"
           },
           "zaxis": {
            "backgroundcolor": "#E5ECF6",
            "gridcolor": "white",
            "gridwidth": 2,
            "linecolor": "white",
            "showbackground": true,
            "ticks": "",
            "zerolinecolor": "white"
           }
          },
          "shapedefaults": {
           "line": {
            "color": "#2a3f5f"
           }
          },
          "ternary": {
           "aaxis": {
            "gridcolor": "white",
            "linecolor": "white",
            "ticks": ""
           },
           "baxis": {
            "gridcolor": "white",
            "linecolor": "white",
            "ticks": ""
           },
           "bgcolor": "#E5ECF6",
           "caxis": {
            "gridcolor": "white",
            "linecolor": "white",
            "ticks": ""
           }
          },
          "title": {
           "x": 0.05
          },
          "xaxis": {
           "automargin": true,
           "gridcolor": "white",
           "linecolor": "white",
           "ticks": "",
           "title": {
            "standoff": 15
           },
           "zerolinecolor": "white",
           "zerolinewidth": 2
          },
          "yaxis": {
           "automargin": true,
           "gridcolor": "white",
           "linecolor": "white",
           "ticks": "",
           "title": {
            "standoff": 15
           },
           "zerolinecolor": "white",
           "zerolinewidth": 2
          }
         }
        },
        "xaxis": {
         "anchor": "y",
         "autorange": false,
         "domain": [
          0,
          1
         ],
         "range": [
          -1.1878841192800438,
          6.254701380944217
         ],
         "showspikes": false,
         "title": {
          "text": "year_replaced"
         },
         "type": "linear"
        },
        "yaxis": {
         "anchor": "x",
         "autorange": false,
         "domain": [
          0,
          1
         ],
         "range": [
          -52072.67256126428,
          708479.2701127422
         ],
         "showspikes": false,
         "title": {
          "text": "odometer_replaced"
         },
         "type": "linear"
        }
       }
      },
      "image/png": "[encoded data removed]",
      "text/html": [
       "<div>\n",
       "        \n",
       "        \n",
       "            <div id=\"7e8370e1-723e-47e1-bc69-697bc254f80c\" class=\"plotly-graph-div\" style=\"height:525px; width:100%;\"></div>\n",
       "            <script type=\"text/javascript\">\n",
       "                require([\"plotly\"], function(Plotly) {\n",
       "                    window.PLOTLYENV=window.PLOTLYENV || {};\n",
       "                    \n",
       "                if (document.getElementById(\"7e8370e1-723e-47e1-bc69-697bc254f80c\")) {\n",
       "                    Plotly.newPlot(\n",
       "                        '7e8370e1-723e-47e1-bc69-697bc254f80c',\n",
       "                        [{\"hovertemplate\": \"year_replaced=%{x}<br>odometer_replaced=%{marker.color}<br>vmt_replaced=%{marker.size}<extra></extra>\", \"legendgroup\": \"\", \"marker\": {\"color\": [297616.0, 411122.0, 275166.0, 259596.0, 390660.0, 384800.0, 251392.0, 236198.0, 270351.0, 302974.0, 259437.0, 370020.0, 297780.0, 219088.0, 222512.0, 333090.0, 287505.0, 261088.0, 234432.0, 217104.0, 270765.0, 223744.0, 254320.0, 325682.0, 302568.0, 259305.0, 192934.0, 301798.0, 214815.0, 319858.0, 271275.0, 388128.0, 272970.0, 192920.0, 582876.0, 660798.0, 615546.0, 392670.0, 190610.0, 235410.0, 297178.0, 238140.0, 220275.0, 174636.0, 187082.0, 175182.0, 559710.0, 155974.0, 210015.0, 259464.0, 262379.0, 205803.0, 203112.0, 297284.0, 137844.0, 139048.0, 174395.0, 227880.0, 313092.0, 183157.0, 197665.0, 159835.0, 189267.0, 209700.0, 256113.0, 247996.0, 265776.0, 230802.0, 221052.0, 278484.0, 261638.0, 216710.0, 206167.0, 173292.0, 225280.0, 129866.0, 179328.0, 159718.0, 268136.0, 177408.0, 226213.0, 210509.0, 201175.0, 263900.0, 225706.0, 435500.0, 374832.0, 551603.0, 354952.0, 171984.0, 152334.0, 301466.0, 228960.0, 181692.0, 220164.0, 198458.0, 201360.0, 266487.0, 328950.0, 251563.0, 177850.0, 223803.0, 174810.0, 172370.0, 107244.0, 145563.0, 170460.0, 163872.0, 82950.0, 259300.0, 170530.0, 203570.0, 188343.0, 217305.0, 201627.0, 214900.0, 227151.0, 170005.0, 343206.0, 185260.0, 206568.0, 164780.0, 182215.0, 652993.0, 500595.0, 616561.0, 298276.0, 629050.0, 610903.0, 606579.0, 421179.0, 618079.0, 629234.0, 490038.0, 494569.0, 373010.0, 226188.0, 115304.0, 175590.0, 113064.0, 192160.0, 243660.0, 167535.0, 106244.0, 108075.0, 159144.0, 111802.0, 179793.0, 576136.0, 193543.0, 322130.0, 97265.0, 114849.0, 123277.0, 185500.0, 173264.0, 160656.0, 172536.0, 160744.0, 153678.0, 212058.0, 126896.0, 145712.0, 158643.0, 152621.0, 209020.0, 150466.0, 110943.0, 171451.0, 168854.0, 155432.0, 147842.0, 159936.0, 184671.0, 158216.0, 400029.0, 354648.0, 304773.0, 304521.0, 358680.0, 524538.0, 401520.0, 398727.0, 427959.0, 329658.0, 337974.0, 371196.0, 186444.0, 176103.0, 108444.0, 181426.0, 177728.0, 188144.0, 208978.0, 191151.0, 110712.0, 77472.0, 157456.0, 106729.0, 125279.0, 102612.0, 134976.0, 91098.0, 119358.0, 146478.0, 122124.0, 156264.0, 101748.0, 129276.0, 118770.0, 66300.0, 55060.0, 83958.0, 92442.0, 54685.0, 78204.0, 120050.0, 117516.0, 88302.0, 68953.0, 132306.0, 127656.0, 189763.0, 223692.0, 210007.0, 116328.0, 99558.0, 167100.0, 141342.0, 113142.0, 183534.0, 96199.0, 122660.0, 154205.0, 172788.0, 104034.0, 81540.0, 93066.0, 170256.0, 131792.0, 109776.0, 132803.0, 135136.0, 184992.0, 177580.0, 135298.0, 126383.0, 105270.0, 150619.0, 108069.0, 96606.0, 152724.0, 140512.0, 112816.0, 134401.0, 155816.0, 104088.0, 124322.0, 81152.0, 157152.0, 81081.0, 80575.0, 62209.0, 107436.0, 56482.0, 176880.0, 153433.0, 182706.0, 119754.0, 177120.0, 119777.0, 192990.0, 116220.0, 72090.0, 95940.0, 153168.0, 85900.0, 85044.0, 77808.0, 101556.0, 82488.0, 81281.0, 87774.0, 72570.0, 84684.0, 120426.0, 100032.0, 68931.0, 101784.0, 103200.0, 81756.0, 106143.0, 113562.0, 80309.0, 74020.0, 90936.0, 77943.0, 115272.0, 159408.0, 64168.0, 72930.0, 100722.0, 226400.0, 182208.0, 203656.0, 144804.0, 156940.0, 109170.0, 102570.0, 98148.0, 103986.0, 121782.0, 99498.0, 116334.0, 113730.0, 97188.0, 106008.0, 102786.0, 105246.0, 91206.0, 159185.0, 147750.0, 128460.0, 131562.0, 145614.0, 169980.0, 125994.0, 165390.0, 117318.0, 155292.0, 133794.0, 127206.0, 126949.0, 80671.0, 94068.0, 90147.0, 145330.0, 70734.0, 91787.0, 78182.0, 94664.0, 76578.0, 99004.0, 69766.0, 104978.0, 101419.0, 65745.0, 65077.0, 86004.0, 66024.0, 89288.0, 81720.0, 153395.0, 113922.0, 96276.0, 81813.0, 95922.0, 155860.0, 69258.0, 79539.0, 98013.0, 61543.0, 69036.0, 118812.0, 89604.0, 151320.0, 88830.0, 125340.0, 124290.0, 345268.0, 369037.0, 297103.0, 663347.0, 411635.0, 327199.0, 317832.0, 303012.0, 395827.0, 548568.0, 571558.0, 337592.0, 766878.0, 309928.0, 131490.0, 87264.0, 77070.0, 114918.0, 95574.0, 42880.0, 46180.0, 148554.0, 55787.0, 98631.0, 88042.0, 57677.0, 64669.0, 78780.0, 109826.0, 96082.0, 105393.0, 81193.0, 102102.0, 54012.0, 51944.0, 134424.0, 39538.0, 44695.0, 66212.0, 67651.0, 42869.0, 78763.0, 89886.0, 89619.0, 59254.0, 76705.0, 73105.0, 101244.0, 60364.0, 70383.0, 38717.0, 96150.0, 74342.0, 88270.0, 46768.0, 97578.0, 56764.0, 59662.0, 90852.0, 144240.0, 86028.0, 115956.0, 172030.0, 164380.0, 164262.0, 137412.0, 106536.0, 105468.0, 238764.0, 162464.0, 203448.0, 179025.0, 177114.0, 184885.0, 155784.0, 156588.0, 250880.0, 231320.0, 175508.0, 165495.0, 179036.0, 178160.0, 180508.0, 165744.0, 114966.0, 103998.0, 263034.0, 97356.0, 159846.0, 143970.0, 142308.0, 116094.0, 134886.0, 109092.0, 147468.0, 92154.0, 51420.0, 78516.0, 16628.0, 25726.0, 139908.0, 129336.0, 98706.0, 83148.0, 99084.0, 92802.0, 84990.0, 87696.0, 83454.0, 79578.0, 91422.0, 58794.0], \"coloraxis\": \"coloraxis\", \"size\": [15664.0, 21638.0, 15287.0, 14422.0, 13022.0, 24050.0, 15712.0, 13894.0, 15903.0, 17822.0, 15261.0, 24668.0, 19852.0, 13693.0, 13907.0, 22206.0, 19167.0, 16318.0, 14652.0, 13569.0, 18051.0, 13984.0, 15895.0, 23263.0, 10806.0, 17287.0, 13781.0, 21557.0, 14321.0, 22847.0, 18085.0, 29856.0, 18198.0, 13780.0, 21588.0, 24474.0, 22798.0, 26178.0, 13615.0, 15694.0, 21227.0, 15876.0, 14685.0, 12474.0, 13363.0, 12513.0, 20730.0, 11998.0, 16155.0, 21622.0, 20183.0, 15831.0, 14508.0, 22868.0, 9846.0, 9932.0, 13415.0, 18990.0, 26091.0, 14089.0, 15205.0, 12295.0, 14559.0, 17475.0, 19701.0, 17714.0, 18984.0, 17754.0, 18421.0, 23207.0, 20126.0, 16670.0, 15859.0, 14441.0, 20480.0, 11806.0, 14944.0, 28297.0, 24376.0, 14784.0, 17401.0, 16193.0, 15475.0, 20300.0, 17362.0, 33500.0, 31236.0, 42431.0, 27304.0, 14332.0, 11718.0, 27406.0, 19080.0, 15141.0, 18347.0, 15266.0, 16780.0, 20499.0, 13158.0, 19351.0, 17785.0, 24867.0, 17481.0, 15670.0, 11916.0, 16073.0, 18940.0, 18208.0, 8295.0, 25930.0, 17053.0, 20357.0, 20927.0, 19755.0, 22403.0, 21490.0, 25239.0, 15455.0, 38134.0, 18526.0, 22952.0, 16478.0, 16565.0, 28391.0, 21765.0, 26807.0, 27116.0, 27350.0, 26561.0, 26373.0, 38289.0, 26873.0, 27358.0, 21306.0, 21503.0, 16955.0, 25132.0, 14413.0, 17559.0, 14133.0, 24020.0, 24366.0, 18615.0, 16720.0, 16261.0, 19893.0, 15966.0, 19977.0, 26188.0, 27649.0, 32213.0, 13895.0, 16407.0, 17611.0, 26500.0, 24752.0, 20082.0, 24648.0, 20093.0, 21954.0, 30294.0, 18128.0, 20816.0, 48335.0, 21803.0, 29860.0, 38968.0, 15849.0, 24493.0, 24122.0, 44570.0, 46535.0, 19992.0, 20519.0, 19777.0, 19049.0, 16888.0, 14513.0, 14501.0, 17080.0, 24978.0, 19120.0, 18987.0, 20379.0, 15698.0, 16094.0, 17676.0, 20716.0, 19567.0, 15492.0, 25918.0, 22216.0, 23518.0, 29854.0, 21239.0, 15816.0, 9684.0, 19682.0, 15247.0, 17897.0, 17102.0, 22496.0, 15183.0, 19893.0, 24413.0, 20354.0, 19533.0, 16958.0, 21546.0, 19795.0, 11050.0, 23180.0, 13993.0, 15407.0, 25405.0, 13034.0, 17150.0, 19586.0, 14717.0, 18726.0, 22051.0, 21276.0, 27109.0, 31956.0, 30001.0, 19388.0, 16593.0, 27850.0, 37224.0, 18857.0, 30589.0, 22287.0, 39432.0, 57915.0, 28798.0, 34577.0, 13590.0, 15511.0, 28376.0, 38533.0, 18296.0, 36498.0, 37797.0, 30832.0, 53708.0, 40225.0, 36189.0, 33561.0, 41368.0, 24584.0, 33761.0, 25454.0, 36138.0, 32944.0, 37902.0, 56165.0, 35581.0, 35134.0, 21981.0, 26192.0, 23373.0, 23673.0, 21405.0, 17906.0, 22567.0, 50007.0, 46679.0, 30451.0, 38583.0, 29520.0, 40919.0, 32165.0, 19370.0, 12015.0, 15990.0, 25528.0, 35500.0, 14174.0, 12968.0, 16926.0, 13748.0, 24668.0, 14629.0, 12095.0, 14114.0, 20071.0, 16672.0, 21719.0, 16964.0, 17200.0, 13626.0, 46829.0, 18927.0, 24073.0, 21692.0, 15156.0, 21497.0, 19212.0, 26568.0, 21227.0, 12155.0, 16787.0, 28300.0, 22776.0, 25457.0, 24134.0, 22420.0, 18195.0, 17095.0, 16358.0, 17331.0, 20297.0, 16583.0, 19389.0, 18955.0, 16198.0, 17668.0, 17131.0, 17541.0, 15201.0, 31837.0, 24625.0, 21410.0, 21927.0, 24269.0, 28330.0, 20999.0, 27565.0, 19553.0, 25882.0, 22299.0, 21201.0, 46491.0, 24994.0, 15678.0, 28187.0, 48719.0, 11789.0, 46655.0, 33984.0, 36441.0, 12763.0, 34971.0, 27357.0, 45079.0, 41791.0, 25775.0, 21127.0, 14334.0, 11004.0, 36693.0, 13620.0, 30679.0, 18987.0, 36735.0, 28413.0, 37930.0, 31172.0, 11543.0, 33253.0, 44025.0, 21929.0, 11506.0, 19802.0, 14934.0, 25220.0, 14805.0, 20890.0, 20715.0, 18172.0, 19423.0, 15637.0, 34913.0, 21665.0, 17221.0, 16728.0, 15948.0, 20833.0, 28872.0, 30082.0, 17768.0, 40362.0, 16312.0, 21915.0, 14544.0, 12845.0, 19153.0, 15929.0, 18047.0, 20628.0, 24759.0, 32932.0, 49657.0, 44681.0, 26094.0, 36725.0, 44734.0, 53173.0, 50396.0, 50900.0, 37558.0, 17017.0, 27423.0, 33501.0, 22404.0, 23881.0, 28283.0, 36418.0, 44308.0, 25325.0, 50396.0, 14981.0, 45189.0, 42947.0, 38163.0, 33301.0, 16874.0, 33963.0, 41593.0, 24427.0, 49849.0, 44586.0, 37453.0, 25911.0, 16263.0, 38089.0, 37182.0, 15142.0, 24040.0, 14338.0, 19326.0, 34406.0, 41095.0, 27377.0, 22902.0, 17756.0, 17578.0, 59691.0, 40616.0, 50862.0, 35805.0, 29519.0, 36977.0, 38946.0, 39147.0, 62720.0, 57830.0, 43877.0, 33099.0, 44759.0, 44540.0, 45127.0, 27624.0, 19161.0, 17333.0, 14613.0, 16226.0, 26641.0, 23995.0, 23718.0, 19349.0, 22481.0, 18182.0, 24578.0, 15359.0, 8570.0, 13086.0, 16628.0, 25726.0, 23318.0, 21556.0, 16451.0, 13858.0, 16514.0, 15467.0, 14165.0, 14616.0, 13909.0, 13263.0, 15237.0, 9799.0], \"sizemode\": \"area\", \"sizeref\": 156.8, \"symbol\": \"circle\"}, \"mode\": \"markers\", \"name\": \"\", \"orientation\": \"v\", \"showlegend\": false, \"type\": \"scatter\", \"x\": [3.0, 3.0, 3.0, 3.0, 15.0, 2.0, 2.0, 3.0, 3.0, 3.0, 3.0, 2.0, 2.0, 3.0, 3.0, 2.0, 2.0, 3.0, 3.0, 3.0, 2.0, 3.0, 3.0, 2.0, 15.0, 3.0, 2.0, 2.0, 3.0, 2.0, 3.0, 1.0, 3.0, 2.0, 15.0, 15.0, 15.0, 3.0, 2.0, 3.0, 2.0, 3.0, 3.0, 2.0, 2.0, 2.0, 15.0, 2.0, 2.0, 1.0, 2.0, 2.0, 3.0, 2.0, 3.0, 3.0, 2.0, 1.0, 1.0, 2.0, 2.0, 2.0, 2.0, 1.0, 2.0, 3.0, 3.0, 3.0, 2.0, 2.0, 3.0, 3.0, 3.0, 2.0, 1.0, 1.0, 2.0, 0.0, 1.0, 2.0, 3.0, 3.0, 3.0, 3.0, 3.0, 3.0, 2.0, 3.0, 3.0, 2.0, 3.0, 1.0, 2.0, 2.0, 2.0, 3.0, 2.0, 3.0, 15.0, 3.0, 2.0, 1.0, 2.0, 3.0, 1.0, 0.0, 1.0, 1.0, 2.0, 2.0, 2.0, 2.0, 2.0, 3.0, 2.0, 2.0, 1.0, 3.0, 1.0, 2.0, 1.0, 2.0, 3.0, 15.0, 15.0, 15.0, 3.0, 15.0, 15.0, 15.0, 3.0, 15.0, 15.0, 15.0, 15.0, 15.0, 2.0, 1.0, 3.0, 1.0, 1.0, 3.0, 2.0, 0.0, 0.0, 1.0, 0.0, 2.0, 15.0, 1.0, 4.0, 1.0, 1.0, 1.0, 1.0, 1.0, 2.0, 1.0, 2.0, 1.0, 1.0, 1.0, 1.0, 0.0, 1.0, 1.0, 0.0, 1.0, 1.0, 1.0, 0.0, 0.0, 2.0, 3.0, 2.0, 15.0, 15.0, 15.0, 15.0, 15.0, 15.0, 15.0, 15.0, 15.0, 15.0, 15.0, 15.0, 3.0, 3.0, 1.0, 1.0, 2.0, 2.0, 1.0, 3.0, 1.0, 2.0, 2.0, 1.0, 1.0, 1.0, 1.0, 1.0, 1.0, 1.0, 1.0, 3.0, 1.0, 1.0, 1.0, 1.0, 0.0, 1.0, 1.0, 0.0, 1.0, 2.0, 1.0, 1.0, 0.0, 1.0, 1.0, 2.0, 2.0, 2.0, 1.0, 1.0, 1.0, 0.0, 1.0, 1.0, 0.0, 0.0, 0.0, 1.0, 0.0, 1.0, 1.0, 1.0, 0.0, 1.0, 0.0, 0.0, 1.0, 0.0, 0.0, 0.0, 0.0, 0.0, 0.0, 0.0, 1.0, 0.0, 0.0, 0.0, 0.0, 0.0, 0.0, 0.0, 1.0, 0.0, 0.0, 0.0, 1.0, 0.0, 0.0, 0.0, 1.0, 0.0, 1.0, 0.0, 1.0, 1.0, 1.0, 1.0, 1.0, 0.0, 1.0, 1.0, 1.0, 1.0, 0.0, 1.0, 1.0, 1.0, 1.0, 1.0, 0.0, 1.0, 1.0, 1.0, 0.0, 1.0, 0.0, 0.0, 1.0, 0.0, 1.0, 1.0, 0.0, 1.0, 1.0, 3.0, 3.0, 3.0, 2.0, 3.0, 1.0, 2.0, 2.0, 2.0, 2.0, 2.0, 2.0, 2.0, 2.0, 2.0, 2.0, 2.0, 2.0, 1.0, 2.0, 2.0, 2.0, 2.0, 2.0, 2.0, 2.0, 2.0, 2.0, 2.0, 2.0, 0.0, 0.0, 2.0, 0.0, 0.0, 2.0, 0.0, 0.0, 0.0, 2.0, 0.0, 0.0, 0.0, 0.0, 0.0, 0.0, 2.0, 2.0, 0.0, 2.0, 1.0, 2.0, 0.0, 0.0, 0.0, 1.0, 2.0, 0.0, 0.0, 0.0, 2.0, 2.0, 2.0, 2.0, 2.0, 2.0, 2.0, 15.0, 15.0, 15.0, 15.0, 15.0, 15.0, 15.0, 15.0, 15.0, 15.0, 15.0, 15.0, 15.0, 15.0, 2.0, 2.0, 2.0, 3.0, 3.0, 0.0, 0.0, 3.0, 0.0, 0.0, 0.0, 0.0, 0.0, 0.0, 0.0, 0.0, 0.0, 0.0, 3.0, 0.0, 0.0, 3.0, 0.0, 0.0, 0.0, 0.0, 0.0, 0.0, 3.0, 0.0, 0.0, 0.0, 0.0, 3.0, 0.0, 0.0, 0.0, 0.0, 0.0, 0.0, 0.0, 3.0, 0.0, 0.0, 3.0, 3.0, 3.0, 3.0, 2.0, 1.0, 3.0, 3.0, 3.0, 3.0, 1.0, 1.0, 1.0, 2.0, 3.0, 2.0, 1.0, 1.0, 1.0, 1.0, 1.0, 2.0, 1.0, 1.0, 1.0, 3.0, 3.0, 3.0, 15.0, 3.0, 3.0, 4.0, 4.0, 4.0, 4.0, 4.0, 4.0, 4.0, 4.0, 4.0, 0.0, 0.0, 4.0, 4.0, 4.0, 4.0, 4.0, 4.0, 4.0, 4.0, 4.0, 4.0, 4.0, 5.0], \"xaxis\": \"x\", \"y\": [297616.0, 411122.0, 275166.0, 259596.0, 390660.0, 384800.0, 251392.0, 236198.0, 270351.0, 302974.0, 259437.0, 370020.0, 297780.0, 219088.0, 222512.0, 333090.0, 287505.0, 261088.0, 234432.0, 217104.0, 270765.0, 223744.0, 254320.0, 325682.0, 302568.0, 259305.0, 192934.0, 301798.0, 214815.0, 319858.0, 271275.0, 388128.0, 272970.0, 192920.0, 582876.0, 660798.0, 615546.0, 392670.0, 190610.0, 235410.0, 297178.0, 238140.0, 220275.0, 174636.0, 187082.0, 175182.0, 559710.0, 155974.0, 210015.0, 259464.0, 262379.0, 205803.0, 203112.0, 297284.0, 137844.0, 139048.0, 174395.0, 227880.0, 313092.0, 183157.0, 197665.0, 159835.0, 189267.0, 209700.0, 256113.0, 247996.0, 265776.0, 230802.0, 221052.0, 278484.0, 261638.0, 216710.0, 206167.0, 173292.0, 225280.0, 129866.0, 179328.0, 159718.0, 268136.0, 177408.0, 226213.0, 210509.0, 201175.0, 263900.0, 225706.0, 435500.0, 374832.0, 551603.0, 354952.0, 171984.0, 152334.0, 301466.0, 228960.0, 181692.0, 220164.0, 198458.0, 201360.0, 266487.0, 328950.0, 251563.0, 177850.0, 223803.0, 174810.0, 172370.0, 107244.0, 145563.0, 170460.0, 163872.0, 82950.0, 259300.0, 170530.0, 203570.0, 188343.0, 217305.0, 201627.0, 214900.0, 227151.0, 170005.0, 343206.0, 185260.0, 206568.0, 164780.0, 182215.0, 652993.0, 500595.0, 616561.0, 298276.0, 629050.0, 610903.0, 606579.0, 421179.0, 618079.0, 629234.0, 490038.0, 494569.0, 373010.0, 226188.0, 115304.0, 175590.0, 113064.0, 192160.0, 243660.0, 167535.0, 106244.0, 108075.0, 159144.0, 111802.0, 179793.0, 576136.0, 193543.0, 322130.0, 97265.0, 114849.0, 123277.0, 185500.0, 173264.0, 160656.0, 172536.0, 160744.0, 153678.0, 212058.0, 126896.0, 145712.0, 158643.0, 152621.0, 209020.0, 150466.0, 110943.0, 171451.0, 168854.0, 155432.0, 147842.0, 159936.0, 184671.0, 158216.0, 400029.0, 354648.0, 304773.0, 304521.0, 358680.0, 524538.0, 401520.0, 398727.0, 427959.0, 329658.0, 337974.0, 371196.0, 186444.0, 176103.0, 108444.0, 181426.0, 177728.0, 188144.0, 208978.0, 191151.0, 110712.0, 77472.0, 157456.0, 106729.0, 125279.0, 102612.0, 134976.0, 91098.0, 119358.0, 146478.0, 122124.0, 156264.0, 101748.0, 129276.0, 118770.0, 66300.0, 55060.0, 83958.0, 92442.0, 54685.0, 78204.0, 120050.0, 117516.0, 88302.0, 68953.0, 132306.0, 127656.0, 189763.0, 223692.0, 210007.0, 116328.0, 99558.0, 167100.0, 141342.0, 113142.0, 183534.0, 96199.0, 122660.0, 154205.0, 172788.0, 104034.0, 81540.0, 93066.0, 170256.0, 131792.0, 109776.0, 132803.0, 135136.0, 184992.0, 177580.0, 135298.0, 126383.0, 105270.0, 150619.0, 108069.0, 96606.0, 152724.0, 140512.0, 112816.0, 134401.0, 155816.0, 104088.0, 124322.0, 81152.0, 157152.0, 81081.0, 80575.0, 62209.0, 107436.0, 56482.0, 176880.0, 153433.0, 182706.0, 119754.0, 177120.0, 119777.0, 192990.0, 116220.0, 72090.0, 95940.0, 153168.0, 85900.0, 85044.0, 77808.0, 101556.0, 82488.0, 81281.0, 87774.0, 72570.0, 84684.0, 120426.0, 100032.0, 68931.0, 101784.0, 103200.0, 81756.0, 106143.0, 113562.0, 80309.0, 74020.0, 90936.0, 77943.0, 115272.0, 159408.0, 64168.0, 72930.0, 100722.0, 226400.0, 182208.0, 203656.0, 144804.0, 156940.0, 109170.0, 102570.0, 98148.0, 103986.0, 121782.0, 99498.0, 116334.0, 113730.0, 97188.0, 106008.0, 102786.0, 105246.0, 91206.0, 159185.0, 147750.0, 128460.0, 131562.0, 145614.0, 169980.0, 125994.0, 165390.0, 117318.0, 155292.0, 133794.0, 127206.0, 126949.0, 80671.0, 94068.0, 90147.0, 145330.0, 70734.0, 91787.0, 78182.0, 94664.0, 76578.0, 99004.0, 69766.0, 104978.0, 101419.0, 65745.0, 65077.0, 86004.0, 66024.0, 89288.0, 81720.0, 153395.0, 113922.0, 96276.0, 81813.0, 95922.0, 155860.0, 69258.0, 79539.0, 98013.0, 61543.0, 69036.0, 118812.0, 89604.0, 151320.0, 88830.0, 125340.0, 124290.0, 345268.0, 369037.0, 297103.0, 663347.0, 411635.0, 327199.0, 317832.0, 303012.0, 395827.0, 548568.0, 571558.0, 337592.0, 766878.0, 309928.0, 131490.0, 87264.0, 77070.0, 114918.0, 95574.0, 42880.0, 46180.0, 148554.0, 55787.0, 98631.0, 88042.0, 57677.0, 64669.0, 78780.0, 109826.0, 96082.0, 105393.0, 81193.0, 102102.0, 54012.0, 51944.0, 134424.0, 39538.0, 44695.0, 66212.0, 67651.0, 42869.0, 78763.0, 89886.0, 89619.0, 59254.0, 76705.0, 73105.0, 101244.0, 60364.0, 70383.0, 38717.0, 96150.0, 74342.0, 88270.0, 46768.0, 97578.0, 56764.0, 59662.0, 90852.0, 144240.0, 86028.0, 115956.0, 172030.0, 164380.0, 164262.0, 137412.0, 106536.0, 105468.0, 238764.0, 162464.0, 203448.0, 179025.0, 177114.0, 184885.0, 155784.0, 156588.0, 250880.0, 231320.0, 175508.0, 165495.0, 179036.0, 178160.0, 180508.0, 165744.0, 114966.0, 103998.0, 263034.0, 97356.0, 159846.0, 143970.0, 142308.0, 116094.0, 134886.0, 109092.0, 147468.0, 92154.0, 51420.0, 78516.0, 16628.0, 25726.0, 139908.0, 129336.0, 98706.0, 83148.0, 99084.0, 92802.0, 84990.0, 87696.0, 83454.0, 79578.0, 91422.0, 58794.0], \"yaxis\": \"y\"}],\n",
       "                        {\"coloraxis\": {\"colorbar\": {\"title\": {\"text\": \"odometer_replaced\"}}, \"colorscale\": [[0.0, \"#0d0887\"], [0.1111111111111111, \"#46039f\"], [0.2222222222222222, \"#7201a8\"], [0.3333333333333333, \"#9c179e\"], [0.4444444444444444, \"#bd3786\"], [0.5555555555555556, \"#d8576b\"], [0.6666666666666666, \"#ed7953\"], [0.7777777777777778, \"#fb9f3a\"], [0.8888888888888888, \"#fdca26\"], [1.0, \"#f0f921\"]]}, \"legend\": {\"itemsizing\": \"constant\", \"tracegroupgap\": 0}, \"margin\": {\"t\": 60}, \"template\": {\"data\": {\"bar\": [{\"error_x\": {\"color\": \"#2a3f5f\"}, \"error_y\": {\"color\": \"#2a3f5f\"}, \"marker\": {\"line\": {\"color\": \"#E5ECF6\", \"width\": 0.5}}, \"type\": \"bar\"}], \"barpolar\": [{\"marker\": {\"line\": {\"color\": \"#E5ECF6\", \"width\": 0.5}}, \"type\": \"barpolar\"}], \"carpet\": [{\"aaxis\": {\"endlinecolor\": \"#2a3f5f\", \"gridcolor\": \"white\", \"linecolor\": \"white\", \"minorgridcolor\": \"white\", \"startlinecolor\": \"#2a3f5f\"}, \"baxis\": {\"endlinecolor\": \"#2a3f5f\", \"gridcolor\": \"white\", \"linecolor\": \"white\", \"minorgridcolor\": \"white\", \"startlinecolor\": \"#2a3f5f\"}, \"type\": \"carpet\"}], \"choropleth\": [{\"colorbar\": {\"outlinewidth\": 0, \"ticks\": \"\"}, \"type\": \"choropleth\"}], \"contour\": [{\"colorbar\": {\"outlinewidth\": 0, \"ticks\": \"\"}, \"colorscale\": [[0.0, \"#0d0887\"], [0.1111111111111111, \"#46039f\"], [0.2222222222222222, \"#7201a8\"], [0.3333333333333333, \"#9c179e\"], [0.4444444444444444, \"#bd3786\"], [0.5555555555555556, \"#d8576b\"], [0.6666666666666666, \"#ed7953\"], [0.7777777777777778, \"#fb9f3a\"], [0.8888888888888888, \"#fdca26\"], [1.0, \"#f0f921\"]], \"type\": \"contour\"}], \"contourcarpet\": [{\"colorbar\": {\"outlinewidth\": 0, \"ticks\": \"\"}, \"type\": \"contourcarpet\"}], \"heatmap\": [{\"colorbar\": {\"outlinewidth\": 0, \"ticks\": \"\"}, \"colorscale\": [[0.0, \"#0d0887\"], [0.1111111111111111, \"#46039f\"], [0.2222222222222222, \"#7201a8\"], [0.3333333333333333, \"#9c179e\"], [0.4444444444444444, \"#bd3786\"], [0.5555555555555556, \"#d8576b\"], [0.6666666666666666, \"#ed7953\"], [0.7777777777777778, \"#fb9f3a\"], [0.8888888888888888, \"#fdca26\"], [1.0, \"#f0f921\"]], \"type\": \"heatmap\"}], \"heatmapgl\": [{\"colorbar\": {\"outlinewidth\": 0, \"ticks\": \"\"}, \"colorscale\": [[0.0, \"#0d0887\"], [0.1111111111111111, \"#46039f\"], [0.2222222222222222, \"#7201a8\"], [0.3333333333333333, \"#9c179e\"], [0.4444444444444444, \"#bd3786\"], [0.5555555555555556, \"#d8576b\"], [0.6666666666666666, \"#ed7953\"], [0.7777777777777778, \"#fb9f3a\"], [0.8888888888888888, \"#fdca26\"], [1.0, \"#f0f921\"]], \"type\": \"heatmapgl\"}], \"histogram\": [{\"marker\": {\"colorbar\": {\"outlinewidth\": 0, \"ticks\": \"\"}}, \"type\": \"histogram\"}], \"histogram2d\": [{\"colorbar\": {\"outlinewidth\": 0, \"ticks\": \"\"}, \"colorscale\": [[0.0, \"#0d0887\"], [0.1111111111111111, \"#46039f\"], [0.2222222222222222, \"#7201a8\"], [0.3333333333333333, \"#9c179e\"], [0.4444444444444444, \"#bd3786\"], [0.5555555555555556, \"#d8576b\"], [0.6666666666666666, \"#ed7953\"], [0.7777777777777778, \"#fb9f3a\"], [0.8888888888888888, \"#fdca26\"], [1.0, \"#f0f921\"]], \"type\": \"histogram2d\"}], \"histogram2dcontour\": [{\"colorbar\": {\"outlinewidth\": 0, \"ticks\": \"\"}, \"colorscale\": [[0.0, \"#0d0887\"], [0.1111111111111111, \"#46039f\"], [0.2222222222222222, \"#7201a8\"], [0.3333333333333333, \"#9c179e\"], [0.4444444444444444, \"#bd3786\"], [0.5555555555555556, \"#d8576b\"], [0.6666666666666666, \"#ed7953\"], [0.7777777777777778, \"#fb9f3a\"], [0.8888888888888888, \"#fdca26\"], [1.0, \"#f0f921\"]], \"type\": \"histogram2dcontour\"}], \"mesh3d\": [{\"colorbar\": {\"outlinewidth\": 0, \"ticks\": \"\"}, \"type\": \"mesh3d\"}], \"parcoords\": [{\"line\": {\"colorbar\": {\"outlinewidth\": 0, \"ticks\": \"\"}}, \"type\": \"parcoords\"}], \"pie\": [{\"automargin\": true, \"type\": \"pie\"}], \"scatter\": [{\"marker\": {\"colorbar\": {\"outlinewidth\": 0, \"ticks\": \"\"}}, \"type\": \"scatter\"}], \"scatter3d\": [{\"line\": {\"colorbar\": {\"outlinewidth\": 0, \"ticks\": \"\"}}, \"marker\": {\"colorbar\": {\"outlinewidth\": 0, \"ticks\": \"\"}}, \"type\": \"scatter3d\"}], \"scattercarpet\": [{\"marker\": {\"colorbar\": {\"outlinewidth\": 0, \"ticks\": \"\"}}, \"type\": \"scattercarpet\"}], \"scattergeo\": [{\"marker\": {\"colorbar\": {\"outlinewidth\": 0, \"ticks\": \"\"}}, \"type\": \"scattergeo\"}], \"scattergl\": [{\"marker\": {\"colorbar\": {\"outlinewidth\": 0, \"ticks\": \"\"}}, \"type\": \"scattergl\"}], \"scattermapbox\": [{\"marker\": {\"colorbar\": {\"outlinewidth\": 0, \"ticks\": \"\"}}, \"type\": \"scattermapbox\"}], \"scatterpolar\": [{\"marker\": {\"colorbar\": {\"outlinewidth\": 0, \"ticks\": \"\"}}, \"type\": \"scatterpolar\"}], \"scatterpolargl\": [{\"marker\": {\"colorbar\": {\"outlinewidth\": 0, \"ticks\": \"\"}}, \"type\": \"scatterpolargl\"}], \"scatterternary\": [{\"marker\": {\"colorbar\": {\"outlinewidth\": 0, \"ticks\": \"\"}}, \"type\": \"scatterternary\"}], \"surface\": [{\"colorbar\": {\"outlinewidth\": 0, \"ticks\": \"\"}, \"colorscale\": [[0.0, \"#0d0887\"], [0.1111111111111111, \"#46039f\"], [0.2222222222222222, \"#7201a8\"], [0.3333333333333333, \"#9c179e\"], [0.4444444444444444, \"#bd3786\"], [0.5555555555555556, \"#d8576b\"], [0.6666666666666666, \"#ed7953\"], [0.7777777777777778, \"#fb9f3a\"], [0.8888888888888888, \"#fdca26\"], [1.0, \"#f0f921\"]], \"type\": \"surface\"}], \"table\": [{\"cells\": {\"fill\": {\"color\": \"#EBF0F8\"}, \"line\": {\"color\": \"white\"}}, \"header\": {\"fill\": {\"color\": \"#C8D4E3\"}, \"line\": {\"color\": \"white\"}}, \"type\": \"table\"}]}, \"layout\": {\"annotationdefaults\": {\"arrowcolor\": \"#2a3f5f\", \"arrowhead\": 0, \"arrowwidth\": 1}, \"coloraxis\": {\"colorbar\": {\"outlinewidth\": 0, \"ticks\": \"\"}}, \"colorscale\": {\"diverging\": [[0, \"#8e0152\"], [0.1, \"#c51b7d\"], [0.2, \"#de77ae\"], [0.3, \"#f1b6da\"], [0.4, \"#fde0ef\"], [0.5, \"#f7f7f7\"], [0.6, \"#e6f5d0\"], [0.7, \"#b8e186\"], [0.8, \"#7fbc41\"], [0.9, \"#4d9221\"], [1, \"#276419\"]], \"sequential\": [[0.0, \"#0d0887\"], [0.1111111111111111, \"#46039f\"], [0.2222222222222222, \"#7201a8\"], [0.3333333333333333, \"#9c179e\"], [0.4444444444444444, \"#bd3786\"], [0.5555555555555556, \"#d8576b\"], [0.6666666666666666, \"#ed7953\"], [0.7777777777777778, \"#fb9f3a\"], [0.8888888888888888, \"#fdca26\"], [1.0, \"#f0f921\"]], \"sequentialminus\": [[0.0, \"#0d0887\"], [0.1111111111111111, \"#46039f\"], [0.2222222222222222, \"#7201a8\"], [0.3333333333333333, \"#9c179e\"], [0.4444444444444444, \"#bd3786\"], [0.5555555555555556, \"#d8576b\"], [0.6666666666666666, \"#ed7953\"], [0.7777777777777778, \"#fb9f3a\"], [0.8888888888888888, \"#fdca26\"], [1.0, \"#f0f921\"]]}, \"colorway\": [\"#636efa\", \"#EF553B\", \"#00cc96\", \"#ab63fa\", \"#FFA15A\", \"#19d3f3\", \"#FF6692\", \"#B6E880\", \"#FF97FF\", \"#FECB52\"], \"font\": {\"color\": \"#2a3f5f\"}, \"geo\": {\"bgcolor\": \"white\", \"lakecolor\": \"white\", \"landcolor\": \"#E5ECF6\", \"showlakes\": true, \"showland\": true, \"subunitcolor\": \"white\"}, \"hoverlabel\": {\"align\": \"left\"}, \"hovermode\": \"closest\", \"mapbox\": {\"style\": \"light\"}, \"paper_bgcolor\": \"white\", \"plot_bgcolor\": \"#E5ECF6\", \"polar\": {\"angularaxis\": {\"gridcolor\": \"white\", \"linecolor\": \"white\", \"ticks\": \"\"}, \"bgcolor\": \"#E5ECF6\", \"radialaxis\": {\"gridcolor\": \"white\", \"linecolor\": \"white\", \"ticks\": \"\"}}, \"scene\": {\"xaxis\": {\"backgroundcolor\": \"#E5ECF6\", \"gridcolor\": \"white\", \"gridwidth\": 2, \"linecolor\": \"white\", \"showbackground\": true, \"ticks\": \"\", \"zerolinecolor\": \"white\"}, \"yaxis\": {\"backgroundcolor\": \"#E5ECF6\", \"gridcolor\": \"white\", \"gridwidth\": 2, \"linecolor\": \"white\", \"showbackground\": true, \"ticks\": \"\", \"zerolinecolor\": \"white\"}, \"zaxis\": {\"backgroundcolor\": \"#E5ECF6\", \"gridcolor\": \"white\", \"gridwidth\": 2, \"linecolor\": \"white\", \"showbackground\": true, \"ticks\": \"\", \"zerolinecolor\": \"white\"}}, \"shapedefaults\": {\"line\": {\"color\": \"#2a3f5f\"}}, \"ternary\": {\"aaxis\": {\"gridcolor\": \"white\", \"linecolor\": \"white\", \"ticks\": \"\"}, \"baxis\": {\"gridcolor\": \"white\", \"linecolor\": \"white\", \"ticks\": \"\"}, \"bgcolor\": \"#E5ECF6\", \"caxis\": {\"gridcolor\": \"white\", \"linecolor\": \"white\", \"ticks\": \"\"}}, \"title\": {\"x\": 0.05}, \"xaxis\": {\"automargin\": true, \"gridcolor\": \"white\", \"linecolor\": \"white\", \"ticks\": \"\", \"title\": {\"standoff\": 15}, \"zerolinecolor\": \"white\", \"zerolinewidth\": 2}, \"yaxis\": {\"automargin\": true, \"gridcolor\": \"white\", \"linecolor\": \"white\", \"ticks\": \"\", \"title\": {\"standoff\": 15}, \"zerolinecolor\": \"white\", \"zerolinewidth\": 2}}}, \"xaxis\": {\"anchor\": \"y\", \"domain\": [0.0, 1.0], \"title\": {\"text\": \"year_replaced\"}}, \"yaxis\": {\"anchor\": \"x\", \"domain\": [0.0, 1.0], \"title\": {\"text\": \"odometer_replaced\"}}},\n",
       "                        {\"responsive\": true}\n",
       "                    ).then(function(){\n",
       "                            \n",
       "var gd = document.getElementById('7e8370e1-723e-47e1-bc69-697bc254f80c');\n",
       "var x = new MutationObserver(function (mutations, observer) {{\n",
       "        var display = window.getComputedStyle(gd).display;\n",
       "        if (!display || display === 'none') {{\n",
       "            console.log([gd, 'removed!']);\n",
       "            Plotly.purge(gd);\n",
       "            observer.disconnect();\n",
       "        }}\n",
       "}});\n",
       "\n",
       "// Listen for the removal of the full notebook cells\n",
       "var notebookContainer = gd.closest('#notebook-container');\n",
       "if (notebookContainer) {{\n",
       "    x.observe(notebookContainer, {childList: true});\n",
       "}}\n",
       "\n",
       "// Listen for the clearing of the current output cell\n",
       "var outputEl = gd.closest('.output');\n",
       "if (outputEl) {{\n",
       "    x.observe(outputEl, {childList: true});\n",
       "}}\n",
       "\n",
       "                        })\n",
       "                };\n",
       "                });\n",
       "            </script>\n",
       "        </div>"
      ]
     },
     "metadata": {},
     "output_type": "display_data"
    }
   ],
   "source": [
    "fig = px.scatter(resultsReplaced, x=\"year_replaced\", y=\"odometer_replaced\",color=\"odometer_replaced\",size=\"vmt_replaced\")\n",
    "fig.show()"
   ]
  },
  {
   "cell_type": "code",
   "execution_count": 89,
   "id": "weekly-first",
   "metadata": {},
   "outputs": [
    {
     "data": {
      "application/vnd.plotly.v1+json": {
       "config": {
        "plotlyServerURL": "https://plot.ly"
       },
       "data": [
        {
         "hovertemplate": "year_replaced=%{x}<br>odometer_replaced=%{y}<extra></extra>",
         "legendgroup": "",
         "marker": {
          "color": "#636efa",
          "symbol": "circle"
         },
         "mode": "markers",
         "name": "",
         "showlegend": false,
         "type": "scattergl",
         "x": [
          999,
          999,
          999,
          999,
          999,
          999,
          999,
          999,
          999,
          999,
          999,
          999,
          999,
          999,
          999,
          999,
          999,
          999,
          999,
          999,
          999,
          999,
          999,
          999,
          999,
          999,
          999,
          999,
          999,
          999,
          999,
          999,
          999,
          999,
          999,
          999,
          999,
          3,
          999,
          999,
          999,
          999,
          3,
          999,
          999,
          999,
          999,
          999,
          999,
          999,
          999,
          999,
          999,
          999,
          999,
          3,
          999,
          999,
          3,
          999,
          999,
          15,
          999,
          999,
          999,
          999,
          999,
          999,
          999,
          999,
          999,
          999,
          999,
          999,
          999,
          999,
          999,
          999,
          999,
          999,
          999,
          999,
          999,
          999,
          999,
          999,
          999,
          999,
          999,
          999,
          999,
          999,
          2,
          999,
          999,
          999,
          999,
          999,
          2,
          999,
          3,
          999,
          999,
          999,
          999,
          999,
          999,
          999,
          999,
          999,
          999,
          999,
          999,
          999,
          999,
          999,
          999,
          999,
          999,
          999,
          3,
          999,
          999,
          999,
          999,
          999,
          999,
          999,
          999,
          999,
          999,
          999,
          999,
          999,
          999,
          999,
          999,
          999,
          999,
          999,
          999,
          999,
          999,
          999,
          999,
          3,
          999,
          999,
          999,
          999,
          999,
          999,
          999,
          999,
          999,
          999,
          999,
          999,
          999,
          999,
          999,
          999,
          999,
          999,
          999,
          999,
          999,
          999,
          999,
          999,
          999,
          999,
          999,
          999,
          999,
          999,
          999,
          999,
          999,
          999,
          999,
          999,
          999,
          999,
          999,
          999,
          999,
          999,
          999,
          999,
          999,
          3,
          999,
          2,
          999,
          999,
          999,
          999,
          999,
          999,
          999,
          999,
          999,
          999,
          999,
          999,
          999,
          999,
          999,
          999,
          999,
          999,
          999,
          999,
          999,
          999,
          999,
          999,
          999,
          999,
          999,
          999,
          999,
          2,
          999,
          3,
          3,
          999,
          999,
          999,
          999,
          999,
          999,
          999,
          999,
          2,
          2,
          999,
          999,
          999,
          3,
          999,
          999,
          999,
          999,
          999,
          999,
          999,
          999,
          999,
          999,
          999,
          999,
          999,
          999,
          999,
          999,
          999,
          3,
          3,
          2,
          3,
          999,
          999,
          999,
          999,
          999,
          999,
          999,
          999,
          999,
          999,
          999,
          999,
          999,
          999,
          999,
          999,
          999,
          999,
          999,
          999,
          999,
          999,
          999,
          999,
          999,
          999,
          999,
          999,
          999,
          999,
          999,
          999,
          999,
          999,
          999,
          999,
          999,
          999,
          999,
          999,
          999,
          999,
          999,
          999,
          999,
          3,
          999,
          999,
          999,
          999,
          999,
          999,
          999,
          999,
          999,
          999,
          2,
          15,
          999,
          999,
          999,
          999,
          999,
          999,
          999,
          999,
          999,
          999,
          999,
          999,
          999,
          999,
          999,
          999,
          999,
          999,
          999,
          999,
          999,
          999,
          999,
          999,
          999,
          999,
          999,
          3,
          2,
          2,
          999,
          999,
          3,
          999,
          2,
          3,
          999,
          999,
          999,
          999,
          999,
          1,
          999,
          999,
          999,
          3,
          999,
          999,
          999,
          999,
          999,
          999,
          999,
          999,
          999,
          999,
          999,
          999,
          999,
          999,
          999,
          2,
          999,
          999,
          999,
          15,
          999,
          999,
          15,
          999,
          999,
          15,
          3,
          999,
          999,
          999,
          999,
          999,
          999,
          999,
          2,
          999,
          999,
          999,
          999,
          999,
          999,
          999,
          3,
          999,
          999,
          999,
          999,
          2,
          3,
          999,
          3,
          999,
          999,
          2,
          2,
          999,
          999,
          999,
          999,
          999,
          999,
          999,
          999,
          999,
          999,
          999,
          2,
          999,
          999,
          999,
          999,
          999,
          999,
          999,
          999,
          999,
          999,
          999,
          999,
          999,
          999,
          999,
          999,
          999,
          15,
          999,
          999,
          999,
          999,
          999,
          999,
          999,
          999,
          999,
          2,
          999,
          2,
          1,
          999,
          999,
          999,
          999,
          999,
          999,
          999,
          999,
          999,
          999,
          999,
          999,
          999,
          999,
          999,
          999,
          999,
          999,
          999,
          999,
          999,
          999,
          2,
          2,
          999,
          3,
          999,
          999,
          2,
          999,
          999,
          999,
          999,
          999,
          999,
          999,
          3,
          3,
          2,
          1,
          1,
          999,
          2,
          999,
          2,
          999,
          999,
          999,
          2,
          999,
          999,
          2,
          999,
          999,
          999,
          1,
          999,
          999,
          999,
          999,
          999,
          999,
          999,
          999,
          999,
          999,
          999,
          999,
          999,
          999,
          999,
          999,
          999,
          999,
          999,
          999,
          999,
          999,
          999,
          999,
          999,
          999,
          999,
          999,
          999,
          999,
          999,
          999,
          999,
          999,
          999,
          999,
          999,
          999,
          999,
          999,
          2,
          3,
          999,
          999,
          999,
          999,
          999,
          3,
          999,
          999,
          999,
          999,
          999,
          999,
          999,
          999,
          3,
          999,
          999,
          999,
          999,
          999,
          999,
          999,
          999,
          999,
          2,
          999,
          999,
          999,
          2,
          999,
          999,
          3,
          999,
          999,
          999,
          3,
          3,
          999,
          999,
          999,
          2,
          999,
          999,
          999,
          1,
          1,
          999,
          2,
          999,
          0,
          999,
          999,
          1,
          999,
          2,
          999,
          3,
          3,
          999,
          999,
          999,
          999,
          999,
          999,
          999,
          999,
          999,
          3,
          999,
          999,
          999,
          3,
          999,
          999,
          999,
          3,
          3,
          2,
          3,
          3,
          999,
          999,
          2,
          3,
          999,
          999,
          999,
          1,
          2,
          999,
          999,
          2,
          999,
          999,
          2,
          999,
          999,
          999,
          999,
          999,
          3,
          999,
          999,
          2,
          3,
          999,
          999,
          999,
          999,
          15,
          999,
          3,
          999,
          2,
          999,
          999,
          1,
          999,
          2,
          999,
          999,
          999,
          999,
          999,
          3,
          999,
          999,
          999,
          1,
          0,
          1,
          1,
          2,
          999,
          999,
          999,
          999,
          999,
          999,
          2,
          999,
          2,
          999,
          999,
          999,
          999,
          2,
          2,
          3,
          999,
          999,
          2,
          999,
          999,
          2,
          1,
          3,
          999,
          1,
          2,
          1,
          999,
          999,
          2,
          3,
          999,
          999,
          999,
          999,
          15,
          15,
          999,
          999,
          999,
          15,
          3,
          15,
          999,
          15,
          15,
          3,
          15,
          15,
          999,
          999,
          15,
          999,
          999,
          15,
          999,
          999,
          999,
          999,
          999,
          15,
          2,
          1,
          3,
          999,
          999,
          999,
          999,
          999,
          999,
          999,
          999,
          999,
          999,
          999,
          999,
          1,
          999,
          1,
          999,
          3,
          999,
          999,
          2,
          0,
          0,
          1,
          0,
          999,
          2,
          15,
          1,
          4,
          1,
          1,
          999,
          999,
          1,
          999,
          999,
          999,
          999,
          999,
          1,
          999,
          999,
          999,
          999,
          999,
          999,
          1,
          2,
          1,
          999,
          999,
          2,
          999,
          999,
          999,
          1,
          999,
          999,
          999,
          999,
          999,
          999,
          1,
          1,
          999,
          1,
          0,
          1,
          1,
          999,
          999,
          0,
          1,
          1,
          1,
          999,
          999,
          0,
          0,
          2,
          3,
          2,
          999,
          999,
          15,
          999,
          999,
          15,
          15,
          999,
          999,
          999,
          15,
          999,
          999,
          999,
          999,
          999,
          15,
          999,
          15,
          999,
          999,
          999,
          999,
          15,
          999,
          15,
          15,
          15,
          999,
          999,
          999,
          999,
          999,
          999,
          999,
          15,
          15,
          999,
          3,
          3,
          999,
          1,
          999,
          999,
          999,
          1,
          999,
          2,
          999,
          999,
          999,
          2,
          1,
          3,
          999,
          1,
          2,
          999,
          999,
          999,
          2,
          1,
          1,
          1,
          1,
          999,
          1,
          1,
          999,
          1,
          1,
          3,
          1,
          1,
          1,
          1,
          0,
          1,
          1,
          0,
          1,
          2,
          1,
          1,
          0,
          1,
          1,
          2,
          2,
          2,
          999,
          999,
          999,
          1,
          999,
          1,
          1,
          999,
          0,
          1,
          1,
          0,
          0,
          0,
          1,
          0,
          1,
          1,
          1,
          0,
          1,
          0,
          0,
          1,
          0,
          0,
          0,
          0,
          0,
          0,
          0,
          1,
          0,
          0,
          999,
          0,
          999,
          0,
          0,
          0,
          0,
          1,
          0,
          0,
          0,
          1,
          0,
          0,
          0,
          999,
          1,
          0,
          1,
          0,
          1,
          1,
          1,
          1,
          1,
          0,
          1,
          1,
          1,
          1,
          0,
          999,
          1,
          1,
          999,
          999,
          1,
          1,
          1,
          999,
          0,
          1,
          1,
          1,
          0,
          1,
          0,
          0,
          1,
          999,
          0,
          1,
          999,
          1,
          0,
          999,
          1,
          1,
          999,
          3,
          3,
          999,
          3,
          999,
          2,
          3,
          999,
          999,
          999,
          1,
          999,
          999,
          999,
          2,
          999,
          999,
          2,
          2,
          999,
          2,
          2,
          999,
          999,
          999,
          999,
          2,
          999,
          999,
          999,
          999,
          2,
          999,
          2,
          2,
          999,
          2,
          2,
          2,
          999,
          999,
          1,
          2,
          2,
          2,
          2,
          2,
          2,
          999,
          2,
          2,
          999,
          999,
          999,
          999,
          999,
          999,
          999,
          999,
          999,
          999,
          999,
          999,
          999,
          999,
          999,
          999,
          999,
          999,
          2,
          999,
          999,
          2,
          999,
          2,
          999,
          999,
          999,
          0,
          0,
          2,
          0,
          0,
          2,
          0,
          0,
          0,
          2,
          0,
          0,
          0,
          999,
          0,
          0,
          0,
          2,
          2,
          0,
          2,
          1,
          2,
          0,
          0,
          0,
          999,
          1,
          2,
          0,
          0,
          0,
          2,
          2,
          2,
          2,
          999,
          2,
          2,
          2,
          999,
          15,
          15,
          999,
          15,
          15,
          15,
          15,
          999,
          999,
          15,
          999,
          999,
          15,
          15,
          15,
          15,
          15,
          15,
          15,
          999,
          999,
          999,
          999,
          999,
          999,
          999,
          999,
          999,
          999,
          999,
          999,
          999,
          999,
          2,
          999,
          999,
          999,
          999,
          2,
          2,
          999,
          999,
          999,
          999,
          999,
          3,
          3,
          0,
          0,
          999,
          3,
          999,
          0,
          0,
          0,
          0,
          0,
          0,
          0,
          0,
          0,
          0,
          3,
          0,
          0,
          3,
          999,
          0,
          0,
          0,
          0,
          0,
          0,
          3,
          0,
          0,
          0,
          0,
          3,
          0,
          0,
          0,
          0,
          0,
          0,
          0,
          3,
          999,
          0,
          0,
          3,
          3,
          999,
          999,
          999,
          999,
          3,
          999,
          999,
          999,
          999,
          3,
          2,
          999,
          999,
          1,
          3,
          3,
          3,
          999,
          3,
          1,
          999,
          1,
          999,
          1,
          2,
          999,
          3,
          999,
          2,
          999,
          999,
          1,
          999,
          999,
          1,
          1,
          1,
          999,
          1,
          999,
          999,
          999,
          2,
          1,
          999,
          999,
          999,
          999,
          999,
          999,
          1,
          999,
          1,
          3,
          3,
          3,
          15,
          999,
          999,
          999,
          3,
          3,
          999,
          4,
          999,
          999,
          999,
          4,
          4,
          4,
          999,
          4,
          999,
          4,
          999,
          4,
          4,
          4,
          0,
          999,
          0,
          999,
          999,
          4,
          999,
          999,
          999,
          999,
          999,
          999,
          999,
          4,
          4,
          4,
          4,
          999,
          4,
          999,
          999,
          4,
          4,
          4,
          999,
          999,
          4,
          999,
          999,
          999,
          999,
          999,
          999,
          4,
          999,
          999,
          999,
          999,
          999,
          999,
          999,
          999,
          999,
          999,
          999,
          999,
          999,
          999,
          999,
          999,
          999,
          999,
          999,
          999,
          999,
          999,
          999,
          999,
          999,
          999,
          999,
          999,
          999,
          999,
          999,
          999,
          999,
          999,
          999,
          999,
          999,
          999,
          999,
          999,
          999,
          999,
          999,
          999,
          999,
          999,
          999,
          999,
          999,
          999,
          999,
          999,
          999,
          999,
          999,
          999,
          999,
          999,
          999,
          999,
          999,
          999,
          999,
          999,
          999,
          999,
          999,
          999,
          999,
          999,
          999,
          999,
          999,
          999,
          999,
          999,
          999,
          999,
          999,
          999,
          999,
          999,
          999,
          999,
          999,
          999,
          999,
          999,
          999,
          999,
          999,
          999,
          999,
          999,
          999,
          999,
          999,
          999,
          999,
          999,
          999,
          999,
          999,
          999,
          999,
          999,
          999,
          999,
          5,
          999
         ],
         "xaxis": "x",
         "y": [
          258160,
          258160,
          258160,
          258160,
          258160,
          258160,
          258160,
          258160,
          258160,
          258160,
          258160,
          258160,
          258160,
          258160,
          258160,
          258160,
          258160,
          258160,
          258160,
          258160,
          258160,
          258160,
          258160,
          258160,
          258160,
          258160,
          258160,
          258160,
          258160,
          258160,
          258160,
          258160,
          258160,
          258160,
          258160,
          258160,
          258160,
          297616,
          297616,
          297616,
          297616,
          297616,
          411122,
          411122,
          411122,
          411122,
          411122,
          411122,
          411122,
          411122,
          411122,
          411122,
          411122,
          411122,
          411122,
          275166,
          275166,
          275166,
          259596,
          259596,
          259596,
          390660,
          390660,
          390660,
          390660,
          390660,
          390660,
          390660,
          390660,
          390660,
          390660,
          390660,
          390660,
          390660,
          390660,
          390660,
          390660,
          390660,
          390660,
          390660,
          390660,
          390660,
          390660,
          390660,
          390660,
          390660,
          390660,
          390660,
          390660,
          390660,
          390660,
          390660,
          384800,
          384800,
          384800,
          384800,
          384800,
          384800,
          251392,
          251392,
          236198,
          236198,
          236198,
          236198,
          236198,
          236198,
          236198,
          236198,
          236198,
          236198,
          236198,
          236198,
          236198,
          236198,
          236198,
          236198,
          236198,
          236198,
          236198,
          236198,
          270351,
          270351,
          270351,
          270351,
          270351,
          270351,
          270351,
          270351,
          270351,
          270351,
          270351,
          270351,
          270351,
          270351,
          270351,
          270351,
          270351,
          270351,
          270351,
          270351,
          270351,
          270351,
          270351,
          270351,
          270351,
          302974,
          302974,
          302974,
          302974,
          302974,
          302974,
          302974,
          302974,
          302974,
          302974,
          302974,
          302974,
          302974,
          302974,
          302974,
          302974,
          302974,
          302974,
          302974,
          302974,
          302974,
          302974,
          302974,
          302974,
          302974,
          302974,
          302974,
          302974,
          302974,
          302974,
          302974,
          302974,
          302974,
          302974,
          302974,
          302974,
          302974,
          302974,
          302974,
          302974,
          302974,
          302974,
          302974,
          302974,
          302974,
          302974,
          259437,
          259437,
          370020,
          370020,
          370020,
          370020,
          370020,
          370020,
          370020,
          370020,
          370020,
          370020,
          370020,
          370020,
          370020,
          370020,
          370020,
          370020,
          370020,
          370020,
          370020,
          370020,
          370020,
          370020,
          370020,
          370020,
          370020,
          370020,
          370020,
          370020,
          370020,
          370020,
          297780,
          297780,
          219088,
          222512,
          222512,
          222512,
          222512,
          222512,
          222512,
          222512,
          222512,
          222512,
          333090,
          287505,
          287505,
          287505,
          287505,
          261088,
          261088,
          261088,
          261088,
          261088,
          261088,
          261088,
          261088,
          261088,
          261088,
          261088,
          261088,
          261088,
          261088,
          261088,
          261088,
          261088,
          261088,
          234432,
          217104,
          270765,
          223744,
          223744,
          223744,
          223744,
          223744,
          223744,
          223744,
          223744,
          223744,
          223744,
          223744,
          223744,
          223744,
          223744,
          223744,
          223744,
          223744,
          223744,
          223744,
          223744,
          223744,
          223744,
          223744,
          223744,
          223744,
          223744,
          223744,
          223744,
          223744,
          223744,
          223744,
          223744,
          223744,
          223744,
          223744,
          223744,
          223744,
          223744,
          223744,
          223744,
          223744,
          223744,
          223744,
          223744,
          223744,
          223744,
          254320,
          254320,
          254320,
          254320,
          254320,
          254320,
          254320,
          254320,
          254320,
          254320,
          254320,
          325682,
          302568,
          302568,
          302568,
          302568,
          302568,
          302568,
          302568,
          302568,
          302568,
          302568,
          302568,
          302568,
          302568,
          302568,
          302568,
          302568,
          302568,
          302568,
          302568,
          302568,
          302568,
          302568,
          302568,
          302568,
          302568,
          302568,
          302568,
          302568,
          259305,
          192934,
          301798,
          301798,
          301798,
          214815,
          214815,
          319858,
          271275,
          271275,
          271275,
          271275,
          271275,
          271275,
          388128,
          388128,
          388128,
          388128,
          272970,
          272970,
          272970,
          272970,
          272970,
          272970,
          272970,
          272970,
          272970,
          272970,
          272970,
          272970,
          272970,
          272970,
          272970,
          272970,
          192920,
          192920,
          192920,
          192920,
          582876,
          582876,
          582876,
          660798,
          660798,
          660798,
          615546,
          392670,
          392670,
          392670,
          392670,
          392670,
          392670,
          392670,
          392670,
          190610,
          190610,
          190610,
          190610,
          190610,
          190610,
          190610,
          190610,
          235410,
          235410,
          235410,
          235410,
          235410,
          297178,
          238140,
          238140,
          220275,
          220275,
          220275,
          174636,
          187082,
          187082,
          187082,
          187082,
          187082,
          187082,
          187082,
          187082,
          187082,
          187082,
          187082,
          187082,
          175182,
          175182,
          175182,
          175182,
          175182,
          175182,
          175182,
          175182,
          175182,
          175182,
          175182,
          175182,
          175182,
          175182,
          175182,
          175182,
          175182,
          175182,
          559710,
          559710,
          559710,
          559710,
          559710,
          559710,
          559710,
          559710,
          559710,
          559710,
          155974,
          155974,
          210015,
          259464,
          259464,
          259464,
          259464,
          259464,
          259464,
          259464,
          259464,
          259464,
          259464,
          259464,
          259464,
          259464,
          259464,
          259464,
          259464,
          259464,
          259464,
          259464,
          259464,
          259464,
          259464,
          259464,
          262379,
          205803,
          205803,
          203112,
          203112,
          203112,
          297284,
          297284,
          297284,
          297284,
          297284,
          297284,
          297284,
          297284,
          137844,
          139048,
          174395,
          227880,
          313092,
          313092,
          183157,
          183157,
          197665,
          197665,
          197665,
          197665,
          159835,
          159835,
          159835,
          189267,
          189267,
          189267,
          189267,
          209700,
          209700,
          209700,
          209700,
          209700,
          209700,
          209700,
          209700,
          209700,
          209700,
          209700,
          209700,
          209700,
          209700,
          209700,
          209700,
          209700,
          209700,
          209700,
          209700,
          209700,
          209700,
          209700,
          209700,
          209700,
          209700,
          209700,
          209700,
          209700,
          209700,
          209700,
          209700,
          209700,
          209700,
          209700,
          209700,
          209700,
          209700,
          209700,
          209700,
          209700,
          256113,
          247996,
          247996,
          247996,
          247996,
          247996,
          247996,
          265776,
          265776,
          265776,
          265776,
          265776,
          265776,
          265776,
          265776,
          265776,
          230802,
          230802,
          230802,
          230802,
          230802,
          230802,
          230802,
          230802,
          230802,
          230802,
          221052,
          221052,
          221052,
          221052,
          278484,
          278484,
          278484,
          261638,
          261638,
          261638,
          261638,
          216710,
          206167,
          206167,
          206167,
          206167,
          173292,
          173292,
          173292,
          173292,
          225280,
          129866,
          129866,
          179328,
          179328,
          159718,
          159718,
          159718,
          268136,
          268136,
          177408,
          177408,
          226213,
          210509,
          210509,
          210509,
          210509,
          210509,
          210509,
          210509,
          210509,
          210509,
          210509,
          201175,
          201175,
          201175,
          201175,
          263900,
          263900,
          263900,
          263900,
          225706,
          435500,
          374832,
          551603,
          354952,
          354952,
          354952,
          171984,
          152334,
          152334,
          152334,
          152334,
          301466,
          228960,
          228960,
          228960,
          181692,
          181692,
          181692,
          220164,
          220164,
          220164,
          220164,
          220164,
          220164,
          198458,
          198458,
          198458,
          201360,
          266487,
          266487,
          266487,
          266487,
          266487,
          328950,
          328950,
          251563,
          251563,
          177850,
          177850,
          177850,
          223803,
          223803,
          174810,
          174810,
          174810,
          174810,
          174810,
          174810,
          172370,
          172370,
          172370,
          172370,
          107244,
          145563,
          170460,
          163872,
          82950,
          82950,
          82950,
          82950,
          82950,
          82950,
          82950,
          259300,
          259300,
          170530,
          170530,
          170530,
          170530,
          170530,
          203570,
          188343,
          217305,
          217305,
          217305,
          201627,
          201627,
          201627,
          214900,
          227151,
          170005,
          170005,
          343206,
          185260,
          206568,
          206568,
          206568,
          164780,
          182215,
          182215,
          182215,
          182215,
          182215,
          652993,
          500595,
          500595,
          500595,
          500595,
          616561,
          298276,
          629050,
          629050,
          610903,
          606579,
          421179,
          618079,
          629234,
          629234,
          629234,
          490038,
          490038,
          490038,
          494569,
          494569,
          494569,
          494569,
          494569,
          494569,
          373010,
          226188,
          115304,
          175590,
          175590,
          175590,
          175590,
          175590,
          175590,
          175590,
          175590,
          175590,
          175590,
          175590,
          175590,
          175590,
          113064,
          113064,
          192160,
          192160,
          243660,
          243660,
          243660,
          167535,
          106244,
          108075,
          159144,
          111802,
          111802,
          179793,
          576136,
          193543,
          322130,
          97265,
          114849,
          114849,
          114849,
          123277,
          123277,
          123277,
          123277,
          123277,
          123277,
          185500,
          185500,
          185500,
          185500,
          185500,
          185500,
          185500,
          173264,
          160656,
          172536,
          172536,
          172536,
          160744,
          160744,
          160744,
          160744,
          153678,
          153678,
          153678,
          153678,
          153678,
          153678,
          153678,
          212058,
          126896,
          126896,
          145712,
          158643,
          152621,
          209020,
          209020,
          209020,
          150466,
          110943,
          171451,
          168854,
          168854,
          168854,
          155432,
          147842,
          159936,
          184671,
          158216,
          158216,
          158216,
          400029,
          400029,
          400029,
          354648,
          304773,
          304773,
          304773,
          304773,
          304521,
          304521,
          304521,
          304521,
          304521,
          304521,
          358680,
          358680,
          524538,
          524538,
          524538,
          524538,
          524538,
          401520,
          401520,
          398727,
          427959,
          329658,
          329658,
          329658,
          329658,
          329658,
          329658,
          329658,
          329658,
          337974,
          371196,
          371196,
          186444,
          176103,
          176103,
          108444,
          108444,
          108444,
          108444,
          181426,
          181426,
          177728,
          177728,
          177728,
          177728,
          188144,
          208978,
          191151,
          191151,
          110712,
          77472,
          77472,
          77472,
          77472,
          157456,
          106729,
          125279,
          102612,
          134976,
          134976,
          91098,
          119358,
          119358,
          146478,
          122124,
          156264,
          101748,
          129276,
          118770,
          66300,
          55060,
          83958,
          92442,
          54685,
          78204,
          120050,
          117516,
          88302,
          68953,
          132306,
          127656,
          189763,
          223692,
          210007,
          210007,
          210007,
          210007,
          116328,
          116328,
          99558,
          167100,
          167100,
          141342,
          113142,
          183534,
          96199,
          122660,
          154205,
          172788,
          104034,
          81540,
          93066,
          170256,
          131792,
          109776,
          132803,
          135136,
          184992,
          177580,
          135298,
          126383,
          105270,
          150619,
          108069,
          96606,
          152724,
          140512,
          112816,
          112816,
          134401,
          134401,
          155816,
          104088,
          124322,
          81152,
          157152,
          81081,
          80575,
          62209,
          107436,
          56482,
          176880,
          153433,
          153433,
          182706,
          119754,
          177120,
          119777,
          192990,
          116220,
          72090,
          95940,
          153168,
          85900,
          85044,
          77808,
          101556,
          82488,
          81281,
          81281,
          87774,
          72570,
          72570,
          72570,
          84684,
          120426,
          100032,
          100032,
          68931,
          101784,
          103200,
          81756,
          106143,
          113562,
          80309,
          74020,
          90936,
          90936,
          77943,
          115272,
          115272,
          159408,
          64168,
          64168,
          72930,
          100722,
          100722,
          226400,
          182208,
          182208,
          203656,
          203656,
          144804,
          156940,
          156940,
          156940,
          156940,
          109170,
          109170,
          109170,
          109170,
          102570,
          102570,
          102570,
          98148,
          103986,
          103986,
          121782,
          99498,
          99498,
          99498,
          99498,
          99498,
          116334,
          116334,
          116334,
          116334,
          116334,
          113730,
          113730,
          97188,
          106008,
          106008,
          102786,
          105246,
          91206,
          91206,
          91206,
          159185,
          147750,
          128460,
          131562,
          145614,
          169980,
          125994,
          125994,
          165390,
          117318,
          117318,
          117318,
          117318,
          117318,
          117318,
          117318,
          117318,
          117318,
          117318,
          117318,
          117318,
          117318,
          117318,
          117318,
          117318,
          117318,
          117318,
          117318,
          155292,
          155292,
          155292,
          133794,
          133794,
          127206,
          127206,
          127206,
          127206,
          126949,
          80671,
          94068,
          90147,
          145330,
          70734,
          91787,
          78182,
          94664,
          76578,
          99004,
          69766,
          104978,
          104978,
          101419,
          65745,
          65077,
          86004,
          66024,
          89288,
          81720,
          153395,
          113922,
          96276,
          81813,
          95922,
          95922,
          155860,
          69258,
          79539,
          98013,
          61543,
          69036,
          118812,
          89604,
          151320,
          151320,
          88830,
          125340,
          124290,
          124290,
          345268,
          369037,
          369037,
          297103,
          663347,
          411635,
          327199,
          327199,
          327199,
          317832,
          317832,
          317832,
          303012,
          395827,
          548568,
          571558,
          337592,
          766878,
          309928,
          309928,
          309928,
          309928,
          309928,
          309928,
          309928,
          309928,
          309928,
          309928,
          309928,
          309928,
          309928,
          309928,
          309928,
          131490,
          131490,
          131490,
          131490,
          131490,
          87264,
          77070,
          77070,
          77070,
          77070,
          77070,
          77070,
          114918,
          95574,
          42880,
          46180,
          46180,
          148554,
          148554,
          55787,
          98631,
          88042,
          57677,
          64669,
          78780,
          109826,
          96082,
          105393,
          81193,
          102102,
          54012,
          51944,
          134424,
          134424,
          39538,
          44695,
          66212,
          67651,
          42869,
          78763,
          89886,
          89619,
          59254,
          76705,
          73105,
          101244,
          60364,
          70383,
          38717,
          96150,
          74342,
          88270,
          46768,
          97578,
          97578,
          56764,
          59662,
          90852,
          144240,
          144240,
          144240,
          144240,
          144240,
          86028,
          86028,
          86028,
          86028,
          86028,
          115956,
          172030,
          172030,
          172030,
          164380,
          164262,
          137412,
          106536,
          106536,
          105468,
          238764,
          238764,
          162464,
          162464,
          203448,
          179025,
          179025,
          177114,
          177114,
          184885,
          184885,
          184885,
          155784,
          155784,
          155784,
          156588,
          250880,
          231320,
          231320,
          175508,
          175508,
          175508,
          175508,
          165495,
          179036,
          179036,
          179036,
          179036,
          179036,
          179036,
          179036,
          178160,
          178160,
          180508,
          165744,
          114966,
          103998,
          263034,
          263034,
          263034,
          263034,
          97356,
          159846,
          159846,
          143970,
          143970,
          143970,
          143970,
          142308,
          116094,
          134886,
          134886,
          109092,
          109092,
          147468,
          147468,
          92154,
          51420,
          78516,
          16628,
          16628,
          25726,
          25726,
          25726,
          139908,
          139908,
          139908,
          139908,
          139908,
          139908,
          139908,
          139908,
          129336,
          98706,
          83148,
          99084,
          99084,
          92802,
          92802,
          92802,
          84990,
          87696,
          83454,
          83454,
          83454,
          79578,
          79578,
          79578,
          79578,
          79578,
          79578,
          79578,
          91422,
          91422,
          91422,
          91422,
          91422,
          91422,
          91422,
          91422,
          91422,
          91422,
          91422,
          91422,
          91422,
          91422,
          91422,
          91422,
          91422,
          91422,
          91422,
          91422,
          91422,
          91422,
          91422,
          91422,
          91422,
          91422,
          91422,
          91422,
          91422,
          91422,
          91422,
          91422,
          91422,
          91422,
          91422,
          91422,
          91422,
          91422,
          91422,
          91422,
          91422,
          91422,
          91422,
          91422,
          91422,
          91422,
          91422,
          91422,
          91422,
          91422,
          91422,
          91422,
          91422,
          91422,
          91422,
          91422,
          91422,
          91422,
          91422,
          91422,
          91422,
          91422,
          91422,
          91422,
          91422,
          91422,
          91422,
          91422,
          91422,
          91422,
          91422,
          91422,
          91422,
          91422,
          91422,
          91422,
          91422,
          91422,
          91422,
          91422,
          91422,
          91422,
          91422,
          91422,
          91422,
          91422,
          91422,
          91422,
          91422,
          91422,
          91422,
          91422,
          91422,
          91422,
          91422,
          91422,
          91422,
          91422,
          91422,
          91422,
          91422,
          91422,
          91422,
          91422,
          91422,
          91422,
          91422,
          91422,
          91422,
          58794,
          58794
         ],
         "yaxis": "y"
        }
       ],
       "layout": {
        "autosize": true,
        "legend": {
         "tracegroupgap": 0
        },
        "margin": {
         "t": 60
        },
        "template": {
         "data": {
          "bar": [
           {
            "error_x": {
             "color": "#2a3f5f"
            },
            "error_y": {
             "color": "#2a3f5f"
            },
            "marker": {
             "line": {
              "color": "#E5ECF6",
              "width": 0.5
             }
            },
            "type": "bar"
           }
          ],
          "barpolar": [
           {
            "marker": {
             "line": {
              "color": "#E5ECF6",
              "width": 0.5
             }
            },
            "type": "barpolar"
           }
          ],
          "carpet": [
           {
            "aaxis": {
             "endlinecolor": "#2a3f5f",
             "gridcolor": "white",
             "linecolor": "white",
             "minorgridcolor": "white",
             "startlinecolor": "#2a3f5f"
            },
            "baxis": {
             "endlinecolor": "#2a3f5f",
             "gridcolor": "white",
             "linecolor": "white",
             "minorgridcolor": "white",
             "startlinecolor": "#2a3f5f"
            },
            "type": "carpet"
           }
          ],
          "choropleth": [
           {
            "colorbar": {
             "outlinewidth": 0,
             "ticks": ""
            },
            "type": "choropleth"
           }
          ],
          "contour": [
           {
            "colorbar": {
             "outlinewidth": 0,
             "ticks": ""
            },
            "colorscale": [
             [
              0,
              "#0d0887"
             ],
             [
              0.1111111111111111,
              "#46039f"
             ],
             [
              0.2222222222222222,
              "#7201a8"
             ],
             [
              0.3333333333333333,
              "#9c179e"
             ],
             [
              0.4444444444444444,
              "#bd3786"
             ],
             [
              0.5555555555555556,
              "#d8576b"
             ],
             [
              0.6666666666666666,
              "#ed7953"
             ],
             [
              0.7777777777777778,
              "#fb9f3a"
             ],
             [
              0.8888888888888888,
              "#fdca26"
             ],
             [
              1,
              "#f0f921"
             ]
            ],
            "type": "contour"
           }
          ],
          "contourcarpet": [
           {
            "colorbar": {
             "outlinewidth": 0,
             "ticks": ""
            },
            "type": "contourcarpet"
           }
          ],
          "heatmap": [
           {
            "colorbar": {
             "outlinewidth": 0,
             "ticks": ""
            },
            "colorscale": [
             [
              0,
              "#0d0887"
             ],
             [
              0.1111111111111111,
              "#46039f"
             ],
             [
              0.2222222222222222,
              "#7201a8"
             ],
             [
              0.3333333333333333,
              "#9c179e"
             ],
             [
              0.4444444444444444,
              "#bd3786"
             ],
             [
              0.5555555555555556,
              "#d8576b"
             ],
             [
              0.6666666666666666,
              "#ed7953"
             ],
             [
              0.7777777777777778,
              "#fb9f3a"
             ],
             [
              0.8888888888888888,
              "#fdca26"
             ],
             [
              1,
              "#f0f921"
             ]
            ],
            "type": "heatmap"
           }
          ],
          "heatmapgl": [
           {
            "colorbar": {
             "outlinewidth": 0,
             "ticks": ""
            },
            "colorscale": [
             [
              0,
              "#0d0887"
             ],
             [
              0.1111111111111111,
              "#46039f"
             ],
             [
              0.2222222222222222,
              "#7201a8"
             ],
             [
              0.3333333333333333,
              "#9c179e"
             ],
             [
              0.4444444444444444,
              "#bd3786"
             ],
             [
              0.5555555555555556,
              "#d8576b"
             ],
             [
              0.6666666666666666,
              "#ed7953"
             ],
             [
              0.7777777777777778,
              "#fb9f3a"
             ],
             [
              0.8888888888888888,
              "#fdca26"
             ],
             [
              1,
              "#f0f921"
             ]
            ],
            "type": "heatmapgl"
           }
          ],
          "histogram": [
           {
            "marker": {
             "colorbar": {
              "outlinewidth": 0,
              "ticks": ""
             }
            },
            "type": "histogram"
           }
          ],
          "histogram2d": [
           {
            "colorbar": {
             "outlinewidth": 0,
             "ticks": ""
            },
            "colorscale": [
             [
              0,
              "#0d0887"
             ],
             [
              0.1111111111111111,
              "#46039f"
             ],
             [
              0.2222222222222222,
              "#7201a8"
             ],
             [
              0.3333333333333333,
              "#9c179e"
             ],
             [
              0.4444444444444444,
              "#bd3786"
             ],
             [
              0.5555555555555556,
              "#d8576b"
             ],
             [
              0.6666666666666666,
              "#ed7953"
             ],
             [
              0.7777777777777778,
              "#fb9f3a"
             ],
             [
              0.8888888888888888,
              "#fdca26"
             ],
             [
              1,
              "#f0f921"
             ]
            ],
            "type": "histogram2d"
           }
          ],
          "histogram2dcontour": [
           {
            "colorbar": {
             "outlinewidth": 0,
             "ticks": ""
            },
            "colorscale": [
             [
              0,
              "#0d0887"
             ],
             [
              0.1111111111111111,
              "#46039f"
             ],
             [
              0.2222222222222222,
              "#7201a8"
             ],
             [
              0.3333333333333333,
              "#9c179e"
             ],
             [
              0.4444444444444444,
              "#bd3786"
             ],
             [
              0.5555555555555556,
              "#d8576b"
             ],
             [
              0.6666666666666666,
              "#ed7953"
             ],
             [
              0.7777777777777778,
              "#fb9f3a"
             ],
             [
              0.8888888888888888,
              "#fdca26"
             ],
             [
              1,
              "#f0f921"
             ]
            ],
            "type": "histogram2dcontour"
           }
          ],
          "mesh3d": [
           {
            "colorbar": {
             "outlinewidth": 0,
             "ticks": ""
            },
            "type": "mesh3d"
           }
          ],
          "parcoords": [
           {
            "line": {
             "colorbar": {
              "outlinewidth": 0,
              "ticks": ""
             }
            },
            "type": "parcoords"
           }
          ],
          "pie": [
           {
            "automargin": true,
            "type": "pie"
           }
          ],
          "scatter": [
           {
            "marker": {
             "colorbar": {
              "outlinewidth": 0,
              "ticks": ""
             }
            },
            "type": "scatter"
           }
          ],
          "scatter3d": [
           {
            "line": {
             "colorbar": {
              "outlinewidth": 0,
              "ticks": ""
             }
            },
            "marker": {
             "colorbar": {
              "outlinewidth": 0,
              "ticks": ""
             }
            },
            "type": "scatter3d"
           }
          ],
          "scattercarpet": [
           {
            "marker": {
             "colorbar": {
              "outlinewidth": 0,
              "ticks": ""
             }
            },
            "type": "scattercarpet"
           }
          ],
          "scattergeo": [
           {
            "marker": {
             "colorbar": {
              "outlinewidth": 0,
              "ticks": ""
             }
            },
            "type": "scattergeo"
           }
          ],
          "scattergl": [
           {
            "marker": {
             "colorbar": {
              "outlinewidth": 0,
              "ticks": ""
             }
            },
            "type": "scattergl"
           }
          ],
          "scattermapbox": [
           {
            "marker": {
             "colorbar": {
              "outlinewidth": 0,
              "ticks": ""
             }
            },
            "type": "scattermapbox"
           }
          ],
          "scatterpolar": [
           {
            "marker": {
             "colorbar": {
              "outlinewidth": 0,
              "ticks": ""
             }
            },
            "type": "scatterpolar"
           }
          ],
          "scatterpolargl": [
           {
            "marker": {
             "colorbar": {
              "outlinewidth": 0,
              "ticks": ""
             }
            },
            "type": "scatterpolargl"
           }
          ],
          "scatterternary": [
           {
            "marker": {
             "colorbar": {
              "outlinewidth": 0,
              "ticks": ""
             }
            },
            "type": "scatterternary"
           }
          ],
          "surface": [
           {
            "colorbar": {
             "outlinewidth": 0,
             "ticks": ""
            },
            "colorscale": [
             [
              0,
              "#0d0887"
             ],
             [
              0.1111111111111111,
              "#46039f"
             ],
             [
              0.2222222222222222,
              "#7201a8"
             ],
             [
              0.3333333333333333,
              "#9c179e"
             ],
             [
              0.4444444444444444,
              "#bd3786"
             ],
             [
              0.5555555555555556,
              "#d8576b"
             ],
             [
              0.6666666666666666,
              "#ed7953"
             ],
             [
              0.7777777777777778,
              "#fb9f3a"
             ],
             [
              0.8888888888888888,
              "#fdca26"
             ],
             [
              1,
              "#f0f921"
             ]
            ],
            "type": "surface"
           }
          ],
          "table": [
           {
            "cells": {
             "fill": {
              "color": "#EBF0F8"
             },
             "line": {
              "color": "white"
             }
            },
            "header": {
             "fill": {
              "color": "#C8D4E3"
             },
             "line": {
              "color": "white"
             }
            },
            "type": "table"
           }
          ]
         },
         "layout": {
          "annotationdefaults": {
           "arrowcolor": "#2a3f5f",
           "arrowhead": 0,
           "arrowwidth": 1
          },
          "coloraxis": {
           "colorbar": {
            "outlinewidth": 0,
            "ticks": ""
           }
          },
          "colorscale": {
           "diverging": [
            [
             0,
             "#8e0152"
            ],
            [
             0.1,
             "#c51b7d"
            ],
            [
             0.2,
             "#de77ae"
            ],
            [
             0.3,
             "#f1b6da"
            ],
            [
             0.4,
             "#fde0ef"
            ],
            [
             0.5,
             "#f7f7f7"
            ],
            [
             0.6,
             "#e6f5d0"
            ],
            [
             0.7,
             "#b8e186"
            ],
            [
             0.8,
             "#7fbc41"
            ],
            [
             0.9,
             "#4d9221"
            ],
            [
             1,
             "#276419"
            ]
           ],
           "sequential": [
            [
             0,
             "#0d0887"
            ],
            [
             0.1111111111111111,
             "#46039f"
            ],
            [
             0.2222222222222222,
             "#7201a8"
            ],
            [
             0.3333333333333333,
             "#9c179e"
            ],
            [
             0.4444444444444444,
             "#bd3786"
            ],
            [
             0.5555555555555556,
             "#d8576b"
            ],
            [
             0.6666666666666666,
             "#ed7953"
            ],
            [
             0.7777777777777778,
             "#fb9f3a"
            ],
            [
             0.8888888888888888,
             "#fdca26"
            ],
            [
             1,
             "#f0f921"
            ]
           ],
           "sequentialminus": [
            [
             0,
             "#0d0887"
            ],
            [
             0.1111111111111111,
             "#46039f"
            ],
            [
             0.2222222222222222,
             "#7201a8"
            ],
            [
             0.3333333333333333,
             "#9c179e"
            ],
            [
             0.4444444444444444,
             "#bd3786"
            ],
            [
             0.5555555555555556,
             "#d8576b"
            ],
            [
             0.6666666666666666,
             "#ed7953"
            ],
            [
             0.7777777777777778,
             "#fb9f3a"
            ],
            [
             0.8888888888888888,
             "#fdca26"
            ],
            [
             1,
             "#f0f921"
            ]
           ]
          },
          "colorway": [
           "#636efa",
           "#EF553B",
           "#00cc96",
           "#ab63fa",
           "#FFA15A",
           "#19d3f3",
           "#FF6692",
           "#B6E880",
           "#FF97FF",
           "#FECB52"
          ],
          "font": {
           "color": "#2a3f5f"
          },
          "geo": {
           "bgcolor": "white",
           "lakecolor": "white",
           "landcolor": "#E5ECF6",
           "showlakes": true,
           "showland": true,
           "subunitcolor": "white"
          },
          "hoverlabel": {
           "align": "left"
          },
          "hovermode": "closest",
          "mapbox": {
           "style": "light"
          },
          "paper_bgcolor": "white",
          "plot_bgcolor": "#E5ECF6",
          "polar": {
           "angularaxis": {
            "gridcolor": "white",
            "linecolor": "white",
            "ticks": ""
           },
           "bgcolor": "#E5ECF6",
           "radialaxis": {
            "gridcolor": "white",
            "linecolor": "white",
            "ticks": ""
           }
          },
          "scene": {
           "xaxis": {
            "backgroundcolor": "#E5ECF6",
            "gridcolor": "white",
            "gridwidth": 2,
            "linecolor": "white",
            "showbackground": true,
            "ticks": "",
            "zerolinecolor": "white"
           },
           "yaxis": {
            "backgroundcolor": "#E5ECF6",
            "gridcolor": "white",
            "gridwidth": 2,
            "linecolor": "white",
            "showbackground": true,
            "ticks": "",
            "zerolinecolor": "white"
           },
           "zaxis": {
            "backgroundcolor": "#E5ECF6",
            "gridcolor": "white",
            "gridwidth": 2,
            "linecolor": "white",
            "showbackground": true,
            "ticks": "",
            "zerolinecolor": "white"
           }
          },
          "shapedefaults": {
           "line": {
            "color": "#2a3f5f"
           }
          },
          "ternary": {
           "aaxis": {
            "gridcolor": "white",
            "linecolor": "white",
            "ticks": ""
           },
           "baxis": {
            "gridcolor": "white",
            "linecolor": "white",
            "ticks": ""
           },
           "bgcolor": "#E5ECF6",
           "caxis": {
            "gridcolor": "white",
            "linecolor": "white",
            "ticks": ""
           }
          },
          "title": {
           "x": 0.05
          },
          "xaxis": {
           "automargin": true,
           "gridcolor": "white",
           "linecolor": "white",
           "ticks": "",
           "title": {
            "standoff": 15
           },
           "zerolinecolor": "white",
           "zerolinewidth": 2
          },
          "yaxis": {
           "automargin": true,
           "gridcolor": "white",
           "linecolor": "white",
           "ticks": "",
           "title": {
            "standoff": 15
           },
           "zerolinecolor": "white",
           "zerolinewidth": 2
          }
         }
        },
        "xaxis": {
         "anchor": "y",
         "autorange": false,
         "domain": [
          0,
          1
         ],
         "range": [
          -1.5934330573987694,
          16.784650924955134
         ],
         "title": {
          "text": "year_replaced"
         },
         "type": "linear"
        },
        "yaxis": {
         "anchor": "x",
         "autorange": false,
         "domain": [
          0,
          1
         ],
         "range": [
          -16488.657852728105,
          779151.2373975205
         ],
         "title": {
          "text": "odometer_replaced"
         },
         "type": "linear"
        }
       }
      },
      "image/png": "[encoded data removed]",
      "text/html": [
       "<div>\n",
       "        \n",
       "        \n",
       "            <div id=\"cb81c1d6-5801-42d0-b745-b5b6de1ee8cb\" class=\"plotly-graph-div\" style=\"height:525px; width:100%;\"></div>\n",
       "            <script type=\"text/javascript\">\n",
       "                require([\"plotly\"], function(Plotly) {\n",
       "                    window.PLOTLYENV=window.PLOTLYENV || {};\n",
       "                    \n",
       "                if (document.getElementById(\"cb81c1d6-5801-42d0-b745-b5b6de1ee8cb\")) {\n",
       "                    Plotly.newPlot(\n",
       "                        'cb81c1d6-5801-42d0-b745-b5b6de1ee8cb',\n",
       "                        [{\"hovertemplate\": \"year_replaced=%{x}<br>odometer_replaced=%{y}<extra></extra>\", \"legendgroup\": \"\", \"marker\": {\"color\": \"#636efa\", \"symbol\": \"circle\"}, \"mode\": \"markers\", \"name\": \"\", \"showlegend\": false, \"type\": \"scattergl\", \"x\": [999.0, 999.0, 999.0, 999.0, 999.0, 999.0, 999.0, 999.0, 999.0, 999.0, 999.0, 999.0, 999.0, 999.0, 999.0, 999.0, 999.0, 999.0, 999.0, 999.0, 999.0, 999.0, 999.0, 999.0, 999.0, 999.0, 999.0, 999.0, 999.0, 999.0, 999.0, 999.0, 999.0, 999.0, 999.0, 999.0, 999.0, 3.0, 999.0, 999.0, 999.0, 999.0, 3.0, 999.0, 999.0, 999.0, 999.0, 999.0, 999.0, 999.0, 999.0, 999.0, 999.0, 999.0, 999.0, 3.0, 999.0, 999.0, 3.0, 999.0, 999.0, 15.0, 999.0, 999.0, 999.0, 999.0, 999.0, 999.0, 999.0, 999.0, 999.0, 999.0, 999.0, 999.0, 999.0, 999.0, 999.0, 999.0, 999.0, 999.0, 999.0, 999.0, 999.0, 999.0, 999.0, 999.0, 999.0, 999.0, 999.0, 999.0, 999.0, 999.0, 2.0, 999.0, 999.0, 999.0, 999.0, 999.0, 2.0, 999.0, 3.0, 999.0, 999.0, 999.0, 999.0, 999.0, 999.0, 999.0, 999.0, 999.0, 999.0, 999.0, 999.0, 999.0, 999.0, 999.0, 999.0, 999.0, 999.0, 999.0, 3.0, 999.0, 999.0, 999.0, 999.0, 999.0, 999.0, 999.0, 999.0, 999.0, 999.0, 999.0, 999.0, 999.0, 999.0, 999.0, 999.0, 999.0, 999.0, 999.0, 999.0, 999.0, 999.0, 999.0, 999.0, 3.0, 999.0, 999.0, 999.0, 999.0, 999.0, 999.0, 999.0, 999.0, 999.0, 999.0, 999.0, 999.0, 999.0, 999.0, 999.0, 999.0, 999.0, 999.0, 999.0, 999.0, 999.0, 999.0, 999.0, 999.0, 999.0, 999.0, 999.0, 999.0, 999.0, 999.0, 999.0, 999.0, 999.0, 999.0, 999.0, 999.0, 999.0, 999.0, 999.0, 999.0, 999.0, 999.0, 999.0, 999.0, 999.0, 3.0, 999.0, 2.0, 999.0, 999.0, 999.0, 999.0, 999.0, 999.0, 999.0, 999.0, 999.0, 999.0, 999.0, 999.0, 999.0, 999.0, 999.0, 999.0, 999.0, 999.0, 999.0, 999.0, 999.0, 999.0, 999.0, 999.0, 999.0, 999.0, 999.0, 999.0, 999.0, 2.0, 999.0, 3.0, 3.0, 999.0, 999.0, 999.0, 999.0, 999.0, 999.0, 999.0, 999.0, 2.0, 2.0, 999.0, 999.0, 999.0, 3.0, 999.0, 999.0, 999.0, 999.0, 999.0, 999.0, 999.0, 999.0, 999.0, 999.0, 999.0, 999.0, 999.0, 999.0, 999.0, 999.0, 999.0, 3.0, 3.0, 2.0, 3.0, 999.0, 999.0, 999.0, 999.0, 999.0, 999.0, 999.0, 999.0, 999.0, 999.0, 999.0, 999.0, 999.0, 999.0, 999.0, 999.0, 999.0, 999.0, 999.0, 999.0, 999.0, 999.0, 999.0, 999.0, 999.0, 999.0, 999.0, 999.0, 999.0, 999.0, 999.0, 999.0, 999.0, 999.0, 999.0, 999.0, 999.0, 999.0, 999.0, 999.0, 999.0, 999.0, 999.0, 999.0, 999.0, 3.0, 999.0, 999.0, 999.0, 999.0, 999.0, 999.0, 999.0, 999.0, 999.0, 999.0, 2.0, 15.0, 999.0, 999.0, 999.0, 999.0, 999.0, 999.0, 999.0, 999.0, 999.0, 999.0, 999.0, 999.0, 999.0, 999.0, 999.0, 999.0, 999.0, 999.0, 999.0, 999.0, 999.0, 999.0, 999.0, 999.0, 999.0, 999.0, 999.0, 3.0, 2.0, 2.0, 999.0, 999.0, 3.0, 999.0, 2.0, 3.0, 999.0, 999.0, 999.0, 999.0, 999.0, 1.0, 999.0, 999.0, 999.0, 3.0, 999.0, 999.0, 999.0, 999.0, 999.0, 999.0, 999.0, 999.0, 999.0, 999.0, 999.0, 999.0, 999.0, 999.0, 999.0, 2.0, 999.0, 999.0, 999.0, 15.0, 999.0, 999.0, 15.0, 999.0, 999.0, 15.0, 3.0, 999.0, 999.0, 999.0, 999.0, 999.0, 999.0, 999.0, 2.0, 999.0, 999.0, 999.0, 999.0, 999.0, 999.0, 999.0, 3.0, 999.0, 999.0, 999.0, 999.0, 2.0, 3.0, 999.0, 3.0, 999.0, 999.0, 2.0, 2.0, 999.0, 999.0, 999.0, 999.0, 999.0, 999.0, 999.0, 999.0, 999.0, 999.0, 999.0, 2.0, 999.0, 999.0, 999.0, 999.0, 999.0, 999.0, 999.0, 999.0, 999.0, 999.0, 999.0, 999.0, 999.0, 999.0, 999.0, 999.0, 999.0, 15.0, 999.0, 999.0, 999.0, 999.0, 999.0, 999.0, 999.0, 999.0, 999.0, 2.0, 999.0, 2.0, 1.0, 999.0, 999.0, 999.0, 999.0, 999.0, 999.0, 999.0, 999.0, 999.0, 999.0, 999.0, 999.0, 999.0, 999.0, 999.0, 999.0, 999.0, 999.0, 999.0, 999.0, 999.0, 999.0, 2.0, 2.0, 999.0, 3.0, 999.0, 999.0, 2.0, 999.0, 999.0, 999.0, 999.0, 999.0, 999.0, 999.0, 3.0, 3.0, 2.0, 1.0, 1.0, 999.0, 2.0, 999.0, 2.0, 999.0, 999.0, 999.0, 2.0, 999.0, 999.0, 2.0, 999.0, 999.0, 999.0, 1.0, 999.0, 999.0, 999.0, 999.0, 999.0, 999.0, 999.0, 999.0, 999.0, 999.0, 999.0, 999.0, 999.0, 999.0, 999.0, 999.0, 999.0, 999.0, 999.0, 999.0, 999.0, 999.0, 999.0, 999.0, 999.0, 999.0, 999.0, 999.0, 999.0, 999.0, 999.0, 999.0, 999.0, 999.0, 999.0, 999.0, 999.0, 999.0, 999.0, 999.0, 2.0, 3.0, 999.0, 999.0, 999.0, 999.0, 999.0, 3.0, 999.0, 999.0, 999.0, 999.0, 999.0, 999.0, 999.0, 999.0, 3.0, 999.0, 999.0, 999.0, 999.0, 999.0, 999.0, 999.0, 999.0, 999.0, 2.0, 999.0, 999.0, 999.0, 2.0, 999.0, 999.0, 3.0, 999.0, 999.0, 999.0, 3.0, 3.0, 999.0, 999.0, 999.0, 2.0, 999.0, 999.0, 999.0, 1.0, 1.0, 999.0, 2.0, 999.0, 0.0, 999.0, 999.0, 1.0, 999.0, 2.0, 999.0, 3.0, 3.0, 999.0, 999.0, 999.0, 999.0, 999.0, 999.0, 999.0, 999.0, 999.0, 3.0, 999.0, 999.0, 999.0, 3.0, 999.0, 999.0, 999.0, 3.0, 3.0, 2.0, 3.0, 3.0, 999.0, 999.0, 2.0, 3.0, 999.0, 999.0, 999.0, 1.0, 2.0, 999.0, 999.0, 2.0, 999.0, 999.0, 2.0, 999.0, 999.0, 999.0, 999.0, 999.0, 3.0, 999.0, 999.0, 2.0, 3.0, 999.0, 999.0, 999.0, 999.0, 15.0, 999.0, 3.0, 999.0, 2.0, 999.0, 999.0, 1.0, 999.0, 2.0, 999.0, 999.0, 999.0, 999.0, 999.0, 3.0, 999.0, 999.0, 999.0, 1.0, 0.0, 1.0, 1.0, 2.0, 999.0, 999.0, 999.0, 999.0, 999.0, 999.0, 2.0, 999.0, 2.0, 999.0, 999.0, 999.0, 999.0, 2.0, 2.0, 3.0, 999.0, 999.0, 2.0, 999.0, 999.0, 2.0, 1.0, 3.0, 999.0, 1.0, 2.0, 1.0, 999.0, 999.0, 2.0, 3.0, 999.0, 999.0, 999.0, 999.0, 15.0, 15.0, 999.0, 999.0, 999.0, 15.0, 3.0, 15.0, 999.0, 15.0, 15.0, 3.0, 15.0, 15.0, 999.0, 999.0, 15.0, 999.0, 999.0, 15.0, 999.0, 999.0, 999.0, 999.0, 999.0, 15.0, 2.0, 1.0, 3.0, 999.0, 999.0, 999.0, 999.0, 999.0, 999.0, 999.0, 999.0, 999.0, 999.0, 999.0, 999.0, 1.0, 999.0, 1.0, 999.0, 3.0, 999.0, 999.0, 2.0, 0.0, 0.0, 1.0, 0.0, 999.0, 2.0, 15.0, 1.0, 4.0, 1.0, 1.0, 999.0, 999.0, 1.0, 999.0, 999.0, 999.0, 999.0, 999.0, 1.0, 999.0, 999.0, 999.0, 999.0, 999.0, 999.0, 1.0, 2.0, 1.0, 999.0, 999.0, 2.0, 999.0, 999.0, 999.0, 1.0, 999.0, 999.0, 999.0, 999.0, 999.0, 999.0, 1.0, 1.0, 999.0, 1.0, 0.0, 1.0, 1.0, 999.0, 999.0, 0.0, 1.0, 1.0, 1.0, 999.0, 999.0, 0.0, 0.0, 2.0, 3.0, 2.0, 999.0, 999.0, 15.0, 999.0, 999.0, 15.0, 15.0, 999.0, 999.0, 999.0, 15.0, 999.0, 999.0, 999.0, 999.0, 999.0, 15.0, 999.0, 15.0, 999.0, 999.0, 999.0, 999.0, 15.0, 999.0, 15.0, 15.0, 15.0, 999.0, 999.0, 999.0, 999.0, 999.0, 999.0, 999.0, 15.0, 15.0, 999.0, 3.0, 3.0, 999.0, 1.0, 999.0, 999.0, 999.0, 1.0, 999.0, 2.0, 999.0, 999.0, 999.0, 2.0, 1.0, 3.0, 999.0, 1.0, 2.0, 999.0, 999.0, 999.0, 2.0, 1.0, 1.0, 1.0, 1.0, 999.0, 1.0, 1.0, 999.0, 1.0, 1.0, 3.0, 1.0, 1.0, 1.0, 1.0, 0.0, 1.0, 1.0, 0.0, 1.0, 2.0, 1.0, 1.0, 0.0, 1.0, 1.0, 2.0, 2.0, 2.0, 999.0, 999.0, 999.0, 1.0, 999.0, 1.0, 1.0, 999.0, 0.0, 1.0, 1.0, 0.0, 0.0, 0.0, 1.0, 0.0, 1.0, 1.0, 1.0, 0.0, 1.0, 0.0, 0.0, 1.0, 0.0, 0.0, 0.0, 0.0, 0.0, 0.0, 0.0, 1.0, 0.0, 0.0, 999.0, 0.0, 999.0, 0.0, 0.0, 0.0, 0.0, 1.0, 0.0, 0.0, 0.0, 1.0, 0.0, 0.0, 0.0, 999.0, 1.0, 0.0, 1.0, 0.0, 1.0, 1.0, 1.0, 1.0, 1.0, 0.0, 1.0, 1.0, 1.0, 1.0, 0.0, 999.0, 1.0, 1.0, 999.0, 999.0, 1.0, 1.0, 1.0, 999.0, 0.0, 1.0, 1.0, 1.0, 0.0, 1.0, 0.0, 0.0, 1.0, 999.0, 0.0, 1.0, 999.0, 1.0, 0.0, 999.0, 1.0, 1.0, 999.0, 3.0, 3.0, 999.0, 3.0, 999.0, 2.0, 3.0, 999.0, 999.0, 999.0, 1.0, 999.0, 999.0, 999.0, 2.0, 999.0, 999.0, 2.0, 2.0, 999.0, 2.0, 2.0, 999.0, 999.0, 999.0, 999.0, 2.0, 999.0, 999.0, 999.0, 999.0, 2.0, 999.0, 2.0, 2.0, 999.0, 2.0, 2.0, 2.0, 999.0, 999.0, 1.0, 2.0, 2.0, 2.0, 2.0, 2.0, 2.0, 999.0, 2.0, 2.0, 999.0, 999.0, 999.0, 999.0, 999.0, 999.0, 999.0, 999.0, 999.0, 999.0, 999.0, 999.0, 999.0, 999.0, 999.0, 999.0, 999.0, 999.0, 2.0, 999.0, 999.0, 2.0, 999.0, 2.0, 999.0, 999.0, 999.0, 0.0, 0.0, 2.0, 0.0, 0.0, 2.0, 0.0, 0.0, 0.0, 2.0, 0.0, 0.0, 0.0, 999.0, 0.0, 0.0, 0.0, 2.0, 2.0, 0.0, 2.0, 1.0, 2.0, 0.0, 0.0, 0.0, 999.0, 1.0, 2.0, 0.0, 0.0, 0.0, 2.0, 2.0, 2.0, 2.0, 999.0, 2.0, 2.0, 2.0, 999.0, 15.0, 15.0, 999.0, 15.0, 15.0, 15.0, 15.0, 999.0, 999.0, 15.0, 999.0, 999.0, 15.0, 15.0, 15.0, 15.0, 15.0, 15.0, 15.0, 999.0, 999.0, 999.0, 999.0, 999.0, 999.0, 999.0, 999.0, 999.0, 999.0, 999.0, 999.0, 999.0, 999.0, 2.0, 999.0, 999.0, 999.0, 999.0, 2.0, 2.0, 999.0, 999.0, 999.0, 999.0, 999.0, 3.0, 3.0, 0.0, 0.0, 999.0, 3.0, 999.0, 0.0, 0.0, 0.0, 0.0, 0.0, 0.0, 0.0, 0.0, 0.0, 0.0, 3.0, 0.0, 0.0, 3.0, 999.0, 0.0, 0.0, 0.0, 0.0, 0.0, 0.0, 3.0, 0.0, 0.0, 0.0, 0.0, 3.0, 0.0, 0.0, 0.0, 0.0, 0.0, 0.0, 0.0, 3.0, 999.0, 0.0, 0.0, 3.0, 3.0, 999.0, 999.0, 999.0, 999.0, 3.0, 999.0, 999.0, 999.0, 999.0, 3.0, 2.0, 999.0, 999.0, 1.0, 3.0, 3.0, 3.0, 999.0, 3.0, 1.0, 999.0, 1.0, 999.0, 1.0, 2.0, 999.0, 3.0, 999.0, 2.0, 999.0, 999.0, 1.0, 999.0, 999.0, 1.0, 1.0, 1.0, 999.0, 1.0, 999.0, 999.0, 999.0, 2.0, 1.0, 999.0, 999.0, 999.0, 999.0, 999.0, 999.0, 1.0, 999.0, 1.0, 3.0, 3.0, 3.0, 15.0, 999.0, 999.0, 999.0, 3.0, 3.0, 999.0, 4.0, 999.0, 999.0, 999.0, 4.0, 4.0, 4.0, 999.0, 4.0, 999.0, 4.0, 999.0, 4.0, 4.0, 4.0, 0.0, 999.0, 0.0, 999.0, 999.0, 4.0, 999.0, 999.0, 999.0, 999.0, 999.0, 999.0, 999.0, 4.0, 4.0, 4.0, 4.0, 999.0, 4.0, 999.0, 999.0, 4.0, 4.0, 4.0, 999.0, 999.0, 4.0, 999.0, 999.0, 999.0, 999.0, 999.0, 999.0, 4.0, 999.0, 999.0, 999.0, 999.0, 999.0, 999.0, 999.0, 999.0, 999.0, 999.0, 999.0, 999.0, 999.0, 999.0, 999.0, 999.0, 999.0, 999.0, 999.0, 999.0, 999.0, 999.0, 999.0, 999.0, 999.0, 999.0, 999.0, 999.0, 999.0, 999.0, 999.0, 999.0, 999.0, 999.0, 999.0, 999.0, 999.0, 999.0, 999.0, 999.0, 999.0, 999.0, 999.0, 999.0, 999.0, 999.0, 999.0, 999.0, 999.0, 999.0, 999.0, 999.0, 999.0, 999.0, 999.0, 999.0, 999.0, 999.0, 999.0, 999.0, 999.0, 999.0, 999.0, 999.0, 999.0, 999.0, 999.0, 999.0, 999.0, 999.0, 999.0, 999.0, 999.0, 999.0, 999.0, 999.0, 999.0, 999.0, 999.0, 999.0, 999.0, 999.0, 999.0, 999.0, 999.0, 999.0, 999.0, 999.0, 999.0, 999.0, 999.0, 999.0, 999.0, 999.0, 999.0, 999.0, 999.0, 999.0, 999.0, 999.0, 999.0, 999.0, 999.0, 999.0, 999.0, 999.0, 999.0, 999.0, 5.0, 999.0], \"xaxis\": \"x\", \"y\": [258160.0, 258160.0, 258160.0, 258160.0, 258160.0, 258160.0, 258160.0, 258160.0, 258160.0, 258160.0, 258160.0, 258160.0, 258160.0, 258160.0, 258160.0, 258160.0, 258160.0, 258160.0, 258160.0, 258160.0, 258160.0, 258160.0, 258160.0, 258160.0, 258160.0, 258160.0, 258160.0, 258160.0, 258160.0, 258160.0, 258160.0, 258160.0, 258160.0, 258160.0, 258160.0, 258160.0, 258160.0, 297616.0, 297616.0, 297616.0, 297616.0, 297616.0, 411122.0, 411122.0, 411122.0, 411122.0, 411122.0, 411122.0, 411122.0, 411122.0, 411122.0, 411122.0, 411122.0, 411122.0, 411122.0, 275166.0, 275166.0, 275166.0, 259596.0, 259596.0, 259596.0, 390660.0, 390660.0, 390660.0, 390660.0, 390660.0, 390660.0, 390660.0, 390660.0, 390660.0, 390660.0, 390660.0, 390660.0, 390660.0, 390660.0, 390660.0, 390660.0, 390660.0, 390660.0, 390660.0, 390660.0, 390660.0, 390660.0, 390660.0, 390660.0, 390660.0, 390660.0, 390660.0, 390660.0, 390660.0, 390660.0, 390660.0, 384800.0, 384800.0, 384800.0, 384800.0, 384800.0, 384800.0, 251392.0, 251392.0, 236198.0, 236198.0, 236198.0, 236198.0, 236198.0, 236198.0, 236198.0, 236198.0, 236198.0, 236198.0, 236198.0, 236198.0, 236198.0, 236198.0, 236198.0, 236198.0, 236198.0, 236198.0, 236198.0, 236198.0, 270351.0, 270351.0, 270351.0, 270351.0, 270351.0, 270351.0, 270351.0, 270351.0, 270351.0, 270351.0, 270351.0, 270351.0, 270351.0, 270351.0, 270351.0, 270351.0, 270351.0, 270351.0, 270351.0, 270351.0, 270351.0, 270351.0, 270351.0, 270351.0, 270351.0, 302974.0, 302974.0, 302974.0, 302974.0, 302974.0, 302974.0, 302974.0, 302974.0, 302974.0, 302974.0, 302974.0, 302974.0, 302974.0, 302974.0, 302974.0, 302974.0, 302974.0, 302974.0, 302974.0, 302974.0, 302974.0, 302974.0, 302974.0, 302974.0, 302974.0, 302974.0, 302974.0, 302974.0, 302974.0, 302974.0, 302974.0, 302974.0, 302974.0, 302974.0, 302974.0, 302974.0, 302974.0, 302974.0, 302974.0, 302974.0, 302974.0, 302974.0, 302974.0, 302974.0, 302974.0, 302974.0, 259437.0, 259437.0, 370020.0, 370020.0, 370020.0, 370020.0, 370020.0, 370020.0, 370020.0, 370020.0, 370020.0, 370020.0, 370020.0, 370020.0, 370020.0, 370020.0, 370020.0, 370020.0, 370020.0, 370020.0, 370020.0, 370020.0, 370020.0, 370020.0, 370020.0, 370020.0, 370020.0, 370020.0, 370020.0, 370020.0, 370020.0, 370020.0, 297780.0, 297780.0, 219088.0, 222512.0, 222512.0, 222512.0, 222512.0, 222512.0, 222512.0, 222512.0, 222512.0, 222512.0, 333090.0, 287505.0, 287505.0, 287505.0, 287505.0, 261088.0, 261088.0, 261088.0, 261088.0, 261088.0, 261088.0, 261088.0, 261088.0, 261088.0, 261088.0, 261088.0, 261088.0, 261088.0, 261088.0, 261088.0, 261088.0, 261088.0, 261088.0, 234432.0, 217104.0, 270765.0, 223744.0, 223744.0, 223744.0, 223744.0, 223744.0, 223744.0, 223744.0, 223744.0, 223744.0, 223744.0, 223744.0, 223744.0, 223744.0, 223744.0, 223744.0, 223744.0, 223744.0, 223744.0, 223744.0, 223744.0, 223744.0, 223744.0, 223744.0, 223744.0, 223744.0, 223744.0, 223744.0, 223744.0, 223744.0, 223744.0, 223744.0, 223744.0, 223744.0, 223744.0, 223744.0, 223744.0, 223744.0, 223744.0, 223744.0, 223744.0, 223744.0, 223744.0, 223744.0, 223744.0, 223744.0, 223744.0, 254320.0, 254320.0, 254320.0, 254320.0, 254320.0, 254320.0, 254320.0, 254320.0, 254320.0, 254320.0, 254320.0, 325682.0, 302568.0, 302568.0, 302568.0, 302568.0, 302568.0, 302568.0, 302568.0, 302568.0, 302568.0, 302568.0, 302568.0, 302568.0, 302568.0, 302568.0, 302568.0, 302568.0, 302568.0, 302568.0, 302568.0, 302568.0, 302568.0, 302568.0, 302568.0, 302568.0, 302568.0, 302568.0, 302568.0, 302568.0, 259305.0, 192934.0, 301798.0, 301798.0, 301798.0, 214815.0, 214815.0, 319858.0, 271275.0, 271275.0, 271275.0, 271275.0, 271275.0, 271275.0, 388128.0, 388128.0, 388128.0, 388128.0, 272970.0, 272970.0, 272970.0, 272970.0, 272970.0, 272970.0, 272970.0, 272970.0, 272970.0, 272970.0, 272970.0, 272970.0, 272970.0, 272970.0, 272970.0, 272970.0, 192920.0, 192920.0, 192920.0, 192920.0, 582876.0, 582876.0, 582876.0, 660798.0, 660798.0, 660798.0, 615546.0, 392670.0, 392670.0, 392670.0, 392670.0, 392670.0, 392670.0, 392670.0, 392670.0, 190610.0, 190610.0, 190610.0, 190610.0, 190610.0, 190610.0, 190610.0, 190610.0, 235410.0, 235410.0, 235410.0, 235410.0, 235410.0, 297178.0, 238140.0, 238140.0, 220275.0, 220275.0, 220275.0, 174636.0, 187082.0, 187082.0, 187082.0, 187082.0, 187082.0, 187082.0, 187082.0, 187082.0, 187082.0, 187082.0, 187082.0, 187082.0, 175182.0, 175182.0, 175182.0, 175182.0, 175182.0, 175182.0, 175182.0, 175182.0, 175182.0, 175182.0, 175182.0, 175182.0, 175182.0, 175182.0, 175182.0, 175182.0, 175182.0, 175182.0, 559710.0, 559710.0, 559710.0, 559710.0, 559710.0, 559710.0, 559710.0, 559710.0, 559710.0, 559710.0, 155974.0, 155974.0, 210015.0, 259464.0, 259464.0, 259464.0, 259464.0, 259464.0, 259464.0, 259464.0, 259464.0, 259464.0, 259464.0, 259464.0, 259464.0, 259464.0, 259464.0, 259464.0, 259464.0, 259464.0, 259464.0, 259464.0, 259464.0, 259464.0, 259464.0, 259464.0, 262379.0, 205803.0, 205803.0, 203112.0, 203112.0, 203112.0, 297284.0, 297284.0, 297284.0, 297284.0, 297284.0, 297284.0, 297284.0, 297284.0, 137844.0, 139048.0, 174395.0, 227880.0, 313092.0, 313092.0, 183157.0, 183157.0, 197665.0, 197665.0, 197665.0, 197665.0, 159835.0, 159835.0, 159835.0, 189267.0, 189267.0, 189267.0, 189267.0, 209700.0, 209700.0, 209700.0, 209700.0, 209700.0, 209700.0, 209700.0, 209700.0, 209700.0, 209700.0, 209700.0, 209700.0, 209700.0, 209700.0, 209700.0, 209700.0, 209700.0, 209700.0, 209700.0, 209700.0, 209700.0, 209700.0, 209700.0, 209700.0, 209700.0, 209700.0, 209700.0, 209700.0, 209700.0, 209700.0, 209700.0, 209700.0, 209700.0, 209700.0, 209700.0, 209700.0, 209700.0, 209700.0, 209700.0, 209700.0, 209700.0, 256113.0, 247996.0, 247996.0, 247996.0, 247996.0, 247996.0, 247996.0, 265776.0, 265776.0, 265776.0, 265776.0, 265776.0, 265776.0, 265776.0, 265776.0, 265776.0, 230802.0, 230802.0, 230802.0, 230802.0, 230802.0, 230802.0, 230802.0, 230802.0, 230802.0, 230802.0, 221052.0, 221052.0, 221052.0, 221052.0, 278484.0, 278484.0, 278484.0, 261638.0, 261638.0, 261638.0, 261638.0, 216710.0, 206167.0, 206167.0, 206167.0, 206167.0, 173292.0, 173292.0, 173292.0, 173292.0, 225280.0, 129866.0, 129866.0, 179328.0, 179328.0, 159718.0, 159718.0, 159718.0, 268136.0, 268136.0, 177408.0, 177408.0, 226213.0, 210509.0, 210509.0, 210509.0, 210509.0, 210509.0, 210509.0, 210509.0, 210509.0, 210509.0, 210509.0, 201175.0, 201175.0, 201175.0, 201175.0, 263900.0, 263900.0, 263900.0, 263900.0, 225706.0, 435500.0, 374832.0, 551603.0, 354952.0, 354952.0, 354952.0, 171984.0, 152334.0, 152334.0, 152334.0, 152334.0, 301466.0, 228960.0, 228960.0, 228960.0, 181692.0, 181692.0, 181692.0, 220164.0, 220164.0, 220164.0, 220164.0, 220164.0, 220164.0, 198458.0, 198458.0, 198458.0, 201360.0, 266487.0, 266487.0, 266487.0, 266487.0, 266487.0, 328950.0, 328950.0, 251563.0, 251563.0, 177850.0, 177850.0, 177850.0, 223803.0, 223803.0, 174810.0, 174810.0, 174810.0, 174810.0, 174810.0, 174810.0, 172370.0, 172370.0, 172370.0, 172370.0, 107244.0, 145563.0, 170460.0, 163872.0, 82950.0, 82950.0, 82950.0, 82950.0, 82950.0, 82950.0, 82950.0, 259300.0, 259300.0, 170530.0, 170530.0, 170530.0, 170530.0, 170530.0, 203570.0, 188343.0, 217305.0, 217305.0, 217305.0, 201627.0, 201627.0, 201627.0, 214900.0, 227151.0, 170005.0, 170005.0, 343206.0, 185260.0, 206568.0, 206568.0, 206568.0, 164780.0, 182215.0, 182215.0, 182215.0, 182215.0, 182215.0, 652993.0, 500595.0, 500595.0, 500595.0, 500595.0, 616561.0, 298276.0, 629050.0, 629050.0, 610903.0, 606579.0, 421179.0, 618079.0, 629234.0, 629234.0, 629234.0, 490038.0, 490038.0, 490038.0, 494569.0, 494569.0, 494569.0, 494569.0, 494569.0, 494569.0, 373010.0, 226188.0, 115304.0, 175590.0, 175590.0, 175590.0, 175590.0, 175590.0, 175590.0, 175590.0, 175590.0, 175590.0, 175590.0, 175590.0, 175590.0, 175590.0, 113064.0, 113064.0, 192160.0, 192160.0, 243660.0, 243660.0, 243660.0, 167535.0, 106244.0, 108075.0, 159144.0, 111802.0, 111802.0, 179793.0, 576136.0, 193543.0, 322130.0, 97265.0, 114849.0, 114849.0, 114849.0, 123277.0, 123277.0, 123277.0, 123277.0, 123277.0, 123277.0, 185500.0, 185500.0, 185500.0, 185500.0, 185500.0, 185500.0, 185500.0, 173264.0, 160656.0, 172536.0, 172536.0, 172536.0, 160744.0, 160744.0, 160744.0, 160744.0, 153678.0, 153678.0, 153678.0, 153678.0, 153678.0, 153678.0, 153678.0, 212058.0, 126896.0, 126896.0, 145712.0, 158643.0, 152621.0, 209020.0, 209020.0, 209020.0, 150466.0, 110943.0, 171451.0, 168854.0, 168854.0, 168854.0, 155432.0, 147842.0, 159936.0, 184671.0, 158216.0, 158216.0, 158216.0, 400029.0, 400029.0, 400029.0, 354648.0, 304773.0, 304773.0, 304773.0, 304773.0, 304521.0, 304521.0, 304521.0, 304521.0, 304521.0, 304521.0, 358680.0, 358680.0, 524538.0, 524538.0, 524538.0, 524538.0, 524538.0, 401520.0, 401520.0, 398727.0, 427959.0, 329658.0, 329658.0, 329658.0, 329658.0, 329658.0, 329658.0, 329658.0, 329658.0, 337974.0, 371196.0, 371196.0, 186444.0, 176103.0, 176103.0, 108444.0, 108444.0, 108444.0, 108444.0, 181426.0, 181426.0, 177728.0, 177728.0, 177728.0, 177728.0, 188144.0, 208978.0, 191151.0, 191151.0, 110712.0, 77472.0, 77472.0, 77472.0, 77472.0, 157456.0, 106729.0, 125279.0, 102612.0, 134976.0, 134976.0, 91098.0, 119358.0, 119358.0, 146478.0, 122124.0, 156264.0, 101748.0, 129276.0, 118770.0, 66300.0, 55060.0, 83958.0, 92442.0, 54685.0, 78204.0, 120050.0, 117516.0, 88302.0, 68953.0, 132306.0, 127656.0, 189763.0, 223692.0, 210007.0, 210007.0, 210007.0, 210007.0, 116328.0, 116328.0, 99558.0, 167100.0, 167100.0, 141342.0, 113142.0, 183534.0, 96199.0, 122660.0, 154205.0, 172788.0, 104034.0, 81540.0, 93066.0, 170256.0, 131792.0, 109776.0, 132803.0, 135136.0, 184992.0, 177580.0, 135298.0, 126383.0, 105270.0, 150619.0, 108069.0, 96606.0, 152724.0, 140512.0, 112816.0, 112816.0, 134401.0, 134401.0, 155816.0, 104088.0, 124322.0, 81152.0, 157152.0, 81081.0, 80575.0, 62209.0, 107436.0, 56482.0, 176880.0, 153433.0, 153433.0, 182706.0, 119754.0, 177120.0, 119777.0, 192990.0, 116220.0, 72090.0, 95940.0, 153168.0, 85900.0, 85044.0, 77808.0, 101556.0, 82488.0, 81281.0, 81281.0, 87774.0, 72570.0, 72570.0, 72570.0, 84684.0, 120426.0, 100032.0, 100032.0, 68931.0, 101784.0, 103200.0, 81756.0, 106143.0, 113562.0, 80309.0, 74020.0, 90936.0, 90936.0, 77943.0, 115272.0, 115272.0, 159408.0, 64168.0, 64168.0, 72930.0, 100722.0, 100722.0, 226400.0, 182208.0, 182208.0, 203656.0, 203656.0, 144804.0, 156940.0, 156940.0, 156940.0, 156940.0, 109170.0, 109170.0, 109170.0, 109170.0, 102570.0, 102570.0, 102570.0, 98148.0, 103986.0, 103986.0, 121782.0, 99498.0, 99498.0, 99498.0, 99498.0, 99498.0, 116334.0, 116334.0, 116334.0, 116334.0, 116334.0, 113730.0, 113730.0, 97188.0, 106008.0, 106008.0, 102786.0, 105246.0, 91206.0, 91206.0, 91206.0, 159185.0, 147750.0, 128460.0, 131562.0, 145614.0, 169980.0, 125994.0, 125994.0, 165390.0, 117318.0, 117318.0, 117318.0, 117318.0, 117318.0, 117318.0, 117318.0, 117318.0, 117318.0, 117318.0, 117318.0, 117318.0, 117318.0, 117318.0, 117318.0, 117318.0, 117318.0, 117318.0, 117318.0, 155292.0, 155292.0, 155292.0, 133794.0, 133794.0, 127206.0, 127206.0, 127206.0, 127206.0, 126949.0, 80671.0, 94068.0, 90147.0, 145330.0, 70734.0, 91787.0, 78182.0, 94664.0, 76578.0, 99004.0, 69766.0, 104978.0, 104978.0, 101419.0, 65745.0, 65077.0, 86004.0, 66024.0, 89288.0, 81720.0, 153395.0, 113922.0, 96276.0, 81813.0, 95922.0, 95922.0, 155860.0, 69258.0, 79539.0, 98013.0, 61543.0, 69036.0, 118812.0, 89604.0, 151320.0, 151320.0, 88830.0, 125340.0, 124290.0, 124290.0, 345268.0, 369037.0, 369037.0, 297103.0, 663347.0, 411635.0, 327199.0, 327199.0, 327199.0, 317832.0, 317832.0, 317832.0, 303012.0, 395827.0, 548568.0, 571558.0, 337592.0, 766878.0, 309928.0, 309928.0, 309928.0, 309928.0, 309928.0, 309928.0, 309928.0, 309928.0, 309928.0, 309928.0, 309928.0, 309928.0, 309928.0, 309928.0, 309928.0, 131490.0, 131490.0, 131490.0, 131490.0, 131490.0, 87264.0, 77070.0, 77070.0, 77070.0, 77070.0, 77070.0, 77070.0, 114918.0, 95574.0, 42880.0, 46180.0, 46180.0, 148554.0, 148554.0, 55787.0, 98631.0, 88042.0, 57677.0, 64669.0, 78780.0, 109826.0, 96082.0, 105393.0, 81193.0, 102102.0, 54012.0, 51944.0, 134424.0, 134424.0, 39538.0, 44695.0, 66212.0, 67651.0, 42869.0, 78763.0, 89886.0, 89619.0, 59254.0, 76705.0, 73105.0, 101244.0, 60364.0, 70383.0, 38717.0, 96150.0, 74342.0, 88270.0, 46768.0, 97578.0, 97578.0, 56764.0, 59662.0, 90852.0, 144240.0, 144240.0, 144240.0, 144240.0, 144240.0, 86028.0, 86028.0, 86028.0, 86028.0, 86028.0, 115956.0, 172030.0, 172030.0, 172030.0, 164380.0, 164262.0, 137412.0, 106536.0, 106536.0, 105468.0, 238764.0, 238764.0, 162464.0, 162464.0, 203448.0, 179025.0, 179025.0, 177114.0, 177114.0, 184885.0, 184885.0, 184885.0, 155784.0, 155784.0, 155784.0, 156588.0, 250880.0, 231320.0, 231320.0, 175508.0, 175508.0, 175508.0, 175508.0, 165495.0, 179036.0, 179036.0, 179036.0, 179036.0, 179036.0, 179036.0, 179036.0, 178160.0, 178160.0, 180508.0, 165744.0, 114966.0, 103998.0, 263034.0, 263034.0, 263034.0, 263034.0, 97356.0, 159846.0, 159846.0, 143970.0, 143970.0, 143970.0, 143970.0, 142308.0, 116094.0, 134886.0, 134886.0, 109092.0, 109092.0, 147468.0, 147468.0, 92154.0, 51420.0, 78516.0, 16628.0, 16628.0, 25726.0, 25726.0, 25726.0, 139908.0, 139908.0, 139908.0, 139908.0, 139908.0, 139908.0, 139908.0, 139908.0, 129336.0, 98706.0, 83148.0, 99084.0, 99084.0, 92802.0, 92802.0, 92802.0, 84990.0, 87696.0, 83454.0, 83454.0, 83454.0, 79578.0, 79578.0, 79578.0, 79578.0, 79578.0, 79578.0, 79578.0, 91422.0, 91422.0, 91422.0, 91422.0, 91422.0, 91422.0, 91422.0, 91422.0, 91422.0, 91422.0, 91422.0, 91422.0, 91422.0, 91422.0, 91422.0, 91422.0, 91422.0, 91422.0, 91422.0, 91422.0, 91422.0, 91422.0, 91422.0, 91422.0, 91422.0, 91422.0, 91422.0, 91422.0, 91422.0, 91422.0, 91422.0, 91422.0, 91422.0, 91422.0, 91422.0, 91422.0, 91422.0, 91422.0, 91422.0, 91422.0, 91422.0, 91422.0, 91422.0, 91422.0, 91422.0, 91422.0, 91422.0, 91422.0, 91422.0, 91422.0, 91422.0, 91422.0, 91422.0, 91422.0, 91422.0, 91422.0, 91422.0, 91422.0, 91422.0, 91422.0, 91422.0, 91422.0, 91422.0, 91422.0, 91422.0, 91422.0, 91422.0, 91422.0, 91422.0, 91422.0, 91422.0, 91422.0, 91422.0, 91422.0, 91422.0, 91422.0, 91422.0, 91422.0, 91422.0, 91422.0, 91422.0, 91422.0, 91422.0, 91422.0, 91422.0, 91422.0, 91422.0, 91422.0, 91422.0, 91422.0, 91422.0, 91422.0, 91422.0, 91422.0, 91422.0, 91422.0, 91422.0, 91422.0, 91422.0, 91422.0, 91422.0, 91422.0, 91422.0, 91422.0, 91422.0, 91422.0, 91422.0, 91422.0, 91422.0, 58794.0, 58794.0], \"yaxis\": \"y\"}],\n",
       "                        {\"legend\": {\"tracegroupgap\": 0}, \"margin\": {\"t\": 60}, \"template\": {\"data\": {\"bar\": [{\"error_x\": {\"color\": \"#2a3f5f\"}, \"error_y\": {\"color\": \"#2a3f5f\"}, \"marker\": {\"line\": {\"color\": \"#E5ECF6\", \"width\": 0.5}}, \"type\": \"bar\"}], \"barpolar\": [{\"marker\": {\"line\": {\"color\": \"#E5ECF6\", \"width\": 0.5}}, \"type\": \"barpolar\"}], \"carpet\": [{\"aaxis\": {\"endlinecolor\": \"#2a3f5f\", \"gridcolor\": \"white\", \"linecolor\": \"white\", \"minorgridcolor\": \"white\", \"startlinecolor\": \"#2a3f5f\"}, \"baxis\": {\"endlinecolor\": \"#2a3f5f\", \"gridcolor\": \"white\", \"linecolor\": \"white\", \"minorgridcolor\": \"white\", \"startlinecolor\": \"#2a3f5f\"}, \"type\": \"carpet\"}], \"choropleth\": [{\"colorbar\": {\"outlinewidth\": 0, \"ticks\": \"\"}, \"type\": \"choropleth\"}], \"contour\": [{\"colorbar\": {\"outlinewidth\": 0, \"ticks\": \"\"}, \"colorscale\": [[0.0, \"#0d0887\"], [0.1111111111111111, \"#46039f\"], [0.2222222222222222, \"#7201a8\"], [0.3333333333333333, \"#9c179e\"], [0.4444444444444444, \"#bd3786\"], [0.5555555555555556, \"#d8576b\"], [0.6666666666666666, \"#ed7953\"], [0.7777777777777778, \"#fb9f3a\"], [0.8888888888888888, \"#fdca26\"], [1.0, \"#f0f921\"]], \"type\": \"contour\"}], \"contourcarpet\": [{\"colorbar\": {\"outlinewidth\": 0, \"ticks\": \"\"}, \"type\": \"contourcarpet\"}], \"heatmap\": [{\"colorbar\": {\"outlinewidth\": 0, \"ticks\": \"\"}, \"colorscale\": [[0.0, \"#0d0887\"], [0.1111111111111111, \"#46039f\"], [0.2222222222222222, \"#7201a8\"], [0.3333333333333333, \"#9c179e\"], [0.4444444444444444, \"#bd3786\"], [0.5555555555555556, \"#d8576b\"], [0.6666666666666666, \"#ed7953\"], [0.7777777777777778, \"#fb9f3a\"], [0.8888888888888888, \"#fdca26\"], [1.0, \"#f0f921\"]], \"type\": \"heatmap\"}], \"heatmapgl\": [{\"colorbar\": {\"outlinewidth\": 0, \"ticks\": \"\"}, \"colorscale\": [[0.0, \"#0d0887\"], [0.1111111111111111, \"#46039f\"], [0.2222222222222222, \"#7201a8\"], [0.3333333333333333, \"#9c179e\"], [0.4444444444444444, \"#bd3786\"], [0.5555555555555556, \"#d8576b\"], [0.6666666666666666, \"#ed7953\"], [0.7777777777777778, \"#fb9f3a\"], [0.8888888888888888, \"#fdca26\"], [1.0, \"#f0f921\"]], \"type\": \"heatmapgl\"}], \"histogram\": [{\"marker\": {\"colorbar\": {\"outlinewidth\": 0, \"ticks\": \"\"}}, \"type\": \"histogram\"}], \"histogram2d\": [{\"colorbar\": {\"outlinewidth\": 0, \"ticks\": \"\"}, \"colorscale\": [[0.0, \"#0d0887\"], [0.1111111111111111, \"#46039f\"], [0.2222222222222222, \"#7201a8\"], [0.3333333333333333, \"#9c179e\"], [0.4444444444444444, \"#bd3786\"], [0.5555555555555556, \"#d8576b\"], [0.6666666666666666, \"#ed7953\"], [0.7777777777777778, \"#fb9f3a\"], [0.8888888888888888, \"#fdca26\"], [1.0, \"#f0f921\"]], \"type\": \"histogram2d\"}], \"histogram2dcontour\": [{\"colorbar\": {\"outlinewidth\": 0, \"ticks\": \"\"}, \"colorscale\": [[0.0, \"#0d0887\"], [0.1111111111111111, \"#46039f\"], [0.2222222222222222, \"#7201a8\"], [0.3333333333333333, \"#9c179e\"], [0.4444444444444444, \"#bd3786\"], [0.5555555555555556, \"#d8576b\"], [0.6666666666666666, \"#ed7953\"], [0.7777777777777778, \"#fb9f3a\"], [0.8888888888888888, \"#fdca26\"], [1.0, \"#f0f921\"]], \"type\": \"histogram2dcontour\"}], \"mesh3d\": [{\"colorbar\": {\"outlinewidth\": 0, \"ticks\": \"\"}, \"type\": \"mesh3d\"}], \"parcoords\": [{\"line\": {\"colorbar\": {\"outlinewidth\": 0, \"ticks\": \"\"}}, \"type\": \"parcoords\"}], \"pie\": [{\"automargin\": true, \"type\": \"pie\"}], \"scatter\": [{\"marker\": {\"colorbar\": {\"outlinewidth\": 0, \"ticks\": \"\"}}, \"type\": \"scatter\"}], \"scatter3d\": [{\"line\": {\"colorbar\": {\"outlinewidth\": 0, \"ticks\": \"\"}}, \"marker\": {\"colorbar\": {\"outlinewidth\": 0, \"ticks\": \"\"}}, \"type\": \"scatter3d\"}], \"scattercarpet\": [{\"marker\": {\"colorbar\": {\"outlinewidth\": 0, \"ticks\": \"\"}}, \"type\": \"scattercarpet\"}], \"scattergeo\": [{\"marker\": {\"colorbar\": {\"outlinewidth\": 0, \"ticks\": \"\"}}, \"type\": \"scattergeo\"}], \"scattergl\": [{\"marker\": {\"colorbar\": {\"outlinewidth\": 0, \"ticks\": \"\"}}, \"type\": \"scattergl\"}], \"scattermapbox\": [{\"marker\": {\"colorbar\": {\"outlinewidth\": 0, \"ticks\": \"\"}}, \"type\": \"scattermapbox\"}], \"scatterpolar\": [{\"marker\": {\"colorbar\": {\"outlinewidth\": 0, \"ticks\": \"\"}}, \"type\": \"scatterpolar\"}], \"scatterpolargl\": [{\"marker\": {\"colorbar\": {\"outlinewidth\": 0, \"ticks\": \"\"}}, \"type\": \"scatterpolargl\"}], \"scatterternary\": [{\"marker\": {\"colorbar\": {\"outlinewidth\": 0, \"ticks\": \"\"}}, \"type\": \"scatterternary\"}], \"surface\": [{\"colorbar\": {\"outlinewidth\": 0, \"ticks\": \"\"}, \"colorscale\": [[0.0, \"#0d0887\"], [0.1111111111111111, \"#46039f\"], [0.2222222222222222, \"#7201a8\"], [0.3333333333333333, \"#9c179e\"], [0.4444444444444444, \"#bd3786\"], [0.5555555555555556, \"#d8576b\"], [0.6666666666666666, \"#ed7953\"], [0.7777777777777778, \"#fb9f3a\"], [0.8888888888888888, \"#fdca26\"], [1.0, \"#f0f921\"]], \"type\": \"surface\"}], \"table\": [{\"cells\": {\"fill\": {\"color\": \"#EBF0F8\"}, \"line\": {\"color\": \"white\"}}, \"header\": {\"fill\": {\"color\": \"#C8D4E3\"}, \"line\": {\"color\": \"white\"}}, \"type\": \"table\"}]}, \"layout\": {\"annotationdefaults\": {\"arrowcolor\": \"#2a3f5f\", \"arrowhead\": 0, \"arrowwidth\": 1}, \"coloraxis\": {\"colorbar\": {\"outlinewidth\": 0, \"ticks\": \"\"}}, \"colorscale\": {\"diverging\": [[0, \"#8e0152\"], [0.1, \"#c51b7d\"], [0.2, \"#de77ae\"], [0.3, \"#f1b6da\"], [0.4, \"#fde0ef\"], [0.5, \"#f7f7f7\"], [0.6, \"#e6f5d0\"], [0.7, \"#b8e186\"], [0.8, \"#7fbc41\"], [0.9, \"#4d9221\"], [1, \"#276419\"]], \"sequential\": [[0.0, \"#0d0887\"], [0.1111111111111111, \"#46039f\"], [0.2222222222222222, \"#7201a8\"], [0.3333333333333333, \"#9c179e\"], [0.4444444444444444, \"#bd3786\"], [0.5555555555555556, \"#d8576b\"], [0.6666666666666666, \"#ed7953\"], [0.7777777777777778, \"#fb9f3a\"], [0.8888888888888888, \"#fdca26\"], [1.0, \"#f0f921\"]], \"sequentialminus\": [[0.0, \"#0d0887\"], [0.1111111111111111, \"#46039f\"], [0.2222222222222222, \"#7201a8\"], [0.3333333333333333, \"#9c179e\"], [0.4444444444444444, \"#bd3786\"], [0.5555555555555556, \"#d8576b\"], [0.6666666666666666, \"#ed7953\"], [0.7777777777777778, \"#fb9f3a\"], [0.8888888888888888, \"#fdca26\"], [1.0, \"#f0f921\"]]}, \"colorway\": [\"#636efa\", \"#EF553B\", \"#00cc96\", \"#ab63fa\", \"#FFA15A\", \"#19d3f3\", \"#FF6692\", \"#B6E880\", \"#FF97FF\", \"#FECB52\"], \"font\": {\"color\": \"#2a3f5f\"}, \"geo\": {\"bgcolor\": \"white\", \"lakecolor\": \"white\", \"landcolor\": \"#E5ECF6\", \"showlakes\": true, \"showland\": true, \"subunitcolor\": \"white\"}, \"hoverlabel\": {\"align\": \"left\"}, \"hovermode\": \"closest\", \"mapbox\": {\"style\": \"light\"}, \"paper_bgcolor\": \"white\", \"plot_bgcolor\": \"#E5ECF6\", \"polar\": {\"angularaxis\": {\"gridcolor\": \"white\", \"linecolor\": \"white\", \"ticks\": \"\"}, \"bgcolor\": \"#E5ECF6\", \"radialaxis\": {\"gridcolor\": \"white\", \"linecolor\": \"white\", \"ticks\": \"\"}}, \"scene\": {\"xaxis\": {\"backgroundcolor\": \"#E5ECF6\", \"gridcolor\": \"white\", \"gridwidth\": 2, \"linecolor\": \"white\", \"showbackground\": true, \"ticks\": \"\", \"zerolinecolor\": \"white\"}, \"yaxis\": {\"backgroundcolor\": \"#E5ECF6\", \"gridcolor\": \"white\", \"gridwidth\": 2, \"linecolor\": \"white\", \"showbackground\": true, \"ticks\": \"\", \"zerolinecolor\": \"white\"}, \"zaxis\": {\"backgroundcolor\": \"#E5ECF6\", \"gridcolor\": \"white\", \"gridwidth\": 2, \"linecolor\": \"white\", \"showbackground\": true, \"ticks\": \"\", \"zerolinecolor\": \"white\"}}, \"shapedefaults\": {\"line\": {\"color\": \"#2a3f5f\"}}, \"ternary\": {\"aaxis\": {\"gridcolor\": \"white\", \"linecolor\": \"white\", \"ticks\": \"\"}, \"baxis\": {\"gridcolor\": \"white\", \"linecolor\": \"white\", \"ticks\": \"\"}, \"bgcolor\": \"#E5ECF6\", \"caxis\": {\"gridcolor\": \"white\", \"linecolor\": \"white\", \"ticks\": \"\"}}, \"title\": {\"x\": 0.05}, \"xaxis\": {\"automargin\": true, \"gridcolor\": \"white\", \"linecolor\": \"white\", \"ticks\": \"\", \"title\": {\"standoff\": 15}, \"zerolinecolor\": \"white\", \"zerolinewidth\": 2}, \"yaxis\": {\"automargin\": true, \"gridcolor\": \"white\", \"linecolor\": \"white\", \"ticks\": \"\", \"title\": {\"standoff\": 15}, \"zerolinecolor\": \"white\", \"zerolinewidth\": 2}}}, \"xaxis\": {\"anchor\": \"y\", \"domain\": [0.0, 1.0], \"title\": {\"text\": \"year_replaced\"}}, \"yaxis\": {\"anchor\": \"x\", \"domain\": [0.0, 1.0], \"title\": {\"text\": \"odometer_replaced\"}}},\n",
       "                        {\"responsive\": true}\n",
       "                    ).then(function(){\n",
       "                            \n",
       "var gd = document.getElementById('cb81c1d6-5801-42d0-b745-b5b6de1ee8cb');\n",
       "var x = new MutationObserver(function (mutations, observer) {{\n",
       "        var display = window.getComputedStyle(gd).display;\n",
       "        if (!display || display === 'none') {{\n",
       "            console.log([gd, 'removed!']);\n",
       "            Plotly.purge(gd);\n",
       "            observer.disconnect();\n",
       "        }}\n",
       "}});\n",
       "\n",
       "// Listen for the removal of the full notebook cells\n",
       "var notebookContainer = gd.closest('#notebook-container');\n",
       "if (notebookContainer) {{\n",
       "    x.observe(notebookContainer, {childList: true});\n",
       "}}\n",
       "\n",
       "// Listen for the clearing of the current output cell\n",
       "var outputEl = gd.closest('.output');\n",
       "if (outputEl) {{\n",
       "    x.observe(outputEl, {childList: true});\n",
       "}}\n",
       "\n",
       "                        })\n",
       "                };\n",
       "                });\n",
       "            </script>\n",
       "        </div>"
      ]
     },
     "metadata": {},
     "output_type": "display_data"
    }
   ],
   "source": [
    "fig = px.scatter(results, x=\"year_replaced\", y=\"odometer_replaced\")\n",
    "fig.show()"
   ]
  },
  {
   "cell_type": "code",
   "execution_count": 137,
   "id": "magnetic-showcase",
   "metadata": {},
   "outputs": [],
   "source": [
    "df = data[['replacement_vehicle_purchaseprice','maintenance2020']]"
   ]
  },
  {
   "cell_type": "code",
   "execution_count": 138,
   "id": "focal-bankruptcy",
   "metadata": {},
   "outputs": [
    {
     "data": {
      "application/vnd.plotly.v1+json": {
       "config": {
        "plotlyServerURL": "https://plot.ly"
       },
       "data": [
        {
         "hovertemplate": "replacement_vehicle_purchaseprice=%{x}<br>maintenance2020=%{y}<extra></extra>",
         "legendgroup": "",
         "marker": {
          "color": "#636efa",
          "symbol": "circle"
         },
         "mode": "markers",
         "name": "",
         "orientation": "v",
         "showlegend": false,
         "type": "scatter",
         "x": [
          39000,
          46000,
          46000,
          39000,
          39000,
          46000,
          39000,
          46000,
          46000,
          39000,
          36000,
          20500,
          20500,
          20500,
          20500,
          20500,
          20500,
          150000,
          150000,
          40000,
          39000,
          46000,
          39000,
          39000,
          71000,
          99995,
          46000,
          36000,
          29000,
          56500,
          56500,
          150000,
          150000,
          150000,
          150000,
          150000,
          150000,
          46000,
          29000,
          39000,
          39000,
          39000,
          39000,
          39000,
          36000,
          36000,
          36000,
          29000,
          29000,
          29000,
          46000,
          46000,
          46000,
          56500,
          56500,
          39000,
          39000,
          39000,
          39000,
          39000,
          29000,
          39000,
          39000,
          39000,
          46000,
          46000,
          46000,
          46000,
          36000,
          31300,
          39000,
          39000,
          39000,
          150000,
          150000,
          150000,
          29000,
          29000,
          29000,
          29000,
          36000,
          36000,
          36000,
          36000,
          36000,
          36000,
          36000,
          36000,
          36000,
          36000,
          36000,
          36000,
          36000,
          36000,
          36000,
          36000,
          36000,
          36000,
          36000,
          36000
         ],
         "xaxis": "x",
         "y": [
          3512.53,
          46.82,
          2089.54,
          919.84,
          1750.79,
          1168.03,
          1929.84,
          1189.21,
          328.22,
          922.94,
          134.13,
          268.38,
          277.37,
          532,
          76.11,
          721.14,
          1270.98,
          3645.6,
          3.47,
          271.16,
          7618.18,
          43.13,
          2393.85,
          2393.85,
          3281.28,
          1437.44,
          128.41,
          685.3,
          430.51,
          923.74,
          1810.3,
          630.44,
          3242.51,
          1276.47,
          606.49,
          1831.78,
          592.57,
          1148.55,
          606.51,
          1584.93,
          602.04,
          748.65,
          1308.76,
          7201.54,
          185.88,
          180.87,
          397.89,
          553.11,
          1334.19,
          1885.29,
          1964.83,
          1646.78,
          235.1,
          904.86,
          904.43,
          3849,
          1074.74,
          916.1,
          437.66,
          1457.66,
          213.17,
          1317.51,
          393.05,
          709.12,
          399.71,
          1193.04,
          558.25,
          5294.61,
          1012.13,
          267.36,
          272.87,
          124.93,
          3341.55,
          3993.21,
          3060.44,
          1379.19,
          1004.81,
          808.59,
          596.47,
          198.86,
          299.28,
          1575.5,
          693.82,
          522.41,
          339.8,
          585.76,
          83.97,
          2215.34,
          496.8,
          518.29,
          803.94,
          1471.43,
          1539.4,
          211.84,
          528.51,
          1443.16,
          1364.52,
          1159.98,
          1825.24,
          458.14
         ],
         "yaxis": "y"
        }
       ],
       "layout": {
        "autosize": true,
        "legend": {
         "tracegroupgap": 0
        },
        "margin": {
         "t": 60
        },
        "template": {
         "data": {
          "bar": [
           {
            "error_x": {
             "color": "#2a3f5f"
            },
            "error_y": {
             "color": "#2a3f5f"
            },
            "marker": {
             "line": {
              "color": "#E5ECF6",
              "width": 0.5
             }
            },
            "type": "bar"
           }
          ],
          "barpolar": [
           {
            "marker": {
             "line": {
              "color": "#E5ECF6",
              "width": 0.5
             }
            },
            "type": "barpolar"
           }
          ],
          "carpet": [
           {
            "aaxis": {
             "endlinecolor": "#2a3f5f",
             "gridcolor": "white",
             "linecolor": "white",
             "minorgridcolor": "white",
             "startlinecolor": "#2a3f5f"
            },
            "baxis": {
             "endlinecolor": "#2a3f5f",
             "gridcolor": "white",
             "linecolor": "white",
             "minorgridcolor": "white",
             "startlinecolor": "#2a3f5f"
            },
            "type": "carpet"
           }
          ],
          "choropleth": [
           {
            "colorbar": {
             "outlinewidth": 0,
             "ticks": ""
            },
            "type": "choropleth"
           }
          ],
          "contour": [
           {
            "colorbar": {
             "outlinewidth": 0,
             "ticks": ""
            },
            "colorscale": [
             [
              0,
              "#0d0887"
             ],
             [
              0.1111111111111111,
              "#46039f"
             ],
             [
              0.2222222222222222,
              "#7201a8"
             ],
             [
              0.3333333333333333,
              "#9c179e"
             ],
             [
              0.4444444444444444,
              "#bd3786"
             ],
             [
              0.5555555555555556,
              "#d8576b"
             ],
             [
              0.6666666666666666,
              "#ed7953"
             ],
             [
              0.7777777777777778,
              "#fb9f3a"
             ],
             [
              0.8888888888888888,
              "#fdca26"
             ],
             [
              1,
              "#f0f921"
             ]
            ],
            "type": "contour"
           }
          ],
          "contourcarpet": [
           {
            "colorbar": {
             "outlinewidth": 0,
             "ticks": ""
            },
            "type": "contourcarpet"
           }
          ],
          "heatmap": [
           {
            "colorbar": {
             "outlinewidth": 0,
             "ticks": ""
            },
            "colorscale": [
             [
              0,
              "#0d0887"
             ],
             [
              0.1111111111111111,
              "#46039f"
             ],
             [
              0.2222222222222222,
              "#7201a8"
             ],
             [
              0.3333333333333333,
              "#9c179e"
             ],
             [
              0.4444444444444444,
              "#bd3786"
             ],
             [
              0.5555555555555556,
              "#d8576b"
             ],
             [
              0.6666666666666666,
              "#ed7953"
             ],
             [
              0.7777777777777778,
              "#fb9f3a"
             ],
             [
              0.8888888888888888,
              "#fdca26"
             ],
             [
              1,
              "#f0f921"
             ]
            ],
            "type": "heatmap"
           }
          ],
          "heatmapgl": [
           {
            "colorbar": {
             "outlinewidth": 0,
             "ticks": ""
            },
            "colorscale": [
             [
              0,
              "#0d0887"
             ],
             [
              0.1111111111111111,
              "#46039f"
             ],
             [
              0.2222222222222222,
              "#7201a8"
             ],
             [
              0.3333333333333333,
              "#9c179e"
             ],
             [
              0.4444444444444444,
              "#bd3786"
             ],
             [
              0.5555555555555556,
              "#d8576b"
             ],
             [
              0.6666666666666666,
              "#ed7953"
             ],
             [
              0.7777777777777778,
              "#fb9f3a"
             ],
             [
              0.8888888888888888,
              "#fdca26"
             ],
             [
              1,
              "#f0f921"
             ]
            ],
            "type": "heatmapgl"
           }
          ],
          "histogram": [
           {
            "marker": {
             "colorbar": {
              "outlinewidth": 0,
              "ticks": ""
             }
            },
            "type": "histogram"
           }
          ],
          "histogram2d": [
           {
            "colorbar": {
             "outlinewidth": 0,
             "ticks": ""
            },
            "colorscale": [
             [
              0,
              "#0d0887"
             ],
             [
              0.1111111111111111,
              "#46039f"
             ],
             [
              0.2222222222222222,
              "#7201a8"
             ],
             [
              0.3333333333333333,
              "#9c179e"
             ],
             [
              0.4444444444444444,
              "#bd3786"
             ],
             [
              0.5555555555555556,
              "#d8576b"
             ],
             [
              0.6666666666666666,
              "#ed7953"
             ],
             [
              0.7777777777777778,
              "#fb9f3a"
             ],
             [
              0.8888888888888888,
              "#fdca26"
             ],
             [
              1,
              "#f0f921"
             ]
            ],
            "type": "histogram2d"
           }
          ],
          "histogram2dcontour": [
           {
            "colorbar": {
             "outlinewidth": 0,
             "ticks": ""
            },
            "colorscale": [
             [
              0,
              "#0d0887"
             ],
             [
              0.1111111111111111,
              "#46039f"
             ],
             [
              0.2222222222222222,
              "#7201a8"
             ],
             [
              0.3333333333333333,
              "#9c179e"
             ],
             [
              0.4444444444444444,
              "#bd3786"
             ],
             [
              0.5555555555555556,
              "#d8576b"
             ],
             [
              0.6666666666666666,
              "#ed7953"
             ],
             [
              0.7777777777777778,
              "#fb9f3a"
             ],
             [
              0.8888888888888888,
              "#fdca26"
             ],
             [
              1,
              "#f0f921"
             ]
            ],
            "type": "histogram2dcontour"
           }
          ],
          "mesh3d": [
           {
            "colorbar": {
             "outlinewidth": 0,
             "ticks": ""
            },
            "type": "mesh3d"
           }
          ],
          "parcoords": [
           {
            "line": {
             "colorbar": {
              "outlinewidth": 0,
              "ticks": ""
             }
            },
            "type": "parcoords"
           }
          ],
          "pie": [
           {
            "automargin": true,
            "type": "pie"
           }
          ],
          "scatter": [
           {
            "marker": {
             "colorbar": {
              "outlinewidth": 0,
              "ticks": ""
             }
            },
            "type": "scatter"
           }
          ],
          "scatter3d": [
           {
            "line": {
             "colorbar": {
              "outlinewidth": 0,
              "ticks": ""
             }
            },
            "marker": {
             "colorbar": {
              "outlinewidth": 0,
              "ticks": ""
             }
            },
            "type": "scatter3d"
           }
          ],
          "scattercarpet": [
           {
            "marker": {
             "colorbar": {
              "outlinewidth": 0,
              "ticks": ""
             }
            },
            "type": "scattercarpet"
           }
          ],
          "scattergeo": [
           {
            "marker": {
             "colorbar": {
              "outlinewidth": 0,
              "ticks": ""
             }
            },
            "type": "scattergeo"
           }
          ],
          "scattergl": [
           {
            "marker": {
             "colorbar": {
              "outlinewidth": 0,
              "ticks": ""
             }
            },
            "type": "scattergl"
           }
          ],
          "scattermapbox": [
           {
            "marker": {
             "colorbar": {
              "outlinewidth": 0,
              "ticks": ""
             }
            },
            "type": "scattermapbox"
           }
          ],
          "scatterpolar": [
           {
            "marker": {
             "colorbar": {
              "outlinewidth": 0,
              "ticks": ""
             }
            },
            "type": "scatterpolar"
           }
          ],
          "scatterpolargl": [
           {
            "marker": {
             "colorbar": {
              "outlinewidth": 0,
              "ticks": ""
             }
            },
            "type": "scatterpolargl"
           }
          ],
          "scatterternary": [
           {
            "marker": {
             "colorbar": {
              "outlinewidth": 0,
              "ticks": ""
             }
            },
            "type": "scatterternary"
           }
          ],
          "surface": [
           {
            "colorbar": {
             "outlinewidth": 0,
             "ticks": ""
            },
            "colorscale": [
             [
              0,
              "#0d0887"
             ],
             [
              0.1111111111111111,
              "#46039f"
             ],
             [
              0.2222222222222222,
              "#7201a8"
             ],
             [
              0.3333333333333333,
              "#9c179e"
             ],
             [
              0.4444444444444444,
              "#bd3786"
             ],
             [
              0.5555555555555556,
              "#d8576b"
             ],
             [
              0.6666666666666666,
              "#ed7953"
             ],
             [
              0.7777777777777778,
              "#fb9f3a"
             ],
             [
              0.8888888888888888,
              "#fdca26"
             ],
             [
              1,
              "#f0f921"
             ]
            ],
            "type": "surface"
           }
          ],
          "table": [
           {
            "cells": {
             "fill": {
              "color": "#EBF0F8"
             },
             "line": {
              "color": "white"
             }
            },
            "header": {
             "fill": {
              "color": "#C8D4E3"
             },
             "line": {
              "color": "white"
             }
            },
            "type": "table"
           }
          ]
         },
         "layout": {
          "annotationdefaults": {
           "arrowcolor": "#2a3f5f",
           "arrowhead": 0,
           "arrowwidth": 1
          },
          "coloraxis": {
           "colorbar": {
            "outlinewidth": 0,
            "ticks": ""
           }
          },
          "colorscale": {
           "diverging": [
            [
             0,
             "#8e0152"
            ],
            [
             0.1,
             "#c51b7d"
            ],
            [
             0.2,
             "#de77ae"
            ],
            [
             0.3,
             "#f1b6da"
            ],
            [
             0.4,
             "#fde0ef"
            ],
            [
             0.5,
             "#f7f7f7"
            ],
            [
             0.6,
             "#e6f5d0"
            ],
            [
             0.7,
             "#b8e186"
            ],
            [
             0.8,
             "#7fbc41"
            ],
            [
             0.9,
             "#4d9221"
            ],
            [
             1,
             "#276419"
            ]
           ],
           "sequential": [
            [
             0,
             "#0d0887"
            ],
            [
             0.1111111111111111,
             "#46039f"
            ],
            [
             0.2222222222222222,
             "#7201a8"
            ],
            [
             0.3333333333333333,
             "#9c179e"
            ],
            [
             0.4444444444444444,
             "#bd3786"
            ],
            [
             0.5555555555555556,
             "#d8576b"
            ],
            [
             0.6666666666666666,
             "#ed7953"
            ],
            [
             0.7777777777777778,
             "#fb9f3a"
            ],
            [
             0.8888888888888888,
             "#fdca26"
            ],
            [
             1,
             "#f0f921"
            ]
           ],
           "sequentialminus": [
            [
             0,
             "#0d0887"
            ],
            [
             0.1111111111111111,
             "#46039f"
            ],
            [
             0.2222222222222222,
             "#7201a8"
            ],
            [
             0.3333333333333333,
             "#9c179e"
            ],
            [
             0.4444444444444444,
             "#bd3786"
            ],
            [
             0.5555555555555556,
             "#d8576b"
            ],
            [
             0.6666666666666666,
             "#ed7953"
            ],
            [
             0.7777777777777778,
             "#fb9f3a"
            ],
            [
             0.8888888888888888,
             "#fdca26"
            ],
            [
             1,
             "#f0f921"
            ]
           ]
          },
          "colorway": [
           "#636efa",
           "#EF553B",
           "#00cc96",
           "#ab63fa",
           "#FFA15A",
           "#19d3f3",
           "#FF6692",
           "#B6E880",
           "#FF97FF",
           "#FECB52"
          ],
          "font": {
           "color": "#2a3f5f"
          },
          "geo": {
           "bgcolor": "white",
           "lakecolor": "white",
           "landcolor": "#E5ECF6",
           "showlakes": true,
           "showland": true,
           "subunitcolor": "white"
          },
          "hoverlabel": {
           "align": "left"
          },
          "hovermode": "closest",
          "mapbox": {
           "style": "light"
          },
          "paper_bgcolor": "white",
          "plot_bgcolor": "#E5ECF6",
          "polar": {
           "angularaxis": {
            "gridcolor": "white",
            "linecolor": "white",
            "ticks": ""
           },
           "bgcolor": "#E5ECF6",
           "radialaxis": {
            "gridcolor": "white",
            "linecolor": "white",
            "ticks": ""
           }
          },
          "scene": {
           "xaxis": {
            "backgroundcolor": "#E5ECF6",
            "gridcolor": "white",
            "gridwidth": 2,
            "linecolor": "white",
            "showbackground": true,
            "ticks": "",
            "zerolinecolor": "white"
           },
           "yaxis": {
            "backgroundcolor": "#E5ECF6",
            "gridcolor": "white",
            "gridwidth": 2,
            "linecolor": "white",
            "showbackground": true,
            "ticks": "",
            "zerolinecolor": "white"
           },
           "zaxis": {
            "backgroundcolor": "#E5ECF6",
            "gridcolor": "white",
            "gridwidth": 2,
            "linecolor": "white",
            "showbackground": true,
            "ticks": "",
            "zerolinecolor": "white"
           }
          },
          "shapedefaults": {
           "line": {
            "color": "#2a3f5f"
           }
          },
          "ternary": {
           "aaxis": {
            "gridcolor": "white",
            "linecolor": "white",
            "ticks": ""
           },
           "baxis": {
            "gridcolor": "white",
            "linecolor": "white",
            "ticks": ""
           },
           "bgcolor": "#E5ECF6",
           "caxis": {
            "gridcolor": "white",
            "linecolor": "white",
            "ticks": ""
           }
          },
          "title": {
           "x": 0.05
          },
          "xaxis": {
           "automargin": true,
           "gridcolor": "white",
           "linecolor": "white",
           "ticks": "",
           "title": {
            "standoff": 15
           },
           "zerolinecolor": "white",
           "zerolinewidth": 2
          },
          "yaxis": {
           "automargin": true,
           "gridcolor": "white",
           "linecolor": "white",
           "ticks": "",
           "title": {
            "standoff": 15
           },
           "zerolinecolor": "white",
           "zerolinewidth": 2
          }
         }
        },
        "xaxis": {
         "anchor": "y",
         "autorange": true,
         "domain": [
          0,
          1
         ],
         "range": [
          12635.43219076006,
          157864.56780923993
         ],
         "title": {
          "text": "replacement_vehicle_purchaseprice"
         },
         "type": "linear"
        },
        "yaxis": {
         "anchor": "x",
         "autorange": true,
         "domain": [
          0,
          1
         ],
         "range": [
          -536.4311694290975,
          8158.081169429098
         ],
         "title": {
          "text": "maintenance2020"
         },
         "type": "linear"
        }
       }
      },
      "image/png": "[encoded data removed]",
      "text/html": [
       "<div>\n",
       "        \n",
       "        \n",
       "            <div id=\"785a70b4-f793-4c66-9997-d585cc2473e4\" class=\"plotly-graph-div\" style=\"height:525px; width:100%;\"></div>\n",
       "            <script type=\"text/javascript\">\n",
       "                require([\"plotly\"], function(Plotly) {\n",
       "                    window.PLOTLYENV=window.PLOTLYENV || {};\n",
       "                    \n",
       "                if (document.getElementById(\"785a70b4-f793-4c66-9997-d585cc2473e4\")) {\n",
       "                    Plotly.newPlot(\n",
       "                        '785a70b4-f793-4c66-9997-d585cc2473e4',\n",
       "                        [{\"hovertemplate\": \"replacement_vehicle_purchaseprice=%{x}<br>maintenance2020=%{y}<extra></extra>\", \"legendgroup\": \"\", \"marker\": {\"color\": \"#636efa\", \"symbol\": \"circle\"}, \"mode\": \"markers\", \"name\": \"\", \"orientation\": \"v\", \"showlegend\": false, \"type\": \"scatter\", \"x\": [39000, 46000, 46000, 39000, 39000, 46000, 39000, 46000, 46000, 39000, 36000, 20500, 20500, 20500, 20500, 20500, 20500, 150000, 150000, 40000, 39000, 46000, 39000, 39000, 71000, 99995, 46000, 36000, 29000, 56500, 56500, 150000, 150000, 150000, 150000, 150000, 150000, 46000, 29000, 39000, 39000, 39000, 39000, 39000, 36000, 36000, 36000, 29000, 29000, 29000, 46000, 46000, 46000, 56500, 56500, 39000, 39000, 39000, 39000, 39000, 29000, 39000, 39000, 39000, 46000, 46000, 46000, 46000, 36000, 31300, 39000, 39000, 39000, 150000, 150000, 150000, 29000, 29000, 29000, 29000, 36000, 36000, 36000, 36000, 36000, 36000, 36000, 36000, 36000, 36000, 36000, 36000, 36000, 36000, 36000, 36000, 36000, 36000, 36000, 36000], \"xaxis\": \"x\", \"y\": [3512.53, 46.82, 2089.54, 919.84, 1750.79, 1168.03, 1929.84, 1189.21, 328.22, 922.94, 134.13, 268.38, 277.37, 532.0, 76.11, 721.14, 1270.98, 3645.6, 3.47, 271.16, 7618.18, 43.13, 2393.85, 2393.85, 3281.28, 1437.44, 128.41, 685.3, 430.51, 923.74, 1810.3, 630.44, 3242.51, 1276.47, 606.49, 1831.78, 592.57, 1148.55, 606.51, 1584.93, 602.04, 748.65, 1308.76, 7201.54, 185.88, 180.87, 397.89, 553.11, 1334.19, 1885.29, 1964.83, 1646.78, 235.1, 904.86, 904.43, 3849.0, 1074.74, 916.1, 437.66, 1457.66, 213.17, 1317.51, 393.05, 709.12, 399.71, 1193.04, 558.25, 5294.61, 1012.13, 267.36, 272.87, 124.93, 3341.55, 3993.21, 3060.44, 1379.19, 1004.81, 808.59, 596.47, 198.86, 299.28, 1575.5, 693.82, 522.41, 339.8, 585.76, 83.97, 2215.34, 496.8, 518.29, 803.94, 1471.43, 1539.4, 211.84, 528.51, 1443.16, 1364.52, 1159.98, 1825.24, 458.14], \"yaxis\": \"y\"}],\n",
       "                        {\"legend\": {\"tracegroupgap\": 0}, \"margin\": {\"t\": 60}, \"template\": {\"data\": {\"bar\": [{\"error_x\": {\"color\": \"#2a3f5f\"}, \"error_y\": {\"color\": \"#2a3f5f\"}, \"marker\": {\"line\": {\"color\": \"#E5ECF6\", \"width\": 0.5}}, \"type\": \"bar\"}], \"barpolar\": [{\"marker\": {\"line\": {\"color\": \"#E5ECF6\", \"width\": 0.5}}, \"type\": \"barpolar\"}], \"carpet\": [{\"aaxis\": {\"endlinecolor\": \"#2a3f5f\", \"gridcolor\": \"white\", \"linecolor\": \"white\", \"minorgridcolor\": \"white\", \"startlinecolor\": \"#2a3f5f\"}, \"baxis\": {\"endlinecolor\": \"#2a3f5f\", \"gridcolor\": \"white\", \"linecolor\": \"white\", \"minorgridcolor\": \"white\", \"startlinecolor\": \"#2a3f5f\"}, \"type\": \"carpet\"}], \"choropleth\": [{\"colorbar\": {\"outlinewidth\": 0, \"ticks\": \"\"}, \"type\": \"choropleth\"}], \"contour\": [{\"colorbar\": {\"outlinewidth\": 0, \"ticks\": \"\"}, \"colorscale\": [[0.0, \"#0d0887\"], [0.1111111111111111, \"#46039f\"], [0.2222222222222222, \"#7201a8\"], [0.3333333333333333, \"#9c179e\"], [0.4444444444444444, \"#bd3786\"], [0.5555555555555556, \"#d8576b\"], [0.6666666666666666, \"#ed7953\"], [0.7777777777777778, \"#fb9f3a\"], [0.8888888888888888, \"#fdca26\"], [1.0, \"#f0f921\"]], \"type\": \"contour\"}], \"contourcarpet\": [{\"colorbar\": {\"outlinewidth\": 0, \"ticks\": \"\"}, \"type\": \"contourcarpet\"}], \"heatmap\": [{\"colorbar\": {\"outlinewidth\": 0, \"ticks\": \"\"}, \"colorscale\": [[0.0, \"#0d0887\"], [0.1111111111111111, \"#46039f\"], [0.2222222222222222, \"#7201a8\"], [0.3333333333333333, \"#9c179e\"], [0.4444444444444444, \"#bd3786\"], [0.5555555555555556, \"#d8576b\"], [0.6666666666666666, \"#ed7953\"], [0.7777777777777778, \"#fb9f3a\"], [0.8888888888888888, \"#fdca26\"], [1.0, \"#f0f921\"]], \"type\": \"heatmap\"}], \"heatmapgl\": [{\"colorbar\": {\"outlinewidth\": 0, \"ticks\": \"\"}, \"colorscale\": [[0.0, \"#0d0887\"], [0.1111111111111111, \"#46039f\"], [0.2222222222222222, \"#7201a8\"], [0.3333333333333333, \"#9c179e\"], [0.4444444444444444, \"#bd3786\"], [0.5555555555555556, \"#d8576b\"], [0.6666666666666666, \"#ed7953\"], [0.7777777777777778, \"#fb9f3a\"], [0.8888888888888888, \"#fdca26\"], [1.0, \"#f0f921\"]], \"type\": \"heatmapgl\"}], \"histogram\": [{\"marker\": {\"colorbar\": {\"outlinewidth\": 0, \"ticks\": \"\"}}, \"type\": \"histogram\"}], \"histogram2d\": [{\"colorbar\": {\"outlinewidth\": 0, \"ticks\": \"\"}, \"colorscale\": [[0.0, \"#0d0887\"], [0.1111111111111111, \"#46039f\"], [0.2222222222222222, \"#7201a8\"], [0.3333333333333333, \"#9c179e\"], [0.4444444444444444, \"#bd3786\"], [0.5555555555555556, \"#d8576b\"], [0.6666666666666666, \"#ed7953\"], [0.7777777777777778, \"#fb9f3a\"], [0.8888888888888888, \"#fdca26\"], [1.0, \"#f0f921\"]], \"type\": \"histogram2d\"}], \"histogram2dcontour\": [{\"colorbar\": {\"outlinewidth\": 0, \"ticks\": \"\"}, \"colorscale\": [[0.0, \"#0d0887\"], [0.1111111111111111, \"#46039f\"], [0.2222222222222222, \"#7201a8\"], [0.3333333333333333, \"#9c179e\"], [0.4444444444444444, \"#bd3786\"], [0.5555555555555556, \"#d8576b\"], [0.6666666666666666, \"#ed7953\"], [0.7777777777777778, \"#fb9f3a\"], [0.8888888888888888, \"#fdca26\"], [1.0, \"#f0f921\"]], \"type\": \"histogram2dcontour\"}], \"mesh3d\": [{\"colorbar\": {\"outlinewidth\": 0, \"ticks\": \"\"}, \"type\": \"mesh3d\"}], \"parcoords\": [{\"line\": {\"colorbar\": {\"outlinewidth\": 0, \"ticks\": \"\"}}, \"type\": \"parcoords\"}], \"pie\": [{\"automargin\": true, \"type\": \"pie\"}], \"scatter\": [{\"marker\": {\"colorbar\": {\"outlinewidth\": 0, \"ticks\": \"\"}}, \"type\": \"scatter\"}], \"scatter3d\": [{\"line\": {\"colorbar\": {\"outlinewidth\": 0, \"ticks\": \"\"}}, \"marker\": {\"colorbar\": {\"outlinewidth\": 0, \"ticks\": \"\"}}, \"type\": \"scatter3d\"}], \"scattercarpet\": [{\"marker\": {\"colorbar\": {\"outlinewidth\": 0, \"ticks\": \"\"}}, \"type\": \"scattercarpet\"}], \"scattergeo\": [{\"marker\": {\"colorbar\": {\"outlinewidth\": 0, \"ticks\": \"\"}}, \"type\": \"scattergeo\"}], \"scattergl\": [{\"marker\": {\"colorbar\": {\"outlinewidth\": 0, \"ticks\": \"\"}}, \"type\": \"scattergl\"}], \"scattermapbox\": [{\"marker\": {\"colorbar\": {\"outlinewidth\": 0, \"ticks\": \"\"}}, \"type\": \"scattermapbox\"}], \"scatterpolar\": [{\"marker\": {\"colorbar\": {\"outlinewidth\": 0, \"ticks\": \"\"}}, \"type\": \"scatterpolar\"}], \"scatterpolargl\": [{\"marker\": {\"colorbar\": {\"outlinewidth\": 0, \"ticks\": \"\"}}, \"type\": \"scatterpolargl\"}], \"scatterternary\": [{\"marker\": {\"colorbar\": {\"outlinewidth\": 0, \"ticks\": \"\"}}, \"type\": \"scatterternary\"}], \"surface\": [{\"colorbar\": {\"outlinewidth\": 0, \"ticks\": \"\"}, \"colorscale\": [[0.0, \"#0d0887\"], [0.1111111111111111, \"#46039f\"], [0.2222222222222222, \"#7201a8\"], [0.3333333333333333, \"#9c179e\"], [0.4444444444444444, \"#bd3786\"], [0.5555555555555556, \"#d8576b\"], [0.6666666666666666, \"#ed7953\"], [0.7777777777777778, \"#fb9f3a\"], [0.8888888888888888, \"#fdca26\"], [1.0, \"#f0f921\"]], \"type\": \"surface\"}], \"table\": [{\"cells\": {\"fill\": {\"color\": \"#EBF0F8\"}, \"line\": {\"color\": \"white\"}}, \"header\": {\"fill\": {\"color\": \"#C8D4E3\"}, \"line\": {\"color\": \"white\"}}, \"type\": \"table\"}]}, \"layout\": {\"annotationdefaults\": {\"arrowcolor\": \"#2a3f5f\", \"arrowhead\": 0, \"arrowwidth\": 1}, \"coloraxis\": {\"colorbar\": {\"outlinewidth\": 0, \"ticks\": \"\"}}, \"colorscale\": {\"diverging\": [[0, \"#8e0152\"], [0.1, \"#c51b7d\"], [0.2, \"#de77ae\"], [0.3, \"#f1b6da\"], [0.4, \"#fde0ef\"], [0.5, \"#f7f7f7\"], [0.6, \"#e6f5d0\"], [0.7, \"#b8e186\"], [0.8, \"#7fbc41\"], [0.9, \"#4d9221\"], [1, \"#276419\"]], \"sequential\": [[0.0, \"#0d0887\"], [0.1111111111111111, \"#46039f\"], [0.2222222222222222, \"#7201a8\"], [0.3333333333333333, \"#9c179e\"], [0.4444444444444444, \"#bd3786\"], [0.5555555555555556, \"#d8576b\"], [0.6666666666666666, \"#ed7953\"], [0.7777777777777778, \"#fb9f3a\"], [0.8888888888888888, \"#fdca26\"], [1.0, \"#f0f921\"]], \"sequentialminus\": [[0.0, \"#0d0887\"], [0.1111111111111111, \"#46039f\"], [0.2222222222222222, \"#7201a8\"], [0.3333333333333333, \"#9c179e\"], [0.4444444444444444, \"#bd3786\"], [0.5555555555555556, \"#d8576b\"], [0.6666666666666666, \"#ed7953\"], [0.7777777777777778, \"#fb9f3a\"], [0.8888888888888888, \"#fdca26\"], [1.0, \"#f0f921\"]]}, \"colorway\": [\"#636efa\", \"#EF553B\", \"#00cc96\", \"#ab63fa\", \"#FFA15A\", \"#19d3f3\", \"#FF6692\", \"#B6E880\", \"#FF97FF\", \"#FECB52\"], \"font\": {\"color\": \"#2a3f5f\"}, \"geo\": {\"bgcolor\": \"white\", \"lakecolor\": \"white\", \"landcolor\": \"#E5ECF6\", \"showlakes\": true, \"showland\": true, \"subunitcolor\": \"white\"}, \"hoverlabel\": {\"align\": \"left\"}, \"hovermode\": \"closest\", \"mapbox\": {\"style\": \"light\"}, \"paper_bgcolor\": \"white\", \"plot_bgcolor\": \"#E5ECF6\", \"polar\": {\"angularaxis\": {\"gridcolor\": \"white\", \"linecolor\": \"white\", \"ticks\": \"\"}, \"bgcolor\": \"#E5ECF6\", \"radialaxis\": {\"gridcolor\": \"white\", \"linecolor\": \"white\", \"ticks\": \"\"}}, \"scene\": {\"xaxis\": {\"backgroundcolor\": \"#E5ECF6\", \"gridcolor\": \"white\", \"gridwidth\": 2, \"linecolor\": \"white\", \"showbackground\": true, \"ticks\": \"\", \"zerolinecolor\": \"white\"}, \"yaxis\": {\"backgroundcolor\": \"#E5ECF6\", \"gridcolor\": \"white\", \"gridwidth\": 2, \"linecolor\": \"white\", \"showbackground\": true, \"ticks\": \"\", \"zerolinecolor\": \"white\"}, \"zaxis\": {\"backgroundcolor\": \"#E5ECF6\", \"gridcolor\": \"white\", \"gridwidth\": 2, \"linecolor\": \"white\", \"showbackground\": true, \"ticks\": \"\", \"zerolinecolor\": \"white\"}}, \"shapedefaults\": {\"line\": {\"color\": \"#2a3f5f\"}}, \"ternary\": {\"aaxis\": {\"gridcolor\": \"white\", \"linecolor\": \"white\", \"ticks\": \"\"}, \"baxis\": {\"gridcolor\": \"white\", \"linecolor\": \"white\", \"ticks\": \"\"}, \"bgcolor\": \"#E5ECF6\", \"caxis\": {\"gridcolor\": \"white\", \"linecolor\": \"white\", \"ticks\": \"\"}}, \"title\": {\"x\": 0.05}, \"xaxis\": {\"automargin\": true, \"gridcolor\": \"white\", \"linecolor\": \"white\", \"ticks\": \"\", \"title\": {\"standoff\": 15}, \"zerolinecolor\": \"white\", \"zerolinewidth\": 2}, \"yaxis\": {\"automargin\": true, \"gridcolor\": \"white\", \"linecolor\": \"white\", \"ticks\": \"\", \"title\": {\"standoff\": 15}, \"zerolinecolor\": \"white\", \"zerolinewidth\": 2}}}, \"xaxis\": {\"anchor\": \"y\", \"domain\": [0.0, 1.0], \"title\": {\"text\": \"replacement_vehicle_purchaseprice\"}}, \"yaxis\": {\"anchor\": \"x\", \"domain\": [0.0, 1.0], \"title\": {\"text\": \"maintenance2020\"}}},\n",
       "                        {\"responsive\": true}\n",
       "                    ).then(function(){\n",
       "                            \n",
       "var gd = document.getElementById('785a70b4-f793-4c66-9997-d585cc2473e4');\n",
       "var x = new MutationObserver(function (mutations, observer) {{\n",
       "        var display = window.getComputedStyle(gd).display;\n",
       "        if (!display || display === 'none') {{\n",
       "            console.log([gd, 'removed!']);\n",
       "            Plotly.purge(gd);\n",
       "            observer.disconnect();\n",
       "        }}\n",
       "}});\n",
       "\n",
       "// Listen for the removal of the full notebook cells\n",
       "var notebookContainer = gd.closest('#notebook-container');\n",
       "if (notebookContainer) {{\n",
       "    x.observe(notebookContainer, {childList: true});\n",
       "}}\n",
       "\n",
       "// Listen for the clearing of the current output cell\n",
       "var outputEl = gd.closest('.output');\n",
       "if (outputEl) {{\n",
       "    x.observe(outputEl, {childList: true});\n",
       "}}\n",
       "\n",
       "                        })\n",
       "                };\n",
       "                });\n",
       "            </script>\n",
       "        </div>"
      ]
     },
     "metadata": {},
     "output_type": "display_data"
    }
   ],
   "source": [
    "fig = px.scatter(df, x=\"replacement_vehicle_purchaseprice\", y=\"maintenance2020\")\n",
    "fig.show()"
   ]
  },
  {
   "cell_type": "code",
   "execution_count": null,
   "id": "blond-truck",
   "metadata": {},
   "outputs": [],
   "source": [
    "#i want to know what year each vehicle was replaced (don't necessarily need first)\n",
    "#then what was the age of the vehicle the year before that\n",
    "#what was the odometer the year before that\n",
    "#what was the usage the year before that\n",
    "\n",
    "#you can plot replacement year against all of these, as well as acquisition cost, mx, etc.\n",
    "\n",
    "\n"
   ]
  },
  {
   "cell_type": "code",
   "execution_count": null,
   "id": "meaning-services",
   "metadata": {},
   "outputs": [],
   "source": []
  },
  {
   "cell_type": "code",
   "execution_count": null,
   "id": "olive-cycling",
   "metadata": {},
   "outputs": [],
   "source": []
  }
 ],
 "metadata": {
  "kernelspec": {
   "display_name": "Python 3",
   "language": "python",
   "name": "python3"
  },
  "language_info": {
   "codemirror_mode": {
    "name": "ipython",
    "version": 3
   },
   "file_extension": ".py",
   "mimetype": "text/x-python",
   "name": "python",
   "nbconvert_exporter": "python",
   "pygments_lexer": "ipython3",
   "version": "3.7.10"
  }
 },
 "nbformat": 4,
 "nbformat_minor": 5
}
