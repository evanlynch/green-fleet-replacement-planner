{
 "cells": [
  {
   "cell_type": "code",
   "execution_count": null,
   "id": "normal-planner",
   "metadata": {},
   "outputs": [],
   "source": [
    "import numpy as np\n",
    "from sympy.utilities.iterables import multiset_permutations\n",
    "import time\n",
    "import pandas as pd\n",
    "import gurobipy as grb\n",
    "import datetime\n",
    "import random\n",
    "np.set_printoptions(edgeitems=15,linewidth=600)\n",
    "import warnings\n",
    "warnings.filterwarnings(\"ignore\")\n",
    "%load_ext autoreload\n",
    "%autoreload 2\n",
    "import sys\n",
    "import os\n",
    "sys.path.append(os.path.join(os.getcwd(), '..'))\n",
    "from src.optimization.MIP.mip_inputs import *\n",
    "from src.optimization.MIP.mip_model import *\n",
    "from src.optimization.MIP.mip_outputs import *"
   ]
  },
  {
   "cell_type": "code",
   "execution_count": null,
   "id": "deluxe-integer",
   "metadata": {},
   "outputs": [],
   "source": [
    "roadmapSelected = 'A'"
   ]
  },
  {
   "cell_type": "code",
   "execution_count": null,
   "id": "short-wesley",
   "metadata": {},
   "outputs": [],
   "source": [
    "UI_params = {\n",
    "    'initial_procurement_budget':350000,\n",
    "    'budget_rate':0.03,\n",
    "    'initial_operations_budget':300000,\n",
    "    'planning_interval':[2022,2037],\n",
    "    'emissions_baseline': data.emissions2020.sum(),#metric tons\n",
    "    'emissions_target_pct_of_base':0.40,\n",
    "    'min_miles_replacement_threshold':150000,#miles\n",
    "    'min_vehicle_age_replacement_threshold':60,#years\n",
    "    'objective_weights':{'cost':1,'emissions':0},\n",
    "}"
   ]
  },
  {
   "cell_type": "code",
   "execution_count": null,
   "id": "heated-wayne",
   "metadata": {},
   "outputs": [],
   "source": [
    "total_costs = {}\n",
    "end_emissions = {}"
   ]
  },
  {
   "cell_type": "markdown",
   "id": "handled-lease",
   "metadata": {},
   "source": [
    "### SA1 "
   ]
  },
  {
   "cell_type": "code",
   "execution_count": null,
   "id": "opened-davis",
   "metadata": {},
   "outputs": [],
   "source": [
    "data = pd.read_excel('../data/NoCode_SensitivityAnalysisData_10APR21.xlsx',sheet_name='SA-1')#.head(30)\n",
    "data['current_age'] = datetime.datetime.now().year - pd.to_datetime(data.purchasedate).dt.year\n",
    "data = data.reset_index().rename({\"index\":\"vehicle_idx\"},axis=1)\n",
    "data['county'] = 'Baltimore County'\n",
    "data = data.drop_duplicates('equipmentid')\n",
    "data = data[data.vehicle_idx<1458]"
   ]
  },
  {
   "cell_type": "code",
   "execution_count": null,
   "id": "common-weekend",
   "metadata": {},
   "outputs": [],
   "source": [
    "inputs = MIP_Inputs(data,UI_params)\n",
    "m,x,vehicles,penalty_budget,penalty_emissions,validSchedulesPerVehicle,validSchedules = carnet(inputs)\n",
    "outputs = MIP_Outputs(data,UI_params,m,x,vehicles,penalty_budget,penalty_emissions,validSchedulesPerVehicle,validSchedules)\n",
    "alt_solutions = outputs.get_alternative_solutions()\n",
    "options = select_alternative_solutions(alt_solutions,outputs)"
   ]
  },
  {
   "cell_type": "code",
   "execution_count": null,
   "id": "altered-laser",
   "metadata": {
    "scrolled": true
   },
   "outputs": [],
   "source": [
    "for v in inputs.vehicle_idx:\n",
    "    for s in validSchedulesPerVehicle[v]:\n",
    "        decision = x[v,s].x\n",
    "        if decision == 1:\n",
    "            print(inputs.age[v,s,:])"
   ]
  },
  {
   "cell_type": "code",
   "execution_count": null,
   "id": "primary-general",
   "metadata": {},
   "outputs": [],
   "source": [
    "cost = outputs.get_total_cost('A',roadmap_lookup,options)\n",
    "cost"
   ]
  },
  {
   "cell_type": "code",
   "execution_count": null,
   "id": "modified-flavor",
   "metadata": {},
   "outputs": [],
   "source": [
    "emissions = outputs.get_final_year_emissions('A',roadmap_lookup,options)/inputs.emissions_baseline\n",
    "emissions"
   ]
  },
  {
   "cell_type": "code",
   "execution_count": null,
   "id": "accomplished-license",
   "metadata": {},
   "outputs": [],
   "source": [
    "total_costs['SA1'] = cost\n",
    "end_emissions['SA1'] = emissions"
   ]
  },
  {
   "cell_type": "raw",
   "id": "altered-education",
   "metadata": {},
   "source": [
    "pd.DataFrame(options[roadmap_lookup['A'],'schedules'])"
   ]
  },
  {
   "cell_type": "raw",
   "id": "prescribed-timothy",
   "metadata": {},
   "source": [
    "visualize_ev_vs_ice(roadmapSelected,options,inputs)"
   ]
  },
  {
   "cell_type": "markdown",
   "id": "finite-calculation",
   "metadata": {},
   "source": [
    "### SA2"
   ]
  },
  {
   "cell_type": "code",
   "execution_count": null,
   "id": "everyday-turner",
   "metadata": {},
   "outputs": [],
   "source": [
    "data = pd.read_excel('../data/NoCode_SensitivityAnalysisData_10APR21.xlsx',sheet_name='SA-2')\n",
    "data['current_age'] = datetime.datetime.now().year - pd.to_datetime(data.purchasedate).dt.year\n",
    "data = data.reset_index().rename({\"index\":\"vehicle_idx\"},axis=1)\n",
    "data['county'] = 'Baltimore County'\n",
    "data = data.drop_duplicates('equipmentid')\n",
    "data = data[data.vehicle_idx<1458]"
   ]
  },
  {
   "cell_type": "code",
   "execution_count": null,
   "id": "friendly-helen",
   "metadata": {},
   "outputs": [],
   "source": [
    "inputs = MIP_Inputs(data,UI_params)\n",
    "m,x,vehicles,penalty_budget,penalty_emissions,validSchedulesPerVehicle,validSchedules = carnet(inputs)\n",
    "outputs = MIP_Outputs(data,UI_params,m,x,vehicles,penalty_budget,penalty_emissions,validSchedulesPerVehicle,validSchedules)\n",
    "alt_solutions = outputs.get_alternative_solutions()\n",
    "options = select_alternative_solutions(alt_solutions,outputs)"
   ]
  },
  {
   "cell_type": "code",
   "execution_count": null,
   "id": "cognitive-reason",
   "metadata": {},
   "outputs": [],
   "source": [
    "cost = outputs.get_total_cost('A',roadmap_lookup,options)\n",
    "cost"
   ]
  },
  {
   "cell_type": "code",
   "execution_count": null,
   "id": "wooden-storage",
   "metadata": {},
   "outputs": [],
   "source": [
    "emissions = outputs.get_final_year_emissions('A',roadmap_lookup,options)/inputs.emissions_baseline\n",
    "emissions"
   ]
  },
  {
   "cell_type": "code",
   "execution_count": null,
   "id": "local-laser",
   "metadata": {},
   "outputs": [],
   "source": [
    "total_costs['SA2'] = cost\n",
    "end_emissions['SA2'] = emissions"
   ]
  },
  {
   "cell_type": "markdown",
   "id": "ready-variance",
   "metadata": {},
   "source": [
    "### SA3"
   ]
  },
  {
   "cell_type": "code",
   "execution_count": null,
   "id": "spanish-organic",
   "metadata": {},
   "outputs": [],
   "source": [
    "data = pd.read_excel('../data/NoCode_SensitivityAnalysisData_10APR21.xlsx',sheet_name='SA-3')\n",
    "data['current_age'] = datetime.datetime.now().year - pd.to_datetime(data.purchasedate).dt.year\n",
    "data = data.reset_index().rename({\"index\":\"vehicle_idx\"},axis=1)\n",
    "data['county'] = 'Baltimore County'\n",
    "data = data.drop_duplicates('equipmentid')\n",
    "data = data[data.vehicle_idx<1458]"
   ]
  },
  {
   "cell_type": "code",
   "execution_count": null,
   "id": "hazardous-answer",
   "metadata": {},
   "outputs": [],
   "source": [
    "inputs = MIP_Inputs(data,UI_params)\n",
    "m,x,vehicles,penalty_budget,penalty_emissions,validSchedulesPerVehicle,validSchedules = carnet(inputs)\n",
    "outputs = MIP_Outputs(data,UI_params,m,x,vehicles,penalty_budget,penalty_emissions,validSchedulesPerVehicle,validSchedules)\n",
    "alt_solutions = outputs.get_alternative_solutions()\n",
    "options = select_alternative_solutions(alt_solutions,outputs)"
   ]
  },
  {
   "cell_type": "code",
   "execution_count": null,
   "id": "banned-ladder",
   "metadata": {},
   "outputs": [],
   "source": [
    "cost = outputs.get_total_cost('A',roadmap_lookup,options)\n",
    "cost"
   ]
  },
  {
   "cell_type": "code",
   "execution_count": null,
   "id": "romantic-malta",
   "metadata": {},
   "outputs": [],
   "source": [
    "emissions = outputs.get_final_year_emissions('A',roadmap_lookup,options)/inputs.emissions_baseline\n",
    "emissions"
   ]
  },
  {
   "cell_type": "code",
   "execution_count": null,
   "id": "exceptional-plasma",
   "metadata": {},
   "outputs": [],
   "source": [
    "total_costs['SA3'] = cost\n",
    "end_emissions['SA3'] = emissions"
   ]
  },
  {
   "cell_type": "markdown",
   "id": "systematic-hospital",
   "metadata": {},
   "source": [
    "### SA4"
   ]
  },
  {
   "cell_type": "code",
   "execution_count": null,
   "id": "ancient-doubt",
   "metadata": {},
   "outputs": [],
   "source": [
    "data = pd.read_excel('../data/NoCode_SensitivityAnalysisData_10APR21.xlsx',sheet_name='SA-4')\n",
    "data['current_age'] = datetime.datetime.now().year - pd.to_datetime(data.purchasedate).dt.year\n",
    "data = data.reset_index().rename({\"index\":\"vehicle_idx\"},axis=1)\n",
    "data['county'] = 'Baltimore County'\n",
    "data = data.drop_duplicates('equipmentid')\n",
    "data = data[data.vehicle_idx<1458]"
   ]
  },
  {
   "cell_type": "code",
   "execution_count": null,
   "id": "expanded-moral",
   "metadata": {},
   "outputs": [],
   "source": [
    "inputs = MIP_Inputs(data,UI_params)\n",
    "m,x,vehicles,penalty_budget,penalty_emissions,validSchedulesPerVehicle,validSchedules = carnet(inputs)\n",
    "outputs = MIP_Outputs(data,UI_params,m,x,vehicles,penalty_budget,penalty_emissions,validSchedulesPerVehicle,validSchedules)\n",
    "alt_solutions = outputs.get_alternative_solutions()\n",
    "options = select_alternative_solutions(alt_solutions,outputs)"
   ]
  },
  {
   "cell_type": "code",
   "execution_count": null,
   "id": "documentary-independence",
   "metadata": {},
   "outputs": [],
   "source": [
    "cost = outputs.get_total_cost('A',roadmap_lookup,options)\n",
    "cost"
   ]
  },
  {
   "cell_type": "code",
   "execution_count": null,
   "id": "valuable-milan",
   "metadata": {},
   "outputs": [],
   "source": [
    "emissions = outputs.get_final_year_emissions('A',roadmap_lookup,options)/inputs.emissions_baseline\n",
    "emissions"
   ]
  },
  {
   "cell_type": "code",
   "execution_count": null,
   "id": "muslim-fundamental",
   "metadata": {},
   "outputs": [],
   "source": [
    "total_costs['SA4'] = cost\n",
    "end_emissions['SA4'] = emissions"
   ]
  },
  {
   "cell_type": "markdown",
   "id": "united-viking",
   "metadata": {},
   "source": [
    "### SA5"
   ]
  },
  {
   "cell_type": "code",
   "execution_count": null,
   "id": "greatest-andrews",
   "metadata": {},
   "outputs": [],
   "source": [
    "data = pd.read_excel('../data/NoCode_SensitivityAnalysisData_10APR21.xlsx',sheet_name='SA-5')\n",
    "data['current_age'] = datetime.datetime.now().year - pd.to_datetime(data.purchasedate).dt.year\n",
    "data = data.reset_index().rename({\"index\":\"vehicle_idx\"},axis=1)\n",
    "data['county'] = 'Baltimore County'\n",
    "data = data.drop_duplicates('equipmentid')\n",
    "data = data[data.vehicle_idx<1458]"
   ]
  },
  {
   "cell_type": "code",
   "execution_count": null,
   "id": "maritime-train",
   "metadata": {},
   "outputs": [],
   "source": [
    "inputs = MIP_Inputs(data,UI_params)\n",
    "m,x,vehicles,penalty_budget,penalty_emissions,validSchedulesPerVehicle,validSchedules = carnet(inputs)\n",
    "outputs = MIP_Outputs(data,UI_params,m,x,vehicles,penalty_budget,penalty_emissions,validSchedulesPerVehicle,validSchedules)\n",
    "alt_solutions = outputs.get_alternative_solutions()\n",
    "options = select_alternative_solutions(alt_solutions,outputs)"
   ]
  },
  {
   "cell_type": "code",
   "execution_count": null,
   "id": "satisfied-cheat",
   "metadata": {},
   "outputs": [],
   "source": [
    "cost = outputs.get_total_cost('A',roadmap_lookup,options)\n",
    "cost"
   ]
  },
  {
   "cell_type": "code",
   "execution_count": null,
   "id": "opponent-empire",
   "metadata": {},
   "outputs": [],
   "source": [
    "emissions = outputs.get_final_year_emissions('A',roadmap_lookup,options)/inputs.emissions_baseline\n",
    "emissions"
   ]
  },
  {
   "cell_type": "code",
   "execution_count": null,
   "id": "current-savage",
   "metadata": {},
   "outputs": [],
   "source": [
    "total_costs['SA5'] = cost\n",
    "end_emissions['SA5'] = emissions"
   ]
  },
  {
   "cell_type": "markdown",
   "id": "broadband-elephant",
   "metadata": {},
   "source": [
    "### SA6"
   ]
  },
  {
   "cell_type": "code",
   "execution_count": null,
   "id": "descending-zoning",
   "metadata": {},
   "outputs": [],
   "source": [
    "data = pd.read_excel('../data/NoCode_SensitivityAnalysisData_10APR21.xlsx',sheet_name='SA-6')\n",
    "data['current_age'] = datetime.datetime.now().year - pd.to_datetime(data.purchasedate).dt.year\n",
    "data = data.reset_index().rename({\"index\":\"vehicle_idx\"},axis=1)\n",
    "data['county'] = 'Baltimore County'\n",
    "data = data.drop_duplicates('equipmentid')\n",
    "data = data[data.vehicle_idx<1458]"
   ]
  },
  {
   "cell_type": "code",
   "execution_count": null,
   "id": "eligible-kentucky",
   "metadata": {},
   "outputs": [],
   "source": [
    "inputs = MIP_Inputs(data,UI_params)\n",
    "m,x,vehicles,penalty_budget,penalty_emissions,validSchedulesPerVehicle,validSchedules = carnet(inputs)\n",
    "outputs = MIP_Outputs(data,UI_params,m,x,vehicles,penalty_budget,penalty_emissions,validSchedulesPerVehicle,validSchedules)\n",
    "alt_solutions = outputs.get_alternative_solutions()\n",
    "options = select_alternative_solutions(alt_solutions,outputs)"
   ]
  },
  {
   "cell_type": "code",
   "execution_count": null,
   "id": "nutritional-bennett",
   "metadata": {},
   "outputs": [],
   "source": [
    "cost = outputs.get_total_cost('A',roadmap_lookup,options)\n",
    "cost"
   ]
  },
  {
   "cell_type": "code",
   "execution_count": null,
   "id": "gorgeous-testament",
   "metadata": {},
   "outputs": [],
   "source": [
    "emissions = outputs.get_final_year_emissions('A',roadmap_lookup,options)/inputs.emissions_baseline\n",
    "emissions"
   ]
  },
  {
   "cell_type": "code",
   "execution_count": null,
   "id": "legitimate-ladder",
   "metadata": {},
   "outputs": [],
   "source": [
    "total_costs['SA6'] = cost\n",
    "end_emissions['SA6'] = emissions"
   ]
  },
  {
   "cell_type": "markdown",
   "id": "accessible-payment",
   "metadata": {},
   "source": [
    "### SA7"
   ]
  },
  {
   "cell_type": "code",
   "execution_count": null,
   "id": "respected-thesis",
   "metadata": {},
   "outputs": [],
   "source": [
    "data = pd.read_excel('../data/NoCode_SensitivityAnalysisData_10APR21.xlsx',sheet_name='SA-7')\n",
    "data['current_age'] = datetime.datetime.now().year - pd.to_datetime(data.purchasedate).dt.year\n",
    "data = data.reset_index().rename({\"index\":\"vehicle_idx\"},axis=1)\n",
    "data['county'] = 'Baltimore County'\n",
    "data = data.drop_duplicates('equipmentid')\n",
    "data = data[data.vehicle_idx<1458]"
   ]
  },
  {
   "cell_type": "code",
   "execution_count": null,
   "id": "prescription-checklist",
   "metadata": {},
   "outputs": [],
   "source": [
    "inputs = MIP_Inputs(data,UI_params)\n",
    "m,x,vehicles,penalty_budget,penalty_emissions,validSchedulesPerVehicle,validSchedules = carnet(inputs)\n",
    "outputs = MIP_Outputs(data,UI_params,m,x,vehicles,penalty_budget,penalty_emissions,validSchedulesPerVehicle,validSchedules)\n",
    "alt_solutions = outputs.get_alternative_solutions()\n",
    "options = select_alternative_solutions(alt_solutions,outputs)"
   ]
  },
  {
   "cell_type": "code",
   "execution_count": null,
   "id": "smart-institute",
   "metadata": {},
   "outputs": [],
   "source": [
    "cost = outputs.get_total_cost('A',roadmap_lookup,options)\n",
    "cost"
   ]
  },
  {
   "cell_type": "code",
   "execution_count": null,
   "id": "strong-robin",
   "metadata": {},
   "outputs": [],
   "source": [
    "emissions = outputs.get_final_year_emissions('A',roadmap_lookup,options)/inputs.emissions_baseline\n",
    "emissions"
   ]
  },
  {
   "cell_type": "code",
   "execution_count": null,
   "id": "living-poland",
   "metadata": {},
   "outputs": [],
   "source": [
    "total_costs['SA7'] = cost\n",
    "end_emissions['SA7'] = emissions"
   ]
  },
  {
   "cell_type": "markdown",
   "id": "specific-sympathy",
   "metadata": {},
   "source": [
    "### SA8"
   ]
  },
  {
   "cell_type": "code",
   "execution_count": null,
   "id": "documented-people",
   "metadata": {},
   "outputs": [],
   "source": [
    "data = pd.read_excel('../data/NoCode_SensitivityAnalysisData_10APR21.xlsx',sheet_name='SA-8')\n",
    "data['current_age'] = datetime.datetime.now().year - pd.to_datetime(data.purchasedate).dt.year\n",
    "data = data.reset_index().rename({\"index\":\"vehicle_idx\"},axis=1)\n",
    "data['county'] = 'Baltimore County'\n",
    "data = data.drop_duplicates('equipmentid')\n",
    "data = data[data.vehicle_idx<1458]"
   ]
  },
  {
   "cell_type": "code",
   "execution_count": null,
   "id": "common-wrestling",
   "metadata": {},
   "outputs": [],
   "source": [
    "inputs = MIP_Inputs(data,UI_params)\n",
    "m,x,vehicles,penalty_budget,penalty_emissions,validSchedulesPerVehicle,validSchedules = carnet(inputs)\n",
    "outputs = MIP_Outputs(data,UI_params,m,x,vehicles,penalty_budget,penalty_emissions,validSchedulesPerVehicle,validSchedules)\n",
    "alt_solutions = outputs.get_alternative_solutions()\n",
    "options = select_alternative_solutions(alt_solutions,outputs)"
   ]
  },
  {
   "cell_type": "code",
   "execution_count": null,
   "id": "certain-sword",
   "metadata": {},
   "outputs": [],
   "source": [
    "cost = outputs.get_total_cost('A',roadmap_lookup,options)\n",
    "cost"
   ]
  },
  {
   "cell_type": "code",
   "execution_count": null,
   "id": "infrared-injury",
   "metadata": {},
   "outputs": [],
   "source": [
    "emissions = outputs.get_final_year_emissions('A',roadmap_lookup,options)/inputs.emissions_baseline\n",
    "emissions"
   ]
  },
  {
   "cell_type": "code",
   "execution_count": null,
   "id": "enclosed-monitor",
   "metadata": {},
   "outputs": [],
   "source": [
    "total_costs['SA8'] = cost\n",
    "end_emissions['SA8'] = emissions"
   ]
  }
 ],
 "metadata": {
  "kernelspec": {
   "display_name": "Python 3",
   "language": "python",
   "name": "python3"
  },
  "language_info": {
   "codemirror_mode": {
    "name": "ipython",
    "version": 3
   },
   "file_extension": ".py",
   "mimetype": "text/x-python",
   "name": "python",
   "nbconvert_exporter": "python",
   "pygments_lexer": "ipython3",
   "version": "3.7.10"
  }
 },
 "nbformat": 4,
 "nbformat_minor": 5
}
