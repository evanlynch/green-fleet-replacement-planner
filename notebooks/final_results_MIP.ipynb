{
 "cells": [
  {
   "cell_type": "code",
   "execution_count": null,
   "id": "introductory-bachelor",
   "metadata": {},
   "outputs": [],
   "source": [
    "import numpy as np\n",
    "from sympy.utilities.iterables import multiset_permutations\n",
    "import time\n",
    "import pandas as pd\n",
    "import gurobipy as grb\n",
    "import datetime\n",
    "import random\n",
    "np.set_printoptions(edgeitems=15,linewidth=600)\n",
    "import warnings\n",
    "warnings.filterwarnings(\"ignore\")\n",
    "%load_ext autoreload\n",
    "%autoreload 2\n",
    "import sys\n",
    "import os\n",
    "import plotly.express as px\n",
    "sys.path.append(os.path.join(os.getcwd(), '..'))\n",
    "from src.optimization.MIP.mip_inputs import *\n",
    "from src.optimization.MIP.mip_model import *\n",
    "from src.optimization.MIP.mip_outputs import *"
   ]
  },
  {
   "cell_type": "code",
   "execution_count": null,
   "id": "fresh-rates",
   "metadata": {},
   "outputs": [],
   "source": [
    "roadmapSelected = 'A'"
   ]
  },
  {
   "cell_type": "code",
   "execution_count": null,
   "id": "piano-duncan",
   "metadata": {},
   "outputs": [],
   "source": [
    "UI_params = {\n",
    "    'initial_procurement_budget':350000,\n",
    "    'budget_rate':0.03,\n",
    "    'initial_operations_budget':300000,\n",
    "    'planning_interval':[2022,2037],\n",
    "    'emissions_baseline': data.emissions2020.sum(),#metric tons\n",
    "    'emissions_target_pct_of_base':0.40,\n",
    "    'min_miles_replacement_threshold':150000,#miles\n",
    "    'min_vehicle_age_replacement_threshold':60,#years\n",
    "    'objective_weights':{'cost':1,'emissions':0},\n",
    "}"
   ]
  },
  {
   "cell_type": "code",
   "execution_count": null,
   "id": "ruled-consortium",
   "metadata": {},
   "outputs": [],
   "source": [
    "data = pd.read_excel('../data/04APR_data_template.xlsx').head(100)\n",
    "data['current_age'] = datetime.datetime.now().year - pd.to_datetime(data.purchasedate).dt.year\n",
    "data = data.reset_index().rename({\"index\":\"vehicle_idx\"},axis=1)\n",
    "data['county'] = 'Baltimore County'\n",
    "data = data.drop_duplicates('equipmentid')\n",
    "data = data[data.vehicle_idx<1458]"
   ]
  },
  {
   "cell_type": "code",
   "execution_count": null,
   "id": "marine-hartford",
   "metadata": {
    "scrolled": true
   },
   "outputs": [],
   "source": [
    "%%time\n",
    "inputs = MIP_Inputs(data,UI_params)\n",
    "m,x,vehicles,penalty_budget,penalty_emissions,validSchedulesPerVehicle,validSchedules = carnet(inputs)"
   ]
  },
  {
   "cell_type": "code",
   "execution_count": null,
   "id": "outer-census",
   "metadata": {},
   "outputs": [],
   "source": [
    "outputs = MIP_Outputs(data,UI_params,m,x,vehicles,penalty_budget,penalty_emissions,validSchedulesPerVehicle,validSchedules)\n",
    "alt_solutions = outputs.get_alternative_solutions()\n",
    "options = select_alternative_solutions(alt_solutions,outputs)"
   ]
  },
  {
   "cell_type": "code",
   "execution_count": null,
   "id": "victorian-street",
   "metadata": {
    "scrolled": true
   },
   "outputs": [],
   "source": [
    "replacement_details = {}\n",
    "\n",
    "for v in inputs.vehicle_idx:\n",
    "    for s in validSchedulesPerVehicle[v]:\n",
    "        decision = x[v,s].x\n",
    "        if decision == 1:\n",
    "            sched = inputs.replacement_schedules[v,s,:]\n",
    "            \n",
    "            try:\n",
    "                year_replaced = np.where(sched==1)[0][0]\n",
    "                prior_year = year_replaced - 1\n",
    "            except:\n",
    "                year_replaced = 999\n",
    "                prior_year = 999\n",
    "            \n",
    "            #special case: prior year = -1, this means it was replaced right away\n",
    "            if prior_year == -1:\n",
    "                \n",
    "                age_replaced = inputs.current_vehicle_ages[v]\n",
    "                vmt_replaced = inputs.data.miles2020[v]\n",
    "                odometer_replaced = inputs.data.cumulative_miles[v]\n",
    "            \n",
    "            #special case 2: prior year = 998, this means it was never replaced (ignoring for now)\n",
    "            elif prior_year == 999:\n",
    "                age_replaced = 999\n",
    "                vmt_replaced = 999\n",
    "            \n",
    "            else:\n",
    "                age_replaced = inputs.age[v,s,prior_year]\n",
    "                vmt_replaced = inputs.annual_mileage[v,s,prior_year]\n",
    "                odometer_replaced = inputs.odometer[v,s,prior_year]\n",
    "                \n",
    "            replacement_details[v] = (year_replaced,age_replaced,vmt_replaced,odometer_replaced)"
   ]
  },
  {
   "cell_type": "code",
   "execution_count": null,
   "id": "attempted-cycling",
   "metadata": {},
   "outputs": [],
   "source": [
    "results = pd.DataFrame(replacement_details).T\n",
    "results.reset_index(inplace=True)\n",
    "results.columns = ['vehicle_idx','year_replaced','age_replaced','annual_mileage_replaced','odometer_replaced']"
   ]
  },
  {
   "cell_type": "code",
   "execution_count": null,
   "id": "musical-manual",
   "metadata": {},
   "outputs": [],
   "source": [
    "results = results.merge(data[['vehicle_idx','replacement_vehicle_purchaseprice']],on='vehicle_idx',how='left')"
   ]
  },
  {
   "cell_type": "code",
   "execution_count": null,
   "id": "aggregate-botswana",
   "metadata": {},
   "outputs": [],
   "source": [
    "resultsReplaced = results.copy()"
   ]
  },
  {
   "cell_type": "code",
   "execution_count": null,
   "id": "fossil-senior",
   "metadata": {},
   "outputs": [],
   "source": [
    "resultsReplaced = resultsReplaced[resultsReplaced.year_replaced!=999]"
   ]
  },
  {
   "cell_type": "code",
   "execution_count": null,
   "id": "endless-practitioner",
   "metadata": {},
   "outputs": [],
   "source": [
    "cost = outputs.get_total_cost('A',roadmap_lookup,options)\n",
    "cost"
   ]
  },
  {
   "cell_type": "code",
   "execution_count": null,
   "id": "based-shanghai",
   "metadata": {},
   "outputs": [],
   "source": [
    "emissions = outputs.get_final_year_emissions('A',roadmap_lookup,options)/inputs.emissions_baseline\n",
    "emissions"
   ]
  },
  {
   "cell_type": "code",
   "execution_count": null,
   "id": "adequate-arrival",
   "metadata": {},
   "outputs": [],
   "source": [
    "np.median(inputs.annual_mileage)*.18*1458"
   ]
  },
  {
   "cell_type": "code",
   "execution_count": null,
   "id": "exposed-identity",
   "metadata": {},
   "outputs": [],
   "source": [
    "visualize_aquisition_cost(roadmapSelected,options,inputs)"
   ]
  },
  {
   "cell_type": "code",
   "execution_count": null,
   "id": "apparent-beads",
   "metadata": {},
   "outputs": [],
   "source": [
    "visualize_operations_cost(roadmapSelected,options,inputs)"
   ]
  },
  {
   "cell_type": "raw",
   "id": "defined-driving",
   "metadata": {},
   "source": [
    "v = 36\n",
    "for s in validSchedulesPerVehicle[v]:\n",
    "    decision = x[v,s].x\n",
    "    if decision == 1:\n",
    "        print(inputs.age[v,s,:])"
   ]
  },
  {
   "cell_type": "code",
   "execution_count": null,
   "id": "female-magic",
   "metadata": {},
   "outputs": [],
   "source": [
    "#i want to know what year each vehicle was replaced (don't necessarily need first)\n",
    "#then what was the age of the vehicle the year before that\n",
    "#what was the odometer the year before that\n",
    "#what was the usage the year before that\n",
    "\n",
    "#you can plot replacement year against all of these, as well as acquisition cost, mx, etc.\n",
    "\n",
    "\n"
   ]
  },
  {
   "cell_type": "code",
   "execution_count": null,
   "id": "appreciated-stockholm",
   "metadata": {},
   "outputs": [],
   "source": []
  },
  {
   "cell_type": "code",
   "execution_count": null,
   "id": "suspended-sweden",
   "metadata": {},
   "outputs": [],
   "source": []
  },
  {
   "cell_type": "code",
   "execution_count": null,
   "id": "danish-acting",
   "metadata": {},
   "outputs": [],
   "source": [
    "fig = px.scatter(resultsReplaced, x=\"year_replaced\", y=\"annual_mileage_replaced\",color_discrete_sequence=[\"orange\"])#,color=\"odometer_replaced\")#,size=\"odometer_replaced\")\n",
    "fig.update_layout(yaxis_range=[0,65000],title='Year Vehicle Replaced in Model vs Annual Mileage')\n",
    "fig.show()"
   ]
  }
 ],
 "metadata": {
  "kernelspec": {
   "display_name": "Python 3",
   "language": "python",
   "name": "python3"
  },
  "language_info": {
   "codemirror_mode": {
    "name": "ipython",
    "version": 3
   },
   "file_extension": ".py",
   "mimetype": "text/x-python",
   "name": "python",
   "nbconvert_exporter": "python",
   "pygments_lexer": "ipython3",
   "version": "3.7.10"
  }
 },
 "nbformat": 4,
 "nbformat_minor": 5
}
