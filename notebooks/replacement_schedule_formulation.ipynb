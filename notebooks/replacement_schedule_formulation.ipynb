{
 "cells": [
  {
   "cell_type": "markdown",
   "metadata": {},
   "source": [
    "# Data"
   ]
  },
  {
   "cell_type": "markdown",
   "metadata": {},
   "source": [
    "$V: $ Set of all vehicles (equipment_id level)"
   ]
  },
  {
   "cell_type": "markdown",
   "metadata": {},
   "source": [
    "$S: $ Set of all replacement schedules"
   ]
  },
  {
   "cell_type": "markdown",
   "metadata": {},
   "source": [
    "$T: $ Set of all years in the planning horizon"
   ]
  },
  {
   "cell_type": "markdown",
   "metadata": {},
   "source": [
    "$A: $ Acquisition cost for each vehicle in each year according to each schedule/year $\\it (v,s,t)$"
   ]
  },
  {
   "cell_type": "markdown",
   "metadata": {},
   "source": [
    "$C: $ Consumables cost (i.e. Gas/Electricity) for each vehicle according to each schedule/year  $\\it (v,s,t)$"
   ]
  },
  {
   "cell_type": "markdown",
   "metadata": {},
   "source": [
    "$M: $ Maintenance cost for each vehicle according to each schedule/year  $\\it (v,s,t)$"
   ]
  },
  {
   "cell_type": "markdown",
   "metadata": {},
   "source": [
    "$E: $ Emissions output of each vehicle according to each schedule/year $\\it (v,s,t)$"
   ]
  },
  {
   "cell_type": "markdown",
   "metadata": {},
   "source": [
    "$B^A: $ New vehicle acquisition budget in each year  $\\it (t)$"
   ]
  },
  {
   "cell_type": "markdown",
   "metadata": {},
   "source": [
    "$B^O: $ Operations (maintenance, consumables) budget in each year  $\\it (t)$"
   ]
  },
  {
   "cell_type": "markdown",
   "metadata": {},
   "source": [
    "$G: $ Target emissions goal in final year (based on % of baseline) "
   ]
  },
  {
   "cell_type": "markdown",
   "metadata": {},
   "source": [
    "$w_c: $ Weight to apply to the min cost objective "
   ]
  },
  {
   "cell_type": "markdown",
   "metadata": {},
   "source": [
    "$w_e: $ Weight to apply to the min emissions objective "
   ]
  },
  {
   "cell_type": "markdown",
   "metadata": {},
   "source": [
    "$P^b: $ Penalty for going over budget"
   ]
  },
  {
   "cell_type": "markdown",
   "metadata": {},
   "source": [
    "$P^e: $ Penalty for not meeting the emissions goal"
   ]
  },
  {
   "cell_type": "markdown",
   "metadata": {},
   "source": [
    "# Decision Variables"
   ]
  },
  {
   "cell_type": "markdown",
   "metadata": {},
   "source": [
    "$ x_{vs} :$ (Binary) Whether or not vehicle v follows replacement schedule s"
   ]
  },
  {
   "cell_type": "markdown",
   "metadata": {},
   "source": [
    "# Objective "
   ]
  },
  {
   "cell_type": "markdown",
   "metadata": {},
   "source": [
    "##### Minimize both total cost and emissions \n",
    "$ \\,Minimize: \\,w^c(\\displaystyle\\sum_{v \\in V} \\displaystyle\\sum_{s \\in S} \\displaystyle\\sum_{t \\in T} (A_{vst}+C_{vst}+M_{vst})x_{vst} + w^e\\displaystyle\\sum_{v \\in V} \\displaystyle\\sum_{s \\in S} + E_{vsT}x_{vs} + 10000(P^b+P^e) $ "
   ]
  },
  {
   "cell_type": "markdown",
   "metadata": {},
   "source": [
    "# Constraints"
   ]
  },
  {
   "cell_type": "markdown",
   "metadata": {},
   "source": [
    "##### Exactly one schedule must be selected for each vehicle\n",
    "$ \\displaystyle\\sum_{s \\in S} x_{vs} =  1 \\,\\,\\,\\,\\,\\, \\forall v \\in V$"
   ]
  },
  {
   "cell_type": "markdown",
   "metadata": {},
   "source": [
    "##### Annual acquisition budget cannot be exceed in any year\n",
    "$ \\displaystyle\\sum_{v \\in V} \\displaystyle\\sum_{s \\in S} A_{vst}x_{vs} \\leq B^A+P^b \\forall t \\in T$"
   ]
  },
  {
   "cell_type": "markdown",
   "metadata": {},
   "source": [
    "##### Annual operations budget cannot be exceed in any year\n",
    "$ \\displaystyle\\sum_{v \\in V} \\displaystyle\\sum_{s \\in S} (C_{vst}+M_{vst})x_{vs} \\leq B^O+P^b \\forall t \\in T$"
   ]
  },
  {
   "cell_type": "markdown",
   "metadata": {},
   "source": [
    "##### Emissions target must be met in the final year\n",
    "$ \\displaystyle\\sum_{v \\in V} \\displaystyle\\sum_{s \\in S} E_{vsT}x_{vs} \\leq G+P^e $"
   ]
  }
 ],
 "metadata": {
  "kernelspec": {
   "display_name": "Python 3",
   "language": "python",
   "name": "python3"
  },
  "language_info": {
   "codemirror_mode": {
    "name": "ipython",
    "version": 3
   },
   "file_extension": ".py",
   "mimetype": "text/x-python",
   "name": "python",
   "nbconvert_exporter": "python",
   "pygments_lexer": "ipython3",
   "version": "3.7.10"
  }
 },
 "nbformat": 4,
 "nbformat_minor": 4
}
