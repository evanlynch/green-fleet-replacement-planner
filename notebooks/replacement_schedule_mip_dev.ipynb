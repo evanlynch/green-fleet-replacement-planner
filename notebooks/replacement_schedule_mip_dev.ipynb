{
 "cells": [
  {
   "cell_type": "code",
   "execution_count": 1,
   "metadata": {},
   "outputs": [],
   "source": [
    "import numpy as np\n",
    "from sympy.utilities.iterables import multiset_permutations\n",
    "import time\n",
    "import pandas as pd\n",
    "import gurobipy as grb\n",
    "import datetime\n",
    "import random\n",
    "np.set_printoptions(edgeitems=15,linewidth=600)\n",
    "\n",
    "%load_ext autoreload\n",
    "%autoreload 2\n",
    "import sys\n",
    "import os\n",
    "sys.path.append(os.path.join(os.getcwd(), '..'))\n",
    "from src.optimization.MIP.mip_inputs import *\n",
    "from src.optimization.MIP.mip_model import *\n",
    "from src.optimization.MIP.mip_outputs import *"
   ]
  },
  {
   "cell_type": "code",
   "execution_count": 2,
   "metadata": {},
   "outputs": [],
   "source": [
    "start = time.time()"
   ]
  },
  {
   "cell_type": "markdown",
   "metadata": {},
   "source": [
    "### Model Inputs "
   ]
  },
  {
   "cell_type": "code",
   "execution_count": 3,
   "metadata": {},
   "outputs": [],
   "source": [
    "UI_params = {\n",
    "    'initial_procurement_budget':1300000,\n",
    "    'procurement_budget_rate':0.03,\n",
    "    'initial_operations_budget':1000000,\n",
    "    'maintenance_budget_rate':0.03,\n",
    "    'planning_interval':[2022,2037],\n",
    "    'emissions_baseline': 2031705,#metric tons\n",
    "    'emissions_target_pct_of_base':0.10,\n",
    "    'min_miles_replacement_threshold':150000,#miles\n",
    "    'min_vehicle_age_replacement_threshold':60,#years\n",
    "    'max_vehicles_per_station':1000,\n",
    "    'objective_weights':{'cost':0.70,'emissions':0.30},\n",
    "}"
   ]
  },
  {
   "cell_type": "code",
   "execution_count": 25,
   "metadata": {},
   "outputs": [],
   "source": [
    "data = pd.read_excel('../data/17MAR_data_template.xlsx')#.head(250)\n",
    "data['current_age'] = datetime.datetime.now().year - pd.to_datetime(data.purchasedate).dt.year\n",
    "data = data.reset_index().rename({\"index\":\"vehicle_idx\"},axis=1)\n",
    "data['county'] = 'Baltimore County'\n",
    "data = data.drop_duplicates('equipmentid')\n",
    "data = data[data.vehicle_idx<1458]"
   ]
  },
  {
   "cell_type": "code",
   "execution_count": 34,
   "metadata": {},
   "outputs": [],
   "source": [
    "inputs = MIP_Inputs(data,UI_params)"
   ]
  },
  {
   "cell_type": "code",
   "execution_count": 35,
   "metadata": {},
   "outputs": [
    {
     "name": "stdout",
     "output_type": "stream",
     "text": [
      "Changed value of parameter PoolSearchMode to 2\n",
      "   Prev: 0  Min: 0  Max: 2  Default: 0\n",
      "Changed value of parameter PoolSolutions to 500\n",
      "   Prev: 10  Min: 1  Max: 2000000000  Default: 10\n",
      "Changed value of parameter TimeLimit to 30.0\n",
      "   Prev: inf  Min: 0.0  Max: inf  Default: inf\n",
      "Gurobi Optimizer version 9.0.3 build v9.0.3rc0 (win64)\n",
      "Optimize a model with 1491 rows, 95386 columns and 1798177 nonzeros\n",
      "Model fingerprint: 0x5e9d6e32\n",
      "Variable types: 2 continuous, 95384 integer (95384 binary)\n",
      "Coefficient statistics:\n",
      "  Matrix range     [1e+00, 6e+05]\n",
      "  Objective range  [1e+01, 1e+06]\n",
      "  Bounds range     [1e+00, 1e+00]\n",
      "  RHS range        [1e+00, 1e+06]\n",
      "Found heuristic solution: objective 1.445882e+13\n",
      "Presolve added 15 rows and 104 columns\n",
      "Presolve time: 4.28s\n",
      "Presolved: 1506 rows, 95490 columns, 1733449 nonzeros\n",
      "Variable types: 91 continuous, 95399 integer (95394 binary)\n",
      "\n",
      "Root simplex log...\n",
      "\n",
      "Iteration    Objective       Primal Inf.    Dual Inf.      Time\n",
      "       0    3.0885120e+05   1.024650e+05   0.000000e+00      6s\n",
      "    5281    2.4855586e+12   0.000000e+00   0.000000e+00      7s\n",
      "\n",
      "Root relaxation: objective 2.485559e+12, 5281 iterations, 0.88 seconds\n",
      "\n",
      "    Nodes    |    Current Node    |     Objective Bounds      |     Work\n",
      " Expl Unexpl |  Obj  Depth IntInf | Incumbent    BestBd   Gap | It/Node Time\n",
      "\n",
      "     0     0 2.4856e+12    0   32 1.4459e+13 2.4856e+12  82.8%     -    6s\n",
      "H    0     0                    2.954015e+12 2.4856e+12  15.9%     -    6s\n",
      "H    0     0                    2.841515e+12 2.4856e+12  12.5%     -    7s\n",
      "H    0     0                    2.508915e+12 2.4856e+12  0.93%     -    7s\n",
      "H    0     0                    2.487941e+12 2.4856e+12  0.10%     -    8s\n",
      "H    0     0                    2.487284e+12 2.4856e+12  0.07%     -    8s\n",
      "     0     0 2.4856e+12    0   36 2.4873e+12 2.4856e+12  0.07%     -   10s\n",
      "H    0     0                    2.487284e+12 2.4856e+12  0.07%     -   11s\n",
      "     0     0 2.4856e+12    0   40 2.4873e+12 2.4856e+12  0.07%     -   12s\n",
      "     0     0 2.4856e+12    0   42 2.4873e+12 2.4856e+12  0.07%     -   17s\n",
      "     0     0 2.4856e+12    0   38 2.4873e+12 2.4856e+12  0.07%     -   18s\n",
      "     0     0 2.4856e+12    0   38 2.4873e+12 2.4856e+12  0.07%     -   18s\n",
      "     0     0 2.4856e+12    0   38 2.4873e+12 2.4856e+12  0.07%     -   19s\n",
      "     0     2 2.4856e+12    0   38 2.4873e+12 2.4856e+12  0.07%     -   26s\n",
      "    31    38 2.4856e+12    7   38 2.4873e+12 2.4856e+12  0.07%   2.3   30s\n",
      "H   34    38                    2.487284e+12 2.4856e+12  0.07%   2.1   30s\n",
      "\n",
      "Cutting planes:\n",
      "  MIR: 3\n",
      "\n",
      "Explored 37 nodes (5380 simplex iterations) in 30.11 seconds\n",
      "Thread count was 12 (of 12 available processors)\n",
      "\n",
      "Solution count 17: 2.48728e+12 2.48728e+12 2.48728e+12 ... 6.54542e+13\n",
      "\n",
      "Time limit reached\n",
      "Best objective 2.487284230383e+12, best bound 2.485558641786e+12, gap 0.0694%\n",
      "--- 579.2452356815338 seconds ---\n"
     ]
    }
   ],
   "source": [
    "outputs = MIP_Outputs(data,UI_params)\n",
    "print(\"--- %s seconds ---\" % (time.time() - start))"
   ]
  },
  {
   "cell_type": "code",
   "execution_count": 36,
   "metadata": {},
   "outputs": [],
   "source": [
    "optimal_obj,optimal_solution = outputs.get_optimal_solution()"
   ]
  },
  {
   "cell_type": "code",
   "execution_count": 37,
   "metadata": {},
   "outputs": [],
   "source": [
    "alt_solutions = outputs.get_alternative_solutions()\n",
    "selected_alternative_solutions = outputs.select_alternative_solutions(alt_solutions,optimal_obj)"
   ]
  },
  {
   "cell_type": "code",
   "execution_count": 38,
   "metadata": {},
   "outputs": [],
   "source": [
    "options = selected_alternative_solutions"
   ]
  },
  {
   "cell_type": "code",
   "execution_count": 39,
   "metadata": {},
   "outputs": [],
   "source": [
    "option1 = pd.DataFrame(options[0,'schedules'],columns=['vehicle_idx','solution_idx']+inputs.years)"
   ]
  },
  {
   "cell_type": "code",
   "execution_count": 40,
   "metadata": {},
   "outputs": [],
   "source": [
    "data = data.merge(option1,on='vehicle_idx',how='left')"
   ]
  },
  {
   "cell_type": "code",
   "execution_count": 41,
   "metadata": {},
   "outputs": [
    {
     "data": {
      "text/html": [
       "<div>\n",
       "<style scoped>\n",
       "    .dataframe tbody tr th:only-of-type {\n",
       "        vertical-align: middle;\n",
       "    }\n",
       "\n",
       "    .dataframe tbody tr th {\n",
       "        vertical-align: top;\n",
       "    }\n",
       "\n",
       "    .dataframe thead th {\n",
       "        text-align: right;\n",
       "    }\n",
       "</style>\n",
       "<table border=\"1\" class=\"dataframe\">\n",
       "  <thead>\n",
       "    <tr style=\"text-align: right;\">\n",
       "      <th></th>\n",
       "      <th>2022</th>\n",
       "      <th>2023</th>\n",
       "      <th>2024</th>\n",
       "      <th>2025</th>\n",
       "      <th>2026</th>\n",
       "      <th>2027</th>\n",
       "      <th>2028</th>\n",
       "      <th>2029</th>\n",
       "      <th>2030</th>\n",
       "      <th>2031</th>\n",
       "      <th>2032</th>\n",
       "      <th>2033</th>\n",
       "      <th>2034</th>\n",
       "      <th>2035</th>\n",
       "      <th>2036</th>\n",
       "      <th>2037</th>\n",
       "    </tr>\n",
       "    <tr>\n",
       "      <th>county</th>\n",
       "      <th></th>\n",
       "      <th></th>\n",
       "      <th></th>\n",
       "      <th></th>\n",
       "      <th></th>\n",
       "      <th></th>\n",
       "      <th></th>\n",
       "      <th></th>\n",
       "      <th></th>\n",
       "      <th></th>\n",
       "      <th></th>\n",
       "      <th></th>\n",
       "      <th></th>\n",
       "      <th></th>\n",
       "      <th></th>\n",
       "      <th></th>\n",
       "    </tr>\n",
       "  </thead>\n",
       "  <tbody>\n",
       "    <tr>\n",
       "      <th>Baltimore County</th>\n",
       "      <td>111</td>\n",
       "      <td>93</td>\n",
       "      <td>89</td>\n",
       "      <td>89</td>\n",
       "      <td>85</td>\n",
       "      <td>91</td>\n",
       "      <td>92</td>\n",
       "      <td>108</td>\n",
       "      <td>89</td>\n",
       "      <td>89</td>\n",
       "      <td>83</td>\n",
       "      <td>84</td>\n",
       "      <td>60</td>\n",
       "      <td>59</td>\n",
       "      <td>81</td>\n",
       "      <td>56</td>\n",
       "    </tr>\n",
       "  </tbody>\n",
       "</table>\n",
       "</div>"
      ],
      "text/plain": [
       "                  2022  2023  2024  2025  2026  2027  2028  2029  2030  2031  \\\n",
       "county                                                                         \n",
       "Baltimore County   111    93    89    89    85    91    92   108    89    89   \n",
       "\n",
       "                  2032  2033  2034  2035  2036  2037  \n",
       "county                                                \n",
       "Baltimore County    83    84    60    59    81    56  "
      ]
     },
     "execution_count": 41,
     "metadata": {},
     "output_type": "execute_result"
    }
   ],
   "source": [
    "data.groupby(['county'])[inputs.years].sum().replace({0:''})"
   ]
  },
  {
   "cell_type": "code",
   "execution_count": 60,
   "metadata": {},
   "outputs": [
    {
     "data": {
      "text/html": [
       "<div>\n",
       "<style scoped>\n",
       "    .dataframe tbody tr th:only-of-type {\n",
       "        vertical-align: middle;\n",
       "    }\n",
       "\n",
       "    .dataframe tbody tr th {\n",
       "        vertical-align: top;\n",
       "    }\n",
       "\n",
       "    .dataframe thead th {\n",
       "        text-align: right;\n",
       "    }\n",
       "</style>\n",
       "<table border=\"1\" class=\"dataframe\">\n",
       "  <thead>\n",
       "    <tr style=\"text-align: right;\">\n",
       "      <th></th>\n",
       "      <th>2022</th>\n",
       "      <th>2023</th>\n",
       "      <th>2024</th>\n",
       "      <th>2025</th>\n",
       "      <th>2026</th>\n",
       "      <th>2027</th>\n",
       "      <th>2028</th>\n",
       "      <th>2029</th>\n",
       "      <th>2030</th>\n",
       "      <th>2031</th>\n",
       "      <th>2032</th>\n",
       "      <th>2033</th>\n",
       "      <th>2034</th>\n",
       "      <th>2035</th>\n",
       "      <th>2036</th>\n",
       "      <th>2037</th>\n",
       "    </tr>\n",
       "    <tr>\n",
       "      <th>dept_name</th>\n",
       "      <th></th>\n",
       "      <th></th>\n",
       "      <th></th>\n",
       "      <th></th>\n",
       "      <th></th>\n",
       "      <th></th>\n",
       "      <th></th>\n",
       "      <th></th>\n",
       "      <th></th>\n",
       "      <th></th>\n",
       "      <th></th>\n",
       "      <th></th>\n",
       "      <th></th>\n",
       "      <th></th>\n",
       "      <th></th>\n",
       "      <th></th>\n",
       "    </tr>\n",
       "  </thead>\n",
       "  <tbody>\n",
       "    <tr>\n",
       "      <th>Baltimore County Department of Library</th>\n",
       "      <td></td>\n",
       "      <td></td>\n",
       "      <td></td>\n",
       "      <td></td>\n",
       "      <td></td>\n",
       "      <td></td>\n",
       "      <td></td>\n",
       "      <td></td>\n",
       "      <td></td>\n",
       "      <td>1</td>\n",
       "      <td>1</td>\n",
       "      <td></td>\n",
       "      <td></td>\n",
       "      <td></td>\n",
       "      <td></td>\n",
       "      <td></td>\n",
       "    </tr>\n",
       "    <tr>\n",
       "      <th>Board of Election Supervisors</th>\n",
       "      <td></td>\n",
       "      <td></td>\n",
       "      <td></td>\n",
       "      <td></td>\n",
       "      <td></td>\n",
       "      <td></td>\n",
       "      <td></td>\n",
       "      <td></td>\n",
       "      <td></td>\n",
       "      <td></td>\n",
       "      <td>1</td>\n",
       "      <td></td>\n",
       "      <td></td>\n",
       "      <td></td>\n",
       "      <td></td>\n",
       "      <td></td>\n",
       "    </tr>\n",
       "    <tr>\n",
       "      <th>Bureau of Corrections</th>\n",
       "      <td></td>\n",
       "      <td></td>\n",
       "      <td></td>\n",
       "      <td></td>\n",
       "      <td></td>\n",
       "      <td></td>\n",
       "      <td>1</td>\n",
       "      <td>1</td>\n",
       "      <td>2</td>\n",
       "      <td>3</td>\n",
       "      <td>1</td>\n",
       "      <td>1</td>\n",
       "      <td></td>\n",
       "      <td>1</td>\n",
       "      <td></td>\n",
       "      <td></td>\n",
       "    </tr>\n",
       "    <tr>\n",
       "      <th>Cigarette Restoration/Tobacco Program</th>\n",
       "      <td></td>\n",
       "      <td></td>\n",
       "      <td></td>\n",
       "      <td></td>\n",
       "      <td></td>\n",
       "      <td></td>\n",
       "      <td></td>\n",
       "      <td></td>\n",
       "      <td></td>\n",
       "      <td></td>\n",
       "      <td>1</td>\n",
       "      <td></td>\n",
       "      <td></td>\n",
       "      <td></td>\n",
       "      <td></td>\n",
       "      <td></td>\n",
       "    </tr>\n",
       "    <tr>\n",
       "      <th>Community Planning</th>\n",
       "      <td></td>\n",
       "      <td></td>\n",
       "      <td></td>\n",
       "      <td></td>\n",
       "      <td></td>\n",
       "      <td></td>\n",
       "      <td></td>\n",
       "      <td></td>\n",
       "      <td></td>\n",
       "      <td></td>\n",
       "      <td></td>\n",
       "      <td></td>\n",
       "      <td></td>\n",
       "      <td>1</td>\n",
       "      <td></td>\n",
       "      <td></td>\n",
       "    </tr>\n",
       "  </tbody>\n",
       "</table>\n",
       "</div>"
      ],
      "text/plain": [
       "                                       2022 2023 2024 2025 2026 2027 2028  \\\n",
       "dept_name                                                                   \n",
       "Baltimore County Department of Library                                      \n",
       "Board of Election Supervisors                                               \n",
       "Bureau of Corrections                                                   1   \n",
       "Cigarette Restoration/Tobacco Program                                       \n",
       "Community Planning                                                          \n",
       "\n",
       "                                       2029 2030 2031 2032 2033 2034 2035  \\\n",
       "dept_name                                                                   \n",
       "Baltimore County Department of Library              1    1                  \n",
       "Board of Election Supervisors                            1                  \n",
       "Bureau of Corrections                     1    2    3    1    1         1   \n",
       "Cigarette Restoration/Tobacco Program                    1                  \n",
       "Community Planning                                                      1   \n",
       "\n",
       "                                       2036 2037  \n",
       "dept_name                                         \n",
       "Baltimore County Department of Library            \n",
       "Board of Election Supervisors                     \n",
       "Bureau of Corrections                             \n",
       "Cigarette Restoration/Tobacco Program             \n",
       "Community Planning                                "
      ]
     },
     "execution_count": 60,
     "metadata": {},
     "output_type": "execute_result"
    }
   ],
   "source": [
    "data.groupby(['dept_name'])[inputs.years].sum().replace({0:''}).head()"
   ]
  },
  {
   "cell_type": "code",
   "execution_count": 59,
   "metadata": {},
   "outputs": [
    {
     "data": {
      "text/html": [
       "<div>\n",
       "<style scoped>\n",
       "    .dataframe tbody tr th:only-of-type {\n",
       "        vertical-align: middle;\n",
       "    }\n",
       "\n",
       "    .dataframe tbody tr th {\n",
       "        vertical-align: top;\n",
       "    }\n",
       "\n",
       "    .dataframe thead th {\n",
       "        text-align: right;\n",
       "    }\n",
       "</style>\n",
       "<table border=\"1\" class=\"dataframe\">\n",
       "  <thead>\n",
       "    <tr style=\"text-align: right;\">\n",
       "      <th></th>\n",
       "      <th></th>\n",
       "      <th>2022</th>\n",
       "      <th>2023</th>\n",
       "      <th>2024</th>\n",
       "      <th>2025</th>\n",
       "      <th>2026</th>\n",
       "      <th>2027</th>\n",
       "      <th>2028</th>\n",
       "      <th>2029</th>\n",
       "      <th>2030</th>\n",
       "      <th>2031</th>\n",
       "      <th>2032</th>\n",
       "      <th>2033</th>\n",
       "      <th>2034</th>\n",
       "      <th>2035</th>\n",
       "      <th>2036</th>\n",
       "      <th>2037</th>\n",
       "    </tr>\n",
       "    <tr>\n",
       "      <th>dept_name</th>\n",
       "      <th>vehicledescription</th>\n",
       "      <th></th>\n",
       "      <th></th>\n",
       "      <th></th>\n",
       "      <th></th>\n",
       "      <th></th>\n",
       "      <th></th>\n",
       "      <th></th>\n",
       "      <th></th>\n",
       "      <th></th>\n",
       "      <th></th>\n",
       "      <th></th>\n",
       "      <th></th>\n",
       "      <th></th>\n",
       "      <th></th>\n",
       "      <th></th>\n",
       "      <th></th>\n",
       "    </tr>\n",
       "  </thead>\n",
       "  <tbody>\n",
       "    <tr>\n",
       "      <th rowspan=\"2\" valign=\"top\">Baltimore County Department of Library</th>\n",
       "      <th>2002 FORD VAN CARGO'</th>\n",
       "      <td></td>\n",
       "      <td></td>\n",
       "      <td></td>\n",
       "      <td></td>\n",
       "      <td></td>\n",
       "      <td></td>\n",
       "      <td></td>\n",
       "      <td></td>\n",
       "      <td></td>\n",
       "      <td>1</td>\n",
       "      <td></td>\n",
       "      <td></td>\n",
       "      <td></td>\n",
       "      <td></td>\n",
       "      <td></td>\n",
       "      <td></td>\n",
       "    </tr>\n",
       "    <tr>\n",
       "      <th>2019 DODGE Grand Caravan'</th>\n",
       "      <td></td>\n",
       "      <td></td>\n",
       "      <td></td>\n",
       "      <td></td>\n",
       "      <td></td>\n",
       "      <td></td>\n",
       "      <td></td>\n",
       "      <td></td>\n",
       "      <td></td>\n",
       "      <td></td>\n",
       "      <td>1</td>\n",
       "      <td></td>\n",
       "      <td></td>\n",
       "      <td></td>\n",
       "      <td></td>\n",
       "      <td></td>\n",
       "    </tr>\n",
       "    <tr>\n",
       "      <th>Board of Election Supervisors</th>\n",
       "      <th>2008 CHEVROLET UPLANDER'</th>\n",
       "      <td></td>\n",
       "      <td></td>\n",
       "      <td></td>\n",
       "      <td></td>\n",
       "      <td></td>\n",
       "      <td></td>\n",
       "      <td></td>\n",
       "      <td></td>\n",
       "      <td></td>\n",
       "      <td></td>\n",
       "      <td>1</td>\n",
       "      <td></td>\n",
       "      <td></td>\n",
       "      <td></td>\n",
       "      <td></td>\n",
       "      <td></td>\n",
       "    </tr>\n",
       "    <tr>\n",
       "      <th rowspan=\"9\" valign=\"top\">Bureau of Corrections</th>\n",
       "      <th>2001 GMC VAN 12PSG'</th>\n",
       "      <td></td>\n",
       "      <td></td>\n",
       "      <td></td>\n",
       "      <td></td>\n",
       "      <td></td>\n",
       "      <td></td>\n",
       "      <td></td>\n",
       "      <td></td>\n",
       "      <td></td>\n",
       "      <td></td>\n",
       "      <td></td>\n",
       "      <td>1</td>\n",
       "      <td></td>\n",
       "      <td></td>\n",
       "      <td></td>\n",
       "      <td></td>\n",
       "    </tr>\n",
       "    <tr>\n",
       "      <th>2005 FORD CROWN VICTORIA'</th>\n",
       "      <td></td>\n",
       "      <td></td>\n",
       "      <td></td>\n",
       "      <td></td>\n",
       "      <td></td>\n",
       "      <td></td>\n",
       "      <td></td>\n",
       "      <td></td>\n",
       "      <td></td>\n",
       "      <td></td>\n",
       "      <td>1</td>\n",
       "      <td></td>\n",
       "      <td></td>\n",
       "      <td></td>\n",
       "      <td></td>\n",
       "      <td></td>\n",
       "    </tr>\n",
       "    <tr>\n",
       "      <th>2006 CHEVROLET VAN,PRISONER TP'</th>\n",
       "      <td></td>\n",
       "      <td></td>\n",
       "      <td></td>\n",
       "      <td></td>\n",
       "      <td></td>\n",
       "      <td></td>\n",
       "      <td>1</td>\n",
       "      <td></td>\n",
       "      <td></td>\n",
       "      <td></td>\n",
       "      <td></td>\n",
       "      <td></td>\n",
       "      <td></td>\n",
       "      <td></td>\n",
       "      <td></td>\n",
       "      <td></td>\n",
       "    </tr>\n",
       "    <tr>\n",
       "      <th>2006 FORD CROWN VICTORIA'</th>\n",
       "      <td></td>\n",
       "      <td></td>\n",
       "      <td></td>\n",
       "      <td></td>\n",
       "      <td></td>\n",
       "      <td></td>\n",
       "      <td></td>\n",
       "      <td></td>\n",
       "      <td></td>\n",
       "      <td>1</td>\n",
       "      <td></td>\n",
       "      <td></td>\n",
       "      <td></td>\n",
       "      <td></td>\n",
       "      <td></td>\n",
       "      <td></td>\n",
       "    </tr>\n",
       "    <tr>\n",
       "      <th>2007 CHEVROLET VAN,PRISONER TP'</th>\n",
       "      <td></td>\n",
       "      <td></td>\n",
       "      <td></td>\n",
       "      <td></td>\n",
       "      <td></td>\n",
       "      <td></td>\n",
       "      <td></td>\n",
       "      <td></td>\n",
       "      <td>1</td>\n",
       "      <td></td>\n",
       "      <td></td>\n",
       "      <td></td>\n",
       "      <td></td>\n",
       "      <td></td>\n",
       "      <td></td>\n",
       "      <td></td>\n",
       "    </tr>\n",
       "    <tr>\n",
       "      <th>2008 FORD CROWN VICTORIA'</th>\n",
       "      <td></td>\n",
       "      <td></td>\n",
       "      <td></td>\n",
       "      <td></td>\n",
       "      <td></td>\n",
       "      <td></td>\n",
       "      <td></td>\n",
       "      <td></td>\n",
       "      <td></td>\n",
       "      <td>1</td>\n",
       "      <td></td>\n",
       "      <td></td>\n",
       "      <td></td>\n",
       "      <td>1</td>\n",
       "      <td></td>\n",
       "      <td></td>\n",
       "    </tr>\n",
       "    <tr>\n",
       "      <th>2009 FORD CROWN VICTORIA'</th>\n",
       "      <td></td>\n",
       "      <td></td>\n",
       "      <td></td>\n",
       "      <td></td>\n",
       "      <td></td>\n",
       "      <td></td>\n",
       "      <td></td>\n",
       "      <td></td>\n",
       "      <td></td>\n",
       "      <td>1</td>\n",
       "      <td></td>\n",
       "      <td></td>\n",
       "      <td></td>\n",
       "      <td></td>\n",
       "      <td></td>\n",
       "      <td></td>\n",
       "    </tr>\n",
       "    <tr>\n",
       "      <th>2010 CHEVROLET VAN 12PSG'</th>\n",
       "      <td></td>\n",
       "      <td></td>\n",
       "      <td></td>\n",
       "      <td></td>\n",
       "      <td></td>\n",
       "      <td></td>\n",
       "      <td></td>\n",
       "      <td></td>\n",
       "      <td>1</td>\n",
       "      <td></td>\n",
       "      <td></td>\n",
       "      <td></td>\n",
       "      <td></td>\n",
       "      <td></td>\n",
       "      <td></td>\n",
       "      <td></td>\n",
       "    </tr>\n",
       "    <tr>\n",
       "      <th>2019 DODGE Grand Caravan'</th>\n",
       "      <td></td>\n",
       "      <td></td>\n",
       "      <td></td>\n",
       "      <td></td>\n",
       "      <td></td>\n",
       "      <td></td>\n",
       "      <td></td>\n",
       "      <td>1</td>\n",
       "      <td></td>\n",
       "      <td></td>\n",
       "      <td></td>\n",
       "      <td></td>\n",
       "      <td></td>\n",
       "      <td></td>\n",
       "      <td></td>\n",
       "      <td></td>\n",
       "    </tr>\n",
       "    <tr>\n",
       "      <th>Cigarette Restoration/Tobacco Program</th>\n",
       "      <th>2009 HONDA CIVIC'</th>\n",
       "      <td></td>\n",
       "      <td></td>\n",
       "      <td></td>\n",
       "      <td></td>\n",
       "      <td></td>\n",
       "      <td></td>\n",
       "      <td></td>\n",
       "      <td></td>\n",
       "      <td></td>\n",
       "      <td></td>\n",
       "      <td>1</td>\n",
       "      <td></td>\n",
       "      <td></td>\n",
       "      <td></td>\n",
       "      <td></td>\n",
       "      <td></td>\n",
       "    </tr>\n",
       "    <tr>\n",
       "      <th>Community Planning</th>\n",
       "      <th>2006 GMC SAVANA'</th>\n",
       "      <td></td>\n",
       "      <td></td>\n",
       "      <td></td>\n",
       "      <td></td>\n",
       "      <td></td>\n",
       "      <td></td>\n",
       "      <td></td>\n",
       "      <td></td>\n",
       "      <td></td>\n",
       "      <td></td>\n",
       "      <td></td>\n",
       "      <td></td>\n",
       "      <td></td>\n",
       "      <td>1</td>\n",
       "      <td></td>\n",
       "      <td></td>\n",
       "    </tr>\n",
       "    <tr>\n",
       "      <th rowspan=\"4\" valign=\"top\">County Council</th>\n",
       "      <th>2008 CHEVROLET IMPALA'</th>\n",
       "      <td></td>\n",
       "      <td></td>\n",
       "      <td></td>\n",
       "      <td></td>\n",
       "      <td></td>\n",
       "      <td></td>\n",
       "      <td>1</td>\n",
       "      <td></td>\n",
       "      <td></td>\n",
       "      <td></td>\n",
       "      <td></td>\n",
       "      <td></td>\n",
       "      <td></td>\n",
       "      <td></td>\n",
       "      <td></td>\n",
       "      <td></td>\n",
       "    </tr>\n",
       "    <tr>\n",
       "      <th>2014 FORD FUSION'</th>\n",
       "      <td></td>\n",
       "      <td></td>\n",
       "      <td></td>\n",
       "      <td>1</td>\n",
       "      <td></td>\n",
       "      <td></td>\n",
       "      <td>1</td>\n",
       "      <td></td>\n",
       "      <td></td>\n",
       "      <td></td>\n",
       "      <td></td>\n",
       "      <td></td>\n",
       "      <td></td>\n",
       "      <td></td>\n",
       "      <td></td>\n",
       "      <td></td>\n",
       "    </tr>\n",
       "    <tr>\n",
       "      <th>2017 JEEP CHEROKEE'</th>\n",
       "      <td></td>\n",
       "      <td></td>\n",
       "      <td></td>\n",
       "      <td></td>\n",
       "      <td></td>\n",
       "      <td></td>\n",
       "      <td></td>\n",
       "      <td></td>\n",
       "      <td></td>\n",
       "      <td></td>\n",
       "      <td></td>\n",
       "      <td></td>\n",
       "      <td></td>\n",
       "      <td></td>\n",
       "      <td></td>\n",
       "      <td>1</td>\n",
       "    </tr>\n",
       "    <tr>\n",
       "      <th>2018 CHEVROLET IMPALA'</th>\n",
       "      <td></td>\n",
       "      <td></td>\n",
       "      <td></td>\n",
       "      <td></td>\n",
       "      <td></td>\n",
       "      <td></td>\n",
       "      <td></td>\n",
       "      <td></td>\n",
       "      <td></td>\n",
       "      <td>1</td>\n",
       "      <td></td>\n",
       "      <td></td>\n",
       "      <td></td>\n",
       "      <td></td>\n",
       "      <td></td>\n",
       "      <td></td>\n",
       "    </tr>\n",
       "    <tr>\n",
       "      <th rowspan=\"2\" valign=\"top\">County Sheriff</th>\n",
       "      <th>2005 CHEVROLET VAN,PRISONER TP'</th>\n",
       "      <td></td>\n",
       "      <td></td>\n",
       "      <td>1</td>\n",
       "      <td></td>\n",
       "      <td></td>\n",
       "      <td></td>\n",
       "      <td></td>\n",
       "      <td></td>\n",
       "      <td></td>\n",
       "      <td></td>\n",
       "      <td></td>\n",
       "      <td></td>\n",
       "      <td></td>\n",
       "      <td></td>\n",
       "      <td></td>\n",
       "      <td></td>\n",
       "    </tr>\n",
       "    <tr>\n",
       "      <th>2006 CHEVROLET VAN,PRISONER TP'</th>\n",
       "      <td></td>\n",
       "      <td></td>\n",
       "      <td></td>\n",
       "      <td></td>\n",
       "      <td>1</td>\n",
       "      <td></td>\n",
       "      <td></td>\n",
       "      <td></td>\n",
       "      <td></td>\n",
       "      <td></td>\n",
       "      <td></td>\n",
       "      <td></td>\n",
       "      <td></td>\n",
       "      <td></td>\n",
       "      <td></td>\n",
       "      <td></td>\n",
       "    </tr>\n",
       "  </tbody>\n",
       "</table>\n",
       "</div>"
      ],
      "text/plain": [
       "                                                                       2022  \\\n",
       "dept_name                              vehicledescription                     \n",
       "Baltimore County Department of Library 2002 FORD VAN CARGO'                   \n",
       "                                       2019 DODGE Grand Caravan'              \n",
       "Board of Election Supervisors          2008 CHEVROLET UPLANDER'               \n",
       "Bureau of Corrections                  2001 GMC VAN 12PSG'                    \n",
       "                                       2005 FORD CROWN VICTORIA'              \n",
       "                                       2006 CHEVROLET VAN,PRISONER TP'        \n",
       "                                       2006 FORD CROWN VICTORIA'              \n",
       "                                       2007 CHEVROLET VAN,PRISONER TP'        \n",
       "                                       2008 FORD CROWN VICTORIA'              \n",
       "                                       2009 FORD CROWN VICTORIA'              \n",
       "                                       2010 CHEVROLET VAN 12PSG'              \n",
       "                                       2019 DODGE Grand Caravan'              \n",
       "Cigarette Restoration/Tobacco Program  2009 HONDA CIVIC'                      \n",
       "Community Planning                     2006 GMC SAVANA'                       \n",
       "County Council                         2008 CHEVROLET IMPALA'                 \n",
       "                                       2014 FORD FUSION'                      \n",
       "                                       2017 JEEP CHEROKEE'                    \n",
       "                                       2018 CHEVROLET IMPALA'                 \n",
       "County Sheriff                         2005 CHEVROLET VAN,PRISONER TP'        \n",
       "                                       2006 CHEVROLET VAN,PRISONER TP'        \n",
       "\n",
       "                                                                       2023  \\\n",
       "dept_name                              vehicledescription                     \n",
       "Baltimore County Department of Library 2002 FORD VAN CARGO'                   \n",
       "                                       2019 DODGE Grand Caravan'              \n",
       "Board of Election Supervisors          2008 CHEVROLET UPLANDER'               \n",
       "Bureau of Corrections                  2001 GMC VAN 12PSG'                    \n",
       "                                       2005 FORD CROWN VICTORIA'              \n",
       "                                       2006 CHEVROLET VAN,PRISONER TP'        \n",
       "                                       2006 FORD CROWN VICTORIA'              \n",
       "                                       2007 CHEVROLET VAN,PRISONER TP'        \n",
       "                                       2008 FORD CROWN VICTORIA'              \n",
       "                                       2009 FORD CROWN VICTORIA'              \n",
       "                                       2010 CHEVROLET VAN 12PSG'              \n",
       "                                       2019 DODGE Grand Caravan'              \n",
       "Cigarette Restoration/Tobacco Program  2009 HONDA CIVIC'                      \n",
       "Community Planning                     2006 GMC SAVANA'                       \n",
       "County Council                         2008 CHEVROLET IMPALA'                 \n",
       "                                       2014 FORD FUSION'                      \n",
       "                                       2017 JEEP CHEROKEE'                    \n",
       "                                       2018 CHEVROLET IMPALA'                 \n",
       "County Sheriff                         2005 CHEVROLET VAN,PRISONER TP'        \n",
       "                                       2006 CHEVROLET VAN,PRISONER TP'        \n",
       "\n",
       "                                                                       2024  \\\n",
       "dept_name                              vehicledescription                     \n",
       "Baltimore County Department of Library 2002 FORD VAN CARGO'                   \n",
       "                                       2019 DODGE Grand Caravan'              \n",
       "Board of Election Supervisors          2008 CHEVROLET UPLANDER'               \n",
       "Bureau of Corrections                  2001 GMC VAN 12PSG'                    \n",
       "                                       2005 FORD CROWN VICTORIA'              \n",
       "                                       2006 CHEVROLET VAN,PRISONER TP'        \n",
       "                                       2006 FORD CROWN VICTORIA'              \n",
       "                                       2007 CHEVROLET VAN,PRISONER TP'        \n",
       "                                       2008 FORD CROWN VICTORIA'              \n",
       "                                       2009 FORD CROWN VICTORIA'              \n",
       "                                       2010 CHEVROLET VAN 12PSG'              \n",
       "                                       2019 DODGE Grand Caravan'              \n",
       "Cigarette Restoration/Tobacco Program  2009 HONDA CIVIC'                      \n",
       "Community Planning                     2006 GMC SAVANA'                       \n",
       "County Council                         2008 CHEVROLET IMPALA'                 \n",
       "                                       2014 FORD FUSION'                      \n",
       "                                       2017 JEEP CHEROKEE'                    \n",
       "                                       2018 CHEVROLET IMPALA'                 \n",
       "County Sheriff                         2005 CHEVROLET VAN,PRISONER TP'    1   \n",
       "                                       2006 CHEVROLET VAN,PRISONER TP'        \n",
       "\n",
       "                                                                       2025  \\\n",
       "dept_name                              vehicledescription                     \n",
       "Baltimore County Department of Library 2002 FORD VAN CARGO'                   \n",
       "                                       2019 DODGE Grand Caravan'              \n",
       "Board of Election Supervisors          2008 CHEVROLET UPLANDER'               \n",
       "Bureau of Corrections                  2001 GMC VAN 12PSG'                    \n",
       "                                       2005 FORD CROWN VICTORIA'              \n",
       "                                       2006 CHEVROLET VAN,PRISONER TP'        \n",
       "                                       2006 FORD CROWN VICTORIA'              \n",
       "                                       2007 CHEVROLET VAN,PRISONER TP'        \n",
       "                                       2008 FORD CROWN VICTORIA'              \n",
       "                                       2009 FORD CROWN VICTORIA'              \n",
       "                                       2010 CHEVROLET VAN 12PSG'              \n",
       "                                       2019 DODGE Grand Caravan'              \n",
       "Cigarette Restoration/Tobacco Program  2009 HONDA CIVIC'                      \n",
       "Community Planning                     2006 GMC SAVANA'                       \n",
       "County Council                         2008 CHEVROLET IMPALA'                 \n",
       "                                       2014 FORD FUSION'                  1   \n",
       "                                       2017 JEEP CHEROKEE'                    \n",
       "                                       2018 CHEVROLET IMPALA'                 \n",
       "County Sheriff                         2005 CHEVROLET VAN,PRISONER TP'        \n",
       "                                       2006 CHEVROLET VAN,PRISONER TP'        \n",
       "\n",
       "                                                                       2026  \\\n",
       "dept_name                              vehicledescription                     \n",
       "Baltimore County Department of Library 2002 FORD VAN CARGO'                   \n",
       "                                       2019 DODGE Grand Caravan'              \n",
       "Board of Election Supervisors          2008 CHEVROLET UPLANDER'               \n",
       "Bureau of Corrections                  2001 GMC VAN 12PSG'                    \n",
       "                                       2005 FORD CROWN VICTORIA'              \n",
       "                                       2006 CHEVROLET VAN,PRISONER TP'        \n",
       "                                       2006 FORD CROWN VICTORIA'              \n",
       "                                       2007 CHEVROLET VAN,PRISONER TP'        \n",
       "                                       2008 FORD CROWN VICTORIA'              \n",
       "                                       2009 FORD CROWN VICTORIA'              \n",
       "                                       2010 CHEVROLET VAN 12PSG'              \n",
       "                                       2019 DODGE Grand Caravan'              \n",
       "Cigarette Restoration/Tobacco Program  2009 HONDA CIVIC'                      \n",
       "Community Planning                     2006 GMC SAVANA'                       \n",
       "County Council                         2008 CHEVROLET IMPALA'                 \n",
       "                                       2014 FORD FUSION'                      \n",
       "                                       2017 JEEP CHEROKEE'                    \n",
       "                                       2018 CHEVROLET IMPALA'                 \n",
       "County Sheriff                         2005 CHEVROLET VAN,PRISONER TP'        \n",
       "                                       2006 CHEVROLET VAN,PRISONER TP'    1   \n",
       "\n",
       "                                                                       2027  \\\n",
       "dept_name                              vehicledescription                     \n",
       "Baltimore County Department of Library 2002 FORD VAN CARGO'                   \n",
       "                                       2019 DODGE Grand Caravan'              \n",
       "Board of Election Supervisors          2008 CHEVROLET UPLANDER'               \n",
       "Bureau of Corrections                  2001 GMC VAN 12PSG'                    \n",
       "                                       2005 FORD CROWN VICTORIA'              \n",
       "                                       2006 CHEVROLET VAN,PRISONER TP'        \n",
       "                                       2006 FORD CROWN VICTORIA'              \n",
       "                                       2007 CHEVROLET VAN,PRISONER TP'        \n",
       "                                       2008 FORD CROWN VICTORIA'              \n",
       "                                       2009 FORD CROWN VICTORIA'              \n",
       "                                       2010 CHEVROLET VAN 12PSG'              \n",
       "                                       2019 DODGE Grand Caravan'              \n",
       "Cigarette Restoration/Tobacco Program  2009 HONDA CIVIC'                      \n",
       "Community Planning                     2006 GMC SAVANA'                       \n",
       "County Council                         2008 CHEVROLET IMPALA'                 \n",
       "                                       2014 FORD FUSION'                      \n",
       "                                       2017 JEEP CHEROKEE'                    \n",
       "                                       2018 CHEVROLET IMPALA'                 \n",
       "County Sheriff                         2005 CHEVROLET VAN,PRISONER TP'        \n",
       "                                       2006 CHEVROLET VAN,PRISONER TP'        \n",
       "\n",
       "                                                                       2028  \\\n",
       "dept_name                              vehicledescription                     \n",
       "Baltimore County Department of Library 2002 FORD VAN CARGO'                   \n",
       "                                       2019 DODGE Grand Caravan'              \n",
       "Board of Election Supervisors          2008 CHEVROLET UPLANDER'               \n",
       "Bureau of Corrections                  2001 GMC VAN 12PSG'                    \n",
       "                                       2005 FORD CROWN VICTORIA'              \n",
       "                                       2006 CHEVROLET VAN,PRISONER TP'    1   \n",
       "                                       2006 FORD CROWN VICTORIA'              \n",
       "                                       2007 CHEVROLET VAN,PRISONER TP'        \n",
       "                                       2008 FORD CROWN VICTORIA'              \n",
       "                                       2009 FORD CROWN VICTORIA'              \n",
       "                                       2010 CHEVROLET VAN 12PSG'              \n",
       "                                       2019 DODGE Grand Caravan'              \n",
       "Cigarette Restoration/Tobacco Program  2009 HONDA CIVIC'                      \n",
       "Community Planning                     2006 GMC SAVANA'                       \n",
       "County Council                         2008 CHEVROLET IMPALA'             1   \n",
       "                                       2014 FORD FUSION'                  1   \n",
       "                                       2017 JEEP CHEROKEE'                    \n",
       "                                       2018 CHEVROLET IMPALA'                 \n",
       "County Sheriff                         2005 CHEVROLET VAN,PRISONER TP'        \n",
       "                                       2006 CHEVROLET VAN,PRISONER TP'        \n",
       "\n",
       "                                                                       2029  \\\n",
       "dept_name                              vehicledescription                     \n",
       "Baltimore County Department of Library 2002 FORD VAN CARGO'                   \n",
       "                                       2019 DODGE Grand Caravan'              \n",
       "Board of Election Supervisors          2008 CHEVROLET UPLANDER'               \n",
       "Bureau of Corrections                  2001 GMC VAN 12PSG'                    \n",
       "                                       2005 FORD CROWN VICTORIA'              \n",
       "                                       2006 CHEVROLET VAN,PRISONER TP'        \n",
       "                                       2006 FORD CROWN VICTORIA'              \n",
       "                                       2007 CHEVROLET VAN,PRISONER TP'        \n",
       "                                       2008 FORD CROWN VICTORIA'              \n",
       "                                       2009 FORD CROWN VICTORIA'              \n",
       "                                       2010 CHEVROLET VAN 12PSG'              \n",
       "                                       2019 DODGE Grand Caravan'          1   \n",
       "Cigarette Restoration/Tobacco Program  2009 HONDA CIVIC'                      \n",
       "Community Planning                     2006 GMC SAVANA'                       \n",
       "County Council                         2008 CHEVROLET IMPALA'                 \n",
       "                                       2014 FORD FUSION'                      \n",
       "                                       2017 JEEP CHEROKEE'                    \n",
       "                                       2018 CHEVROLET IMPALA'                 \n",
       "County Sheriff                         2005 CHEVROLET VAN,PRISONER TP'        \n",
       "                                       2006 CHEVROLET VAN,PRISONER TP'        \n",
       "\n",
       "                                                                       2030  \\\n",
       "dept_name                              vehicledescription                     \n",
       "Baltimore County Department of Library 2002 FORD VAN CARGO'                   \n",
       "                                       2019 DODGE Grand Caravan'              \n",
       "Board of Election Supervisors          2008 CHEVROLET UPLANDER'               \n",
       "Bureau of Corrections                  2001 GMC VAN 12PSG'                    \n",
       "                                       2005 FORD CROWN VICTORIA'              \n",
       "                                       2006 CHEVROLET VAN,PRISONER TP'        \n",
       "                                       2006 FORD CROWN VICTORIA'              \n",
       "                                       2007 CHEVROLET VAN,PRISONER TP'    1   \n",
       "                                       2008 FORD CROWN VICTORIA'              \n",
       "                                       2009 FORD CROWN VICTORIA'              \n",
       "                                       2010 CHEVROLET VAN 12PSG'          1   \n",
       "                                       2019 DODGE Grand Caravan'              \n",
       "Cigarette Restoration/Tobacco Program  2009 HONDA CIVIC'                      \n",
       "Community Planning                     2006 GMC SAVANA'                       \n",
       "County Council                         2008 CHEVROLET IMPALA'                 \n",
       "                                       2014 FORD FUSION'                      \n",
       "                                       2017 JEEP CHEROKEE'                    \n",
       "                                       2018 CHEVROLET IMPALA'                 \n",
       "County Sheriff                         2005 CHEVROLET VAN,PRISONER TP'        \n",
       "                                       2006 CHEVROLET VAN,PRISONER TP'        \n",
       "\n",
       "                                                                       2031  \\\n",
       "dept_name                              vehicledescription                     \n",
       "Baltimore County Department of Library 2002 FORD VAN CARGO'               1   \n",
       "                                       2019 DODGE Grand Caravan'              \n",
       "Board of Election Supervisors          2008 CHEVROLET UPLANDER'               \n",
       "Bureau of Corrections                  2001 GMC VAN 12PSG'                    \n",
       "                                       2005 FORD CROWN VICTORIA'              \n",
       "                                       2006 CHEVROLET VAN,PRISONER TP'        \n",
       "                                       2006 FORD CROWN VICTORIA'          1   \n",
       "                                       2007 CHEVROLET VAN,PRISONER TP'        \n",
       "                                       2008 FORD CROWN VICTORIA'          1   \n",
       "                                       2009 FORD CROWN VICTORIA'          1   \n",
       "                                       2010 CHEVROLET VAN 12PSG'              \n",
       "                                       2019 DODGE Grand Caravan'              \n",
       "Cigarette Restoration/Tobacco Program  2009 HONDA CIVIC'                      \n",
       "Community Planning                     2006 GMC SAVANA'                       \n",
       "County Council                         2008 CHEVROLET IMPALA'                 \n",
       "                                       2014 FORD FUSION'                      \n",
       "                                       2017 JEEP CHEROKEE'                    \n",
       "                                       2018 CHEVROLET IMPALA'             1   \n",
       "County Sheriff                         2005 CHEVROLET VAN,PRISONER TP'        \n",
       "                                       2006 CHEVROLET VAN,PRISONER TP'        \n",
       "\n",
       "                                                                       2032  \\\n",
       "dept_name                              vehicledescription                     \n",
       "Baltimore County Department of Library 2002 FORD VAN CARGO'                   \n",
       "                                       2019 DODGE Grand Caravan'          1   \n",
       "Board of Election Supervisors          2008 CHEVROLET UPLANDER'           1   \n",
       "Bureau of Corrections                  2001 GMC VAN 12PSG'                    \n",
       "                                       2005 FORD CROWN VICTORIA'          1   \n",
       "                                       2006 CHEVROLET VAN,PRISONER TP'        \n",
       "                                       2006 FORD CROWN VICTORIA'              \n",
       "                                       2007 CHEVROLET VAN,PRISONER TP'        \n",
       "                                       2008 FORD CROWN VICTORIA'              \n",
       "                                       2009 FORD CROWN VICTORIA'              \n",
       "                                       2010 CHEVROLET VAN 12PSG'              \n",
       "                                       2019 DODGE Grand Caravan'              \n",
       "Cigarette Restoration/Tobacco Program  2009 HONDA CIVIC'                  1   \n",
       "Community Planning                     2006 GMC SAVANA'                       \n",
       "County Council                         2008 CHEVROLET IMPALA'                 \n",
       "                                       2014 FORD FUSION'                      \n",
       "                                       2017 JEEP CHEROKEE'                    \n",
       "                                       2018 CHEVROLET IMPALA'                 \n",
       "County Sheriff                         2005 CHEVROLET VAN,PRISONER TP'        \n",
       "                                       2006 CHEVROLET VAN,PRISONER TP'        \n",
       "\n",
       "                                                                       2033  \\\n",
       "dept_name                              vehicledescription                     \n",
       "Baltimore County Department of Library 2002 FORD VAN CARGO'                   \n",
       "                                       2019 DODGE Grand Caravan'              \n",
       "Board of Election Supervisors          2008 CHEVROLET UPLANDER'               \n",
       "Bureau of Corrections                  2001 GMC VAN 12PSG'                1   \n",
       "                                       2005 FORD CROWN VICTORIA'              \n",
       "                                       2006 CHEVROLET VAN,PRISONER TP'        \n",
       "                                       2006 FORD CROWN VICTORIA'              \n",
       "                                       2007 CHEVROLET VAN,PRISONER TP'        \n",
       "                                       2008 FORD CROWN VICTORIA'              \n",
       "                                       2009 FORD CROWN VICTORIA'              \n",
       "                                       2010 CHEVROLET VAN 12PSG'              \n",
       "                                       2019 DODGE Grand Caravan'              \n",
       "Cigarette Restoration/Tobacco Program  2009 HONDA CIVIC'                      \n",
       "Community Planning                     2006 GMC SAVANA'                       \n",
       "County Council                         2008 CHEVROLET IMPALA'                 \n",
       "                                       2014 FORD FUSION'                      \n",
       "                                       2017 JEEP CHEROKEE'                    \n",
       "                                       2018 CHEVROLET IMPALA'                 \n",
       "County Sheriff                         2005 CHEVROLET VAN,PRISONER TP'        \n",
       "                                       2006 CHEVROLET VAN,PRISONER TP'        \n",
       "\n",
       "                                                                       2034  \\\n",
       "dept_name                              vehicledescription                     \n",
       "Baltimore County Department of Library 2002 FORD VAN CARGO'                   \n",
       "                                       2019 DODGE Grand Caravan'              \n",
       "Board of Election Supervisors          2008 CHEVROLET UPLANDER'               \n",
       "Bureau of Corrections                  2001 GMC VAN 12PSG'                    \n",
       "                                       2005 FORD CROWN VICTORIA'              \n",
       "                                       2006 CHEVROLET VAN,PRISONER TP'        \n",
       "                                       2006 FORD CROWN VICTORIA'              \n",
       "                                       2007 CHEVROLET VAN,PRISONER TP'        \n",
       "                                       2008 FORD CROWN VICTORIA'              \n",
       "                                       2009 FORD CROWN VICTORIA'              \n",
       "                                       2010 CHEVROLET VAN 12PSG'              \n",
       "                                       2019 DODGE Grand Caravan'              \n",
       "Cigarette Restoration/Tobacco Program  2009 HONDA CIVIC'                      \n",
       "Community Planning                     2006 GMC SAVANA'                       \n",
       "County Council                         2008 CHEVROLET IMPALA'                 \n",
       "                                       2014 FORD FUSION'                      \n",
       "                                       2017 JEEP CHEROKEE'                    \n",
       "                                       2018 CHEVROLET IMPALA'                 \n",
       "County Sheriff                         2005 CHEVROLET VAN,PRISONER TP'        \n",
       "                                       2006 CHEVROLET VAN,PRISONER TP'        \n",
       "\n",
       "                                                                       2035  \\\n",
       "dept_name                              vehicledescription                     \n",
       "Baltimore County Department of Library 2002 FORD VAN CARGO'                   \n",
       "                                       2019 DODGE Grand Caravan'              \n",
       "Board of Election Supervisors          2008 CHEVROLET UPLANDER'               \n",
       "Bureau of Corrections                  2001 GMC VAN 12PSG'                    \n",
       "                                       2005 FORD CROWN VICTORIA'              \n",
       "                                       2006 CHEVROLET VAN,PRISONER TP'        \n",
       "                                       2006 FORD CROWN VICTORIA'              \n",
       "                                       2007 CHEVROLET VAN,PRISONER TP'        \n",
       "                                       2008 FORD CROWN VICTORIA'          1   \n",
       "                                       2009 FORD CROWN VICTORIA'              \n",
       "                                       2010 CHEVROLET VAN 12PSG'              \n",
       "                                       2019 DODGE Grand Caravan'              \n",
       "Cigarette Restoration/Tobacco Program  2009 HONDA CIVIC'                      \n",
       "Community Planning                     2006 GMC SAVANA'                   1   \n",
       "County Council                         2008 CHEVROLET IMPALA'                 \n",
       "                                       2014 FORD FUSION'                      \n",
       "                                       2017 JEEP CHEROKEE'                    \n",
       "                                       2018 CHEVROLET IMPALA'                 \n",
       "County Sheriff                         2005 CHEVROLET VAN,PRISONER TP'        \n",
       "                                       2006 CHEVROLET VAN,PRISONER TP'        \n",
       "\n",
       "                                                                       2036  \\\n",
       "dept_name                              vehicledescription                     \n",
       "Baltimore County Department of Library 2002 FORD VAN CARGO'                   \n",
       "                                       2019 DODGE Grand Caravan'              \n",
       "Board of Election Supervisors          2008 CHEVROLET UPLANDER'               \n",
       "Bureau of Corrections                  2001 GMC VAN 12PSG'                    \n",
       "                                       2005 FORD CROWN VICTORIA'              \n",
       "                                       2006 CHEVROLET VAN,PRISONER TP'        \n",
       "                                       2006 FORD CROWN VICTORIA'              \n",
       "                                       2007 CHEVROLET VAN,PRISONER TP'        \n",
       "                                       2008 FORD CROWN VICTORIA'              \n",
       "                                       2009 FORD CROWN VICTORIA'              \n",
       "                                       2010 CHEVROLET VAN 12PSG'              \n",
       "                                       2019 DODGE Grand Caravan'              \n",
       "Cigarette Restoration/Tobacco Program  2009 HONDA CIVIC'                      \n",
       "Community Planning                     2006 GMC SAVANA'                       \n",
       "County Council                         2008 CHEVROLET IMPALA'                 \n",
       "                                       2014 FORD FUSION'                      \n",
       "                                       2017 JEEP CHEROKEE'                    \n",
       "                                       2018 CHEVROLET IMPALA'                 \n",
       "County Sheriff                         2005 CHEVROLET VAN,PRISONER TP'        \n",
       "                                       2006 CHEVROLET VAN,PRISONER TP'        \n",
       "\n",
       "                                                                       2037  \n",
       "dept_name                              vehicledescription                    \n",
       "Baltimore County Department of Library 2002 FORD VAN CARGO'                  \n",
       "                                       2019 DODGE Grand Caravan'             \n",
       "Board of Election Supervisors          2008 CHEVROLET UPLANDER'              \n",
       "Bureau of Corrections                  2001 GMC VAN 12PSG'                   \n",
       "                                       2005 FORD CROWN VICTORIA'             \n",
       "                                       2006 CHEVROLET VAN,PRISONER TP'       \n",
       "                                       2006 FORD CROWN VICTORIA'             \n",
       "                                       2007 CHEVROLET VAN,PRISONER TP'       \n",
       "                                       2008 FORD CROWN VICTORIA'             \n",
       "                                       2009 FORD CROWN VICTORIA'             \n",
       "                                       2010 CHEVROLET VAN 12PSG'             \n",
       "                                       2019 DODGE Grand Caravan'             \n",
       "Cigarette Restoration/Tobacco Program  2009 HONDA CIVIC'                     \n",
       "Community Planning                     2006 GMC SAVANA'                      \n",
       "County Council                         2008 CHEVROLET IMPALA'                \n",
       "                                       2014 FORD FUSION'                     \n",
       "                                       2017 JEEP CHEROKEE'                1  \n",
       "                                       2018 CHEVROLET IMPALA'                \n",
       "County Sheriff                         2005 CHEVROLET VAN,PRISONER TP'       \n",
       "                                       2006 CHEVROLET VAN,PRISONER TP'       "
      ]
     },
     "execution_count": 59,
     "metadata": {},
     "output_type": "execute_result"
    }
   ],
   "source": [
    "data.groupby(['dept_name','vehicledescription'])[inputs.years].sum().replace({0:''}).head(20)"
   ]
  },
  {
   "cell_type": "code",
   "execution_count": 76,
   "metadata": {},
   "outputs": [
    {
     "ename": "AttributeError",
     "evalue": "module 'builtins' has no attribute 'PyCapsule'",
     "output_type": "error",
     "traceback": [
      "\u001b[1;31m---------------------------------------------------------------------------\u001b[0m",
      "\u001b[1;31mAttributeError\u001b[0m                            Traceback (most recent call last)",
      "\u001b[1;32m<ipython-input-76-45ec69237a24>\u001b[0m in \u001b[0;36m<module>\u001b[1;34m\u001b[0m\n\u001b[1;32m----> 1\u001b[1;33m \u001b[0mbuiltins\u001b[0m\u001b[1;33m.\u001b[0m\u001b[0mPyCapsule\u001b[0m\u001b[1;33m\u001b[0m\u001b[1;33m\u001b[0m\u001b[0m\n\u001b[0m",
      "\u001b[1;31mAttributeError\u001b[0m: module 'builtins' has no attribute 'PyCapsule'"
     ]
    }
   ],
   "source": [
    "builtins.PyCapsule"
   ]
  },
  {
   "cell_type": "code",
   "execution_count": 66,
   "metadata": {},
   "outputs": [
    {
     "data": {
      "text/html": [
       "<div>\n",
       "<style scoped>\n",
       "    .dataframe tbody tr th:only-of-type {\n",
       "        vertical-align: middle;\n",
       "    }\n",
       "\n",
       "    .dataframe tbody tr th {\n",
       "        vertical-align: top;\n",
       "    }\n",
       "\n",
       "    .dataframe thead th {\n",
       "        text-align: right;\n",
       "    }\n",
       "</style>\n",
       "<table border=\"1\" class=\"dataframe\">\n",
       "  <thead>\n",
       "    <tr style=\"text-align: right;\">\n",
       "      <th></th>\n",
       "      <th>2022</th>\n",
       "      <th>2023</th>\n",
       "      <th>2024</th>\n",
       "      <th>2025</th>\n",
       "      <th>2026</th>\n",
       "      <th>2027</th>\n",
       "      <th>2028</th>\n",
       "      <th>2029</th>\n",
       "      <th>2030</th>\n",
       "      <th>2031</th>\n",
       "      <th>2032</th>\n",
       "      <th>2033</th>\n",
       "      <th>2034</th>\n",
       "      <th>2035</th>\n",
       "      <th>2036</th>\n",
       "      <th>2037</th>\n",
       "    </tr>\n",
       "    <tr>\n",
       "      <th>equipmentid</th>\n",
       "      <th></th>\n",
       "      <th></th>\n",
       "      <th></th>\n",
       "      <th></th>\n",
       "      <th></th>\n",
       "      <th></th>\n",
       "      <th></th>\n",
       "      <th></th>\n",
       "      <th></th>\n",
       "      <th></th>\n",
       "      <th></th>\n",
       "      <th></th>\n",
       "      <th></th>\n",
       "      <th></th>\n",
       "      <th></th>\n",
       "      <th></th>\n",
       "    </tr>\n",
       "  </thead>\n",
       "  <tbody>\n",
       "    <tr>\n",
       "      <th>30731.0</th>\n",
       "      <td></td>\n",
       "      <td></td>\n",
       "      <td></td>\n",
       "      <td></td>\n",
       "      <td>1</td>\n",
       "      <td></td>\n",
       "      <td></td>\n",
       "      <td></td>\n",
       "      <td></td>\n",
       "      <td></td>\n",
       "      <td></td>\n",
       "      <td></td>\n",
       "      <td></td>\n",
       "      <td></td>\n",
       "      <td></td>\n",
       "      <td></td>\n",
       "    </tr>\n",
       "    <tr>\n",
       "      <th>27834.0</th>\n",
       "      <td></td>\n",
       "      <td></td>\n",
       "      <td></td>\n",
       "      <td></td>\n",
       "      <td></td>\n",
       "      <td></td>\n",
       "      <td></td>\n",
       "      <td></td>\n",
       "      <td></td>\n",
       "      <td>1</td>\n",
       "      <td></td>\n",
       "      <td></td>\n",
       "      <td></td>\n",
       "      <td></td>\n",
       "      <td></td>\n",
       "      <td></td>\n",
       "    </tr>\n",
       "    <tr>\n",
       "      <th>30869.0</th>\n",
       "      <td></td>\n",
       "      <td></td>\n",
       "      <td></td>\n",
       "      <td></td>\n",
       "      <td></td>\n",
       "      <td></td>\n",
       "      <td></td>\n",
       "      <td></td>\n",
       "      <td></td>\n",
       "      <td></td>\n",
       "      <td></td>\n",
       "      <td></td>\n",
       "      <td></td>\n",
       "      <td>1</td>\n",
       "      <td></td>\n",
       "      <td></td>\n",
       "    </tr>\n",
       "    <tr>\n",
       "      <th>27956.0</th>\n",
       "      <td></td>\n",
       "      <td></td>\n",
       "      <td></td>\n",
       "      <td></td>\n",
       "      <td></td>\n",
       "      <td></td>\n",
       "      <td></td>\n",
       "      <td>1</td>\n",
       "      <td></td>\n",
       "      <td></td>\n",
       "      <td></td>\n",
       "      <td></td>\n",
       "      <td></td>\n",
       "      <td></td>\n",
       "      <td></td>\n",
       "      <td></td>\n",
       "    </tr>\n",
       "    <tr>\n",
       "      <th>31615.0</th>\n",
       "      <td></td>\n",
       "      <td></td>\n",
       "      <td></td>\n",
       "      <td></td>\n",
       "      <td></td>\n",
       "      <td></td>\n",
       "      <td></td>\n",
       "      <td></td>\n",
       "      <td></td>\n",
       "      <td></td>\n",
       "      <td></td>\n",
       "      <td>1</td>\n",
       "      <td></td>\n",
       "      <td></td>\n",
       "      <td></td>\n",
       "      <td></td>\n",
       "    </tr>\n",
       "    <tr>\n",
       "      <th>27872.0</th>\n",
       "      <td></td>\n",
       "      <td></td>\n",
       "      <td></td>\n",
       "      <td></td>\n",
       "      <td></td>\n",
       "      <td></td>\n",
       "      <td></td>\n",
       "      <td>1</td>\n",
       "      <td></td>\n",
       "      <td></td>\n",
       "      <td></td>\n",
       "      <td></td>\n",
       "      <td></td>\n",
       "      <td></td>\n",
       "      <td></td>\n",
       "      <td></td>\n",
       "    </tr>\n",
       "    <tr>\n",
       "      <th>27859.0</th>\n",
       "      <td></td>\n",
       "      <td></td>\n",
       "      <td></td>\n",
       "      <td>1</td>\n",
       "      <td></td>\n",
       "      <td></td>\n",
       "      <td></td>\n",
       "      <td></td>\n",
       "      <td></td>\n",
       "      <td></td>\n",
       "      <td></td>\n",
       "      <td></td>\n",
       "      <td></td>\n",
       "      <td></td>\n",
       "      <td></td>\n",
       "      <td></td>\n",
       "    </tr>\n",
       "    <tr>\n",
       "      <th>31260.0</th>\n",
       "      <td></td>\n",
       "      <td></td>\n",
       "      <td>1</td>\n",
       "      <td></td>\n",
       "      <td></td>\n",
       "      <td></td>\n",
       "      <td></td>\n",
       "      <td></td>\n",
       "      <td></td>\n",
       "      <td></td>\n",
       "      <td></td>\n",
       "      <td></td>\n",
       "      <td></td>\n",
       "      <td></td>\n",
       "      <td></td>\n",
       "      <td></td>\n",
       "    </tr>\n",
       "    <tr>\n",
       "      <th>30907.0</th>\n",
       "      <td></td>\n",
       "      <td></td>\n",
       "      <td></td>\n",
       "      <td>1</td>\n",
       "      <td></td>\n",
       "      <td></td>\n",
       "      <td></td>\n",
       "      <td></td>\n",
       "      <td></td>\n",
       "      <td></td>\n",
       "      <td></td>\n",
       "      <td></td>\n",
       "      <td></td>\n",
       "      <td></td>\n",
       "      <td></td>\n",
       "      <td></td>\n",
       "    </tr>\n",
       "    <tr>\n",
       "      <th>26802.0</th>\n",
       "      <td></td>\n",
       "      <td></td>\n",
       "      <td></td>\n",
       "      <td></td>\n",
       "      <td></td>\n",
       "      <td></td>\n",
       "      <td></td>\n",
       "      <td></td>\n",
       "      <td></td>\n",
       "      <td></td>\n",
       "      <td></td>\n",
       "      <td>1</td>\n",
       "      <td></td>\n",
       "      <td></td>\n",
       "      <td></td>\n",
       "      <td></td>\n",
       "    </tr>\n",
       "    <tr>\n",
       "      <th>30150.0</th>\n",
       "      <td></td>\n",
       "      <td></td>\n",
       "      <td></td>\n",
       "      <td></td>\n",
       "      <td></td>\n",
       "      <td></td>\n",
       "      <td></td>\n",
       "      <td>1</td>\n",
       "      <td></td>\n",
       "      <td></td>\n",
       "      <td></td>\n",
       "      <td></td>\n",
       "      <td></td>\n",
       "      <td></td>\n",
       "      <td></td>\n",
       "      <td></td>\n",
       "    </tr>\n",
       "    <tr>\n",
       "      <th>27893.0</th>\n",
       "      <td></td>\n",
       "      <td></td>\n",
       "      <td></td>\n",
       "      <td></td>\n",
       "      <td></td>\n",
       "      <td></td>\n",
       "      <td></td>\n",
       "      <td></td>\n",
       "      <td></td>\n",
       "      <td></td>\n",
       "      <td>1</td>\n",
       "      <td></td>\n",
       "      <td></td>\n",
       "      <td></td>\n",
       "      <td></td>\n",
       "      <td></td>\n",
       "    </tr>\n",
       "    <tr>\n",
       "      <th>27776.0</th>\n",
       "      <td></td>\n",
       "      <td></td>\n",
       "      <td></td>\n",
       "      <td></td>\n",
       "      <td></td>\n",
       "      <td></td>\n",
       "      <td>1</td>\n",
       "      <td></td>\n",
       "      <td></td>\n",
       "      <td></td>\n",
       "      <td></td>\n",
       "      <td></td>\n",
       "      <td></td>\n",
       "      <td></td>\n",
       "      <td></td>\n",
       "      <td></td>\n",
       "    </tr>\n",
       "    <tr>\n",
       "      <th>31614.0</th>\n",
       "      <td></td>\n",
       "      <td></td>\n",
       "      <td></td>\n",
       "      <td></td>\n",
       "      <td></td>\n",
       "      <td></td>\n",
       "      <td></td>\n",
       "      <td></td>\n",
       "      <td></td>\n",
       "      <td>1</td>\n",
       "      <td></td>\n",
       "      <td></td>\n",
       "      <td></td>\n",
       "      <td></td>\n",
       "      <td></td>\n",
       "      <td></td>\n",
       "    </tr>\n",
       "    <tr>\n",
       "      <th>31700.0</th>\n",
       "      <td></td>\n",
       "      <td></td>\n",
       "      <td></td>\n",
       "      <td></td>\n",
       "      <td></td>\n",
       "      <td></td>\n",
       "      <td></td>\n",
       "      <td></td>\n",
       "      <td>1</td>\n",
       "      <td></td>\n",
       "      <td></td>\n",
       "      <td></td>\n",
       "      <td></td>\n",
       "      <td></td>\n",
       "      <td></td>\n",
       "      <td></td>\n",
       "    </tr>\n",
       "    <tr>\n",
       "      <th>27625.0</th>\n",
       "      <td></td>\n",
       "      <td></td>\n",
       "      <td></td>\n",
       "      <td></td>\n",
       "      <td></td>\n",
       "      <td></td>\n",
       "      <td></td>\n",
       "      <td>1</td>\n",
       "      <td></td>\n",
       "      <td></td>\n",
       "      <td></td>\n",
       "      <td></td>\n",
       "      <td></td>\n",
       "      <td></td>\n",
       "      <td></td>\n",
       "      <td></td>\n",
       "    </tr>\n",
       "    <tr>\n",
       "      <th>30242.0</th>\n",
       "      <td></td>\n",
       "      <td></td>\n",
       "      <td></td>\n",
       "      <td></td>\n",
       "      <td></td>\n",
       "      <td></td>\n",
       "      <td></td>\n",
       "      <td></td>\n",
       "      <td>1</td>\n",
       "      <td></td>\n",
       "      <td></td>\n",
       "      <td></td>\n",
       "      <td></td>\n",
       "      <td></td>\n",
       "      <td></td>\n",
       "      <td></td>\n",
       "    </tr>\n",
       "    <tr>\n",
       "      <th>30462.0</th>\n",
       "      <td></td>\n",
       "      <td></td>\n",
       "      <td></td>\n",
       "      <td></td>\n",
       "      <td></td>\n",
       "      <td></td>\n",
       "      <td></td>\n",
       "      <td></td>\n",
       "      <td>1</td>\n",
       "      <td></td>\n",
       "      <td></td>\n",
       "      <td></td>\n",
       "      <td></td>\n",
       "      <td></td>\n",
       "      <td></td>\n",
       "      <td></td>\n",
       "    </tr>\n",
       "    <tr>\n",
       "      <th>31022.0</th>\n",
       "      <td></td>\n",
       "      <td>1</td>\n",
       "      <td></td>\n",
       "      <td></td>\n",
       "      <td></td>\n",
       "      <td></td>\n",
       "      <td></td>\n",
       "      <td></td>\n",
       "      <td></td>\n",
       "      <td></td>\n",
       "      <td></td>\n",
       "      <td></td>\n",
       "      <td></td>\n",
       "      <td></td>\n",
       "      <td></td>\n",
       "      <td></td>\n",
       "    </tr>\n",
       "    <tr>\n",
       "      <th>31675.0</th>\n",
       "      <td></td>\n",
       "      <td></td>\n",
       "      <td></td>\n",
       "      <td></td>\n",
       "      <td></td>\n",
       "      <td></td>\n",
       "      <td></td>\n",
       "      <td></td>\n",
       "      <td></td>\n",
       "      <td></td>\n",
       "      <td></td>\n",
       "      <td></td>\n",
       "      <td>1</td>\n",
       "      <td></td>\n",
       "      <td></td>\n",
       "      <td></td>\n",
       "    </tr>\n",
       "  </tbody>\n",
       "</table>\n",
       "</div>"
      ],
      "text/plain": [
       "            2022 2023 2024 2025 2026 2027 2028 2029 2030 2031 2032 2033 2034  \\\n",
       "equipmentid                                                                    \n",
       "30731.0                            1                                           \n",
       "27834.0                                                     1                  \n",
       "30869.0                                                                        \n",
       "27956.0                                           1                            \n",
       "31615.0                                                               1        \n",
       "27872.0                                           1                            \n",
       "27859.0                       1                                                \n",
       "31260.0                  1                                                     \n",
       "30907.0                       1                                                \n",
       "26802.0                                                               1        \n",
       "30150.0                                           1                            \n",
       "27893.0                                                          1             \n",
       "27776.0                                      1                                 \n",
       "31614.0                                                     1                  \n",
       "31700.0                                                1                       \n",
       "27625.0                                           1                            \n",
       "30242.0                                                1                       \n",
       "30462.0                                                1                       \n",
       "31022.0             1                                                          \n",
       "31675.0                                                                    1   \n",
       "\n",
       "            2035 2036 2037  \n",
       "equipmentid                 \n",
       "30731.0                     \n",
       "27834.0                     \n",
       "30869.0        1            \n",
       "27956.0                     \n",
       "31615.0                     \n",
       "27872.0                     \n",
       "27859.0                     \n",
       "31260.0                     \n",
       "30907.0                     \n",
       "26802.0                     \n",
       "30150.0                     \n",
       "27893.0                     \n",
       "27776.0                     \n",
       "31614.0                     \n",
       "31700.0                     \n",
       "27625.0                     \n",
       "30242.0                     \n",
       "30462.0                     \n",
       "31022.0                     \n",
       "31675.0                     "
      ]
     },
     "execution_count": 66,
     "metadata": {},
     "output_type": "execute_result"
    }
   ],
   "source": [
    "data.groupby(['equipmentid'])[inputs.years].sum().replace({0:''}).sample(20)"
   ]
  },
  {
   "cell_type": "code",
   "execution_count": 45,
   "metadata": {},
   "outputs": [
    {
     "name": "stdout",
     "output_type": "stream",
     "text": [
      "   acquisition_costs\n"
     ]
    },
    {
     "data": {
      "text/html": [
       "<div>\n",
       "<style scoped>\n",
       "    .dataframe tbody tr th:only-of-type {\n",
       "        vertical-align: middle;\n",
       "    }\n",
       "\n",
       "    .dataframe tbody tr th {\n",
       "        vertical-align: top;\n",
       "    }\n",
       "\n",
       "    .dataframe thead th {\n",
       "        text-align: right;\n",
       "    }\n",
       "</style>\n",
       "<table border=\"1\" class=\"dataframe\">\n",
       "  <thead>\n",
       "    <tr style=\"text-align: right;\">\n",
       "      <th></th>\n",
       "      <th>2022</th>\n",
       "      <th>2023</th>\n",
       "      <th>2024</th>\n",
       "      <th>2025</th>\n",
       "      <th>2026</th>\n",
       "      <th>2027</th>\n",
       "      <th>2028</th>\n",
       "      <th>2029</th>\n",
       "      <th>2030</th>\n",
       "      <th>2031</th>\n",
       "      <th>2032</th>\n",
       "      <th>2033</th>\n",
       "      <th>2034</th>\n",
       "      <th>2035</th>\n",
       "      <th>2036</th>\n",
       "      <th>2037</th>\n",
       "    </tr>\n",
       "  </thead>\n",
       "  <tbody>\n",
       "    <tr>\n",
       "      <th>0</th>\n",
       "      <td>4508000</td>\n",
       "      <td>3767800</td>\n",
       "      <td>3742500</td>\n",
       "      <td>3716300</td>\n",
       "      <td>3749900</td>\n",
       "      <td>3745000</td>\n",
       "      <td>3786000</td>\n",
       "      <td>4453000</td>\n",
       "      <td>3748800</td>\n",
       "      <td>3736200</td>\n",
       "      <td>3737200</td>\n",
       "      <td>3767300</td>\n",
       "      <td>3786900</td>\n",
       "      <td>3692900</td>\n",
       "      <td>4448500</td>\n",
       "      <td>3685300</td>\n",
       "    </tr>\n",
       "  </tbody>\n",
       "</table>\n",
       "</div>"
      ],
      "text/plain": [
       "      2022     2023     2024     2025     2026     2027     2028     2029  \\\n",
       "0  4508000  3767800  3742500  3716300  3749900  3745000  3786000  4453000   \n",
       "\n",
       "      2030     2031     2032     2033     2034     2035     2036     2037  \n",
       "0  3748800  3736200  3737200  3767300  3786900  3692900  4448500  3685300  "
      ]
     },
     "execution_count": 45,
     "metadata": {},
     "output_type": "execute_result"
    }
   ],
   "source": [
    "print('   acquisition_costs')\n",
    "pd.DataFrame(pd.DataFrame(options[0,'acquisition_costs'],columns=['vehicle_idx','solution_idx']+inputs.years)[inputs.years].sum()).T.astype(int)"
   ]
  },
  {
   "cell_type": "code",
   "execution_count": 46,
   "metadata": {},
   "outputs": [
    {
     "name": "stdout",
     "output_type": "stream",
     "text": [
      "   consumables_costs\n"
     ]
    },
    {
     "data": {
      "text/html": [
       "<div>\n",
       "<style scoped>\n",
       "    .dataframe tbody tr th:only-of-type {\n",
       "        vertical-align: middle;\n",
       "    }\n",
       "\n",
       "    .dataframe tbody tr th {\n",
       "        vertical-align: top;\n",
       "    }\n",
       "\n",
       "    .dataframe thead th {\n",
       "        text-align: right;\n",
       "    }\n",
       "</style>\n",
       "<table border=\"1\" class=\"dataframe\">\n",
       "  <thead>\n",
       "    <tr style=\"text-align: right;\">\n",
       "      <th></th>\n",
       "      <th>2022</th>\n",
       "      <th>2023</th>\n",
       "      <th>2024</th>\n",
       "      <th>2025</th>\n",
       "      <th>2026</th>\n",
       "      <th>2027</th>\n",
       "      <th>2028</th>\n",
       "      <th>2029</th>\n",
       "      <th>2030</th>\n",
       "      <th>2031</th>\n",
       "      <th>2032</th>\n",
       "      <th>2033</th>\n",
       "      <th>2034</th>\n",
       "      <th>2035</th>\n",
       "      <th>2036</th>\n",
       "      <th>2037</th>\n",
       "    </tr>\n",
       "  </thead>\n",
       "  <tbody>\n",
       "    <tr>\n",
       "      <th>0</th>\n",
       "      <td>2092277</td>\n",
       "      <td>1871742</td>\n",
       "      <td>1720808</td>\n",
       "      <td>1596987</td>\n",
       "      <td>1486370</td>\n",
       "      <td>1396065</td>\n",
       "      <td>1321963</td>\n",
       "      <td>1261161</td>\n",
       "      <td>1211574</td>\n",
       "      <td>1170112</td>\n",
       "      <td>1137951</td>\n",
       "      <td>1113064</td>\n",
       "      <td>1093945</td>\n",
       "      <td>1080024</td>\n",
       "      <td>1071359</td>\n",
       "      <td>1066907</td>\n",
       "    </tr>\n",
       "  </tbody>\n",
       "</table>\n",
       "</div>"
      ],
      "text/plain": [
       "      2022     2023     2024     2025     2026     2027     2028     2029  \\\n",
       "0  2092277  1871742  1720808  1596987  1486370  1396065  1321963  1261161   \n",
       "\n",
       "      2030     2031     2032     2033     2034     2035     2036     2037  \n",
       "0  1211574  1170112  1137951  1113064  1093945  1080024  1071359  1066907  "
      ]
     },
     "execution_count": 46,
     "metadata": {},
     "output_type": "execute_result"
    }
   ],
   "source": [
    "print('   consumables_costs')\n",
    "pd.DataFrame(pd.DataFrame(options[0,'consumables_costs'],columns=['vehicle_idx','solution_idx']+inputs.years)[inputs.years].sum()).T.astype(int)"
   ]
  },
  {
   "cell_type": "code",
   "execution_count": 47,
   "metadata": {},
   "outputs": [
    {
     "name": "stdout",
     "output_type": "stream",
     "text": [
      "   mx_costs\n"
     ]
    },
    {
     "data": {
      "text/html": [
       "<div>\n",
       "<style scoped>\n",
       "    .dataframe tbody tr th:only-of-type {\n",
       "        vertical-align: middle;\n",
       "    }\n",
       "\n",
       "    .dataframe tbody tr th {\n",
       "        vertical-align: top;\n",
       "    }\n",
       "\n",
       "    .dataframe thead th {\n",
       "        text-align: right;\n",
       "    }\n",
       "</style>\n",
       "<table border=\"1\" class=\"dataframe\">\n",
       "  <thead>\n",
       "    <tr style=\"text-align: right;\">\n",
       "      <th></th>\n",
       "      <th>2022</th>\n",
       "      <th>2023</th>\n",
       "      <th>2024</th>\n",
       "      <th>2025</th>\n",
       "      <th>2026</th>\n",
       "      <th>2027</th>\n",
       "      <th>2028</th>\n",
       "      <th>2029</th>\n",
       "      <th>2030</th>\n",
       "      <th>2031</th>\n",
       "      <th>2032</th>\n",
       "      <th>2033</th>\n",
       "      <th>2034</th>\n",
       "      <th>2035</th>\n",
       "      <th>2036</th>\n",
       "      <th>2037</th>\n",
       "    </tr>\n",
       "  </thead>\n",
       "  <tbody>\n",
       "    <tr>\n",
       "      <th>0</th>\n",
       "      <td>1383000</td>\n",
       "      <td>1401600</td>\n",
       "      <td>1398400</td>\n",
       "      <td>1380200</td>\n",
       "      <td>1338200</td>\n",
       "      <td>1331600</td>\n",
       "      <td>1319000</td>\n",
       "      <td>1278200</td>\n",
       "      <td>1262800</td>\n",
       "      <td>1242800</td>\n",
       "      <td>1212200</td>\n",
       "      <td>1194800</td>\n",
       "      <td>1163800</td>\n",
       "      <td>1145000</td>\n",
       "      <td>1149400</td>\n",
       "      <td>1125400</td>\n",
       "    </tr>\n",
       "  </tbody>\n",
       "</table>\n",
       "</div>"
      ],
      "text/plain": [
       "      2022     2023     2024     2025     2026     2027     2028     2029  \\\n",
       "0  1383000  1401600  1398400  1380200  1338200  1331600  1319000  1278200   \n",
       "\n",
       "      2030     2031     2032     2033     2034     2035     2036     2037  \n",
       "0  1262800  1242800  1212200  1194800  1163800  1145000  1149400  1125400  "
      ]
     },
     "execution_count": 47,
     "metadata": {},
     "output_type": "execute_result"
    }
   ],
   "source": [
    "print('   mx_costs')\n",
    "pd.DataFrame(pd.DataFrame(options[0,'mx_costs'],columns=['vehicle_idx','solution_idx']+inputs.years)[inputs.years].sum()).T.astype(int)"
   ]
  },
  {
   "cell_type": "code",
   "execution_count": 48,
   "metadata": {},
   "outputs": [
    {
     "name": "stdout",
     "output_type": "stream",
     "text": [
      "   emissions_amts\n"
     ]
    },
    {
     "data": {
      "text/html": [
       "<div>\n",
       "<style scoped>\n",
       "    .dataframe tbody tr th:only-of-type {\n",
       "        vertical-align: middle;\n",
       "    }\n",
       "\n",
       "    .dataframe tbody tr th {\n",
       "        vertical-align: top;\n",
       "    }\n",
       "\n",
       "    .dataframe thead th {\n",
       "        text-align: right;\n",
       "    }\n",
       "</style>\n",
       "<table border=\"1\" class=\"dataframe\">\n",
       "  <thead>\n",
       "    <tr style=\"text-align: right;\">\n",
       "      <th></th>\n",
       "      <th>2022</th>\n",
       "      <th>2023</th>\n",
       "      <th>2024</th>\n",
       "      <th>2025</th>\n",
       "      <th>2026</th>\n",
       "      <th>2027</th>\n",
       "      <th>2028</th>\n",
       "      <th>2029</th>\n",
       "      <th>2030</th>\n",
       "      <th>2031</th>\n",
       "      <th>2032</th>\n",
       "      <th>2033</th>\n",
       "      <th>2034</th>\n",
       "      <th>2035</th>\n",
       "      <th>2036</th>\n",
       "      <th>2037</th>\n",
       "    </tr>\n",
       "  </thead>\n",
       "  <tbody>\n",
       "    <tr>\n",
       "      <th>0</th>\n",
       "      <td>2057189</td>\n",
       "      <td>1766625</td>\n",
       "      <td>1552630</td>\n",
       "      <td>1370334</td>\n",
       "      <td>1193288</td>\n",
       "      <td>1034823</td>\n",
       "      <td>910045</td>\n",
       "      <td>800190</td>\n",
       "      <td>716344</td>\n",
       "      <td>633872</td>\n",
       "      <td>566229</td>\n",
       "      <td>491286</td>\n",
       "      <td>430366</td>\n",
       "      <td>345694</td>\n",
       "      <td>246455</td>\n",
       "      <td>190714</td>\n",
       "    </tr>\n",
       "  </tbody>\n",
       "</table>\n",
       "</div>"
      ],
      "text/plain": [
       "      2022     2023     2024     2025     2026     2027    2028    2029  \\\n",
       "0  2057189  1766625  1552630  1370334  1193288  1034823  910045  800190   \n",
       "\n",
       "     2030    2031    2032    2033    2034    2035    2036    2037  \n",
       "0  716344  633872  566229  491286  430366  345694  246455  190714  "
      ]
     },
     "execution_count": 48,
     "metadata": {},
     "output_type": "execute_result"
    }
   ],
   "source": [
    "print('   emissions_amts')\n",
    "pd.DataFrame(pd.DataFrame(options[0,'emissions_amts'],columns=['vehicle_idx','solution_idx']+inputs.years)[inputs.years].sum()).T.astype(int)"
   ]
  },
  {
   "cell_type": "code",
   "execution_count": 64,
   "metadata": {},
   "outputs": [
    {
     "name": "stdout",
     "output_type": "stream",
     "text": [
      "   EV/Hybrid Inventory\n"
     ]
    }
   ],
   "source": [
    "print('   EV/Hybrid Inventory')\n",
    "ev_inv = pd.DataFrame(pd.DataFrame(options[0,'conversions'],columns=['vehicle_idx','solution_idx']+inputs.years)[inputs.years].sum())\n",
    "ev_inv.columns = ['EV']\n",
    "ev_inv.EV = ev_inv.EV\n",
    "ev_inv['ICE'] = inputs.num_vehicles-ev_inv.EV\n",
    "# ev_inv.melt(value_vars=['EV','ICE'],ignore_index=False)"
   ]
  },
  {
   "cell_type": "code",
   "execution_count": 50,
   "metadata": {},
   "outputs": [
    {
     "data": {
      "application/vnd.plotly.v1+json": {
       "config": {
        "plotlyServerURL": "https://plot.ly"
       },
       "data": [
        {
         "marker": {
          "color": "rgb(15,157,88)"
         },
         "name": "EV/Hybrid",
         "type": "bar",
         "x": [
          2022,
          2023,
          2024,
          2025,
          2026,
          2027,
          2028,
          2029,
          2030,
          2031,
          2032,
          2033,
          2034,
          2035,
          2036,
          2037
         ],
         "y": [
          111,
          204,
          293,
          382,
          467,
          558,
          649,
          742,
          831,
          920,
          1003,
          1087,
          1146,
          1205,
          1271,
          1327
         ]
        },
        {
         "marker": {
          "color": "rgb(0, 0, 0)"
         },
         "name": "ICE",
         "type": "bar",
         "x": [
          2022,
          2023,
          2024,
          2025,
          2026,
          2027,
          2028,
          2029,
          2030,
          2031,
          2032,
          2033,
          2034,
          2035,
          2036,
          2037
         ],
         "y": [
          1347,
          1254,
          1165,
          1076,
          991,
          900,
          809,
          716,
          627,
          538,
          455,
          371,
          312,
          253,
          187,
          131
         ]
        }
       ],
       "layout": {
        "autosize": true,
        "template": {
         "data": {
          "bar": [
           {
            "error_x": {
             "color": "#2a3f5f"
            },
            "error_y": {
             "color": "#2a3f5f"
            },
            "marker": {
             "line": {
              "color": "#E5ECF6",
              "width": 0.5
             }
            },
            "type": "bar"
           }
          ],
          "barpolar": [
           {
            "marker": {
             "line": {
              "color": "#E5ECF6",
              "width": 0.5
             }
            },
            "type": "barpolar"
           }
          ],
          "carpet": [
           {
            "aaxis": {
             "endlinecolor": "#2a3f5f",
             "gridcolor": "white",
             "linecolor": "white",
             "minorgridcolor": "white",
             "startlinecolor": "#2a3f5f"
            },
            "baxis": {
             "endlinecolor": "#2a3f5f",
             "gridcolor": "white",
             "linecolor": "white",
             "minorgridcolor": "white",
             "startlinecolor": "#2a3f5f"
            },
            "type": "carpet"
           }
          ],
          "choropleth": [
           {
            "colorbar": {
             "outlinewidth": 0,
             "ticks": ""
            },
            "type": "choropleth"
           }
          ],
          "contour": [
           {
            "colorbar": {
             "outlinewidth": 0,
             "ticks": ""
            },
            "colorscale": [
             [
              0,
              "#0d0887"
             ],
             [
              0.1111111111111111,
              "#46039f"
             ],
             [
              0.2222222222222222,
              "#7201a8"
             ],
             [
              0.3333333333333333,
              "#9c179e"
             ],
             [
              0.4444444444444444,
              "#bd3786"
             ],
             [
              0.5555555555555556,
              "#d8576b"
             ],
             [
              0.6666666666666666,
              "#ed7953"
             ],
             [
              0.7777777777777778,
              "#fb9f3a"
             ],
             [
              0.8888888888888888,
              "#fdca26"
             ],
             [
              1,
              "#f0f921"
             ]
            ],
            "type": "contour"
           }
          ],
          "contourcarpet": [
           {
            "colorbar": {
             "outlinewidth": 0,
             "ticks": ""
            },
            "type": "contourcarpet"
           }
          ],
          "heatmap": [
           {
            "colorbar": {
             "outlinewidth": 0,
             "ticks": ""
            },
            "colorscale": [
             [
              0,
              "#0d0887"
             ],
             [
              0.1111111111111111,
              "#46039f"
             ],
             [
              0.2222222222222222,
              "#7201a8"
             ],
             [
              0.3333333333333333,
              "#9c179e"
             ],
             [
              0.4444444444444444,
              "#bd3786"
             ],
             [
              0.5555555555555556,
              "#d8576b"
             ],
             [
              0.6666666666666666,
              "#ed7953"
             ],
             [
              0.7777777777777778,
              "#fb9f3a"
             ],
             [
              0.8888888888888888,
              "#fdca26"
             ],
             [
              1,
              "#f0f921"
             ]
            ],
            "type": "heatmap"
           }
          ],
          "heatmapgl": [
           {
            "colorbar": {
             "outlinewidth": 0,
             "ticks": ""
            },
            "colorscale": [
             [
              0,
              "#0d0887"
             ],
             [
              0.1111111111111111,
              "#46039f"
             ],
             [
              0.2222222222222222,
              "#7201a8"
             ],
             [
              0.3333333333333333,
              "#9c179e"
             ],
             [
              0.4444444444444444,
              "#bd3786"
             ],
             [
              0.5555555555555556,
              "#d8576b"
             ],
             [
              0.6666666666666666,
              "#ed7953"
             ],
             [
              0.7777777777777778,
              "#fb9f3a"
             ],
             [
              0.8888888888888888,
              "#fdca26"
             ],
             [
              1,
              "#f0f921"
             ]
            ],
            "type": "heatmapgl"
           }
          ],
          "histogram": [
           {
            "marker": {
             "colorbar": {
              "outlinewidth": 0,
              "ticks": ""
             }
            },
            "type": "histogram"
           }
          ],
          "histogram2d": [
           {
            "colorbar": {
             "outlinewidth": 0,
             "ticks": ""
            },
            "colorscale": [
             [
              0,
              "#0d0887"
             ],
             [
              0.1111111111111111,
              "#46039f"
             ],
             [
              0.2222222222222222,
              "#7201a8"
             ],
             [
              0.3333333333333333,
              "#9c179e"
             ],
             [
              0.4444444444444444,
              "#bd3786"
             ],
             [
              0.5555555555555556,
              "#d8576b"
             ],
             [
              0.6666666666666666,
              "#ed7953"
             ],
             [
              0.7777777777777778,
              "#fb9f3a"
             ],
             [
              0.8888888888888888,
              "#fdca26"
             ],
             [
              1,
              "#f0f921"
             ]
            ],
            "type": "histogram2d"
           }
          ],
          "histogram2dcontour": [
           {
            "colorbar": {
             "outlinewidth": 0,
             "ticks": ""
            },
            "colorscale": [
             [
              0,
              "#0d0887"
             ],
             [
              0.1111111111111111,
              "#46039f"
             ],
             [
              0.2222222222222222,
              "#7201a8"
             ],
             [
              0.3333333333333333,
              "#9c179e"
             ],
             [
              0.4444444444444444,
              "#bd3786"
             ],
             [
              0.5555555555555556,
              "#d8576b"
             ],
             [
              0.6666666666666666,
              "#ed7953"
             ],
             [
              0.7777777777777778,
              "#fb9f3a"
             ],
             [
              0.8888888888888888,
              "#fdca26"
             ],
             [
              1,
              "#f0f921"
             ]
            ],
            "type": "histogram2dcontour"
           }
          ],
          "mesh3d": [
           {
            "colorbar": {
             "outlinewidth": 0,
             "ticks": ""
            },
            "type": "mesh3d"
           }
          ],
          "parcoords": [
           {
            "line": {
             "colorbar": {
              "outlinewidth": 0,
              "ticks": ""
             }
            },
            "type": "parcoords"
           }
          ],
          "pie": [
           {
            "automargin": true,
            "type": "pie"
           }
          ],
          "scatter": [
           {
            "marker": {
             "colorbar": {
              "outlinewidth": 0,
              "ticks": ""
             }
            },
            "type": "scatter"
           }
          ],
          "scatter3d": [
           {
            "line": {
             "colorbar": {
              "outlinewidth": 0,
              "ticks": ""
             }
            },
            "marker": {
             "colorbar": {
              "outlinewidth": 0,
              "ticks": ""
             }
            },
            "type": "scatter3d"
           }
          ],
          "scattercarpet": [
           {
            "marker": {
             "colorbar": {
              "outlinewidth": 0,
              "ticks": ""
             }
            },
            "type": "scattercarpet"
           }
          ],
          "scattergeo": [
           {
            "marker": {
             "colorbar": {
              "outlinewidth": 0,
              "ticks": ""
             }
            },
            "type": "scattergeo"
           }
          ],
          "scattergl": [
           {
            "marker": {
             "colorbar": {
              "outlinewidth": 0,
              "ticks": ""
             }
            },
            "type": "scattergl"
           }
          ],
          "scattermapbox": [
           {
            "marker": {
             "colorbar": {
              "outlinewidth": 0,
              "ticks": ""
             }
            },
            "type": "scattermapbox"
           }
          ],
          "scatterpolar": [
           {
            "marker": {
             "colorbar": {
              "outlinewidth": 0,
              "ticks": ""
             }
            },
            "type": "scatterpolar"
           }
          ],
          "scatterpolargl": [
           {
            "marker": {
             "colorbar": {
              "outlinewidth": 0,
              "ticks": ""
             }
            },
            "type": "scatterpolargl"
           }
          ],
          "scatterternary": [
           {
            "marker": {
             "colorbar": {
              "outlinewidth": 0,
              "ticks": ""
             }
            },
            "type": "scatterternary"
           }
          ],
          "surface": [
           {
            "colorbar": {
             "outlinewidth": 0,
             "ticks": ""
            },
            "colorscale": [
             [
              0,
              "#0d0887"
             ],
             [
              0.1111111111111111,
              "#46039f"
             ],
             [
              0.2222222222222222,
              "#7201a8"
             ],
             [
              0.3333333333333333,
              "#9c179e"
             ],
             [
              0.4444444444444444,
              "#bd3786"
             ],
             [
              0.5555555555555556,
              "#d8576b"
             ],
             [
              0.6666666666666666,
              "#ed7953"
             ],
             [
              0.7777777777777778,
              "#fb9f3a"
             ],
             [
              0.8888888888888888,
              "#fdca26"
             ],
             [
              1,
              "#f0f921"
             ]
            ],
            "type": "surface"
           }
          ],
          "table": [
           {
            "cells": {
             "fill": {
              "color": "#EBF0F8"
             },
             "line": {
              "color": "white"
             }
            },
            "header": {
             "fill": {
              "color": "#C8D4E3"
             },
             "line": {
              "color": "white"
             }
            },
            "type": "table"
           }
          ]
         },
         "layout": {
          "annotationdefaults": {
           "arrowcolor": "#2a3f5f",
           "arrowhead": 0,
           "arrowwidth": 1
          },
          "coloraxis": {
           "colorbar": {
            "outlinewidth": 0,
            "ticks": ""
           }
          },
          "colorscale": {
           "diverging": [
            [
             0,
             "#8e0152"
            ],
            [
             0.1,
             "#c51b7d"
            ],
            [
             0.2,
             "#de77ae"
            ],
            [
             0.3,
             "#f1b6da"
            ],
            [
             0.4,
             "#fde0ef"
            ],
            [
             0.5,
             "#f7f7f7"
            ],
            [
             0.6,
             "#e6f5d0"
            ],
            [
             0.7,
             "#b8e186"
            ],
            [
             0.8,
             "#7fbc41"
            ],
            [
             0.9,
             "#4d9221"
            ],
            [
             1,
             "#276419"
            ]
           ],
           "sequential": [
            [
             0,
             "#0d0887"
            ],
            [
             0.1111111111111111,
             "#46039f"
            ],
            [
             0.2222222222222222,
             "#7201a8"
            ],
            [
             0.3333333333333333,
             "#9c179e"
            ],
            [
             0.4444444444444444,
             "#bd3786"
            ],
            [
             0.5555555555555556,
             "#d8576b"
            ],
            [
             0.6666666666666666,
             "#ed7953"
            ],
            [
             0.7777777777777778,
             "#fb9f3a"
            ],
            [
             0.8888888888888888,
             "#fdca26"
            ],
            [
             1,
             "#f0f921"
            ]
           ],
           "sequentialminus": [
            [
             0,
             "#0d0887"
            ],
            [
             0.1111111111111111,
             "#46039f"
            ],
            [
             0.2222222222222222,
             "#7201a8"
            ],
            [
             0.3333333333333333,
             "#9c179e"
            ],
            [
             0.4444444444444444,
             "#bd3786"
            ],
            [
             0.5555555555555556,
             "#d8576b"
            ],
            [
             0.6666666666666666,
             "#ed7953"
            ],
            [
             0.7777777777777778,
             "#fb9f3a"
            ],
            [
             0.8888888888888888,
             "#fdca26"
            ],
            [
             1,
             "#f0f921"
            ]
           ]
          },
          "colorway": [
           "#636efa",
           "#EF553B",
           "#00cc96",
           "#ab63fa",
           "#FFA15A",
           "#19d3f3",
           "#FF6692",
           "#B6E880",
           "#FF97FF",
           "#FECB52"
          ],
          "font": {
           "color": "#2a3f5f"
          },
          "geo": {
           "bgcolor": "white",
           "lakecolor": "white",
           "landcolor": "#E5ECF6",
           "showlakes": true,
           "showland": true,
           "subunitcolor": "white"
          },
          "hoverlabel": {
           "align": "left"
          },
          "hovermode": "closest",
          "mapbox": {
           "style": "light"
          },
          "paper_bgcolor": "white",
          "plot_bgcolor": "#E5ECF6",
          "polar": {
           "angularaxis": {
            "gridcolor": "white",
            "linecolor": "white",
            "ticks": ""
           },
           "bgcolor": "#E5ECF6",
           "radialaxis": {
            "gridcolor": "white",
            "linecolor": "white",
            "ticks": ""
           }
          },
          "scene": {
           "xaxis": {
            "backgroundcolor": "#E5ECF6",
            "gridcolor": "white",
            "gridwidth": 2,
            "linecolor": "white",
            "showbackground": true,
            "ticks": "",
            "zerolinecolor": "white"
           },
           "yaxis": {
            "backgroundcolor": "#E5ECF6",
            "gridcolor": "white",
            "gridwidth": 2,
            "linecolor": "white",
            "showbackground": true,
            "ticks": "",
            "zerolinecolor": "white"
           },
           "zaxis": {
            "backgroundcolor": "#E5ECF6",
            "gridcolor": "white",
            "gridwidth": 2,
            "linecolor": "white",
            "showbackground": true,
            "ticks": "",
            "zerolinecolor": "white"
           }
          },
          "shapedefaults": {
           "line": {
            "color": "#2a3f5f"
           }
          },
          "ternary": {
           "aaxis": {
            "gridcolor": "white",
            "linecolor": "white",
            "ticks": ""
           },
           "baxis": {
            "gridcolor": "white",
            "linecolor": "white",
            "ticks": ""
           },
           "bgcolor": "#E5ECF6",
           "caxis": {
            "gridcolor": "white",
            "linecolor": "white",
            "ticks": ""
           }
          },
          "title": {
           "x": 0.05
          },
          "xaxis": {
           "automargin": true,
           "gridcolor": "white",
           "linecolor": "white",
           "ticks": "",
           "title": {
            "standoff": 15
           },
           "zerolinecolor": "white",
           "zerolinewidth": 2
          },
          "yaxis": {
           "automargin": true,
           "gridcolor": "white",
           "linecolor": "white",
           "ticks": "",
           "title": {
            "standoff": 15
           },
           "zerolinecolor": "white",
           "zerolinewidth": 2
          }
         }
        },
        "xaxis": {
         "autorange": true,
         "range": [
          2021.5,
          2037.5
         ],
         "type": "linear"
        },
        "yaxis": {
         "autorange": true,
         "range": [
          0,
          1417.8947368421052
         ],
         "type": "linear"
        }
       }
      },
      "image/png": "[encoded data removed]",
      "text/html": [
       "<div>\n",
       "        \n",
       "        \n",
       "            <div id=\"f59447dc-3701-4f86-a54a-0e0946cf543c\" class=\"plotly-graph-div\" style=\"height:525px; width:100%;\"></div>\n",
       "            <script type=\"text/javascript\">\n",
       "                require([\"plotly\"], function(Plotly) {\n",
       "                    window.PLOTLYENV=window.PLOTLYENV || {};\n",
       "                    \n",
       "                if (document.getElementById(\"f59447dc-3701-4f86-a54a-0e0946cf543c\")) {\n",
       "                    Plotly.newPlot(\n",
       "                        'f59447dc-3701-4f86-a54a-0e0946cf543c',\n",
       "                        [{\"marker\": {\"color\": \"rgb(15,157,88)\"}, \"name\": \"EV/Hybrid\", \"type\": \"bar\", \"x\": [2022, 2023, 2024, 2025, 2026, 2027, 2028, 2029, 2030, 2031, 2032, 2033, 2034, 2035, 2036, 2037], \"y\": [111, 204, 293, 382, 467, 558, 649, 742, 831, 920, 1003, 1087, 1146, 1205, 1271, 1327]}, {\"marker\": {\"color\": \"rgb(0,0,0)\"}, \"name\": \"ICE\", \"type\": \"bar\", \"x\": [2022, 2023, 2024, 2025, 2026, 2027, 2028, 2029, 2030, 2031, 2032, 2033, 2034, 2035, 2036, 2037], \"y\": [1347, 1254, 1165, 1076, 991, 900, 809, 716, 627, 538, 455, 371, 312, 253, 187, 131]}],\n",
       "                        {\"template\": {\"data\": {\"bar\": [{\"error_x\": {\"color\": \"#2a3f5f\"}, \"error_y\": {\"color\": \"#2a3f5f\"}, \"marker\": {\"line\": {\"color\": \"#E5ECF6\", \"width\": 0.5}}, \"type\": \"bar\"}], \"barpolar\": [{\"marker\": {\"line\": {\"color\": \"#E5ECF6\", \"width\": 0.5}}, \"type\": \"barpolar\"}], \"carpet\": [{\"aaxis\": {\"endlinecolor\": \"#2a3f5f\", \"gridcolor\": \"white\", \"linecolor\": \"white\", \"minorgridcolor\": \"white\", \"startlinecolor\": \"#2a3f5f\"}, \"baxis\": {\"endlinecolor\": \"#2a3f5f\", \"gridcolor\": \"white\", \"linecolor\": \"white\", \"minorgridcolor\": \"white\", \"startlinecolor\": \"#2a3f5f\"}, \"type\": \"carpet\"}], \"choropleth\": [{\"colorbar\": {\"outlinewidth\": 0, \"ticks\": \"\"}, \"type\": \"choropleth\"}], \"contour\": [{\"colorbar\": {\"outlinewidth\": 0, \"ticks\": \"\"}, \"colorscale\": [[0.0, \"#0d0887\"], [0.1111111111111111, \"#46039f\"], [0.2222222222222222, \"#7201a8\"], [0.3333333333333333, \"#9c179e\"], [0.4444444444444444, \"#bd3786\"], [0.5555555555555556, \"#d8576b\"], [0.6666666666666666, \"#ed7953\"], [0.7777777777777778, \"#fb9f3a\"], [0.8888888888888888, \"#fdca26\"], [1.0, \"#f0f921\"]], \"type\": \"contour\"}], \"contourcarpet\": [{\"colorbar\": {\"outlinewidth\": 0, \"ticks\": \"\"}, \"type\": \"contourcarpet\"}], \"heatmap\": [{\"colorbar\": {\"outlinewidth\": 0, \"ticks\": \"\"}, \"colorscale\": [[0.0, \"#0d0887\"], [0.1111111111111111, \"#46039f\"], [0.2222222222222222, \"#7201a8\"], [0.3333333333333333, \"#9c179e\"], [0.4444444444444444, \"#bd3786\"], [0.5555555555555556, \"#d8576b\"], [0.6666666666666666, \"#ed7953\"], [0.7777777777777778, \"#fb9f3a\"], [0.8888888888888888, \"#fdca26\"], [1.0, \"#f0f921\"]], \"type\": \"heatmap\"}], \"heatmapgl\": [{\"colorbar\": {\"outlinewidth\": 0, \"ticks\": \"\"}, \"colorscale\": [[0.0, \"#0d0887\"], [0.1111111111111111, \"#46039f\"], [0.2222222222222222, \"#7201a8\"], [0.3333333333333333, \"#9c179e\"], [0.4444444444444444, \"#bd3786\"], [0.5555555555555556, \"#d8576b\"], [0.6666666666666666, \"#ed7953\"], [0.7777777777777778, \"#fb9f3a\"], [0.8888888888888888, \"#fdca26\"], [1.0, \"#f0f921\"]], \"type\": \"heatmapgl\"}], \"histogram\": [{\"marker\": {\"colorbar\": {\"outlinewidth\": 0, \"ticks\": \"\"}}, \"type\": \"histogram\"}], \"histogram2d\": [{\"colorbar\": {\"outlinewidth\": 0, \"ticks\": \"\"}, \"colorscale\": [[0.0, \"#0d0887\"], [0.1111111111111111, \"#46039f\"], [0.2222222222222222, \"#7201a8\"], [0.3333333333333333, \"#9c179e\"], [0.4444444444444444, \"#bd3786\"], [0.5555555555555556, \"#d8576b\"], [0.6666666666666666, \"#ed7953\"], [0.7777777777777778, \"#fb9f3a\"], [0.8888888888888888, \"#fdca26\"], [1.0, \"#f0f921\"]], \"type\": \"histogram2d\"}], \"histogram2dcontour\": [{\"colorbar\": {\"outlinewidth\": 0, \"ticks\": \"\"}, \"colorscale\": [[0.0, \"#0d0887\"], [0.1111111111111111, \"#46039f\"], [0.2222222222222222, \"#7201a8\"], [0.3333333333333333, \"#9c179e\"], [0.4444444444444444, \"#bd3786\"], [0.5555555555555556, \"#d8576b\"], [0.6666666666666666, \"#ed7953\"], [0.7777777777777778, \"#fb9f3a\"], [0.8888888888888888, \"#fdca26\"], [1.0, \"#f0f921\"]], \"type\": \"histogram2dcontour\"}], \"mesh3d\": [{\"colorbar\": {\"outlinewidth\": 0, \"ticks\": \"\"}, \"type\": \"mesh3d\"}], \"parcoords\": [{\"line\": {\"colorbar\": {\"outlinewidth\": 0, \"ticks\": \"\"}}, \"type\": \"parcoords\"}], \"pie\": [{\"automargin\": true, \"type\": \"pie\"}], \"scatter\": [{\"marker\": {\"colorbar\": {\"outlinewidth\": 0, \"ticks\": \"\"}}, \"type\": \"scatter\"}], \"scatter3d\": [{\"line\": {\"colorbar\": {\"outlinewidth\": 0, \"ticks\": \"\"}}, \"marker\": {\"colorbar\": {\"outlinewidth\": 0, \"ticks\": \"\"}}, \"type\": \"scatter3d\"}], \"scattercarpet\": [{\"marker\": {\"colorbar\": {\"outlinewidth\": 0, \"ticks\": \"\"}}, \"type\": \"scattercarpet\"}], \"scattergeo\": [{\"marker\": {\"colorbar\": {\"outlinewidth\": 0, \"ticks\": \"\"}}, \"type\": \"scattergeo\"}], \"scattergl\": [{\"marker\": {\"colorbar\": {\"outlinewidth\": 0, \"ticks\": \"\"}}, \"type\": \"scattergl\"}], \"scattermapbox\": [{\"marker\": {\"colorbar\": {\"outlinewidth\": 0, \"ticks\": \"\"}}, \"type\": \"scattermapbox\"}], \"scatterpolar\": [{\"marker\": {\"colorbar\": {\"outlinewidth\": 0, \"ticks\": \"\"}}, \"type\": \"scatterpolar\"}], \"scatterpolargl\": [{\"marker\": {\"colorbar\": {\"outlinewidth\": 0, \"ticks\": \"\"}}, \"type\": \"scatterpolargl\"}], \"scatterternary\": [{\"marker\": {\"colorbar\": {\"outlinewidth\": 0, \"ticks\": \"\"}}, \"type\": \"scatterternary\"}], \"surface\": [{\"colorbar\": {\"outlinewidth\": 0, \"ticks\": \"\"}, \"colorscale\": [[0.0, \"#0d0887\"], [0.1111111111111111, \"#46039f\"], [0.2222222222222222, \"#7201a8\"], [0.3333333333333333, \"#9c179e\"], [0.4444444444444444, \"#bd3786\"], [0.5555555555555556, \"#d8576b\"], [0.6666666666666666, \"#ed7953\"], [0.7777777777777778, \"#fb9f3a\"], [0.8888888888888888, \"#fdca26\"], [1.0, \"#f0f921\"]], \"type\": \"surface\"}], \"table\": [{\"cells\": {\"fill\": {\"color\": \"#EBF0F8\"}, \"line\": {\"color\": \"white\"}}, \"header\": {\"fill\": {\"color\": \"#C8D4E3\"}, \"line\": {\"color\": \"white\"}}, \"type\": \"table\"}]}, \"layout\": {\"annotationdefaults\": {\"arrowcolor\": \"#2a3f5f\", \"arrowhead\": 0, \"arrowwidth\": 1}, \"coloraxis\": {\"colorbar\": {\"outlinewidth\": 0, \"ticks\": \"\"}}, \"colorscale\": {\"diverging\": [[0, \"#8e0152\"], [0.1, \"#c51b7d\"], [0.2, \"#de77ae\"], [0.3, \"#f1b6da\"], [0.4, \"#fde0ef\"], [0.5, \"#f7f7f7\"], [0.6, \"#e6f5d0\"], [0.7, \"#b8e186\"], [0.8, \"#7fbc41\"], [0.9, \"#4d9221\"], [1, \"#276419\"]], \"sequential\": [[0.0, \"#0d0887\"], [0.1111111111111111, \"#46039f\"], [0.2222222222222222, \"#7201a8\"], [0.3333333333333333, \"#9c179e\"], [0.4444444444444444, \"#bd3786\"], [0.5555555555555556, \"#d8576b\"], [0.6666666666666666, \"#ed7953\"], [0.7777777777777778, \"#fb9f3a\"], [0.8888888888888888, \"#fdca26\"], [1.0, \"#f0f921\"]], \"sequentialminus\": [[0.0, \"#0d0887\"], [0.1111111111111111, \"#46039f\"], [0.2222222222222222, \"#7201a8\"], [0.3333333333333333, \"#9c179e\"], [0.4444444444444444, \"#bd3786\"], [0.5555555555555556, \"#d8576b\"], [0.6666666666666666, \"#ed7953\"], [0.7777777777777778, \"#fb9f3a\"], [0.8888888888888888, \"#fdca26\"], [1.0, \"#f0f921\"]]}, \"colorway\": [\"#636efa\", \"#EF553B\", \"#00cc96\", \"#ab63fa\", \"#FFA15A\", \"#19d3f3\", \"#FF6692\", \"#B6E880\", \"#FF97FF\", \"#FECB52\"], \"font\": {\"color\": \"#2a3f5f\"}, \"geo\": {\"bgcolor\": \"white\", \"lakecolor\": \"white\", \"landcolor\": \"#E5ECF6\", \"showlakes\": true, \"showland\": true, \"subunitcolor\": \"white\"}, \"hoverlabel\": {\"align\": \"left\"}, \"hovermode\": \"closest\", \"mapbox\": {\"style\": \"light\"}, \"paper_bgcolor\": \"white\", \"plot_bgcolor\": \"#E5ECF6\", \"polar\": {\"angularaxis\": {\"gridcolor\": \"white\", \"linecolor\": \"white\", \"ticks\": \"\"}, \"bgcolor\": \"#E5ECF6\", \"radialaxis\": {\"gridcolor\": \"white\", \"linecolor\": \"white\", \"ticks\": \"\"}}, \"scene\": {\"xaxis\": {\"backgroundcolor\": \"#E5ECF6\", \"gridcolor\": \"white\", \"gridwidth\": 2, \"linecolor\": \"white\", \"showbackground\": true, \"ticks\": \"\", \"zerolinecolor\": \"white\"}, \"yaxis\": {\"backgroundcolor\": \"#E5ECF6\", \"gridcolor\": \"white\", \"gridwidth\": 2, \"linecolor\": \"white\", \"showbackground\": true, \"ticks\": \"\", \"zerolinecolor\": \"white\"}, \"zaxis\": {\"backgroundcolor\": \"#E5ECF6\", \"gridcolor\": \"white\", \"gridwidth\": 2, \"linecolor\": \"white\", \"showbackground\": true, \"ticks\": \"\", \"zerolinecolor\": \"white\"}}, \"shapedefaults\": {\"line\": {\"color\": \"#2a3f5f\"}}, \"ternary\": {\"aaxis\": {\"gridcolor\": \"white\", \"linecolor\": \"white\", \"ticks\": \"\"}, \"baxis\": {\"gridcolor\": \"white\", \"linecolor\": \"white\", \"ticks\": \"\"}, \"bgcolor\": \"#E5ECF6\", \"caxis\": {\"gridcolor\": \"white\", \"linecolor\": \"white\", \"ticks\": \"\"}}, \"title\": {\"x\": 0.05}, \"xaxis\": {\"automargin\": true, \"gridcolor\": \"white\", \"linecolor\": \"white\", \"ticks\": \"\", \"title\": {\"standoff\": 15}, \"zerolinecolor\": \"white\", \"zerolinewidth\": 2}, \"yaxis\": {\"automargin\": true, \"gridcolor\": \"white\", \"linecolor\": \"white\", \"ticks\": \"\", \"title\": {\"standoff\": 15}, \"zerolinecolor\": \"white\", \"zerolinewidth\": 2}}}},\n",
       "                        {\"responsive\": true}\n",
       "                    ).then(function(){\n",
       "                            \n",
       "var gd = document.getElementById('f59447dc-3701-4f86-a54a-0e0946cf543c');\n",
       "var x = new MutationObserver(function (mutations, observer) {{\n",
       "        var display = window.getComputedStyle(gd).display;\n",
       "        if (!display || display === 'none') {{\n",
       "            console.log([gd, 'removed!']);\n",
       "            Plotly.purge(gd);\n",
       "            observer.disconnect();\n",
       "        }}\n",
       "}});\n",
       "\n",
       "// Listen for the removal of the full notebook cells\n",
       "var notebookContainer = gd.closest('#notebook-container');\n",
       "if (notebookContainer) {{\n",
       "    x.observe(notebookContainer, {childList: true});\n",
       "}}\n",
       "\n",
       "// Listen for the clearing of the current output cell\n",
       "var outputEl = gd.closest('.output');\n",
       "if (outputEl) {{\n",
       "    x.observe(outputEl, {childList: true});\n",
       "}}\n",
       "\n",
       "                        })\n",
       "                };\n",
       "                });\n",
       "            </script>\n",
       "        </div>"
      ]
     },
     "metadata": {},
     "output_type": "display_data"
    }
   ],
   "source": [
    "import plotly.graph_objects as go\n",
    "\n",
    "\n",
    "\n",
    "fig = go.Figure()\n",
    "fig.add_trace(go.Bar(x=inputs.years,\n",
    "                y=ev_inv.EV,\n",
    "                name='EV/Hybrid',\n",
    "                marker_color='rgb(15,157,88)'\n",
    "                ))\n",
    "fig.add_trace(go.Bar(x=inputs.years,\n",
    "                y=ev_inv.ICE,\n",
    "                name='ICE',\n",
    "                marker_color='rgb(0,0,0)'\n",
    "                ))\n"
   ]
  },
  {
   "cell_type": "code",
   "execution_count": 54,
   "metadata": {},
   "outputs": [],
   "source": []
  },
  {
   "cell_type": "code",
   "execution_count": 51,
   "metadata": {},
   "outputs": [
    {
     "data": {
      "text/html": [
       "<div>\n",
       "<style scoped>\n",
       "    .dataframe tbody tr th:only-of-type {\n",
       "        vertical-align: middle;\n",
       "    }\n",
       "\n",
       "    .dataframe tbody tr th {\n",
       "        vertical-align: top;\n",
       "    }\n",
       "\n",
       "    .dataframe thead th {\n",
       "        text-align: right;\n",
       "    }\n",
       "</style>\n",
       "<table border=\"1\" class=\"dataframe\">\n",
       "  <thead>\n",
       "    <tr style=\"text-align: right;\">\n",
       "      <th></th>\n",
       "      <th>EV</th>\n",
       "      <th>ICE</th>\n",
       "    </tr>\n",
       "  </thead>\n",
       "  <tbody>\n",
       "    <tr>\n",
       "      <th>2022</th>\n",
       "      <td>0.076132</td>\n",
       "      <td>0.923868</td>\n",
       "    </tr>\n",
       "    <tr>\n",
       "      <th>2023</th>\n",
       "      <td>0.139918</td>\n",
       "      <td>0.860082</td>\n",
       "    </tr>\n",
       "    <tr>\n",
       "      <th>2024</th>\n",
       "      <td>0.200960</td>\n",
       "      <td>0.799040</td>\n",
       "    </tr>\n",
       "    <tr>\n",
       "      <th>2025</th>\n",
       "      <td>0.262003</td>\n",
       "      <td>0.737997</td>\n",
       "    </tr>\n",
       "    <tr>\n",
       "      <th>2026</th>\n",
       "      <td>0.320302</td>\n",
       "      <td>0.679698</td>\n",
       "    </tr>\n",
       "    <tr>\n",
       "      <th>2027</th>\n",
       "      <td>0.382716</td>\n",
       "      <td>0.617284</td>\n",
       "    </tr>\n",
       "    <tr>\n",
       "      <th>2028</th>\n",
       "      <td>0.445130</td>\n",
       "      <td>0.554870</td>\n",
       "    </tr>\n",
       "    <tr>\n",
       "      <th>2029</th>\n",
       "      <td>0.508916</td>\n",
       "      <td>0.491084</td>\n",
       "    </tr>\n",
       "    <tr>\n",
       "      <th>2030</th>\n",
       "      <td>0.569959</td>\n",
       "      <td>0.430041</td>\n",
       "    </tr>\n",
       "    <tr>\n",
       "      <th>2031</th>\n",
       "      <td>0.631001</td>\n",
       "      <td>0.368999</td>\n",
       "    </tr>\n",
       "    <tr>\n",
       "      <th>2032</th>\n",
       "      <td>0.687929</td>\n",
       "      <td>0.312071</td>\n",
       "    </tr>\n",
       "    <tr>\n",
       "      <th>2033</th>\n",
       "      <td>0.745542</td>\n",
       "      <td>0.254458</td>\n",
       "    </tr>\n",
       "    <tr>\n",
       "      <th>2034</th>\n",
       "      <td>0.786008</td>\n",
       "      <td>0.213992</td>\n",
       "    </tr>\n",
       "    <tr>\n",
       "      <th>2035</th>\n",
       "      <td>0.826475</td>\n",
       "      <td>0.173525</td>\n",
       "    </tr>\n",
       "    <tr>\n",
       "      <th>2036</th>\n",
       "      <td>0.871742</td>\n",
       "      <td>0.128258</td>\n",
       "    </tr>\n",
       "    <tr>\n",
       "      <th>2037</th>\n",
       "      <td>0.910151</td>\n",
       "      <td>0.089849</td>\n",
       "    </tr>\n",
       "  </tbody>\n",
       "</table>\n",
       "</div>"
      ],
      "text/plain": [
       "            EV       ICE\n",
       "2022  0.076132  0.923868\n",
       "2023  0.139918  0.860082\n",
       "2024  0.200960  0.799040\n",
       "2025  0.262003  0.737997\n",
       "2026  0.320302  0.679698\n",
       "2027  0.382716  0.617284\n",
       "2028  0.445130  0.554870\n",
       "2029  0.508916  0.491084\n",
       "2030  0.569959  0.430041\n",
       "2031  0.631001  0.368999\n",
       "2032  0.687929  0.312071\n",
       "2033  0.745542  0.254458\n",
       "2034  0.786008  0.213992\n",
       "2035  0.826475  0.173525\n",
       "2036  0.871742  0.128258\n",
       "2037  0.910151  0.089849"
      ]
     },
     "execution_count": 51,
     "metadata": {},
     "output_type": "execute_result"
    }
   ],
   "source": [
    "ev_inv/inputs.num_vehicles"
   ]
  },
  {
   "cell_type": "code",
   "execution_count": 52,
   "metadata": {},
   "outputs": [
    {
     "data": {
      "text/plain": [
       "1458"
      ]
     },
     "execution_count": 52,
     "metadata": {},
     "output_type": "execute_result"
    }
   ],
   "source": [
    "inputs.num_vehicles"
   ]
  },
  {
   "cell_type": "code",
   "execution_count": null,
   "metadata": {},
   "outputs": [],
   "source": []
  }
 ],
 "metadata": {
  "kernelspec": {
   "display_name": "Python 3",
   "language": "python",
   "name": "python3"
  },
  "language_info": {
   "codemirror_mode": {
    "name": "ipython",
    "version": 3
   },
   "file_extension": ".py",
   "mimetype": "text/x-python",
   "name": "python",
   "nbconvert_exporter": "python",
   "pygments_lexer": "ipython3",
   "version": "3.7.9"
  }
 },
 "nbformat": 4,
 "nbformat_minor": 4
}
