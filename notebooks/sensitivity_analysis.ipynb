{
 "cells": [
  {
   "cell_type": "code",
   "execution_count": 1,
   "id": "british-bachelor",
   "metadata": {},
   "outputs": [
    {
     "name": "stderr",
     "output_type": "stream",
     "text": [
      "2021-04-18 13:47:49.242 INFO    numexpr.utils: Note: NumExpr detected 12 cores but \"NUMEXPR_MAX_THREADS\" not set, so enforcing safe limit of 8.\n",
      "2021-04-18 13:47:49.243 INFO    numexpr.utils: NumExpr defaulting to 8 threads.\n"
     ]
    }
   ],
   "source": [
    "import numpy as np\n",
    "from sympy.utilities.iterables import multiset_permutations\n",
    "import time\n",
    "import pandas as pd\n",
    "import gurobipy as grb\n",
    "import datetime\n",
    "import random\n",
    "np.set_printoptions(edgeitems=15,linewidth=600)\n",
    "import warnings\n",
    "warnings.filterwarnings(\"ignore\")\n",
    "%load_ext autoreload\n",
    "%autoreload 2\n",
    "import sys\n",
    "import os\n",
    "sys.path.append(os.path.join(os.getcwd(), '..'))\n",
    "from src.optimization.MIP.mip_inputs import *\n",
    "from src.optimization.MIP.mip_model import *\n",
    "from src.optimization.MIP.mip_outputs import *"
   ]
  },
  {
   "cell_type": "code",
   "execution_count": 2,
   "id": "major-digest",
   "metadata": {},
   "outputs": [],
   "source": [
    "roadmapSelected = 'A'"
   ]
  },
  {
   "cell_type": "code",
   "execution_count": 3,
   "id": "fuzzy-month",
   "metadata": {},
   "outputs": [],
   "source": [
    "UI_params = {\n",
    "    'initial_procurement_budget':350000,\n",
    "    'budget_rate':0.03,\n",
    "    'initial_operations_budget':300000,\n",
    "    'planning_interval':[2022,2037],\n",
    "    'emissions_baseline': data.emissions2020.sum(),#metric tons\n",
    "    'emissions_target_pct_of_base':0.40,\n",
    "    'min_miles_replacement_threshold':150000,#miles\n",
    "    'min_vehicle_age_replacement_threshold':60,#years\n",
    "    'objective_weights':{'cost':1,'emissions':0},\n",
    "}"
   ]
  },
  {
   "cell_type": "code",
   "execution_count": 4,
   "id": "primary-yemen",
   "metadata": {},
   "outputs": [],
   "source": [
    "total_costs = {}\n",
    "end_emissions = {}"
   ]
  },
  {
   "cell_type": "markdown",
   "id": "vanilla-receipt",
   "metadata": {},
   "source": [
    "### SA1 "
   ]
  },
  {
   "cell_type": "code",
   "execution_count": 5,
   "id": "authorized-strengthening",
   "metadata": {},
   "outputs": [],
   "source": [
    "data = pd.read_excel('../data/NoCode_SensitivityAnalysisData_10APR21.xlsx',sheet_name='SA-1')#.head(30)\n",
    "data['current_age'] = datetime.datetime.now().year - pd.to_datetime(data.purchasedate).dt.year\n",
    "data = data.reset_index().rename({\"index\":\"vehicle_idx\"},axis=1)\n",
    "data['county'] = 'Baltimore County'\n",
    "data = data.drop_duplicates('equipmentid')\n",
    "data = data[data.vehicle_idx<1458]"
   ]
  },
  {
   "cell_type": "code",
   "execution_count": 6,
   "id": "resistant-castle",
   "metadata": {},
   "outputs": [
    {
     "name": "stdout",
     "output_type": "stream",
     "text": [
      "Using license file C:\\Users\\elynch\\gurobi.lic\n"
     ]
    },
    {
     "name": "stderr",
     "output_type": "stream",
     "text": [
      "2021-04-18 13:47:53.120 INFO    gurobipy.gurobipy: Using license file C:\\Users\\elynch\\gurobi.lic\n"
     ]
    },
    {
     "name": "stdout",
     "output_type": "stream",
     "text": [
      "Academic license - for non-commercial use only\n"
     ]
    },
    {
     "name": "stderr",
     "output_type": "stream",
     "text": [
      "2021-04-18 13:47:53.121 INFO    gurobipy.gurobipy: Academic license - for non-commercial use only\n"
     ]
    }
   ],
   "source": [
    "inputs = MIP_Inputs(data,UI_params)\n",
    "m,x,vehicles,penalty_budget,penalty_emissions,validSchedulesPerVehicle,validSchedules = carnet(inputs)\n",
    "outputs = MIP_Outputs(data,UI_params,m,x,vehicles,penalty_budget,penalty_emissions,validSchedulesPerVehicle,validSchedules)\n",
    "alt_solutions = outputs.get_alternative_solutions()\n",
    "options = select_alternative_solutions(alt_solutions,outputs)"
   ]
  },
  {
   "cell_type": "code",
   "execution_count": 7,
   "id": "coordinate-nebraska",
   "metadata": {
    "scrolled": true
   },
   "outputs": [
    {
     "name": "stdout",
     "output_type": "stream",
     "text": [
      "[15. 16.  0.  1.  2.  3.  4.  5.  6.  7.  8.  9. 10. 11. 12. 13.]\n",
      "[15. 16.  0.  1.  2.  3.  4.  5.  6.  7.  8.  9. 10. 11. 12. 13.]\n",
      "[ 0.  1.  2.  3.  4.  5.  6.  7.  8.  9. 10. 11. 12. 13. 14. 15.]\n",
      "[ 0.  1.  2.  3.  4.  5.  6.  7.  8.  9. 10. 11. 12. 13. 14. 15.]\n",
      "[15. 16. 17. 18. 19.  0.  1.  2.  3.  4.  5.  6.  7.  8.  9. 10.]\n",
      "[ 0.  1.  2.  3.  4.  5.  6.  7.  8.  9. 10. 11. 12. 13. 14. 15.]\n",
      "[15. 16. 17. 18. 19. 20. 21. 22. 23. 24. 25. 26. 27. 28. 29. 30.]\n",
      "[15. 16. 17. 18. 19. 20. 21. 22. 23. 24. 25. 26. 27. 28. 29. 30.]\n",
      "[15. 16. 17. 18. 19. 20. 21. 22. 23. 24. 25. 26. 27. 28. 29. 30.]\n",
      "[15. 16. 17. 18. 19. 20. 21. 22. 23. 24. 25. 26. 27. 28. 29. 30.]\n",
      "[15. 16. 17. 18. 19. 20. 21. 22. 23. 24. 25. 26. 27. 28. 29. 30.]\n",
      "[ 0.  1.  2.  3.  4.  5.  6.  7.  8.  9. 10. 11. 12. 13. 14. 15.]\n",
      "[15. 16. 17. 18. 19. 20. 21. 22. 23. 24. 25. 26. 27. 28. 29. 30.]\n",
      "[15.  0.  1.  2.  3.  4.  5.  6.  7.  8.  9. 10. 11. 12. 13. 14.]\n",
      "[15.  0.  1.  2.  3.  4.  5.  6.  7.  8.  9. 10. 11. 12. 13. 14.]\n",
      "[ 0.  1.  2.  3.  4.  5.  6.  7.  8.  9. 10. 11. 12. 13. 14. 15.]\n",
      "[15.  0.  1.  2.  3.  4.  5.  6.  7.  8.  9. 10. 11. 12. 13. 14.]\n",
      "[15.  0.  1.  2.  3.  4.  5.  6.  7.  8.  9. 10. 11. 12. 13. 14.]\n",
      "[15.  0.  1.  2.  3.  4.  5.  6.  7.  8.  9. 10. 11. 12. 13. 14.]\n",
      "[15. 16.  0.  1.  2.  3.  4.  5.  6.  7.  8.  9. 10. 11. 12. 13.]\n",
      "[15. 16.  0.  1.  2.  3.  4.  5.  6.  7.  8.  9. 10. 11. 12. 13.]\n",
      "[15. 16.  0.  1.  2.  3.  4.  5.  6.  7.  8.  9. 10. 11. 12. 13.]\n",
      "[15. 16.  0.  1.  2.  3.  4.  5.  6.  7.  8.  9. 10. 11. 12. 13.]\n",
      "[15. 16.  0.  1.  2.  3.  4.  5.  6.  7.  8.  9. 10. 11. 12. 13.]\n",
      "[15. 16. 17.  0.  1.  2.  3.  4.  5.  6.  7.  8.  9. 10. 11. 12.]\n",
      "[15. 16. 17.  0.  1.  2.  3.  4.  5.  6.  7.  8.  9. 10. 11. 12.]\n",
      "[15. 16. 17. 18. 19. 20. 21. 22. 23. 24. 25. 26. 27. 28. 29. 30.]\n",
      "[15. 16. 17.  0.  1.  2.  3.  4.  5.  6.  7.  8.  9. 10. 11. 12.]\n",
      "[15. 16. 17.  0.  1.  2.  3.  4.  5.  6.  7.  8.  9. 10. 11. 12.]\n",
      "[15. 16. 17.  0.  1.  2.  3.  4.  5.  6.  7.  8.  9. 10. 11. 12.]\n",
      "[15. 16. 17.  0.  1.  2.  3.  4.  5.  6.  7.  8.  9. 10. 11. 12.]\n",
      "[15. 16. 17.  0.  1.  2.  3.  4.  5.  6.  7.  8.  9. 10. 11. 12.]\n",
      "[15. 16. 17. 18.  0.  1.  2.  3.  4.  5.  6.  7.  8.  9. 10. 11.]\n",
      "[15. 16.  0.  1.  2.  3.  4.  5.  6.  7.  8.  9. 10. 11. 12. 13.]\n",
      "[15. 16. 17. 18.  0.  1.  2.  3.  4.  5.  6.  7.  8.  9. 10. 11.]\n",
      "[15. 16. 17. 18.  0.  1.  2.  3.  4.  5.  6.  7.  8.  9. 10. 11.]\n",
      "[15. 16. 17. 18.  0.  1.  2.  3.  4.  5.  6.  7.  8.  9. 10. 11.]\n",
      "[ 0.  1.  2.  3.  4.  5.  6.  7.  8.  9. 10. 11. 12. 13. 14. 15.]\n",
      "[15. 16. 17. 18. 19. 20. 21. 22. 23. 24. 25. 26. 27. 28. 29. 30.]\n",
      "[15. 16. 17. 18. 19. 20. 21. 22. 23. 24. 25. 26. 27. 28. 29. 30.]\n",
      "[ 0.  1.  2.  3.  4.  5.  6.  7.  8.  9. 10. 11. 12. 13. 14. 15.]\n",
      "[15. 16. 17. 18. 19. 20. 21. 22. 23. 24. 25. 26. 27. 28. 29. 30.]\n",
      "[15. 16. 17. 18. 19. 20. 21. 22. 23. 24. 25. 26. 27. 28. 29. 30.]\n",
      "[15. 16. 17. 18. 19.  0.  1.  2.  3.  4.  5.  6.  7.  8.  9. 10.]\n",
      "[15. 16. 17. 18. 19.  0.  1.  2.  3.  4.  5.  6.  7.  8.  9. 10.]\n",
      "[15. 16. 17. 18. 19.  0.  1.  2.  3.  4.  5.  6.  7.  8.  9. 10.]\n",
      "[15. 16. 17. 18. 19.  0.  1.  2.  3.  4.  5.  6.  7.  8.  9. 10.]\n",
      "[15. 16. 17. 18. 19.  0.  1.  2.  3.  4.  5.  6.  7.  8.  9. 10.]\n",
      "[15. 16. 17. 18. 19.  0.  1.  2.  3.  4.  5.  6.  7.  8.  9. 10.]\n",
      "[15. 16. 17. 18. 19.  0.  1.  2.  3.  4.  5.  6.  7.  8.  9. 10.]\n",
      "[15. 16. 17. 18. 19.  0.  1.  2.  3.  4.  5.  6.  7.  8.  9. 10.]\n",
      "[15. 16. 17. 18. 19.  0.  1.  2.  3.  4.  5.  6.  7.  8.  9. 10.]\n",
      "[15. 16. 17. 18. 19. 20. 21. 22. 23. 24. 25. 26. 27. 28. 29. 30.]\n",
      "[15. 16. 17.  0.  1.  2.  3.  4.  5.  6.  7.  8.  9. 10. 11. 12.]\n",
      "[ 0.  1.  2.  3.  4.  5.  6.  7.  8.  9. 10. 11. 12. 13. 14. 15.]\n",
      "[15. 16. 17. 18. 19. 20. 21. 22. 23. 24. 25. 26. 27. 28. 29. 30.]\n",
      "[15. 16. 17. 18. 19. 20. 21. 22. 23. 24. 25. 26. 27. 28. 29. 30.]\n",
      "[15. 16. 17. 18. 19. 20. 21. 22. 23. 24. 25. 26. 27. 28. 29. 30.]\n",
      "[15. 16. 17. 18. 19. 20. 21. 22. 23. 24. 25. 26. 27. 28. 29. 30.]\n",
      "[15. 16. 17. 18. 19. 20. 21. 22. 23. 24. 25. 26. 27. 28. 29. 30.]\n",
      "[15. 16. 17.  0.  1.  2.  3.  4.  5.  6.  7.  8.  9. 10. 11. 12.]\n",
      "[15. 16. 17. 18. 19. 20. 21. 22. 23. 24. 25. 26. 27. 28. 29. 30.]\n",
      "[ 0.  1.  2.  3.  4.  5.  6.  7.  8.  9. 10. 11. 12. 13. 14. 15.]\n",
      "[15. 16. 17. 18. 19. 20. 21. 22. 23. 24. 25. 26. 27. 28. 29. 30.]\n",
      "[15. 16. 17. 18. 19. 20. 21. 22. 23. 24. 25. 26. 27. 28. 29. 30.]\n",
      "[15. 16. 17. 18. 19. 20. 21. 22. 23. 24. 25. 26. 27. 28. 29. 30.]\n",
      "[15. 16. 17. 18. 19. 20. 21. 22. 23. 24. 25. 26. 27. 28. 29. 30.]\n",
      "[15. 16. 17. 18. 19. 20. 21. 22. 23. 24. 25. 26. 27. 28. 29. 30.]\n",
      "[15. 16. 17. 18. 19. 20. 21. 22. 23. 24. 25. 26. 27. 28. 29. 30.]\n",
      "[15. 16. 17. 18. 19. 20. 21. 22. 23. 24. 25. 26. 27. 28. 29. 30.]\n",
      "[15. 16. 17. 18. 19. 20. 21. 22. 23. 24. 25. 26. 27. 28. 29. 30.]\n",
      "[15. 16. 17. 18. 19. 20. 21. 22. 23. 24. 25. 26. 27. 28. 29. 30.]\n",
      "[15. 16. 17. 18. 19. 20. 21. 22. 23. 24. 25. 26. 27. 28. 29. 30.]\n",
      "[15.  0.  1.  2.  3.  4.  5.  6.  7.  8.  9. 10. 11. 12. 13. 14.]\n",
      "[15. 16. 17. 18. 19. 20. 21. 22. 23. 24. 25. 26. 27. 28. 29. 30.]\n",
      "[15. 16.  0.  1.  2.  3.  4.  5.  6.  7.  8.  9. 10. 11. 12. 13.]\n",
      "[15. 16. 17. 18. 19. 20. 21. 22. 23. 24. 25. 26. 27. 28. 29. 30.]\n",
      "[15. 16. 17. 18. 19. 20. 21. 22. 23. 24. 25. 26. 27. 28. 29. 30.]\n",
      "[15. 16. 17. 18. 19. 20. 21. 22. 23. 24. 25. 26. 27. 28. 29. 30.]\n",
      "[15. 16. 17. 18. 19. 20. 21. 22. 23. 24. 25. 26. 27. 28. 29. 30.]\n",
      "[15. 16. 17. 18. 19. 20. 21. 22. 23. 24. 25. 26. 27. 28. 29. 30.]\n",
      "[15. 16. 17. 18. 19. 20. 21. 22. 23. 24. 25. 26. 27. 28. 29. 30.]\n",
      "[15. 16. 17. 18. 19. 20. 21. 22. 23. 24. 25. 26. 27. 28. 29. 30.]\n",
      "[15.  0.  1.  2.  3.  4.  5.  6.  7.  8.  9. 10. 11. 12. 13. 14.]\n",
      "[15. 16. 17. 18. 19. 20. 21. 22. 23. 24. 25. 26. 27. 28. 29. 30.]\n",
      "[15. 16. 17. 18. 19. 20.  0.  1.  2.  3.  4.  5.  6.  7.  8.  9.]\n",
      "[15. 16. 17. 18. 19. 20. 21. 22. 23. 24. 25. 26. 27. 28. 29. 30.]\n",
      "[15. 16.  0.  1.  2.  3.  4.  5.  6.  7.  8.  9. 10. 11. 12. 13.]\n",
      "[15. 16. 17. 18.  0.  1.  2.  3.  4.  5.  6.  7.  8.  9. 10. 11.]\n",
      "[15. 16. 17. 18.  0.  1.  2.  3.  4.  5.  6.  7.  8.  9. 10. 11.]\n",
      "[15. 16. 17. 18.  0.  1.  2.  3.  4.  5.  6.  7.  8.  9. 10. 11.]\n",
      "[15.  0.  1.  2.  3.  4.  5.  6.  7.  8.  9. 10. 11. 12. 13. 14.]\n",
      "[15. 16. 17. 18.  0.  1.  2.  3.  4.  5.  6.  7.  8.  9. 10. 11.]\n"
     ]
    }
   ],
   "source": [
    "for v in inputs.vehicle_idx:\n",
    "    for s in validSchedulesPerVehicle[v]:\n",
    "        decision = x[v,s].x\n",
    "        if decision == 1:\n",
    "            print(inputs.age[v,s,:])"
   ]
  },
  {
   "cell_type": "code",
   "execution_count": 8,
   "id": "geological-gabriel",
   "metadata": {},
   "outputs": [
    {
     "data": {
      "text/plain": [
       "4.05663"
      ]
     },
     "execution_count": 8,
     "metadata": {},
     "output_type": "execute_result"
    }
   ],
   "source": [
    "cost = outputs.get_total_cost('A',roadmap_lookup,options)\n",
    "cost"
   ]
  },
  {
   "cell_type": "code",
   "execution_count": 9,
   "id": "enclosed-comparison",
   "metadata": {},
   "outputs": [
    {
     "data": {
      "text/plain": [
       "0.3796240262048164"
      ]
     },
     "execution_count": 9,
     "metadata": {},
     "output_type": "execute_result"
    }
   ],
   "source": [
    "emissions = outputs.get_final_year_emissions('A',roadmap_lookup,options)/inputs.emissions_baseline\n",
    "emissions"
   ]
  },
  {
   "cell_type": "code",
   "execution_count": 10,
   "id": "studied-perfume",
   "metadata": {},
   "outputs": [],
   "source": [
    "total_costs['SA1'] = cost\n",
    "end_emissions['SA1'] = emissions"
   ]
  },
  {
   "cell_type": "raw",
   "id": "outer-difference",
   "metadata": {},
   "source": [
    "pd.DataFrame(options[roadmap_lookup['A'],'schedules'])"
   ]
  },
  {
   "cell_type": "raw",
   "id": "crazy-inflation",
   "metadata": {},
   "source": [
    "visualize_ev_vs_ice(roadmapSelected,options,inputs)"
   ]
  },
  {
   "cell_type": "markdown",
   "id": "active-forth",
   "metadata": {},
   "source": [
    "### SA2"
   ]
  },
  {
   "cell_type": "code",
   "execution_count": 11,
   "id": "medium-trust",
   "metadata": {},
   "outputs": [],
   "source": [
    "data = pd.read_excel('../data/NoCode_SensitivityAnalysisData_10APR21.xlsx',sheet_name='SA-2')\n",
    "data['current_age'] = datetime.datetime.now().year - pd.to_datetime(data.purchasedate).dt.year\n",
    "data = data.reset_index().rename({\"index\":\"vehicle_idx\"},axis=1)\n",
    "data['county'] = 'Baltimore County'\n",
    "data = data.drop_duplicates('equipmentid')\n",
    "data = data[data.vehicle_idx<1458]"
   ]
  },
  {
   "cell_type": "code",
   "execution_count": 12,
   "id": "structural-governor",
   "metadata": {},
   "outputs": [],
   "source": [
    "inputs = MIP_Inputs(data,UI_params)\n",
    "m,x,vehicles,penalty_budget,penalty_emissions,validSchedulesPerVehicle,validSchedules = carnet(inputs)\n",
    "outputs = MIP_Outputs(data,UI_params,m,x,vehicles,penalty_budget,penalty_emissions,validSchedulesPerVehicle,validSchedules)\n",
    "alt_solutions = outputs.get_alternative_solutions()\n",
    "options = select_alternative_solutions(alt_solutions,outputs)"
   ]
  },
  {
   "cell_type": "code",
   "execution_count": 13,
   "id": "biblical-warren",
   "metadata": {},
   "outputs": [
    {
     "data": {
      "text/plain": [
       "3.974"
      ]
     },
     "execution_count": 13,
     "metadata": {},
     "output_type": "execute_result"
    }
   ],
   "source": [
    "cost = outputs.get_total_cost('A',roadmap_lookup,options)\n",
    "cost"
   ]
  },
  {
   "cell_type": "code",
   "execution_count": 14,
   "id": "suspended-light",
   "metadata": {},
   "outputs": [
    {
     "data": {
      "text/plain": [
       "0.39982517097556286"
      ]
     },
     "execution_count": 14,
     "metadata": {},
     "output_type": "execute_result"
    }
   ],
   "source": [
    "emissions = outputs.get_final_year_emissions('A',roadmap_lookup,options)/inputs.emissions_baseline\n",
    "emissions"
   ]
  },
  {
   "cell_type": "code",
   "execution_count": 15,
   "id": "occupational-portable",
   "metadata": {},
   "outputs": [],
   "source": [
    "total_costs['SA2'] = cost\n",
    "end_emissions['SA2'] = emissions"
   ]
  },
  {
   "cell_type": "markdown",
   "id": "waiting-camel",
   "metadata": {},
   "source": [
    "### SA3"
   ]
  },
  {
   "cell_type": "code",
   "execution_count": 16,
   "id": "excess-election",
   "metadata": {},
   "outputs": [],
   "source": [
    "data = pd.read_excel('../data/NoCode_SensitivityAnalysisData_10APR21.xlsx',sheet_name='SA-3')\n",
    "data['current_age'] = datetime.datetime.now().year - pd.to_datetime(data.purchasedate).dt.year\n",
    "data = data.reset_index().rename({\"index\":\"vehicle_idx\"},axis=1)\n",
    "data['county'] = 'Baltimore County'\n",
    "data = data.drop_duplicates('equipmentid')\n",
    "data = data[data.vehicle_idx<1458]"
   ]
  },
  {
   "cell_type": "code",
   "execution_count": 17,
   "id": "stuck-freedom",
   "metadata": {},
   "outputs": [],
   "source": [
    "inputs = MIP_Inputs(data,UI_params)\n",
    "m,x,vehicles,penalty_budget,penalty_emissions,validSchedulesPerVehicle,validSchedules = carnet(inputs)\n",
    "outputs = MIP_Outputs(data,UI_params,m,x,vehicles,penalty_budget,penalty_emissions,validSchedulesPerVehicle,validSchedules)\n",
    "alt_solutions = outputs.get_alternative_solutions()\n",
    "options = select_alternative_solutions(alt_solutions,outputs)"
   ]
  },
  {
   "cell_type": "code",
   "execution_count": 18,
   "id": "metric-driving",
   "metadata": {},
   "outputs": [
    {
     "data": {
      "text/plain": [
       "4.11416"
      ]
     },
     "execution_count": 18,
     "metadata": {},
     "output_type": "execute_result"
    }
   ],
   "source": [
    "cost = outputs.get_total_cost('A',roadmap_lookup,options)\n",
    "cost"
   ]
  },
  {
   "cell_type": "code",
   "execution_count": 19,
   "id": "favorite-potter",
   "metadata": {},
   "outputs": [
    {
     "data": {
      "text/plain": [
       "0.399604238110333"
      ]
     },
     "execution_count": 19,
     "metadata": {},
     "output_type": "execute_result"
    }
   ],
   "source": [
    "emissions = outputs.get_final_year_emissions('A',roadmap_lookup,options)/inputs.emissions_baseline\n",
    "emissions"
   ]
  },
  {
   "cell_type": "code",
   "execution_count": 20,
   "id": "owned-speech",
   "metadata": {},
   "outputs": [],
   "source": [
    "total_costs['SA3'] = cost\n",
    "end_emissions['SA3'] = emissions"
   ]
  },
  {
   "cell_type": "markdown",
   "id": "lonely-silly",
   "metadata": {},
   "source": [
    "### SA4"
   ]
  },
  {
   "cell_type": "code",
   "execution_count": 21,
   "id": "peripheral-spokesman",
   "metadata": {},
   "outputs": [],
   "source": [
    "data = pd.read_excel('../data/NoCode_SensitivityAnalysisData_10APR21.xlsx',sheet_name='SA-4')\n",
    "data['current_age'] = datetime.datetime.now().year - pd.to_datetime(data.purchasedate).dt.year\n",
    "data = data.reset_index().rename({\"index\":\"vehicle_idx\"},axis=1)\n",
    "data['county'] = 'Baltimore County'\n",
    "data = data.drop_duplicates('equipmentid')\n",
    "data = data[data.vehicle_idx<1458]"
   ]
  },
  {
   "cell_type": "code",
   "execution_count": 22,
   "id": "inclusive-camera",
   "metadata": {},
   "outputs": [],
   "source": [
    "inputs = MIP_Inputs(data,UI_params)\n",
    "m,x,vehicles,penalty_budget,penalty_emissions,validSchedulesPerVehicle,validSchedules = carnet(inputs)\n",
    "outputs = MIP_Outputs(data,UI_params,m,x,vehicles,penalty_budget,penalty_emissions,validSchedulesPerVehicle,validSchedules)\n",
    "alt_solutions = outputs.get_alternative_solutions()\n",
    "options = select_alternative_solutions(alt_solutions,outputs)"
   ]
  },
  {
   "cell_type": "code",
   "execution_count": 23,
   "id": "patent-lodging",
   "metadata": {},
   "outputs": [
    {
     "data": {
      "text/plain": [
       "3.90393"
      ]
     },
     "execution_count": 23,
     "metadata": {},
     "output_type": "execute_result"
    }
   ],
   "source": [
    "cost = outputs.get_total_cost('A',roadmap_lookup,options)\n",
    "cost"
   ]
  },
  {
   "cell_type": "code",
   "execution_count": 24,
   "id": "killing-mistress",
   "metadata": {},
   "outputs": [
    {
     "data": {
      "text/plain": [
       "0.39984676043078904"
      ]
     },
     "execution_count": 24,
     "metadata": {},
     "output_type": "execute_result"
    }
   ],
   "source": [
    "emissions = outputs.get_final_year_emissions('A',roadmap_lookup,options)/inputs.emissions_baseline\n",
    "emissions"
   ]
  },
  {
   "cell_type": "code",
   "execution_count": 25,
   "id": "southeast-agency",
   "metadata": {},
   "outputs": [],
   "source": [
    "total_costs['SA4'] = cost\n",
    "end_emissions['SA4'] = emissions"
   ]
  },
  {
   "cell_type": "markdown",
   "id": "extra-scottish",
   "metadata": {},
   "source": [
    "### SA5"
   ]
  },
  {
   "cell_type": "code",
   "execution_count": 26,
   "id": "aboriginal-database",
   "metadata": {},
   "outputs": [],
   "source": [
    "data = pd.read_excel('../data/NoCode_SensitivityAnalysisData_10APR21.xlsx',sheet_name='SA-5')\n",
    "data['current_age'] = datetime.datetime.now().year - pd.to_datetime(data.purchasedate).dt.year\n",
    "data = data.reset_index().rename({\"index\":\"vehicle_idx\"},axis=1)\n",
    "data['county'] = 'Baltimore County'\n",
    "data = data.drop_duplicates('equipmentid')\n",
    "data = data[data.vehicle_idx<1458]"
   ]
  },
  {
   "cell_type": "code",
   "execution_count": 27,
   "id": "chronic-registration",
   "metadata": {},
   "outputs": [],
   "source": [
    "inputs = MIP_Inputs(data,UI_params)\n",
    "m,x,vehicles,penalty_budget,penalty_emissions,validSchedulesPerVehicle,validSchedules = carnet(inputs)\n",
    "outputs = MIP_Outputs(data,UI_params,m,x,vehicles,penalty_budget,penalty_emissions,validSchedulesPerVehicle,validSchedules)\n",
    "alt_solutions = outputs.get_alternative_solutions()\n",
    "options = select_alternative_solutions(alt_solutions,outputs)"
   ]
  },
  {
   "cell_type": "code",
   "execution_count": 28,
   "id": "encouraging-principle",
   "metadata": {},
   "outputs": [
    {
     "data": {
      "text/plain": [
       "2.644"
      ]
     },
     "execution_count": 28,
     "metadata": {},
     "output_type": "execute_result"
    }
   ],
   "source": [
    "cost = outputs.get_total_cost('A',roadmap_lookup,options)\n",
    "cost"
   ]
  },
  {
   "cell_type": "code",
   "execution_count": 29,
   "id": "comic-carroll",
   "metadata": {},
   "outputs": [
    {
     "data": {
      "text/plain": [
       "0.3974801965776177"
      ]
     },
     "execution_count": 29,
     "metadata": {},
     "output_type": "execute_result"
    }
   ],
   "source": [
    "emissions = outputs.get_final_year_emissions('A',roadmap_lookup,options)/inputs.emissions_baseline\n",
    "emissions"
   ]
  },
  {
   "cell_type": "code",
   "execution_count": 30,
   "id": "involved-arbitration",
   "metadata": {},
   "outputs": [],
   "source": [
    "total_costs['SA5'] = cost\n",
    "end_emissions['SA5'] = emissions"
   ]
  },
  {
   "cell_type": "markdown",
   "id": "educational-aviation",
   "metadata": {},
   "source": [
    "### SA6"
   ]
  },
  {
   "cell_type": "code",
   "execution_count": 31,
   "id": "mediterranean-cargo",
   "metadata": {},
   "outputs": [],
   "source": [
    "data = pd.read_excel('../data/NoCode_SensitivityAnalysisData_10APR21.xlsx',sheet_name='SA-6')\n",
    "data['current_age'] = datetime.datetime.now().year - pd.to_datetime(data.purchasedate).dt.year\n",
    "data = data.reset_index().rename({\"index\":\"vehicle_idx\"},axis=1)\n",
    "data['county'] = 'Baltimore County'\n",
    "data = data.drop_duplicates('equipmentid')\n",
    "data = data[data.vehicle_idx<1458]"
   ]
  },
  {
   "cell_type": "code",
   "execution_count": 32,
   "id": "neural-winning",
   "metadata": {},
   "outputs": [],
   "source": [
    "inputs = MIP_Inputs(data,UI_params)\n",
    "m,x,vehicles,penalty_budget,penalty_emissions,validSchedulesPerVehicle,validSchedules = carnet(inputs)\n",
    "outputs = MIP_Outputs(data,UI_params,m,x,vehicles,penalty_budget,penalty_emissions,validSchedulesPerVehicle,validSchedules)\n",
    "alt_solutions = outputs.get_alternative_solutions()\n",
    "options = select_alternative_solutions(alt_solutions,outputs)"
   ]
  },
  {
   "cell_type": "code",
   "execution_count": 33,
   "id": "outstanding-alabama",
   "metadata": {},
   "outputs": [
    {
     "data": {
      "text/plain": [
       "4.4877"
      ]
     },
     "execution_count": 33,
     "metadata": {},
     "output_type": "execute_result"
    }
   ],
   "source": [
    "cost = outputs.get_total_cost('A',roadmap_lookup,options)\n",
    "cost"
   ]
  },
  {
   "cell_type": "code",
   "execution_count": 34,
   "id": "approved-sleeping",
   "metadata": {},
   "outputs": [
    {
     "data": {
      "text/plain": [
       "0.39998797213020393"
      ]
     },
     "execution_count": 34,
     "metadata": {},
     "output_type": "execute_result"
    }
   ],
   "source": [
    "emissions = outputs.get_final_year_emissions('A',roadmap_lookup,options)/inputs.emissions_baseline\n",
    "emissions"
   ]
  },
  {
   "cell_type": "code",
   "execution_count": 35,
   "id": "exposed-dressing",
   "metadata": {},
   "outputs": [],
   "source": [
    "total_costs['SA6'] = cost\n",
    "end_emissions['SA6'] = emissions"
   ]
  },
  {
   "cell_type": "markdown",
   "id": "electoral-stations",
   "metadata": {},
   "source": [
    "### SA7"
   ]
  },
  {
   "cell_type": "code",
   "execution_count": 36,
   "id": "postal-sullivan",
   "metadata": {},
   "outputs": [],
   "source": [
    "data = pd.read_excel('../data/NoCode_SensitivityAnalysisData_10APR21.xlsx',sheet_name='SA-7')\n",
    "data['current_age'] = datetime.datetime.now().year - pd.to_datetime(data.purchasedate).dt.year\n",
    "data = data.reset_index().rename({\"index\":\"vehicle_idx\"},axis=1)\n",
    "data['county'] = 'Baltimore County'\n",
    "data = data.drop_duplicates('equipmentid')\n",
    "data = data[data.vehicle_idx<1458]"
   ]
  },
  {
   "cell_type": "code",
   "execution_count": 37,
   "id": "cordless-pollution",
   "metadata": {},
   "outputs": [],
   "source": [
    "inputs = MIP_Inputs(data,UI_params)\n",
    "m,x,vehicles,penalty_budget,penalty_emissions,validSchedulesPerVehicle,validSchedules = carnet(inputs)\n",
    "outputs = MIP_Outputs(data,UI_params,m,x,vehicles,penalty_budget,penalty_emissions,validSchedulesPerVehicle,validSchedules)\n",
    "alt_solutions = outputs.get_alternative_solutions()\n",
    "options = select_alternative_solutions(alt_solutions,outputs)"
   ]
  },
  {
   "cell_type": "code",
   "execution_count": 38,
   "id": "bizarre-ethnic",
   "metadata": {},
   "outputs": [
    {
     "data": {
      "text/plain": [
       "2.62959"
      ]
     },
     "execution_count": 38,
     "metadata": {},
     "output_type": "execute_result"
    }
   ],
   "source": [
    "cost = outputs.get_total_cost('A',roadmap_lookup,options)\n",
    "cost"
   ]
  },
  {
   "cell_type": "code",
   "execution_count": 39,
   "id": "featured-cincinnati",
   "metadata": {},
   "outputs": [
    {
     "data": {
      "text/plain": [
       "0.3974801965776177"
      ]
     },
     "execution_count": 39,
     "metadata": {},
     "output_type": "execute_result"
    }
   ],
   "source": [
    "emissions = outputs.get_final_year_emissions('A',roadmap_lookup,options)/inputs.emissions_baseline\n",
    "emissions"
   ]
  },
  {
   "cell_type": "code",
   "execution_count": 40,
   "id": "opposed-northern",
   "metadata": {},
   "outputs": [],
   "source": [
    "total_costs['SA7'] = cost\n",
    "end_emissions['SA7'] = emissions"
   ]
  },
  {
   "cell_type": "markdown",
   "id": "stunning-ireland",
   "metadata": {},
   "source": [
    "### SA8"
   ]
  },
  {
   "cell_type": "code",
   "execution_count": 41,
   "id": "wicked-conducting",
   "metadata": {},
   "outputs": [],
   "source": [
    "data = pd.read_excel('../data/NoCode_SensitivityAnalysisData_10APR21.xlsx',sheet_name='SA-8')\n",
    "data['current_age'] = datetime.datetime.now().year - pd.to_datetime(data.purchasedate).dt.year\n",
    "data = data.reset_index().rename({\"index\":\"vehicle_idx\"},axis=1)\n",
    "data['county'] = 'Baltimore County'\n",
    "data = data.drop_duplicates('equipmentid')\n",
    "data = data[data.vehicle_idx<1458]"
   ]
  },
  {
   "cell_type": "code",
   "execution_count": 42,
   "id": "adjustable-stuart",
   "metadata": {},
   "outputs": [],
   "source": [
    "inputs = MIP_Inputs(data,UI_params)\n",
    "m,x,vehicles,penalty_budget,penalty_emissions,validSchedulesPerVehicle,validSchedules = carnet(inputs)\n",
    "outputs = MIP_Outputs(data,UI_params,m,x,vehicles,penalty_budget,penalty_emissions,validSchedulesPerVehicle,validSchedules)\n",
    "alt_solutions = outputs.get_alternative_solutions()\n",
    "options = select_alternative_solutions(alt_solutions,outputs)"
   ]
  },
  {
   "cell_type": "code",
   "execution_count": 43,
   "id": "shaped-hughes",
   "metadata": {},
   "outputs": [
    {
     "data": {
      "text/plain": [
       "4.3875"
      ]
     },
     "execution_count": 43,
     "metadata": {},
     "output_type": "execute_result"
    }
   ],
   "source": [
    "cost = outputs.get_total_cost('A',roadmap_lookup,options)\n",
    "cost"
   ]
  },
  {
   "cell_type": "code",
   "execution_count": 44,
   "id": "electoral-ensemble",
   "metadata": {},
   "outputs": [
    {
     "data": {
      "text/plain": [
       "0.3999989464246245"
      ]
     },
     "execution_count": 44,
     "metadata": {},
     "output_type": "execute_result"
    }
   ],
   "source": [
    "emissions = outputs.get_final_year_emissions('A',roadmap_lookup,options)/inputs.emissions_baseline\n",
    "emissions"
   ]
  },
  {
   "cell_type": "code",
   "execution_count": 45,
   "id": "banner-bridge",
   "metadata": {},
   "outputs": [],
   "source": [
    "total_costs['SA8'] = cost\n",
    "end_emissions['SA8'] = emissions"
   ]
  },
  {
   "cell_type": "code",
   "execution_count": 55,
   "id": "geographic-trail",
   "metadata": {},
   "outputs": [
    {
     "name": "stdout",
     "output_type": "stream",
     "text": [
      "overall cost\n"
     ]
    },
    {
     "data": {
      "text/plain": [
       "{'SA1': 4.05663,\n",
       " 'SA2': 3.974,\n",
       " 'SA3': 4.11416,\n",
       " 'SA4': 3.90393,\n",
       " 'SA5': 2.644,\n",
       " 'SA6': 4.4877,\n",
       " 'SA7': 2.62959,\n",
       " 'SA8': 4.3875}"
      ]
     },
     "execution_count": 55,
     "metadata": {},
     "output_type": "execute_result"
    }
   ],
   "source": [
    "print('overall cost')\n",
    "total_costs"
   ]
  },
  {
   "cell_type": "code",
   "execution_count": 49,
   "id": "juvenile-magazine",
   "metadata": {},
   "outputs": [],
   "source": [
    "end_emissions\n",
    "\n",
    "for i in end_emissions:\n",
    "    end_emissions[i] = round(end_emissions[i],2)"
   ]
  },
  {
   "cell_type": "code",
   "execution_count": 56,
   "id": "supposed-signal",
   "metadata": {},
   "outputs": [
    {
     "name": "stdout",
     "output_type": "stream",
     "text": [
      "Final year emissions % of baseline\n"
     ]
    },
    {
     "data": {
      "text/plain": [
       "{'SA1': 0.4,\n",
       " 'SA2': 0.4,\n",
       " 'SA3': 0.4,\n",
       " 'SA4': 0.4,\n",
       " 'SA5': 0.4,\n",
       " 'SA6': 0.4,\n",
       " 'SA7': 0.4,\n",
       " 'SA8': 0.4}"
      ]
     },
     "execution_count": 56,
     "metadata": {},
     "output_type": "execute_result"
    }
   ],
   "source": [
    "print('Final year emissions % of baseline')\n",
    "end_emissions"
   ]
  },
  {
   "cell_type": "code",
   "execution_count": null,
   "id": "nutritional-remedy",
   "metadata": {},
   "outputs": [],
   "source": []
  }
 ],
 "metadata": {
  "kernelspec": {
   "display_name": "Python 3",
   "language": "python",
   "name": "python3"
  },
  "language_info": {
   "codemirror_mode": {
    "name": "ipython",
    "version": 3
   },
   "file_extension": ".py",
   "mimetype": "text/x-python",
   "name": "python",
   "nbconvert_exporter": "python",
   "pygments_lexer": "ipython3",
   "version": "3.7.10"
  }
 },
 "nbformat": 4,
 "nbformat_minor": 5
}
